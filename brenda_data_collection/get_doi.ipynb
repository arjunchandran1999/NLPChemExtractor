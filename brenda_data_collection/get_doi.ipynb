{
 "cells": [
  {
   "cell_type": "markdown",
   "metadata": {},
   "source": [
    "## Get DOI\n",
    "Obtains DOI links from Brenda Reactions.\n",
    "\n",
    "Dependency: generate_brenda_reactions.ipynb output: brenda_rxns_incomplete.csv"
   ]
  },
  {
   "cell_type": "code",
   "execution_count": 1,
   "metadata": {},
   "outputs": [],
   "source": [
    "import pandas as pd\n",
    "from zeep import Client\n",
    "import hashlib\n",
    "import os\n",
    "import pandas as pd\n",
    "import time\n",
    "\n",
    "# PUT IN EMAIL/PASSWORD HERE (must register for access):\n",
    "## I've left in my own for now, but replace with the team one for ease\n",
    "email = \"mrunali@berkeley.edu\"\n",
    "pass_str = \"brendaiscool\"\n",
    "\n",
    "\n",
    "wsdl = \"https://www.brenda-enzymes.org/soap/brenda_zeep.wsdl\"\n",
    "password = hashlib.sha256(pass_str.encode(\"utf-8\")).hexdigest()\n",
    "client = Client(wsdl)"
   ]
  },
  {
   "cell_type": "code",
   "execution_count": 3,
   "metadata": {},
   "outputs": [
    {
     "data": {
      "text/html": [
       "<div>\n",
       "<style scoped>\n",
       "    .dataframe tbody tr th:only-of-type {\n",
       "        vertical-align: middle;\n",
       "    }\n",
       "\n",
       "    .dataframe tbody tr th {\n",
       "        vertical-align: top;\n",
       "    }\n",
       "\n",
       "    .dataframe thead th {\n",
       "        text-align: right;\n",
       "    }\n",
       "</style>\n",
       "<table border=\"1\" class=\"dataframe\">\n",
       "  <thead>\n",
       "    <tr style=\"text-align: right;\">\n",
       "      <th></th>\n",
       "      <th>Unnamed: 0</th>\n",
       "      <th>literatureProducts</th>\n",
       "      <th>literatureSubstrates</th>\n",
       "      <th>organismSubstrates</th>\n",
       "      <th>commentarySubstrates</th>\n",
       "      <th>reversibility</th>\n",
       "      <th>organismProducts</th>\n",
       "      <th>products</th>\n",
       "      <th>commentaryProducts</th>\n",
       "      <th>substrates</th>\n",
       "      <th>ecNumber</th>\n",
       "      <th>pubmedId</th>\n",
       "    </tr>\n",
       "  </thead>\n",
       "  <tbody>\n",
       "    <tr>\n",
       "      <th>0</th>\n",
       "      <td>0</td>\n",
       "      <td>NaN</td>\n",
       "      <td>695811.0</td>\n",
       "      <td>Thermus sp.</td>\n",
       "      <td>1% activity compared to cyclohexanone</td>\n",
       "      <td>?</td>\n",
       "      <td>NaN</td>\n",
       "      <td>? + NAD+</td>\n",
       "      <td>NaN</td>\n",
       "      <td>(-)-carvone + NADH + H+</td>\n",
       "      <td>1.1.1.1</td>\n",
       "      <td>18704396.0</td>\n",
       "    </tr>\n",
       "    <tr>\n",
       "      <th>1</th>\n",
       "      <td>1</td>\n",
       "      <td>NaN</td>\n",
       "      <td>695811.0</td>\n",
       "      <td>Thermus sp.</td>\n",
       "      <td>125% activity compared to cyclohexanol</td>\n",
       "      <td>r</td>\n",
       "      <td>NaN</td>\n",
       "      <td>(rac)-3-methylcyclohexanone + NADH + H+</td>\n",
       "      <td>163% activity compared to cyclohexanone</td>\n",
       "      <td>(1S,3S)-3-methylcyclohexanol + NAD+</td>\n",
       "      <td>1.1.1.1</td>\n",
       "      <td>18704396.0</td>\n",
       "    </tr>\n",
       "    <tr>\n",
       "      <th>2</th>\n",
       "      <td>2</td>\n",
       "      <td>NaN</td>\n",
       "      <td>735498.0</td>\n",
       "      <td>Yokenella sp.</td>\n",
       "      <td>41.5% of the activity with (2E)-but-2-enal, yi...</td>\n",
       "      <td>?</td>\n",
       "      <td>NaN</td>\n",
       "      <td>(2E)-2-methylpent-2-en-1-ol + NADP+</td>\n",
       "      <td>NaN</td>\n",
       "      <td>(2E)-2-methylpent-2-enal + NADPH + H+</td>\n",
       "      <td>1.1.1.1</td>\n",
       "      <td>24509923.0</td>\n",
       "    </tr>\n",
       "    <tr>\n",
       "      <th>3</th>\n",
       "      <td>3</td>\n",
       "      <td>NaN</td>\n",
       "      <td>735498.0</td>\n",
       "      <td>Yokenella sp.</td>\n",
       "      <td>37.4% of the activity with (2E)-but-2-enal, yi...</td>\n",
       "      <td>?</td>\n",
       "      <td>NaN</td>\n",
       "      <td>(2E)-3,7-dimethylocta-2,6-dien-1-ol + NADP+</td>\n",
       "      <td>NaN</td>\n",
       "      <td>(2E)-3,7-dimethylocta-2,6-dienal + NADPH + H+</td>\n",
       "      <td>1.1.1.1</td>\n",
       "      <td>24509923.0</td>\n",
       "    </tr>\n",
       "    <tr>\n",
       "      <th>4</th>\n",
       "      <td>4</td>\n",
       "      <td>NaN</td>\n",
       "      <td>691867.0</td>\n",
       "      <td>Homo sapiens</td>\n",
       "      <td>substrate of isozyme ADH4</td>\n",
       "      <td>r</td>\n",
       "      <td>NaN</td>\n",
       "      <td>(2E)-non-2-ene-1,4-diol + NAD+</td>\n",
       "      <td>NaN</td>\n",
       "      <td>(2E)-4-hydroxynon-2-enal + NADH + H+</td>\n",
       "      <td>1.1.1.1</td>\n",
       "      <td>18505683.0</td>\n",
       "    </tr>\n",
       "  </tbody>\n",
       "</table>\n",
       "</div>"
      ],
      "text/plain": [
       "   Unnamed: 0  literatureProducts  literatureSubstrates organismSubstrates  \\\n",
       "0           0                 NaN              695811.0        Thermus sp.   \n",
       "1           1                 NaN              695811.0        Thermus sp.   \n",
       "2           2                 NaN              735498.0      Yokenella sp.   \n",
       "3           3                 NaN              735498.0      Yokenella sp.   \n",
       "4           4                 NaN              691867.0       Homo sapiens   \n",
       "\n",
       "                                commentarySubstrates reversibility  \\\n",
       "0              1% activity compared to cyclohexanone             ?   \n",
       "1             125% activity compared to cyclohexanol             r   \n",
       "2  41.5% of the activity with (2E)-but-2-enal, yi...             ?   \n",
       "3  37.4% of the activity with (2E)-but-2-enal, yi...             ?   \n",
       "4                          substrate of isozyme ADH4             r   \n",
       "\n",
       "  organismProducts                                     products  \\\n",
       "0              NaN                                     ? + NAD+   \n",
       "1              NaN      (rac)-3-methylcyclohexanone + NADH + H+   \n",
       "2              NaN          (2E)-2-methylpent-2-en-1-ol + NADP+   \n",
       "3              NaN  (2E)-3,7-dimethylocta-2,6-dien-1-ol + NADP+   \n",
       "4              NaN               (2E)-non-2-ene-1,4-diol + NAD+   \n",
       "\n",
       "                        commentaryProducts  \\\n",
       "0                                      NaN   \n",
       "1  163% activity compared to cyclohexanone   \n",
       "2                                      NaN   \n",
       "3                                      NaN   \n",
       "4                                      NaN   \n",
       "\n",
       "                                      substrates ecNumber    pubmedId  \n",
       "0                        (-)-carvone + NADH + H+  1.1.1.1  18704396.0  \n",
       "1            (1S,3S)-3-methylcyclohexanol + NAD+  1.1.1.1  18704396.0  \n",
       "2          (2E)-2-methylpent-2-enal + NADPH + H+  1.1.1.1  24509923.0  \n",
       "3  (2E)-3,7-dimethylocta-2,6-dienal + NADPH + H+  1.1.1.1  24509923.0  \n",
       "4           (2E)-4-hydroxynon-2-enal + NADH + H+  1.1.1.1  18505683.0  "
      ]
     },
     "execution_count": 3,
     "metadata": {},
     "output_type": "execute_result"
    }
   ],
   "source": [
    "rxns = pd.read_csv(\"../Data_CSVs/brenda_rxns_incomplete.csv\")\n",
    "rxns.head()"
   ]
  },
  {
   "cell_type": "code",
   "execution_count": 4,
   "metadata": {},
   "outputs": [
    {
     "name": "stdout",
     "output_type": "stream",
     "text": [
      "103948 unique PMIDs and 459935 total rows\n"
     ]
    }
   ],
   "source": [
    "print(\"{} unique PMIDs and {} total rows\".format(len(rxns[\"pubmedId\"].unique()), len(rxns)))\n"
   ]
  },
  {
   "cell_type": "code",
   "execution_count": 5,
   "metadata": {},
   "outputs": [
    {
     "name": "stdout",
     "output_type": "stream",
     "text": [
      "59847 0.0 PMID values which is 13.012056051398567% of the total\n"
     ]
    }
   ],
   "source": [
    "print(\"{} 0.0 PMID values which is {}% of the total\".format(len(rxns[rxns[\"pubmedId\"] == 0]), 100*len(rxns[rxns[\"pubmedId\"] == 0])/len(rxns)))\n",
    "#"
   ]
  },
  {
   "cell_type": "code",
   "execution_count": 6,
   "metadata": {},
   "outputs": [
    {
     "data": {
      "text/html": [
       "<div>\n",
       "<style scoped>\n",
       "    .dataframe tbody tr th:only-of-type {\n",
       "        vertical-align: middle;\n",
       "    }\n",
       "\n",
       "    .dataframe tbody tr th {\n",
       "        vertical-align: top;\n",
       "    }\n",
       "\n",
       "    .dataframe thead th {\n",
       "        text-align: right;\n",
       "    }\n",
       "</style>\n",
       "<table border=\"1\" class=\"dataframe\">\n",
       "  <thead>\n",
       "    <tr style=\"text-align: right;\">\n",
       "      <th></th>\n",
       "      <th>literatureProducts</th>\n",
       "      <th>literatureSubstrates</th>\n",
       "      <th>organismSubstrates</th>\n",
       "      <th>commentarySubstrates</th>\n",
       "      <th>reversibility</th>\n",
       "      <th>organismProducts</th>\n",
       "      <th>products</th>\n",
       "      <th>commentaryProducts</th>\n",
       "      <th>substrates</th>\n",
       "      <th>ecNumber</th>\n",
       "      <th>pubmedId</th>\n",
       "    </tr>\n",
       "  </thead>\n",
       "  <tbody>\n",
       "    <tr>\n",
       "      <th>0</th>\n",
       "      <td>NaN</td>\n",
       "      <td>695811.0</td>\n",
       "      <td>Thermus sp.</td>\n",
       "      <td>1% activity compared to cyclohexanone</td>\n",
       "      <td>?</td>\n",
       "      <td>NaN</td>\n",
       "      <td>? + NAD+</td>\n",
       "      <td>NaN</td>\n",
       "      <td>(-)-carvone + NADH + H+</td>\n",
       "      <td>1.1.1.1</td>\n",
       "      <td>18704396.0</td>\n",
       "    </tr>\n",
       "    <tr>\n",
       "      <th>1</th>\n",
       "      <td>NaN</td>\n",
       "      <td>695811.0</td>\n",
       "      <td>Thermus sp.</td>\n",
       "      <td>125% activity compared to cyclohexanol</td>\n",
       "      <td>r</td>\n",
       "      <td>NaN</td>\n",
       "      <td>(rac)-3-methylcyclohexanone + NADH + H+</td>\n",
       "      <td>163% activity compared to cyclohexanone</td>\n",
       "      <td>(1S,3S)-3-methylcyclohexanol + NAD+</td>\n",
       "      <td>1.1.1.1</td>\n",
       "      <td>18704396.0</td>\n",
       "    </tr>\n",
       "    <tr>\n",
       "      <th>2</th>\n",
       "      <td>NaN</td>\n",
       "      <td>735498.0</td>\n",
       "      <td>Yokenella sp.</td>\n",
       "      <td>41.5% of the activity with (2E)-but-2-enal, yi...</td>\n",
       "      <td>?</td>\n",
       "      <td>NaN</td>\n",
       "      <td>(2E)-2-methylpent-2-en-1-ol + NADP+</td>\n",
       "      <td>NaN</td>\n",
       "      <td>(2E)-2-methylpent-2-enal + NADPH + H+</td>\n",
       "      <td>1.1.1.1</td>\n",
       "      <td>24509923.0</td>\n",
       "    </tr>\n",
       "    <tr>\n",
       "      <th>3</th>\n",
       "      <td>NaN</td>\n",
       "      <td>735498.0</td>\n",
       "      <td>Yokenella sp.</td>\n",
       "      <td>37.4% of the activity with (2E)-but-2-enal, yi...</td>\n",
       "      <td>?</td>\n",
       "      <td>NaN</td>\n",
       "      <td>(2E)-3,7-dimethylocta-2,6-dien-1-ol + NADP+</td>\n",
       "      <td>NaN</td>\n",
       "      <td>(2E)-3,7-dimethylocta-2,6-dienal + NADPH + H+</td>\n",
       "      <td>1.1.1.1</td>\n",
       "      <td>24509923.0</td>\n",
       "    </tr>\n",
       "    <tr>\n",
       "      <th>4</th>\n",
       "      <td>NaN</td>\n",
       "      <td>691867.0</td>\n",
       "      <td>Homo sapiens</td>\n",
       "      <td>substrate of isozyme ADH4</td>\n",
       "      <td>r</td>\n",
       "      <td>NaN</td>\n",
       "      <td>(2E)-non-2-ene-1,4-diol + NAD+</td>\n",
       "      <td>NaN</td>\n",
       "      <td>(2E)-4-hydroxynon-2-enal + NADH + H+</td>\n",
       "      <td>1.1.1.1</td>\n",
       "      <td>18505683.0</td>\n",
       "    </tr>\n",
       "  </tbody>\n",
       "</table>\n",
       "</div>"
      ],
      "text/plain": [
       "   literatureProducts  literatureSubstrates organismSubstrates  \\\n",
       "0                 NaN              695811.0        Thermus sp.   \n",
       "1                 NaN              695811.0        Thermus sp.   \n",
       "2                 NaN              735498.0      Yokenella sp.   \n",
       "3                 NaN              735498.0      Yokenella sp.   \n",
       "4                 NaN              691867.0       Homo sapiens   \n",
       "\n",
       "                                commentarySubstrates reversibility  \\\n",
       "0              1% activity compared to cyclohexanone             ?   \n",
       "1             125% activity compared to cyclohexanol             r   \n",
       "2  41.5% of the activity with (2E)-but-2-enal, yi...             ?   \n",
       "3  37.4% of the activity with (2E)-but-2-enal, yi...             ?   \n",
       "4                          substrate of isozyme ADH4             r   \n",
       "\n",
       "  organismProducts                                     products  \\\n",
       "0              NaN                                     ? + NAD+   \n",
       "1              NaN      (rac)-3-methylcyclohexanone + NADH + H+   \n",
       "2              NaN          (2E)-2-methylpent-2-en-1-ol + NADP+   \n",
       "3              NaN  (2E)-3,7-dimethylocta-2,6-dien-1-ol + NADP+   \n",
       "4              NaN               (2E)-non-2-ene-1,4-diol + NAD+   \n",
       "\n",
       "                        commentaryProducts  \\\n",
       "0                                      NaN   \n",
       "1  163% activity compared to cyclohexanone   \n",
       "2                                      NaN   \n",
       "3                                      NaN   \n",
       "4                                      NaN   \n",
       "\n",
       "                                      substrates ecNumber    pubmedId  \n",
       "0                        (-)-carvone + NADH + H+  1.1.1.1  18704396.0  \n",
       "1            (1S,3S)-3-methylcyclohexanol + NAD+  1.1.1.1  18704396.0  \n",
       "2          (2E)-2-methylpent-2-enal + NADPH + H+  1.1.1.1  24509923.0  \n",
       "3  (2E)-3,7-dimethylocta-2,6-dienal + NADPH + H+  1.1.1.1  24509923.0  \n",
       "4           (2E)-4-hydroxynon-2-enal + NADH + H+  1.1.1.1  18505683.0  "
      ]
     },
     "execution_count": 6,
     "metadata": {},
     "output_type": "execute_result"
    }
   ],
   "source": [
    "PMrxns = rxns[rxns[\"pubmedId\"] != 0].drop(\"Unnamed: 0\", axis = 1)\n",
    "PMrxns.head()"
   ]
  },
  {
   "cell_type": "markdown",
   "metadata": {},
   "source": [
    "For PM reactions, we can download from SciHub using PMID. For non-PubMed references, we need to get remainder of reference information to get the DOI using CrossRef so we can download the the papers from SciHub. "
   ]
  },
  {
   "cell_type": "code",
   "execution_count": 7,
   "metadata": {
    "scrolled": true
   },
   "outputs": [
    {
     "data": {
      "text/html": [
       "<div>\n",
       "<style scoped>\n",
       "    .dataframe tbody tr th:only-of-type {\n",
       "        vertical-align: middle;\n",
       "    }\n",
       "\n",
       "    .dataframe tbody tr th {\n",
       "        vertical-align: top;\n",
       "    }\n",
       "\n",
       "    .dataframe thead th {\n",
       "        text-align: right;\n",
       "    }\n",
       "</style>\n",
       "<table border=\"1\" class=\"dataframe\">\n",
       "  <thead>\n",
       "    <tr style=\"text-align: right;\">\n",
       "      <th></th>\n",
       "      <th>literatureProducts</th>\n",
       "      <th>literatureSubstrates</th>\n",
       "      <th>organismSubstrates</th>\n",
       "      <th>commentarySubstrates</th>\n",
       "      <th>reversibility</th>\n",
       "      <th>organismProducts</th>\n",
       "      <th>products</th>\n",
       "      <th>commentaryProducts</th>\n",
       "      <th>substrates</th>\n",
       "      <th>ecNumber</th>\n",
       "    </tr>\n",
       "  </thead>\n",
       "  <tbody>\n",
       "    <tr>\n",
       "      <th>10</th>\n",
       "      <td>NaN</td>\n",
       "      <td>659773.0</td>\n",
       "      <td>Neurospora crassa</td>\n",
       "      <td>NaN</td>\n",
       "      <td>NaN</td>\n",
       "      <td>NaN</td>\n",
       "      <td>(4S,6S)-5,6-dihydro-4-hydroxy-6-methyl-4H-thie...</td>\n",
       "      <td>NaN</td>\n",
       "      <td>(6S)-5,6-dihydro-6-methyl-4H-thieno[2,3b]thiop...</td>\n",
       "      <td>1.1.1.1</td>\n",
       "    </tr>\n",
       "    <tr>\n",
       "      <th>12</th>\n",
       "      <td>NaN</td>\n",
       "      <td>285628.0</td>\n",
       "      <td>Camellia sinensis</td>\n",
       "      <td>43.2% of the activity with ethanol</td>\n",
       "      <td>?</td>\n",
       "      <td>NaN</td>\n",
       "      <td>(E)-hex-2-en-1-one + NADH</td>\n",
       "      <td>NaN</td>\n",
       "      <td>(E)-hex-2-en-1-ol + NAD+</td>\n",
       "      <td>1.1.1.1</td>\n",
       "    </tr>\n",
       "    <tr>\n",
       "      <th>19</th>\n",
       "      <td>NaN</td>\n",
       "      <td>688442.0</td>\n",
       "      <td>Devosia riboflavina</td>\n",
       "      <td>55% of activity with N-benzyl-3-pyrrolidinol</td>\n",
       "      <td>?</td>\n",
       "      <td>NaN</td>\n",
       "      <td>2-butanone + NADH + H+</td>\n",
       "      <td>NaN</td>\n",
       "      <td>(R)-2-butanol + NAD+</td>\n",
       "      <td>1.1.1.1</td>\n",
       "    </tr>\n",
       "    <tr>\n",
       "      <th>20</th>\n",
       "      <td>NaN</td>\n",
       "      <td>688442.0</td>\n",
       "      <td>Devosia riboflavina KNK10702</td>\n",
       "      <td>55% of activity with N-benzyl-3-pyrrolidinol</td>\n",
       "      <td>?</td>\n",
       "      <td>NaN</td>\n",
       "      <td>2-butanone + NADH + H+</td>\n",
       "      <td>NaN</td>\n",
       "      <td>(R)-2-butanol + NAD+</td>\n",
       "      <td>1.1.1.1</td>\n",
       "    </tr>\n",
       "    <tr>\n",
       "      <th>73</th>\n",
       "      <td>NaN</td>\n",
       "      <td>285628.0</td>\n",
       "      <td>Camellia sinensis</td>\n",
       "      <td>9.7% of the activity with ethanol</td>\n",
       "      <td>?</td>\n",
       "      <td>NaN</td>\n",
       "      <td>(Z)-hex-2-en-1-one + NADH</td>\n",
       "      <td>NaN</td>\n",
       "      <td>(Z)-hex-2-en-1-ol + NAD+</td>\n",
       "      <td>1.1.1.1</td>\n",
       "    </tr>\n",
       "  </tbody>\n",
       "</table>\n",
       "</div>"
      ],
      "text/plain": [
       "    literatureProducts  literatureSubstrates            organismSubstrates  \\\n",
       "10                 NaN              659773.0             Neurospora crassa   \n",
       "12                 NaN              285628.0             Camellia sinensis   \n",
       "19                 NaN              688442.0           Devosia riboflavina   \n",
       "20                 NaN              688442.0  Devosia riboflavina KNK10702   \n",
       "73                 NaN              285628.0             Camellia sinensis   \n",
       "\n",
       "                            commentarySubstrates reversibility  \\\n",
       "10                                           NaN           NaN   \n",
       "12            43.2% of the activity with ethanol             ?   \n",
       "19  55% of activity with N-benzyl-3-pyrrolidinol             ?   \n",
       "20  55% of activity with N-benzyl-3-pyrrolidinol             ?   \n",
       "73             9.7% of the activity with ethanol             ?   \n",
       "\n",
       "   organismProducts                                           products  \\\n",
       "10              NaN  (4S,6S)-5,6-dihydro-4-hydroxy-6-methyl-4H-thie...   \n",
       "12              NaN                          (E)-hex-2-en-1-one + NADH   \n",
       "19              NaN                             2-butanone + NADH + H+   \n",
       "20              NaN                             2-butanone + NADH + H+   \n",
       "73              NaN                          (Z)-hex-2-en-1-one + NADH   \n",
       "\n",
       "   commentaryProducts                                         substrates  \\\n",
       "10                NaN  (6S)-5,6-dihydro-6-methyl-4H-thieno[2,3b]thiop...   \n",
       "12                NaN                           (E)-hex-2-en-1-ol + NAD+   \n",
       "19                NaN                               (R)-2-butanol + NAD+   \n",
       "20                NaN                               (R)-2-butanol + NAD+   \n",
       "73                NaN                           (Z)-hex-2-en-1-ol + NAD+   \n",
       "\n",
       "   ecNumber  \n",
       "10  1.1.1.1  \n",
       "12  1.1.1.1  \n",
       "19  1.1.1.1  \n",
       "20  1.1.1.1  \n",
       "73  1.1.1.1  "
      ]
     },
     "execution_count": 7,
     "metadata": {},
     "output_type": "execute_result"
    }
   ],
   "source": [
    "nonPMrxns = rxns[rxns[\"pubmedId\"] == 0].drop(\"Unnamed: 0\", axis = 1).drop(\"pubmedId\", axis = 1)\n",
    "nonPMrxns.head()"
   ]
  },
  {
   "cell_type": "code",
   "execution_count": 8,
   "metadata": {},
   "outputs": [
    {
     "data": {
      "text/plain": [
       "12064"
      ]
     },
     "execution_count": 8,
     "metadata": {},
     "output_type": "execute_result"
    }
   ],
   "source": [
    "len(nonPMrxns[\"literatureSubstrates\"].unique())"
   ]
  },
  {
   "cell_type": "code",
   "execution_count": 9,
   "metadata": {},
   "outputs": [
    {
     "data": {
      "text/plain": [
       "59847"
      ]
     },
     "execution_count": 9,
     "metadata": {},
     "output_type": "execute_result"
    }
   ],
   "source": [
    "len(nonPMrxns[\"literatureSubstrates\"])"
   ]
  },
  {
   "cell_type": "code",
   "execution_count": 10,
   "metadata": {
    "scrolled": true
   },
   "outputs": [],
   "source": [
    "# use getReferenceById to fill in the missing rows if possible\n",
    "# no need to run again, we created a reference dictionary as a pickle file that can be imported\n",
    "# Takes ~30 minutes to run (1640/60 = 27 minutes)\n",
    "\n",
    "# nonPMlitIDs = nonPMrxns.literatureSubstrates.unique() \n",
    "# count1 = 0 \n",
    "# t0 = time.time()\n",
    "# refDict = {}\n",
    "# connectionErrorsIds = {}\n",
    "\n",
    "# for li in nonPMlitIDs:\n",
    "#     count1 = count1 + 1\n",
    "#     if (count1 % 500) == 0:\n",
    "#         print(str(count1) + \" out of \" + str(len(nonPMlitIDs)))\n",
    "#         print(time.time() - t0)\n",
    "#         print('\\n')\n",
    "#     try:\n",
    "#         parameters = (email,password,li)\n",
    "#         data = client.service.getReferenceById(*parameters) \n",
    "#         refDict[li] = data\n",
    "#     except Exception as e:\n",
    "#         connectionErrorsIds[li] = e\n",
    "#         continue\n",
    "\n",
    "# print(time.time() - t0)\n",
    "\n",
    "# refDict"
   ]
  },
  {
   "cell_type": "code",
   "execution_count": 11,
   "metadata": {},
   "outputs": [],
   "source": [
    "try:\n",
    "    import cPickle as pickle\n",
    "except ImportError:  # Python 3.x\n",
    "    import pickle"
   ]
  },
  {
   "cell_type": "code",
   "execution_count": 17,
   "metadata": {},
   "outputs": [],
   "source": [
    "with open('./get_doi/refDict.p', 'rb') as fp:\n",
    "    refDict = pickle.load(fp)"
   ]
  },
  {
   "cell_type": "markdown",
   "metadata": {},
   "source": [
    "Use reference dictionary to get information needed for CrossRef to get DOIs as a string. "
   ]
  },
  {
   "cell_type": "code",
   "execution_count": 108,
   "metadata": {},
   "outputs": [],
   "source": [
    "import lxml.etree as ET\n",
    "import urllib\n",
    "import re\n",
    "\n",
    "def get_doi(li):\n",
    "    DOIerrors = {}\n",
    "    data = refDict[li]\n",
    "#     for i in ([\"journal\", \"volume\", \"year\",\"pages\"]): # why is this here?\n",
    "    print(data)\n",
    "    \n",
    "    journal = \" \".join(data[\"journal\"].split())\n",
    "    volume = \"\".join(data[\"volume\"].split())\n",
    "    year = \"\".join(data[\"year\"].split())\n",
    "    start_page = \"\".join(data[\"pages\"].split()).split(\"-\")[0]\n",
    "    first_author_last_name = \"\".join(data[\"authors\"].split(\";\")[0].split(\",\")[0].split())\n",
    "    journal_title = journal.replace(\" \", '%20')\n",
    "    params = (first_author_last_name, journal_title, volume, start_page, year)\n",
    "    url = \"https://doi.crossref.org/openurl?pid=mrunali@berkeley.edu&aulast={}&title={}&volume={}&spage={}&date={}&noredirect=true\".format(*params)\n",
    "\n",
    "    data = urllib.request.urlopen(url).read()\n",
    "    print(data)\n",
    "    print(url)\n",
    "#     root = ET.fromstring(data)\n",
    "#     matches = root.findall('.//doi')[1]\n",
    "    data = data.decode(\"utf-8\")\n",
    "    \n",
    "#     print(li)\n",
    "\n",
    "    if (data.find('unresolved') != -1):\n",
    "        DOIerrors[li] = data\n",
    "        return\n",
    "    else:\n",
    "        try:\n",
    "            doi = re.findall('(<doi.*>)(.*)<\\/doi>', data)[0][1]\n",
    "#             return \"https://sci-hub.tw/{}\".format(doi)\n",
    "            return doi\n",
    "        except Exception as e:\n",
    "            DOIerrors[li] = data\n",
    "            print(li)\n",
    "    "
   ]
  },
  {
   "cell_type": "markdown",
   "metadata": {},
   "source": [
    "Trying out ONE key (brenda ref)"
   ]
  },
  {
   "cell_type": "code",
   "execution_count": 111,
   "metadata": {},
   "outputs": [
    {
     "name": "stdout",
     "output_type": "stream",
     "text": [
      "{\n",
      "    'authors': 'Blacklock, T.J.; Sohar, P.; Butcher, J.W.; Lamanec, T.; Grabowski, E.J.J.',\n",
      "    'title': 'An enantioselective synthesis of the topically-active carbonic anhydrase inhibitor MK-0507:5,6-dihydro-(s)-4-(ethylamino)-(s)-6-mehtyl-4H-thieno[2,3-beta]thiopyran-2-sulfonamide 7,7-dioxide hydrochloride',\n",
      "    'journal': 'J. Org. Chem.',\n",
      "    'volume': '58',\n",
      "    'pages': '1672-1679',\n",
      "    'year': '1993',\n",
      "    'pubmedId': '0',\n",
      "    'textmining': '0'\n",
      "}\n",
      "b'<?xml version=\"1.0\" encoding=\"UTF-8\"?>\\n<crossref_result xmlns=\"http://www.crossref.org/qrschema/2.0\" version=\"2.0\" xmlns:xsi=\"http://www.w3.org/2001/XMLSchema-instance\" xsi:schemaLocation=\"http://www.crossref.org/qrschema/2.0 https://www.crossref.org/schema/crossref_query_output2.0.xsd\"><query_result><head><doi_batch_id>none</doi_batch_id></head><body><query key=\"555-555\" status=\"resolved\" fl_count=\"52\"><!--score=1--><doi type=\"journal_article\">10.1021/jo00059a013</doi><issn type=\"print\">0022-3263</issn><issn type=\"electronic\">1520-6904</issn><journal_title match=\"fuzzy\">The Journal of Organic Chemistry</journal_title><contributors><contributor sequence=\"first\" contributor_role=\"author\"><given_name>Thomas J.</given_name><surname>Blacklock</surname></contributor><contributor sequence=\"additional\" contributor_role=\"author\"><given_name>Paul</given_name><surname>Sohar</surname></contributor><contributor sequence=\"additional\" contributor_role=\"author\"><given_name>John W.</given_name><surname>Butcher</surname></contributor><contributor sequence=\"additional\" contributor_role=\"author\"><given_name>T.</given_name><surname>Lamanec</surname></contributor><contributor sequence=\"additional\" contributor_role=\"author\"><given_name>E. J. J.</given_name><surname>Grabowski</surname></contributor></contributors><volume match=\"exact\">58</volume><issue>7</issue><first_page match=\"exact\">1672</first_page><last_page>1679</last_page><year match=\"exact\" media_type=\"print\">1993</year><publication_type>full_text</publication_type><article_title>An enantioselective synthesis of the topically-active carbonic anhydrase inhibitor MK-0507: 5,6-dihydro-(S)-4-(ethylamino)-(S)-6-methyl-4H-thieno[2,3-b]thiopyran-2-sulfonamide 7,7-dioxide hydrochloride</article_title></query></body></query_result></crossref_result>'\n",
      "https://doi.crossref.org/openurl?pid=mrunali@berkeley.edu&aulast=Blacklock&title=J.%20Org.%20Chem.&volume=58&spage=1672&date=1993&noredirect=true\n"
     ]
    },
    {
     "data": {
      "text/plain": [
       "'10.1021/jo00059a013'"
      ]
     },
     "execution_count": 111,
     "metadata": {},
     "output_type": "execute_result"
    }
   ],
   "source": [
    "get_doi(659773)"
   ]
  },
  {
   "cell_type": "code",
   "execution_count": 110,
   "metadata": {},
   "outputs": [
    {
     "name": "stdout",
     "output_type": "stream",
     "text": [
      "743908\n",
      "Purification%20and%20characterization%20of%20NAD-dependent%20alcohol%20dehydrogenase%20and%20NADH-dependent%202-oxoaldehyde%20reductase%20from%20parsley\n"
     ]
    }
   ],
   "source": [
    "import math\n",
    "\n",
    "test_ref = math.floor(list(refDict.keys())[3])\n",
    "test_title = refDict[test_ref]['title'].strip()\n",
    "print(test_ref)\n",
    "print('Purification and characterization of NAD-dependent alcohol dehydrogenase and NADH-dependent 2-oxoaldehyde reductase from parsley'.replace(\" \", '%20'))"
   ]
  },
  {
   "cell_type": "code",
   "execution_count": 102,
   "metadata": {},
   "outputs": [
    {
     "name": "stdout",
     "output_type": "stream",
     "text": [
      "659773.0\n",
      "10.1021/jo00059a013\n",
      "285628.0\n",
      "10.1080/00021369.1972.10860516\n",
      "688442.0\n",
      "10.1016/j.molcatb.2007.10.017\n",
      "743908.0\n",
      "10.1021/acscatal.7b03809\n",
      "285627.0\n",
      "None\n",
      "285630.0\n",
      "10.1016/0167-4838(82)90369-7\n",
      "745570.0\n",
      "10.1016/j.molcatb.2008.05.012\n",
      "285639.0\n",
      "10.1016/0141-0229(86)90084-0\n",
      "658565.0\n",
      "10.1016/S0141-0229(96)00177-9\n",
      "285583.0\n",
      "None\n"
     ]
    },
    {
     "ename": "KeyboardInterrupt",
     "evalue": "",
     "output_type": "error",
     "traceback": [
      "\u001b[0;31m---------------------------------------------------------------------------\u001b[0m",
      "\u001b[0;31mKeyboardInterrupt\u001b[0m                         Traceback (most recent call last)",
      "\u001b[0;32m<ipython-input-102-141fce626444>\u001b[0m in \u001b[0;36m<module>\u001b[0;34m\u001b[0m\n\u001b[1;32m      1\u001b[0m \u001b[0mdoi_map\u001b[0m \u001b[0;34m=\u001b[0m \u001b[0;34m{\u001b[0m\u001b[0;34m}\u001b[0m\u001b[0;34m\u001b[0m\u001b[0;34m\u001b[0m\u001b[0m\n\u001b[1;32m      2\u001b[0m \u001b[0;32mfor\u001b[0m \u001b[0mli\u001b[0m \u001b[0;32min\u001b[0m \u001b[0mrefDict\u001b[0m\u001b[0;34m.\u001b[0m\u001b[0mkeys\u001b[0m\u001b[0;34m(\u001b[0m\u001b[0;34m)\u001b[0m\u001b[0;34m:\u001b[0m\u001b[0;34m\u001b[0m\u001b[0;34m\u001b[0m\u001b[0m\n\u001b[0;32m----> 3\u001b[0;31m     \u001b[0mdoi_temp\u001b[0m \u001b[0;34m=\u001b[0m \u001b[0mget_doi\u001b[0m\u001b[0;34m(\u001b[0m\u001b[0mli\u001b[0m\u001b[0;34m)\u001b[0m\u001b[0;34m\u001b[0m\u001b[0;34m\u001b[0m\u001b[0m\n\u001b[0m\u001b[1;32m      4\u001b[0m     \u001b[0mdoi_map\u001b[0m\u001b[0;34m[\u001b[0m\u001b[0mli\u001b[0m\u001b[0;34m]\u001b[0m \u001b[0;34m=\u001b[0m \u001b[0mdoi_temp\u001b[0m\u001b[0;34m\u001b[0m\u001b[0;34m\u001b[0m\u001b[0m\n\u001b[1;32m      5\u001b[0m     \u001b[0mprint\u001b[0m\u001b[0;34m(\u001b[0m\u001b[0mdoi_temp\u001b[0m\u001b[0;34m)\u001b[0m\u001b[0;34m\u001b[0m\u001b[0;34m\u001b[0m\u001b[0m\n",
      "\u001b[0;32m<ipython-input-101-86232ab66a21>\u001b[0m in \u001b[0;36mget_doi\u001b[0;34m(li)\u001b[0m\n\u001b[1;32m     18\u001b[0m     \u001b[0murl\u001b[0m \u001b[0;34m=\u001b[0m \u001b[0;34m\"https://doi.crossref.org/openurl?pid=mrunali@berkeley.edu&aulast={}&title={}&volume={}&spage={}&date={}&noredirect=true\"\u001b[0m\u001b[0;34m.\u001b[0m\u001b[0mformat\u001b[0m\u001b[0;34m(\u001b[0m\u001b[0;34m*\u001b[0m\u001b[0mparams\u001b[0m\u001b[0;34m)\u001b[0m\u001b[0;34m\u001b[0m\u001b[0;34m\u001b[0m\u001b[0m\n\u001b[1;32m     19\u001b[0m \u001b[0;34m\u001b[0m\u001b[0m\n\u001b[0;32m---> 20\u001b[0;31m     \u001b[0mdata\u001b[0m \u001b[0;34m=\u001b[0m \u001b[0murllib\u001b[0m\u001b[0;34m.\u001b[0m\u001b[0mrequest\u001b[0m\u001b[0;34m.\u001b[0m\u001b[0murlopen\u001b[0m\u001b[0;34m(\u001b[0m\u001b[0murl\u001b[0m\u001b[0;34m)\u001b[0m\u001b[0;34m.\u001b[0m\u001b[0mread\u001b[0m\u001b[0;34m(\u001b[0m\u001b[0;34m)\u001b[0m\u001b[0;34m\u001b[0m\u001b[0;34m\u001b[0m\u001b[0m\n\u001b[0m\u001b[1;32m     21\u001b[0m \u001b[0;31m#     print(data)\u001b[0m\u001b[0;34m\u001b[0m\u001b[0;34m\u001b[0m\u001b[0;34m\u001b[0m\u001b[0m\n\u001b[1;32m     22\u001b[0m \u001b[0;31m#     print(journal)\u001b[0m\u001b[0;34m\u001b[0m\u001b[0;34m\u001b[0m\u001b[0;34m\u001b[0m\u001b[0m\n",
      "\u001b[0;32m~/miniconda3/envs/igem/lib/python3.8/urllib/request.py\u001b[0m in \u001b[0;36murlopen\u001b[0;34m(url, data, timeout, cafile, capath, cadefault, context)\u001b[0m\n\u001b[1;32m    220\u001b[0m     \u001b[0;32melse\u001b[0m\u001b[0;34m:\u001b[0m\u001b[0;34m\u001b[0m\u001b[0;34m\u001b[0m\u001b[0m\n\u001b[1;32m    221\u001b[0m         \u001b[0mopener\u001b[0m \u001b[0;34m=\u001b[0m \u001b[0m_opener\u001b[0m\u001b[0;34m\u001b[0m\u001b[0;34m\u001b[0m\u001b[0m\n\u001b[0;32m--> 222\u001b[0;31m     \u001b[0;32mreturn\u001b[0m \u001b[0mopener\u001b[0m\u001b[0;34m.\u001b[0m\u001b[0mopen\u001b[0m\u001b[0;34m(\u001b[0m\u001b[0murl\u001b[0m\u001b[0;34m,\u001b[0m \u001b[0mdata\u001b[0m\u001b[0;34m,\u001b[0m \u001b[0mtimeout\u001b[0m\u001b[0;34m)\u001b[0m\u001b[0;34m\u001b[0m\u001b[0;34m\u001b[0m\u001b[0m\n\u001b[0m\u001b[1;32m    223\u001b[0m \u001b[0;34m\u001b[0m\u001b[0m\n\u001b[1;32m    224\u001b[0m \u001b[0;32mdef\u001b[0m \u001b[0minstall_opener\u001b[0m\u001b[0;34m(\u001b[0m\u001b[0mopener\u001b[0m\u001b[0;34m)\u001b[0m\u001b[0;34m:\u001b[0m\u001b[0;34m\u001b[0m\u001b[0;34m\u001b[0m\u001b[0m\n",
      "\u001b[0;32m~/miniconda3/envs/igem/lib/python3.8/urllib/request.py\u001b[0m in \u001b[0;36mopen\u001b[0;34m(self, fullurl, data, timeout)\u001b[0m\n\u001b[1;32m    523\u001b[0m \u001b[0;34m\u001b[0m\u001b[0m\n\u001b[1;32m    524\u001b[0m         \u001b[0msys\u001b[0m\u001b[0;34m.\u001b[0m\u001b[0maudit\u001b[0m\u001b[0;34m(\u001b[0m\u001b[0;34m'urllib.Request'\u001b[0m\u001b[0;34m,\u001b[0m \u001b[0mreq\u001b[0m\u001b[0;34m.\u001b[0m\u001b[0mfull_url\u001b[0m\u001b[0;34m,\u001b[0m \u001b[0mreq\u001b[0m\u001b[0;34m.\u001b[0m\u001b[0mdata\u001b[0m\u001b[0;34m,\u001b[0m \u001b[0mreq\u001b[0m\u001b[0;34m.\u001b[0m\u001b[0mheaders\u001b[0m\u001b[0;34m,\u001b[0m \u001b[0mreq\u001b[0m\u001b[0;34m.\u001b[0m\u001b[0mget_method\u001b[0m\u001b[0;34m(\u001b[0m\u001b[0;34m)\u001b[0m\u001b[0;34m)\u001b[0m\u001b[0;34m\u001b[0m\u001b[0;34m\u001b[0m\u001b[0m\n\u001b[0;32m--> 525\u001b[0;31m         \u001b[0mresponse\u001b[0m \u001b[0;34m=\u001b[0m \u001b[0mself\u001b[0m\u001b[0;34m.\u001b[0m\u001b[0m_open\u001b[0m\u001b[0;34m(\u001b[0m\u001b[0mreq\u001b[0m\u001b[0;34m,\u001b[0m \u001b[0mdata\u001b[0m\u001b[0;34m)\u001b[0m\u001b[0;34m\u001b[0m\u001b[0;34m\u001b[0m\u001b[0m\n\u001b[0m\u001b[1;32m    526\u001b[0m \u001b[0;34m\u001b[0m\u001b[0m\n\u001b[1;32m    527\u001b[0m         \u001b[0;31m# post-process response\u001b[0m\u001b[0;34m\u001b[0m\u001b[0;34m\u001b[0m\u001b[0;34m\u001b[0m\u001b[0m\n",
      "\u001b[0;32m~/miniconda3/envs/igem/lib/python3.8/urllib/request.py\u001b[0m in \u001b[0;36m_open\u001b[0;34m(self, req, data)\u001b[0m\n\u001b[1;32m    540\u001b[0m \u001b[0;34m\u001b[0m\u001b[0m\n\u001b[1;32m    541\u001b[0m         \u001b[0mprotocol\u001b[0m \u001b[0;34m=\u001b[0m \u001b[0mreq\u001b[0m\u001b[0;34m.\u001b[0m\u001b[0mtype\u001b[0m\u001b[0;34m\u001b[0m\u001b[0;34m\u001b[0m\u001b[0m\n\u001b[0;32m--> 542\u001b[0;31m         result = self._call_chain(self.handle_open, protocol, protocol +\n\u001b[0m\u001b[1;32m    543\u001b[0m                                   '_open', req)\n\u001b[1;32m    544\u001b[0m         \u001b[0;32mif\u001b[0m \u001b[0mresult\u001b[0m\u001b[0;34m:\u001b[0m\u001b[0;34m\u001b[0m\u001b[0;34m\u001b[0m\u001b[0m\n",
      "\u001b[0;32m~/miniconda3/envs/igem/lib/python3.8/urllib/request.py\u001b[0m in \u001b[0;36m_call_chain\u001b[0;34m(self, chain, kind, meth_name, *args)\u001b[0m\n\u001b[1;32m    500\u001b[0m         \u001b[0;32mfor\u001b[0m \u001b[0mhandler\u001b[0m \u001b[0;32min\u001b[0m \u001b[0mhandlers\u001b[0m\u001b[0;34m:\u001b[0m\u001b[0;34m\u001b[0m\u001b[0;34m\u001b[0m\u001b[0m\n\u001b[1;32m    501\u001b[0m             \u001b[0mfunc\u001b[0m \u001b[0;34m=\u001b[0m \u001b[0mgetattr\u001b[0m\u001b[0;34m(\u001b[0m\u001b[0mhandler\u001b[0m\u001b[0;34m,\u001b[0m \u001b[0mmeth_name\u001b[0m\u001b[0;34m)\u001b[0m\u001b[0;34m\u001b[0m\u001b[0;34m\u001b[0m\u001b[0m\n\u001b[0;32m--> 502\u001b[0;31m             \u001b[0mresult\u001b[0m \u001b[0;34m=\u001b[0m \u001b[0mfunc\u001b[0m\u001b[0;34m(\u001b[0m\u001b[0;34m*\u001b[0m\u001b[0margs\u001b[0m\u001b[0;34m)\u001b[0m\u001b[0;34m\u001b[0m\u001b[0;34m\u001b[0m\u001b[0m\n\u001b[0m\u001b[1;32m    503\u001b[0m             \u001b[0;32mif\u001b[0m \u001b[0mresult\u001b[0m \u001b[0;32mis\u001b[0m \u001b[0;32mnot\u001b[0m \u001b[0;32mNone\u001b[0m\u001b[0;34m:\u001b[0m\u001b[0;34m\u001b[0m\u001b[0;34m\u001b[0m\u001b[0m\n\u001b[1;32m    504\u001b[0m                 \u001b[0;32mreturn\u001b[0m \u001b[0mresult\u001b[0m\u001b[0;34m\u001b[0m\u001b[0;34m\u001b[0m\u001b[0m\n",
      "\u001b[0;32m~/miniconda3/envs/igem/lib/python3.8/urllib/request.py\u001b[0m in \u001b[0;36mhttps_open\u001b[0;34m(self, req)\u001b[0m\n\u001b[1;32m   1391\u001b[0m \u001b[0;34m\u001b[0m\u001b[0m\n\u001b[1;32m   1392\u001b[0m         \u001b[0;32mdef\u001b[0m \u001b[0mhttps_open\u001b[0m\u001b[0;34m(\u001b[0m\u001b[0mself\u001b[0m\u001b[0;34m,\u001b[0m \u001b[0mreq\u001b[0m\u001b[0;34m)\u001b[0m\u001b[0;34m:\u001b[0m\u001b[0;34m\u001b[0m\u001b[0;34m\u001b[0m\u001b[0m\n\u001b[0;32m-> 1393\u001b[0;31m             return self.do_open(http.client.HTTPSConnection, req,\n\u001b[0m\u001b[1;32m   1394\u001b[0m                 context=self._context, check_hostname=self._check_hostname)\n\u001b[1;32m   1395\u001b[0m \u001b[0;34m\u001b[0m\u001b[0m\n",
      "\u001b[0;32m~/miniconda3/envs/igem/lib/python3.8/urllib/request.py\u001b[0m in \u001b[0;36mdo_open\u001b[0;34m(self, http_class, req, **http_conn_args)\u001b[0m\n\u001b[1;32m   1352\u001b[0m             \u001b[0;32mexcept\u001b[0m \u001b[0mOSError\u001b[0m \u001b[0;32mas\u001b[0m \u001b[0merr\u001b[0m\u001b[0;34m:\u001b[0m \u001b[0;31m# timeout error\u001b[0m\u001b[0;34m\u001b[0m\u001b[0;34m\u001b[0m\u001b[0m\n\u001b[1;32m   1353\u001b[0m                 \u001b[0;32mraise\u001b[0m \u001b[0mURLError\u001b[0m\u001b[0;34m(\u001b[0m\u001b[0merr\u001b[0m\u001b[0;34m)\u001b[0m\u001b[0;34m\u001b[0m\u001b[0;34m\u001b[0m\u001b[0m\n\u001b[0;32m-> 1354\u001b[0;31m             \u001b[0mr\u001b[0m \u001b[0;34m=\u001b[0m \u001b[0mh\u001b[0m\u001b[0;34m.\u001b[0m\u001b[0mgetresponse\u001b[0m\u001b[0;34m(\u001b[0m\u001b[0;34m)\u001b[0m\u001b[0;34m\u001b[0m\u001b[0;34m\u001b[0m\u001b[0m\n\u001b[0m\u001b[1;32m   1355\u001b[0m         \u001b[0;32mexcept\u001b[0m\u001b[0;34m:\u001b[0m\u001b[0;34m\u001b[0m\u001b[0;34m\u001b[0m\u001b[0m\n\u001b[1;32m   1356\u001b[0m             \u001b[0mh\u001b[0m\u001b[0;34m.\u001b[0m\u001b[0mclose\u001b[0m\u001b[0;34m(\u001b[0m\u001b[0;34m)\u001b[0m\u001b[0;34m\u001b[0m\u001b[0;34m\u001b[0m\u001b[0m\n",
      "\u001b[0;32m~/miniconda3/envs/igem/lib/python3.8/http/client.py\u001b[0m in \u001b[0;36mgetresponse\u001b[0;34m(self)\u001b[0m\n\u001b[1;32m   1345\u001b[0m         \u001b[0;32mtry\u001b[0m\u001b[0;34m:\u001b[0m\u001b[0;34m\u001b[0m\u001b[0;34m\u001b[0m\u001b[0m\n\u001b[1;32m   1346\u001b[0m             \u001b[0;32mtry\u001b[0m\u001b[0;34m:\u001b[0m\u001b[0;34m\u001b[0m\u001b[0;34m\u001b[0m\u001b[0m\n\u001b[0;32m-> 1347\u001b[0;31m                 \u001b[0mresponse\u001b[0m\u001b[0;34m.\u001b[0m\u001b[0mbegin\u001b[0m\u001b[0;34m(\u001b[0m\u001b[0;34m)\u001b[0m\u001b[0;34m\u001b[0m\u001b[0;34m\u001b[0m\u001b[0m\n\u001b[0m\u001b[1;32m   1348\u001b[0m             \u001b[0;32mexcept\u001b[0m \u001b[0mConnectionError\u001b[0m\u001b[0;34m:\u001b[0m\u001b[0;34m\u001b[0m\u001b[0;34m\u001b[0m\u001b[0m\n\u001b[1;32m   1349\u001b[0m                 \u001b[0mself\u001b[0m\u001b[0;34m.\u001b[0m\u001b[0mclose\u001b[0m\u001b[0;34m(\u001b[0m\u001b[0;34m)\u001b[0m\u001b[0;34m\u001b[0m\u001b[0;34m\u001b[0m\u001b[0m\n",
      "\u001b[0;32m~/miniconda3/envs/igem/lib/python3.8/http/client.py\u001b[0m in \u001b[0;36mbegin\u001b[0;34m(self)\u001b[0m\n\u001b[1;32m    305\u001b[0m         \u001b[0;31m# read until we get a non-100 response\u001b[0m\u001b[0;34m\u001b[0m\u001b[0;34m\u001b[0m\u001b[0;34m\u001b[0m\u001b[0m\n\u001b[1;32m    306\u001b[0m         \u001b[0;32mwhile\u001b[0m \u001b[0;32mTrue\u001b[0m\u001b[0;34m:\u001b[0m\u001b[0;34m\u001b[0m\u001b[0;34m\u001b[0m\u001b[0m\n\u001b[0;32m--> 307\u001b[0;31m             \u001b[0mversion\u001b[0m\u001b[0;34m,\u001b[0m \u001b[0mstatus\u001b[0m\u001b[0;34m,\u001b[0m \u001b[0mreason\u001b[0m \u001b[0;34m=\u001b[0m \u001b[0mself\u001b[0m\u001b[0;34m.\u001b[0m\u001b[0m_read_status\u001b[0m\u001b[0;34m(\u001b[0m\u001b[0;34m)\u001b[0m\u001b[0;34m\u001b[0m\u001b[0;34m\u001b[0m\u001b[0m\n\u001b[0m\u001b[1;32m    308\u001b[0m             \u001b[0;32mif\u001b[0m \u001b[0mstatus\u001b[0m \u001b[0;34m!=\u001b[0m \u001b[0mCONTINUE\u001b[0m\u001b[0;34m:\u001b[0m\u001b[0;34m\u001b[0m\u001b[0;34m\u001b[0m\u001b[0m\n\u001b[1;32m    309\u001b[0m                 \u001b[0;32mbreak\u001b[0m\u001b[0;34m\u001b[0m\u001b[0;34m\u001b[0m\u001b[0m\n",
      "\u001b[0;32m~/miniconda3/envs/igem/lib/python3.8/http/client.py\u001b[0m in \u001b[0;36m_read_status\u001b[0;34m(self)\u001b[0m\n\u001b[1;32m    266\u001b[0m \u001b[0;34m\u001b[0m\u001b[0m\n\u001b[1;32m    267\u001b[0m     \u001b[0;32mdef\u001b[0m \u001b[0m_read_status\u001b[0m\u001b[0;34m(\u001b[0m\u001b[0mself\u001b[0m\u001b[0;34m)\u001b[0m\u001b[0;34m:\u001b[0m\u001b[0;34m\u001b[0m\u001b[0;34m\u001b[0m\u001b[0m\n\u001b[0;32m--> 268\u001b[0;31m         \u001b[0mline\u001b[0m \u001b[0;34m=\u001b[0m \u001b[0mstr\u001b[0m\u001b[0;34m(\u001b[0m\u001b[0mself\u001b[0m\u001b[0;34m.\u001b[0m\u001b[0mfp\u001b[0m\u001b[0;34m.\u001b[0m\u001b[0mreadline\u001b[0m\u001b[0;34m(\u001b[0m\u001b[0m_MAXLINE\u001b[0m \u001b[0;34m+\u001b[0m \u001b[0;36m1\u001b[0m\u001b[0;34m)\u001b[0m\u001b[0;34m,\u001b[0m \u001b[0;34m\"iso-8859-1\"\u001b[0m\u001b[0;34m)\u001b[0m\u001b[0;34m\u001b[0m\u001b[0;34m\u001b[0m\u001b[0m\n\u001b[0m\u001b[1;32m    269\u001b[0m         \u001b[0;32mif\u001b[0m \u001b[0mlen\u001b[0m\u001b[0;34m(\u001b[0m\u001b[0mline\u001b[0m\u001b[0;34m)\u001b[0m \u001b[0;34m>\u001b[0m \u001b[0m_MAXLINE\u001b[0m\u001b[0;34m:\u001b[0m\u001b[0;34m\u001b[0m\u001b[0;34m\u001b[0m\u001b[0m\n\u001b[1;32m    270\u001b[0m             \u001b[0;32mraise\u001b[0m \u001b[0mLineTooLong\u001b[0m\u001b[0;34m(\u001b[0m\u001b[0;34m\"status line\"\u001b[0m\u001b[0;34m)\u001b[0m\u001b[0;34m\u001b[0m\u001b[0;34m\u001b[0m\u001b[0m\n",
      "\u001b[0;32m~/miniconda3/envs/igem/lib/python3.8/socket.py\u001b[0m in \u001b[0;36mreadinto\u001b[0;34m(self, b)\u001b[0m\n\u001b[1;32m    667\u001b[0m         \u001b[0;32mwhile\u001b[0m \u001b[0;32mTrue\u001b[0m\u001b[0;34m:\u001b[0m\u001b[0;34m\u001b[0m\u001b[0;34m\u001b[0m\u001b[0m\n\u001b[1;32m    668\u001b[0m             \u001b[0;32mtry\u001b[0m\u001b[0;34m:\u001b[0m\u001b[0;34m\u001b[0m\u001b[0;34m\u001b[0m\u001b[0m\n\u001b[0;32m--> 669\u001b[0;31m                 \u001b[0;32mreturn\u001b[0m \u001b[0mself\u001b[0m\u001b[0;34m.\u001b[0m\u001b[0m_sock\u001b[0m\u001b[0;34m.\u001b[0m\u001b[0mrecv_into\u001b[0m\u001b[0;34m(\u001b[0m\u001b[0mb\u001b[0m\u001b[0;34m)\u001b[0m\u001b[0;34m\u001b[0m\u001b[0;34m\u001b[0m\u001b[0m\n\u001b[0m\u001b[1;32m    670\u001b[0m             \u001b[0;32mexcept\u001b[0m \u001b[0mtimeout\u001b[0m\u001b[0;34m:\u001b[0m\u001b[0;34m\u001b[0m\u001b[0;34m\u001b[0m\u001b[0m\n\u001b[1;32m    671\u001b[0m                 \u001b[0mself\u001b[0m\u001b[0;34m.\u001b[0m\u001b[0m_timeout_occurred\u001b[0m \u001b[0;34m=\u001b[0m \u001b[0;32mTrue\u001b[0m\u001b[0;34m\u001b[0m\u001b[0;34m\u001b[0m\u001b[0m\n",
      "\u001b[0;32m~/miniconda3/envs/igem/lib/python3.8/ssl.py\u001b[0m in \u001b[0;36mrecv_into\u001b[0;34m(self, buffer, nbytes, flags)\u001b[0m\n\u001b[1;32m   1239\u001b[0m                   \u001b[0;34m\"non-zero flags not allowed in calls to recv_into() on %s\"\u001b[0m \u001b[0;34m%\u001b[0m\u001b[0;34m\u001b[0m\u001b[0;34m\u001b[0m\u001b[0m\n\u001b[1;32m   1240\u001b[0m                   self.__class__)\n\u001b[0;32m-> 1241\u001b[0;31m             \u001b[0;32mreturn\u001b[0m \u001b[0mself\u001b[0m\u001b[0;34m.\u001b[0m\u001b[0mread\u001b[0m\u001b[0;34m(\u001b[0m\u001b[0mnbytes\u001b[0m\u001b[0;34m,\u001b[0m \u001b[0mbuffer\u001b[0m\u001b[0;34m)\u001b[0m\u001b[0;34m\u001b[0m\u001b[0;34m\u001b[0m\u001b[0m\n\u001b[0m\u001b[1;32m   1242\u001b[0m         \u001b[0;32melse\u001b[0m\u001b[0;34m:\u001b[0m\u001b[0;34m\u001b[0m\u001b[0;34m\u001b[0m\u001b[0m\n\u001b[1;32m   1243\u001b[0m             \u001b[0;32mreturn\u001b[0m \u001b[0msuper\u001b[0m\u001b[0;34m(\u001b[0m\u001b[0;34m)\u001b[0m\u001b[0;34m.\u001b[0m\u001b[0mrecv_into\u001b[0m\u001b[0;34m(\u001b[0m\u001b[0mbuffer\u001b[0m\u001b[0;34m,\u001b[0m \u001b[0mnbytes\u001b[0m\u001b[0;34m,\u001b[0m \u001b[0mflags\u001b[0m\u001b[0;34m)\u001b[0m\u001b[0;34m\u001b[0m\u001b[0;34m\u001b[0m\u001b[0m\n",
      "\u001b[0;32m~/miniconda3/envs/igem/lib/python3.8/ssl.py\u001b[0m in \u001b[0;36mread\u001b[0;34m(self, len, buffer)\u001b[0m\n\u001b[1;32m   1097\u001b[0m         \u001b[0;32mtry\u001b[0m\u001b[0;34m:\u001b[0m\u001b[0;34m\u001b[0m\u001b[0;34m\u001b[0m\u001b[0m\n\u001b[1;32m   1098\u001b[0m             \u001b[0;32mif\u001b[0m \u001b[0mbuffer\u001b[0m \u001b[0;32mis\u001b[0m \u001b[0;32mnot\u001b[0m \u001b[0;32mNone\u001b[0m\u001b[0;34m:\u001b[0m\u001b[0;34m\u001b[0m\u001b[0;34m\u001b[0m\u001b[0m\n\u001b[0;32m-> 1099\u001b[0;31m                 \u001b[0;32mreturn\u001b[0m \u001b[0mself\u001b[0m\u001b[0;34m.\u001b[0m\u001b[0m_sslobj\u001b[0m\u001b[0;34m.\u001b[0m\u001b[0mread\u001b[0m\u001b[0;34m(\u001b[0m\u001b[0mlen\u001b[0m\u001b[0;34m,\u001b[0m \u001b[0mbuffer\u001b[0m\u001b[0;34m)\u001b[0m\u001b[0;34m\u001b[0m\u001b[0;34m\u001b[0m\u001b[0m\n\u001b[0m\u001b[1;32m   1100\u001b[0m             \u001b[0;32melse\u001b[0m\u001b[0;34m:\u001b[0m\u001b[0;34m\u001b[0m\u001b[0;34m\u001b[0m\u001b[0m\n\u001b[1;32m   1101\u001b[0m                 \u001b[0;32mreturn\u001b[0m \u001b[0mself\u001b[0m\u001b[0;34m.\u001b[0m\u001b[0m_sslobj\u001b[0m\u001b[0;34m.\u001b[0m\u001b[0mread\u001b[0m\u001b[0;34m(\u001b[0m\u001b[0mlen\u001b[0m\u001b[0;34m)\u001b[0m\u001b[0;34m\u001b[0m\u001b[0;34m\u001b[0m\u001b[0m\n",
      "\u001b[0;31mKeyboardInterrupt\u001b[0m: "
     ]
    }
   ],
   "source": [
    "doi_map = {}\n",
    "for li in refDict.keys():\n",
    "    doi_temp = get_doi(li)\n",
    "    doi_map[li] = doi_temp\n",
    "    print(doi_temp)\n",
    "\n",
    "nonPMrxns['literatureSubstrates'].map(doi_map)\n",
    "nonPMrxns"
   ]
  },
  {
   "cell_type": "code",
   "execution_count": null,
   "metadata": {},
   "outputs": [],
   "source": [
    "len(DOIerrors)"
   ]
  },
  {
   "cell_type": "code",
   "execution_count": null,
   "metadata": {},
   "outputs": [],
   "source": [
    "https://github.com/zaytoun/scihub.py"
   ]
  }
 ],
 "metadata": {
  "kernelspec": {
   "display_name": "Python 3",
   "language": "python",
   "name": "python3"
  },
  "language_info": {
   "codemirror_mode": {
    "name": "ipython",
    "version": 3
   },
   "file_extension": ".py",
   "mimetype": "text/x-python",
   "name": "python",
   "nbconvert_exporter": "python",
   "pygments_lexer": "ipython3",
   "version": "3.7.8"
  }
 },
 "nbformat": 4,
 "nbformat_minor": 4
}
