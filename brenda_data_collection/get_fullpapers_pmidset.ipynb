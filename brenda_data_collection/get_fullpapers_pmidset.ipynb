{
 "cells": [
  {
   "cell_type": "markdown",
   "metadata": {},
   "source": [
    "# Getting Full Papers"
   ]
  },
  {
   "cell_type": "code",
   "execution_count": 9,
   "metadata": {},
   "outputs": [],
   "source": [
    "import urllib\n",
    "import requests\n",
    "import os\n",
    "import math\n",
    "import json\n",
    "import pandas as pd\n",
    "import xml.etree.ElementTree as ET\n",
    "import numpy as np\n",
    "\n",
    "from elsapy.elsclient import ElsClient\n",
    "from elsapy.elsprofile import ElsAuthor, ElsAffil\n",
    "from elsapy.elsdoc import FullDoc, AbsDoc\n",
    "from elsapy.elssearch import ElsSearch\n",
    "\n",
    "import igemutils as igem\n",
    "\n",
    "email = 'ivalexander13@berkeley.edu' # enter ur email pls"
   ]
  },
  {
   "cell_type": "markdown",
   "metadata": {},
   "source": [
    "## Create Subsets"
   ]
  },
  {
   "cell_type": "code",
   "execution_count": 10,
   "metadata": {},
   "outputs": [
    {
     "name": "stdout",
     "output_type": "stream",
     "text": [
      "Count of is_oa being [True]: 46843.\n",
      "Count of is_oa not matching [True]: 49375.\n"
     ]
    }
   ],
   "source": [
    "rxns_pmid = igem.get_json(\"./get_metadata_pmidset/unpaywall_metadata_pmids.json\")\n",
    "oa_subset, non_oa_subset = igem.generate_subset(rxns_pmid, 'is_oa', [True], return_complement=True)"
   ]
  },
  {
   "cell_type": "markdown",
   "metadata": {},
   "source": [
    "# 1. Elsevier!!"
   ]
  },
  {
   "cell_type": "markdown",
   "metadata": {},
   "source": [
    "## Splitting Data"
   ]
  },
  {
   "cell_type": "code",
   "execution_count": 11,
   "metadata": {},
   "outputs": [
    {
     "name": "stdout",
     "output_type": "stream",
     "text": [
      "Count of publisher being ['Elsevier', 'Elsevier BV']: 23267.\n",
      "Saved part 1.\n",
      "Saved part 2.\n",
      "Saved part 3.\n",
      "Saved part 4.\n",
      "Saved part 5.\n",
      "Saved part 6.\n",
      "All done!\n"
     ]
    }
   ],
   "source": [
    "n_splits = 6 # fill this in!!\n",
    "\n",
    "elsevier_subset = igem.generate_subset(non_oa_subset, 'publisher', ['Elsevier', 'Elsevier BV'])[0]\n",
    "igem.split_dict(elsevier_subset, n_splits, 'get_fullpapers/elsevier/elsevier_subset_split')"
   ]
  },
  {
   "cell_type": "markdown",
   "metadata": {},
   "source": [
    "## Run this in parallel!!\n",
    "\n",
    "```python get_elsevier.py <num>```\n",
    "\n",
    "Where <num> is the split# generated from the cell above.\n",
    "    \n",
    "For convenience: just paste these in (in separate terminals!)"
   ]
  },
  {
   "cell_type": "code",
   "execution_count": 12,
   "metadata": {},
   "outputs": [
    {
     "name": "stdout",
     "output_type": "stream",
     "text": [
      "python get_elsevier.py 1\n",
      "\n",
      "python get_elsevier.py 2\n",
      "\n",
      "python get_elsevier.py 3\n",
      "\n",
      "python get_elsevier.py 4\n",
      "\n",
      "python get_elsevier.py 5\n",
      "\n",
      "python get_elsevier.py 6\n",
      "\n"
     ]
    }
   ],
   "source": [
    "for n in range(1, n_splits + 1):\n",
    "    print(f\"python get_elsevier.py {n}\")\n",
    "    print(\"\")\n",
    "    "
   ]
  },
  {
   "cell_type": "markdown",
   "metadata": {},
   "source": [
    "# 2. Open Access"
   ]
  },
  {
   "cell_type": "markdown",
   "metadata": {},
   "source": [
    "## Splitting Data"
   ]
  },
  {
   "cell_type": "code",
   "execution_count": 13,
   "metadata": {},
   "outputs": [
    {
     "name": "stdout",
     "output_type": "stream",
     "text": [
      "Saved part 1.\n",
      "Saved part 2.\n",
      "Saved part 3.\n",
      "Saved part 4.\n",
      "Saved part 5.\n",
      "Saved part 6.\n",
      "All done!\n"
     ]
    }
   ],
   "source": [
    "n_splits = 6 # fill this in!!\n",
    "igem.split_dict(oa_subset, n_splits, 'get_fullpapers/oa/oa_subset_split')"
   ]
  },
  {
   "cell_type": "code",
   "execution_count": 14,
   "metadata": {},
   "outputs": [],
   "source": [
    "oa_split1 = igem.get_json('get_fullpapers/oa/oa_subset_split1.json')"
   ]
  },
  {
   "cell_type": "code",
   "execution_count": 15,
   "metadata": {},
   "outputs": [
    {
     "data": {
      "text/plain": [
       "7808"
      ]
     },
     "execution_count": 15,
     "metadata": {},
     "output_type": "execute_result"
    }
   ],
   "source": [
    "len(oa_split1)"
   ]
  },
  {
   "cell_type": "markdown",
   "metadata": {},
   "source": [
    "### Convert PDF to Text"
   ]
  },
  {
   "cell_type": "code",
   "execution_count": 16,
   "metadata": {},
   "outputs": [],
   "source": [
    "def get_bestlink(pmid: str, oa_subset: dict):\n",
    "    try:\n",
    "        out = oa_subset[pmid]['best_oa_location']['url_for_pdf']\n",
    "    except:\n",
    "        return False\n",
    "    return out"
   ]
  },
  {
   "cell_type": "code",
   "execution_count": 59,
   "metadata": {},
   "outputs": [
    {
     "data": {
      "text/plain": [
       "'https://academic.oup.com/femsyr/article-pdf/2/4/481/17936836/2-4-481.pdf'"
      ]
     },
     "execution_count": 59,
     "metadata": {},
     "output_type": "execute_result"
    }
   ],
   "source": [
    "oa_split1['12702265']['best_oa_location']['url_for_pdf']"
   ]
  },
  {
   "cell_type": "code",
   "execution_count": 72,
   "metadata": {},
   "outputs": [
    {
     "name": "stdout",
     "output_type": "stream",
     "text": [
      "AAAAA\n"
     ]
    }
   ],
   "source": [
    "try:\n",
    "    response = requests.get('https://academic.oup.com/femsyr/article-pdf/2/4/481/17936836/2-4-481.pdf')    \n",
    "except (requests.exceptions.RequestException,\n",
    "        ConnectionResetError) as e:\n",
    "    print(\"AAAAA\")"
   ]
  },
  {
   "cell_type": "code",
   "execution_count": 79,
   "metadata": {},
   "outputs": [
    {
     "name": "stdout",
     "output_type": "stream",
     "text": [
      "aaabb\n"
     ]
    }
   ],
   "source": [
    "print(\"bbbbb\", end='')\n",
    "print(\"\\raaa\")"
   ]
  },
  {
   "cell_type": "code",
   "execution_count": 32,
   "metadata": {},
   "outputs": [],
   "source": [
    "with open('get_fullpapers/oa/tmp.pdf', 'wb') as fd:\n",
    "    fd.write(response.content)"
   ]
  },
  {
   "cell_type": "code",
   "execution_count": 29,
   "metadata": {},
   "outputs": [
    {
     "name": "stdout",
     "output_type": "stream",
     "text": [
      "Getting text content for tmp.pdf...\n",
      "Done.\n"
     ]
    }
   ],
   "source": [
    "import subprocess\n",
    "def pdf_to_text(filepath):\n",
    "    print('Getting text content for {}...'.format(filepath))\n",
    "    process = subprocess.Popen(['pdf2txt.py', filepath], stdout=subprocess.PIPE, stderr=subprocess.STDOUT)\n",
    "    stdout, stderr = process.communicate()\n",
    "\n",
    "    if process.returncode != 0 or stderr:\n",
    "        raise OSError('Executing the command for {} caused an error:\\nCode: {}\\nOutput: {}\\nError: {}'.format(filepath, process.returncode, stdout, stderr))\n",
    "    print('Done.')\n",
    "    return stdout.decode('utf-8')\n",
    "\n",
    "fulltext_str = pdf_to_text('tmp.pdf')"
   ]
  },
  {
   "cell_type": "code",
   "execution_count": 31,
   "metadata": {
    "collapsed": true,
    "jupyter": {
     "outputs_hidden": true
    }
   },
   "outputs": [
    {
     "data": {
      "text/plain": [
       "'A u  t  h o r    M a n u s c r i p  t  A u  t  h o r    M a n u s c r i p  t  A u  t  h o r    M a n u s c r i p  t  A u t h o r    M a n u s c r i p  t  HHS Public Access Author manuscript J Ind Microbiol Biotechnol. Author manuscript; available in PMC 2020 April 01.  Published in final edited form as: J Ind Microbiol Biotechnol. 2019 October ; 46(9-10): 1365–1370. doi:10.1007/s10295-019-02199-x.  Production of semi-biosynthetic nepetalactone in yeast  John M. Billingsley†, Jose L. Anguiano†, Yi Tang†,‡,* †Department of Chemical and Biomolecular Engineering, University of California, Los Angeles,  CA 90095, United States  ‡Department of Chemistry and Biochemistry, University of California, Los Angeles, CA 90095,  United States  Abstract  Microbial-based production of natural products provides a promising alternative to synthetic  production and isolation from the native producer. The recently discovered NEPS1 cyclase/oxidase  completes the biosynthetic pathway to nepetalactone, a biologically relevant iridoid known as both  an insect repellent and cat attractant. In this work, we employ yeast based whole-cell biocatalysis  to produce semi-biosynthetic nepetalactone from a low-cost precursor via a four-step enzymatic  process. The dependence of product yield on bioprocess parameters ranging from induction of  gene expression to substrate loading was investigated. Subsequent factorial design and response  surface methodology optimization approach enabled a 5.8-fold increase in nepetalactone titer to  153 mg/L. Our study provides insights into strategies for operating plasmid-based bioconversion  of a fed substrate and sets the stage for scalable, microbial synthesis of nepetalactone.  Introduction  Whole-cell biocatalysis offers unique advantages over traditional methods of chemical  production and product extraction [14]. This is because microbial transformations using  enzymes can perform difficult chemical reactions at mild operating conditions, with  efficiencies and selectivities that are often superior to chemical syntheses. Additionally, if a  target compound is acquired from a native producer that produces related cogeners, the use  of a heterologous organism for production can often provide a means of affording a single  constituent typically isolated as a complex mixture. Efforts towards microbial biosynthesis  of plant natural products have gained increasing attention given recent advances in synthetic  biology and metabolic engineering technologies [4]. In particular, the elucidation of  biosynthetic routes towards medicinally useful plant natural products has been greatly  accelerated by next generation transcriptomics and proteomics, leading to the successful  heterologous production of several prominent compounds [7, 15].  The iridoids comprise a diverse family of biologically active natural products with reported  activities ranging from anticancer to antibiotic, prompting clinical interest in iridoids and  making them a value-added chemical target [17]. Recently, we established benchmark  production of iridoids in Saccharomyces cerevisiae (Baker’s yeast) using whole-cell   *Corresponding yitang@ucla.edu.   \\x0cA u  t  h o r    M a n u s c r i p  t  A u  t  h o r    M a n u s c r i p  t  A u  t  h o r    M a n u s c r i p  t  A u t h o r    M a n u s c r i p  t  Billingsley et al.  Page 2  biocatalysis starting from the low-cost substrate 8-hydroxygeraniol [2]. Combining shunt- pathway elucidation and metabolic engineering, fermentation-based production of the  iridoid cis-trans-nepetalactol (referred to hereafter as “nepetalactol”) was demonstrated at a  titer of 45 mg/L. Nepetalactol serves as the monoterpene scaffold for all monoterpene indole  alkaloids, including the vinca alkaloids which have essential clinical utility as  chemotherapeutics.  The recent discovery of NEPS1 by the O’Connor group provided the key enzyme required  for biosynthesis of cis-trans-nepetalactone (referred to hereafter “nepetalactone”) in the  catmint Nepeta mussinii [13]. NEPS1 was shown to catalyzes the oxidation of nepetalactol  to nepetalactone. This iridoid compound is the primary active ingredient in products  containing catnip essential oil, which exhibit an array of biological applications ranging  from cat attractants to insect repellents. Additionally, consumer trends towards  environmentally friendly products have been reported in both the natural insect repellent  market ($550 million annual global sales [10]) and cat toy market ($260 million annual  global sales [6]). Current nepetalactone production methods rely on catmint farming and  steam distillation, which are both considered energy intensive processes.  The discovery of NEPS1 therefore provides an opportunity to investigate the versatility of  our engineered iridoid-producing yeast strain as a “plug-and-play” host for production of a  commercially relevant iridoid natural product. Herein, we describe our approach which  enabled production of nepetalactone. Addition of NEPS1 to our existing strain enabled the  immediate production of nepetalactone at 26 mg/L. Next, our strategy involved identification  of the variables which likely affected the product tier, and a systematic one-factor-at-a-time  optimization of each of these parameters. Multivariate optimization of critical bioconversion  parameters was then carried out using a factorial design and response surface methodology  to further improve operating conditions. This strategy led to a 5.8-fold increase in product  titer to 153 mg/L and provided insights into bioprocess optimization using yeast as a chassis  for value-added bioconversion.  Results and Discussion  Implementation of NEPS1.  Previously, we engineered a yeast strain capable of producing the nepetalactone precursor,  nepetalactol, from the supplied substrate 8-hydroxygeraniol [2]. A facile chemical synthesis  of 8-hydroxygeraniol from geranyl acetate was recently reported, resulting in improved  economic feasibility of this bioprocess [9]. Production of nepetalactol required expression of  the NAD+-dependent geraniol oxidoreductase (GOR) and the NAD(P)H-dependent iridoid  synthase (ISY) (Fig. 1A). The bioconversion platform consists of a strain-plasmid pair,  consisting of a platform strain which has been engineered for improved metabolic flux and a  plasmid which encodes a biosynthetic pathway. This method allows strain engineering to be  performed independently of pathway design. Previously, expression of GOR and/or ISY in  the wild type yeast strain allowed for the elucidation of two metabolic routes to a dead-end  shunt pathway. Strain engineering was performed in order improve the selectivity towards  nepetalactol more than 5-fold, which involved deletion of yeast old yellow enzymes and  alcohol dehydrogenases [2].  J Ind Microbiol Biotechnol. Author manuscript; available in PMC 2020 April 01.  \\x0cA u  t  h o r    M a n u s c r i p  t  A u  t  h o r    M a n u s c r i p  t  A u  t  h o r    M a n u s c r i p  t  A u t h o r    M a n u s c r i p  t  Billingsley et al.  Page 3  Here, we sought to expand our platform’s capability by including the newly discovered  downstream enzyme, NEPS1. This enzyme was recently shown to assist in both the  stereoselective cyclization and subsequent oxidation to provide nepetalactone (Fig. 1A).  Oxidation of the labile hemiacetal in nepetalactol to a lactone by NEPS1 provides a more  stable final product not prone to ring-opening or epimerization, facilitating both metabolite  analysis and purification of the biocatalyst product. An expression cassette for codon  optimized NEPS1 from Nepeta mussinii was synthesized for compatibility with the existing  promoters and terminators. The recently characterized MLS1 promoter [8] and SPG5  terminator [4] were selected for coordinated gene expression. These genetic elements have  approximately equal induction and/or expression profiles to the promoters and terminators  driving GOR and ISY expression. The expression cassette was cloned downstream of GOR  and ISY using yeast homologous recombination methods, generating the plasmid pJB133  (Fig. 1B), and transformed into the yeast strain YJB051. A standard single fed-batch  bioconversion was performed, and production of nepetalactone at 26 mg/L was observed via  GC-MS, which corresponds to a yield of 0.08 (actual/theoretical). As observed previously  with the yeast platform, approximately 75% of the fed substrate was converted to the 8- hydroxytetrahydrogeraniol shunt product.  The iridoid profile from the whole-cell bioconversion was compared to extracts from two  leading catnip products, Yeowww! Catnip and KONG Naturals Catnip Spray (Fig. 1C), as  described previously [2]. GC-MS profiles for the two commercial nepetalactone sources  indicated a mixture of metabolites evidenced by multiple overlapping chromatogram peaks  with m/z = 166 corresponding to the characteristic nepetalactone parent ion. A number of  plants produce mixtures of iridoids, varying in stereochemistry at the bridgehead carbons  [1]. Meanwhile, our yeast strain was able to specifically produce the cis-trans-nepetalactone  stereoisomer, with a retention time and fragmentation pattern matching the authentic  standard. This result highlights the ability to produce a single constituent within a complex  mixture as a major advantage offered by microbial biosynthesis.  One-factor-at-a-time optimization.  In recent years, production and discovery of small molecules in yeast have utilized late-stage  inducible promoters including ADH2p, PCK1p, and MLS1p. Late-stage inducible promoters  are repressed during exponential growth in standard dextrose-containing yeast media,  alleviating growth defects that are often observed in strains engineered for constitutive  expression [5]. Upon depletion of glucose, the promoters are rapidly and strongly induced,  obviating the need for addition of a small-molecule inducer. Thus, utilization of late-stage  inducible promoters can simplify bioprocesses, but introduces growth dependent, and  therefore time-dependent gene induction. Accordingly, a careful tuning is required in order  to balance gene induction with cellular respiration to ensure that the enzymes are sufficiently  active. In addition to timing of substrate addition, several other bioprocess parameters have  been shown to impact bioconversion titer. For example, the concentration of yeast cells in  the system is known to affect the efficiency of conversion, and a common laboratory practice  for small scale culturing is to concentrate the yeast cells prior to substrate addition [11].  Furthermore, a repeated fed-batch feeding schedule was previously employed to improve  iridoid yield [2], however the individual effects of timing and amount of substrate added   J Ind Microbiol Biotechnol. Author manuscript; available in PMC 2020 April 01.  \\x0cA u  t  h o r    M a n u s c r i p  t  A u  t  h o r    M a n u s c r i p  t  A u  t  h o r    M a n u s c r i p  t  A u t h o r    M a n u s c r i p  t  Billingsley et al.  Page 4  were not explicitly investigated. Additionally, since our bioconversion platform uses a  plasmid-based gene expression system, an initial seed culture in selective media is grown  prior to inoculation in nonselective rich media. While inoculants grown in selective media  are commonly employed in bioprocesses, the effects of the duration of this preculture period  in our system has not been explored.  Towards establishing the impact of each of the variables on nepetalactone production, we  performed a one-factor-at-a-time investigation of the aforementioned factors on product titer  (Fig. 2). The selected variables include duration of preculture in selective media (t1),  duration of culture in nonselective media (t2), duration of bioconversion (t3), total number of  fold concentration of cells (n1), number of substrate additions (n2), and amount of substrate  added as determined by the mass fraction of the substrate in an ethanol stock solution (x).  All bioconversion experiments were performed at small scale using culture tubes as  described previously [2]. Each factor was individually varied, and the resulting  nepetalactone production was measured via GC-MS. Results of our initial analysis are  shown in Fig. 2.  As expected, variation of all six of the bioconversion variables led to different nepetalactone  titers. Of the parameters investigated, variation of preculture duration and fold concentration  provided only marginal increases in peak area (1% and 3% increase, respectively).  Accordingly, in successive experiments, we elected to select conditions for t1 and n1 in order  to reduce the duration and complexity of the overall bioprocess. By operating at a t1 = 12  hours, we could reduce the experimental duration of this variable by half. Since the total  culturing duration is equal to t1 + t2 + t3, a 50% reduction in t1 provides substantial  improvement in the overall productivity (mg*L−1*h−1). Similarly, operating at n1 = 1  enables the cells from the YPD culture to be used directly, eliminating an entire unit  operation (centrifugation for concentration) from the overall bioprocess. The remaining four  parameters, t2, t3, x, and n2, provided maximum increases in nepetalactone peak area of  17%, 29%, 251%, and 44%, respectively.  While the maxima observed in Fig. 2 are approaching local optima, our one-factor-at-a-time  optimization provides valuable information about the properties of our biocatalyst. For  example, as shown in Fig. 2B, the data indicates that a 12 hour preculture in selective media  provides sufficient plasmid stability in our single plasmid system, and that increasing this  duration would lower the overall productivity. Similarly, a 12-hour bioconversion phase was  shown to be sufficient for maximal substrate consumption, and an extended bioconversion  duration led to a decrease in product titer as in indicated in Fig. 2D, potentially through  product evaporation or product degradation. On the other hand, our data show that several  variables must be substantially adjusted to provide improved product titers. For example,  increased substrate loading provided the most dramatic increase in product titer, however  increasing the substrate mass fraction (x) too much resulted in a decrease in titer. Indeed, a  decrease in the relative nepetalactone peak area per milligram substrate fed accompanies the  titer improvements when increasing substrate loading (Supplementary Fig. 2). The decrease  in yield could be caused by substrate toxicity, which could be alleviated by adjusting the 8- hydroxygeraniol feeding schedule. Additionally, a 3-fold increase in the YPD culture  duration from 24 hours to 72 hours provided the highest relative nepetalactone peak area   J Ind Microbiol Biotechnol. Author manuscript; available in PMC 2020 April 01.  \\x0cA u  t  h o r    M a n u s c r i p  t  A u  t  h o r    M a n u s c r i p  t  A u  t  h o r    M a n u s c r i p  t  A u t h o r    M a n u s c r i p  t  Billingsley et al.  Page 5  when varying t3. This result was unexpected, since previous investigations indicated  maximal induction of ADH2-like promoters after 24 hours [8, 12]. This result highlights the  context-dependent behavior of genetic parts as well as the shift in metabolic properties of  our biocatalyst over time, and emphasizes the need for a multivariate optimization approach.  Factorial design and response surface methodology optimization.  In contrast to one-factor-at-a-time optimization, multivariate optimization methods enable  rapid global optimization of complex systems with many independent variables. Response  surface methodology (RSM) has been commonly employed for optimization of biological  processes [16]. One major advantage of the RSM approach is that a relatively small number  of experiments may be carried out in order to assess how two variables may positively  interact to produce a desired outcome. Generation of a response surface simultaneously  allows for the approximation of a global optimum.  As determined in earlier experiments, the parameters, t2, t3, x, and n2 were shown to have  the greatest effect on the response variable (nepetalactone peak area). Design-Expert 11 was  employed for Design of Experiments (DoE) and subsequent generation of the response  surface. Coded levels for the four independent variables are shown in Supplementary Table  1. All bioconversion experiments were performed at small scale using culture tubes as  described previously [2]. A total of 73 trials defined by Design Expert and shown in  Supplementary Table 2 were performed, and the nepetalactone peak area was assessed using  GC-MS as described previously [2]. Several conditions resulted in no observable  nepetalactone peak, resulting in a response value of zero. These conditions corresponded to  the lowest coded values for either “x” or “t3”. Results of quadratic response surface model  fitting using ANOVA and other statistical parameters are given in Supplementary Table 1.  The model was determined to be significant (p<0.0001) with values for R2 of 0.794 and a  signal-to-noise of 13.6, despite a substantial lack-of-fit. We concluded that this model was  suitable for navigation of the design space.  Numerical optimization indicated that the maximum coded values of t3,optimal = 12 hours  and n2,optimal = 12 times provided the greatest product titer. While this result could be  predicted by our previous optimization of t3, the requirement for increased number of  substrate additions is only apparent when operating with increased substrate concentration.  On the other hand, the model predicted maximal nepetalactone titers of t2,optimal = 66 hours  and xoptimal = 0.45, which fell within the coded values. The predicted value for t2,optimal is  consistent with the value observed previously, while xoptimal is substantially higher than  expected. We reason that the increased mass fraction “x” is permitted via synergistic  improvements provided by varying other factors in the feeding schedule, which were not  captured during one-factor-at-a-time optimization. The two-variable response surface for t2  and x, where t3 = 12 hours and n = 12 times, is shown in Fig. 3A.  Finally, in order to validate the model’s ability to predict improved nepetalactone titer, the  bioconversion assay was performed using the optimized t1, t2, t3, n1, n2, and x. A titer of 153  mg/L was obtained, corresponding to a 5.8-fold increase in nepetalactone titer (Fig. 3B).  While this value represents a benchmark titer for microbial iridoid production, it should be  noted that a 50% decrease in the overall yield was observed. This may be attributed to low   J Ind Microbiol Biotechnol. Author manuscript; available in PMC 2020 April 01.  \\x0cA u  t  h o r    M a n u s c r i p  t  A u  t  h o r    M a n u s c r i p  t  A u  t  h o r    M a n u s c r i p  t  A u t h o r    M a n u s c r i p  t  Billingsley et al.  Page 6  conversion and selectivity, which could be optimized in subsequent RSM studies. The  nepetalactone cost per gram is approximately 25 times greater than that of synthesized 8- hydroxygeraniol and 500 times greater than that of the process feedstock geranyl acetate.  Further, approximately 75% of the substrate remained unconsumed, which could also be  extracted and recycled to further improve process efficiency. While the optimized process  parameters at this scale cannot be directly applied to industrial-scale fermentation, response  surface methodology is a general approach which could be utilized to for bench-scale  fermentation optimization. Ultimately, factors such as purification requirements, substrate  supply, and scalability must be considered to further refine operating conditions.  Conclusions  In this study, the recently discovered NEPS1 was employed for semi-biosynthetic  nepetalactone production in Saccharomyces cerevisiae using whole-cell biocatalysis. Both  one-factor-at-a-time and multivariate optimizations of the bioconversion process parameters  were carried out; execution of predictions from the RSM method led to a 5.8-fold increase in  product titer. Our process provides an applicable method for species and climate  independent access to nepetalactone at 153 mg/L.  Supplementary Material  Refer to Web version on PubMed Central for supplementary material.  Acknowledgement  This work is funded by the NCCIH 1R01AT010001-01. JMB was supported by the NIH Predoctoral Training grant  T32 GM067555.  Literature cited:  1. Bates RB, Eisenbraun EJ, Mcelvain SM (1958) The confgurations of the nepetalactones and related   compounds. J Am Chem Soc 80:3420–3424. 10.1021/Ja01546a054  2. Billingsley JM, DeNicola AB, Barber JS, Tang MC, Horecka J, Chu A, Garg NK, Tang Y (2017)  Engineering the biocatalytic selectivity of iridoid production in Saccharomyces cerevisiae. Metab  Eng 44:117–125. 10.1016/j.ymben.2017.09.006 [PubMed: 28939278]   3. Billingsley JM, DeNicola AB, Tang Y (2016) Technology development for natural product   biosynthesis in Saccharomyces cerevisiae. Curr Opin Biotechnol 42:74–83. 10.1016/j.copbio. 2016.02.033 [PubMed: 26994377]   4. Curran KA, Karim AS, Gupta A, Alper HS (2013) Use of expression-enhancing terminators in  Saccharomyces cerevisiae to increase mRNA half-life and improve gene expression control for  metabolic engineering applications. Metab Eng 19:88–97. 10.1016/j.ymben.2013.07.001 [PubMed:  23856240]   5. Da Silva NA, Srikrishnan S (2012) Introduction and expression of genes for metabolic engineering   applications in Saccharomyces cerevisiae. FEMS Yeast Res 12:197–214. 10.1111/j. 1567-1364.2011.00769.x [PubMed: 22129153]   6. Deschamps N (2017) Dog and cat toys: U.S. pet market trends and opportunities. Packaged Facts 7. Galanie S, Thodey K, Trenchard IJ, Filsinger Interrante M, Smolke CD (2015) Complete   biosynthesis of opioids in yeast. Science 349:1095–1100. 10.1126/science.aac9373 [PubMed:  26272907]   8. Harvey CJB, Tang MC, Schlecht U, Horecka J, Fischer CR, Lin HC, Li J, Naughton B, Cherry J,   Miranda M, Li YF, Chu AM, Hennessy JR, Vandova GA, Inglis D, Aiyar RS, Steinmetz LM, Davis   J Ind Microbiol Biotechnol. Author manuscript; available in PMC 2020 April 01.  \\x0cA u  t  h o r    M a n u s c r i p  t  A u  t  h o r    M a n u s c r i p  t  A u  t  h o r    M a n u s c r i p  t  A u t h o r    M a n u s c r i p  t  Billingsley et al.  Page 7  RW, Medema MH, Sattely E, Khosla C, St Onge RP, Tang Y, Hillenmeyer ME (2018) HEx: a  heterologous expression platform for the discovery of fungal natural products. Sci Adv. 10.1126/ sciadv.aar5459  9. Ippoliti FM, Barber JS, Tang Y, Garg NK (2018) Synthesis of 8-hydroxygeraniol. J Org Chem   83:11323–11326. 10.1021/acs.joc.8b01544 [PubMed: 29969566]   10. Javed M (2019) Insect repellent: the Global Market to 2023. bccResearch 11. Kratzer R, Woodley JM, Nidetzky B (2015) Rules for biocatalyst and reaction engineering to   implement efective, NAD(P) H-dependent, whole cell bioreductions. Biotechnol Adv 33:1641– 1652. 10.1016/j.biotechadv.2015.08.006 [PubMed: 26343336]   12. Lee KM, DaSilva NA (2005) Evaluation of the Saccharomyces cerevisiae ADH2 promoter for   protein synthesis. Yeast 22:431–440. 10.1002/yea.1221 [PubMed: 15849781]   13. Lichman BR, Kamileen MO, Titchiner GR, Saalbach G, Stevenson CEM, Lawson DM, O’Connor   SE (2019) Uncoupled activation and cyclization in catmint reductive terpenoid biosynthesis. Nat  Chem Biol 15:71–79. 10.1038/s41589-018-0185-2 [PubMed: 30531909]   14. Lin B, Tao Y (2017) Whole-cell biocatalysts by design. Microb Cell Fact 16:106 10.1186/  s12934-017-0724-7 [PubMed: 28610636]   15. Luo X, Reiter MA, d’Espaux L, Wong J, Denby CM, Lechner A, Zhang Y, Grzybowski AT, Harth   S, Lin W, Lee H, Yu C, Shin J, Deng K, Benites VT, Wang G, Baidoo EEK, Chen Y, Dev I,  Petzold CJ, Keasling JD (2019) Complete biosynthesis of cannabinoids and their unnatural  analogues in yeast. Nature. 10.1038/s41586-019-0978-9  16. Mandenius CF, Brundin A (2008) Bioprocess optimization using design-of-experiments   methodology. Biotechnol Progr 24:1191–1203. 10.1021/bp.67  17. Tundis R, Loizzo MR, Menichini F, Statti GA, Menichini F (2008) Biological and pharmacological  activities of iridoids: recent developments. Mini Rev Med Chem 8:399–420 [PubMed: 18473930]   J Ind Microbiol Biotechnol. Author manuscript; available in PMC 2020 April 01.  \\x0cA u  t  h o r    M a n u s c r i p  t  A u  t  h o r    M a n u s c r i p  t  A u  t  h o r    M a n u s c r i p  t  A u t h o r    M a n u s c r i p  t  Billingsley et al.  Page 8  Fig. 1.  Strategy for production of nepetalactone in yeast. A) Synthesis and of 8-hydroxygeraniol  from geranyl acetate and conversion to nepetalactone involving geraniol oxidoreductase  (GOR), iridoid synthase (ISY), and nepetalactol-related short-chain dehydrogenase enzymes  (NEPS1). B) Nepetalactone GC-MS profiles (m/z = 166) comparing (i) an authentic  standard, (ii, iii) leading catnip containing products, and (iii) the bioconversion product of  our yeast strain transformed with pJB133.  J Ind Microbiol Biotechnol. Author manuscript; available in PMC 2020 April 01.  \\x0cA u  t  h o r    M a n u s c r i p  t  A u  t  h o r    M a n u s c r i p  t  A u  t  h o r    M a n u s c r i p  t  A u t h o r    M a n u s c r i p  t  Billingsley et al.  Page 9  Fig. 2.  Process flow diagram of 8-hydroxygeraniol bioconversion (A) as well as one-factor-at-a- time investigation of bioconversion parameters (B-G), including preculture duration (t1),  YPD culture duration (t2), bioconversion phase duration (t3), total number of fold  concentration of cells (n1), substrate additions (n2), and amount of substrate added as  determined by the mass fraction of the substrate stock solution (x). Orange squares  correspond to the unoptimized bioprocess.  J Ind Microbiol Biotechnol. Author manuscript; available in PMC 2020 April 01.  \\x0cA u  t  h o r    M a n u s c r i p  t  A u  t  h o r    M a n u s c r i p  t  A u  t  h o r    M a n u s c r i p  t  A u t h o r    M a n u s c r i p  t  Billingsley et al.  Page 10  Fig. 3.  Optimization of bioprocess parameters for improved nepetalactone titer. (A) The two- variable response surface for t2 and x, where t3 = 12 hours and n = 12 times. (B) Plasmid  map of pJB133 and genotype of YJB051. The source of all genetic parts used for plasmid  construction is indicated by color and detailed in Supplementary Fig. 1. (C) Product titer for  empty vector (EV) compared to unoptimized and optimized pJB133 bioconversion.  J Ind Microbiol Biotechnol. Author manuscript; available in PMC 2020 April 01.  \\x0c'"
      ]
     },
     "execution_count": 31,
     "metadata": {},
     "output_type": "execute_result"
    }
   ],
   "source": [
    "fulltext_str.replace('\\n', ' ')"
   ]
  },
  {
   "cell_type": "code",
   "execution_count": 33,
   "metadata": {},
   "outputs": [],
   "source": [
    "os.remove('tmp.pdf')"
   ]
  },
  {
   "cell_type": "code",
   "execution_count": 46,
   "metadata": {},
   "outputs": [],
   "source": [
    "import PyPDF2\n",
    "import io\n",
    "\n",
    "outtext = ''\n",
    "with io.BytesIO(response.content) as f:\n",
    "    reader = PyPDF2.PdfFileReader(f)\n",
    "    for page in reader.pages:\n",
    "        outtext += page.extractText()"
   ]
  },
  {
   "cell_type": "markdown",
   "metadata": {},
   "source": [
    "### Command for bash\n",
    "Make sure the pwd is /brenda_data_collection/, then paste the following command:"
   ]
  },
  {
   "cell_type": "code",
   "execution_count": 80,
   "metadata": {},
   "outputs": [
    {
     "name": "stdout",
     "output_type": "stream",
     "text": [
      "python fetch_oa.py 1 & python fetch_oa.py 2 & python fetch_oa.py 3 & python fetch_oa.py 4 & python fetch_oa.py 5 & python fetch_oa.py 6 & "
     ]
    }
   ],
   "source": [
    "for i in range(1, 7):\n",
    "    print(f\"python fetch_oa.py {i} &\", end=' ')"
   ]
  },
  {
   "cell_type": "code",
   "execution_count": null,
   "metadata": {},
   "outputs": [],
   "source": []
  },
  {
   "cell_type": "markdown",
   "metadata": {},
   "source": [
    "***"
   ]
  },
  {
   "cell_type": "markdown",
   "metadata": {},
   "source": [
    "## [1.] DO NOT RUN: Elsevier API and Loop\n",
    "Code below is the rough basis for elsevier.py"
   ]
  },
  {
   "cell_type": "markdown",
   "metadata": {},
   "source": [
    "Setting up the API"
   ]
  },
  {
   "cell_type": "code",
   "execution_count": null,
   "metadata": {},
   "outputs": [],
   "source": [
    "# Load configuration\n",
    "con_file = open(\"elsevier_api/config.json\")\n",
    "config = json.load(con_file)\n",
    "con_file.close()\n",
    "\n",
    "# Initialize client\n",
    "client = ElsClient(config['apikey'])\n",
    "client.local_dir = \"./get_fullpapers_pmidset/\""
   ]
  },
  {
   "cell_type": "code",
   "execution_count": null,
   "metadata": {},
   "outputs": [],
   "source": [
    "# Function: Get paper\n",
    "def get_paper(doi: str):\n",
    "    ## ScienceDirect (full-text) document example using DOI\n",
    "    doi_doc = FullDoc(doi = doi)\n",
    "    if doi_doc.read(client):\n",
    "        return doi_doc.data\n",
    "    else:\n",
    "        return False"
   ]
  },
  {
   "cell_type": "markdown",
   "metadata": {},
   "source": [
    "Main Loop (taken and modified from elsevier_api).\n",
    "\n",
    "**NOTE: MUST ENABLE BERKELEY VPN FOR THIS TO WORK!**"
   ]
  },
  {
   "cell_type": "code",
   "execution_count": null,
   "metadata": {},
   "outputs": [],
   "source": [
    "# Test to see if it works\n",
    "get_paper('10.1016/0031-9422(73)80493-5');"
   ]
  },
  {
   "cell_type": "code",
   "execution_count": null,
   "metadata": {},
   "outputs": [],
   "source": [
    "# Output file = doi to full_text dict dictionary (in json)\n",
    "def loop_elsevier(elsevier_subset, outfile):\n",
    "    json_file = outfile\n",
    "    if os.path.isfile(json_file):\n",
    "        with open(json_file, 'r') as fp:\n",
    "            elsevier_fulltexts = json.load(fp)\n",
    "            fp.close()\n",
    "    else:\n",
    "        elsevier_fulltexts = {}\n",
    "\n",
    "    # hyperparam (-1 if max)\n",
    "    max_calls = -1\n",
    "\n",
    "    # Stats\n",
    "    calls = 0\n",
    "    fails = 0\n",
    "    not_elsevier = 0\n",
    "    successes_or_found = 0\n",
    "    queries = 0\n",
    "\n",
    "    try:\n",
    "        # Looping through quantify_dataset output json.\n",
    "        for pmid, metadata in elsevier_subset.items():\n",
    "            doi = metadata['doi']\n",
    "            doi_url = f\"https://doi.org/{doi}\"\n",
    "\n",
    "            # dont go over max calls. (-1 if infinite)\n",
    "            if calls == max_calls or (queries == -1):\n",
    "                print(\"Query limit reached.\")\n",
    "                break\n",
    "            else:\n",
    "                calls += 1\n",
    "\n",
    "            # checks if paper has been successfully fetched before\n",
    "            if pmid in elsevier_fulltexts:\n",
    "                successes_or_found += 1\n",
    "                print(f\"## Call {calls} found.\")\n",
    "                continue\n",
    "\n",
    "            fullpaper = get_paper(doi)\n",
    "            if (fullpaper):\n",
    "                elsevier_fulltexts[pmid] = fullpaper\n",
    "                successes_or_found += 1\n",
    "                queries += 1\n",
    "                print(f\"Call {calls} success.\")\n",
    "            else:\n",
    "                fails += 1\n",
    "                print (f\"##### Call {calls} failed: {fails}. DOI: {doi_url}.\")\n",
    "\n",
    "    except KeyboardInterrupt:\n",
    "        pass\n",
    "\n",
    "    # save to file\n",
    "    with open(json_file, 'w') as fp:\n",
    "        json.dump(elsevier_fulltexts, fp)\n",
    "        # vary: alter frequency of file save\n",
    "        fp.close()\n",
    "\n",
    "    # Print Stats\n",
    "    print(\"\")\n",
    "    print(\"###### STATS ######\")\n",
    "    print(f\"Total calls: {calls}\")\n",
    "    print(f\"Total number of queries: {queries}\")\n",
    "    print(f\"Total number of Elsevier papers: {calls - not_elsevier}\")\n",
    "    print(f\"Number of Non-Elsevier papers skipped: {not_elsevier}\")\n",
    "    print(f\"Number of fetch failures: {fails}\")\n",
    "    print(f\"Papers in storage: {len(elsevier_fulltexts)}\")\n",
    "    print(f\"% of success: {successes_or_found / (calls-not_elsevier) * 100}%\")"
   ]
  },
  {
   "cell_type": "code",
   "execution_count": null,
   "metadata": {},
   "outputs": [],
   "source": []
  }
 ],
 "metadata": {
  "kernelspec": {
   "display_name": "Python 3",
   "language": "python",
   "name": "python3"
  },
  "language_info": {
   "codemirror_mode": {
    "name": "ipython",
    "version": 3
   },
   "file_extension": ".py",
   "mimetype": "text/x-python",
   "name": "python",
   "nbconvert_exporter": "python",
   "pygments_lexer": "ipython3",
   "version": "3.7.8"
  }
 },
 "nbformat": 4,
 "nbformat_minor": 4
}
