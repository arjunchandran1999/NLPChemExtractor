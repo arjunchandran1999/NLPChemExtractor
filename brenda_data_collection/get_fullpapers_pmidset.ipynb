{
 "cells": [
  {
   "cell_type": "markdown",
   "metadata": {},
   "source": [
    "# Getting Full Papers"
   ]
  },
  {
   "cell_type": "code",
   "execution_count": 12,
   "metadata": {},
   "outputs": [],
   "source": [
    "import urllib\n",
    "import requests\n",
    "import os\n",
    "import math\n",
    "import json\n",
    "import pandas as pd\n",
    "import xml.etree.ElementTree as ET\n",
    "import numpy as np\n",
    "\n",
    "from elsapy.elsclient import ElsClient\n",
    "from elsapy.elsprofile import ElsAuthor, ElsAffil\n",
    "from elsapy.elsdoc import FullDoc, AbsDoc\n",
    "from elsapy.elssearch import ElsSearch\n",
    "\n",
    "import igemutils as igem\n",
    "\n",
    "email = 'ivalexander13@berkeley.edu' # enter ur email pls"
   ]
  },
  {
   "cell_type": "markdown",
   "metadata": {},
   "source": [
    "## Create Subsets"
   ]
  },
  {
   "cell_type": "code",
   "execution_count": 13,
   "metadata": {},
   "outputs": [
    {
     "name": "stdout",
     "output_type": "stream",
     "text": [
      "Count of is_oa being [True]: 46843.\n",
      "Count of is_oa not matching [True]: 49375.\n",
      "Count of publisher being ['Elsevier', 'Elsevier BV']: 23267.\n"
     ]
    }
   ],
   "source": [
    "rxns_pmid = igem.get_json(\"./get_metadata_pmidset/unpaywall_metadata_pmids.json\")\n",
    "oa_subset, non_oa_subset = igem.generate_subset(rxns_pmid, 'is_oa', [True], return_complement=True)\n"
   ]
  },
  {
   "cell_type": "markdown",
   "metadata": {},
   "source": [
    "# 1. Elsevier!!"
   ]
  },
  {
   "cell_type": "markdown",
   "metadata": {},
   "source": [
    "## Splitting Data"
   ]
  },
  {
   "cell_type": "code",
   "execution_count": 14,
   "metadata": {},
   "outputs": [
    {
     "name": "stdout",
     "output_type": "stream",
     "text": [
      "Count of publisher being ['Elsevier', 'Elsevier BV']: 23267.\n",
      "Saved part 1.\n",
      "Saved part 2.\n",
      "Saved part 3.\n",
      "Saved part 4.\n",
      "Saved part 5.\n",
      "Saved part 6.\n",
      "All done!\n"
     ]
    }
   ],
   "source": [
    "n_splits = 6 # fill this in!!\n",
    "\n",
    "elsevier_subset = igem.generate_subset(non_oa_subset, 'publisher', ['Elsevier', 'Elsevier BV'])[0]\n",
    "igem.split_dict(elsevier_subset, n_splits, 'get_fullpapers/elsevier/elsevier_subset_split')"
   ]
  },
  {
   "cell_type": "markdown",
   "metadata": {},
   "source": [
    "## Run this in parallel!!\n",
    "\n",
    "```python get_elsevier.py <num>```\n",
    "\n",
    "Where <num> is the split# generated from the cell above.\n",
    "    \n",
    "For convenience: just paste these in (in separate terminals!)"
   ]
  },
  {
   "cell_type": "code",
   "execution_count": 11,
   "metadata": {},
   "outputs": [
    {
     "name": "stdout",
     "output_type": "stream",
     "text": [
      "python get_elsevier.py 1\n",
      "\n",
      "python get_elsevier.py 2\n",
      "\n",
      "python get_elsevier.py 3\n",
      "\n",
      "python get_elsevier.py 4\n",
      "\n",
      "python get_elsevier.py 5\n",
      "\n",
      "python get_elsevier.py 6\n",
      "\n"
     ]
    }
   ],
   "source": [
    "for n in range(1, n_splits + 1):\n",
    "    print(f\"python get_elsevier.py {n}\")\n",
    "    print(\"\")\n",
    "    "
   ]
  },
  {
   "cell_type": "markdown",
   "metadata": {},
   "source": [
    "# 2. Open Access"
   ]
  },
  {
   "cell_type": "markdown",
   "metadata": {},
   "source": [
    "## Splitting Data"
   ]
  },
  {
   "cell_type": "code",
   "execution_count": 15,
   "metadata": {},
   "outputs": [
    {
     "name": "stdout",
     "output_type": "stream",
     "text": [
      "Saved part 1.\n",
      "Saved part 2.\n",
      "Saved part 3.\n",
      "Saved part 4.\n",
      "Saved part 5.\n",
      "Saved part 6.\n",
      "All done!\n"
     ]
    }
   ],
   "source": [
    "n_splits = 6 # fill this in!!\n",
    "igem.split_dict(oa_subset, n_splits, 'get_fullpapers/oa/oa_subset_split')"
   ]
  },
  {
   "cell_type": "code",
   "execution_count": 17,
   "metadata": {},
   "outputs": [
    {
     "data": {
      "text/plain": [
       "7808"
      ]
     },
     "execution_count": 17,
     "metadata": {},
     "output_type": "execute_result"
    }
   ],
   "source": [
    "len(igem.get_json('get_fullpapers/oa/oa_subset_split1.json'))"
   ]
  },
  {
   "cell_type": "code",
   "execution_count": null,
   "metadata": {},
   "outputs": [],
   "source": []
  },
  {
   "cell_type": "code",
   "execution_count": null,
   "metadata": {},
   "outputs": [],
   "source": []
  },
  {
   "cell_type": "code",
   "execution_count": null,
   "metadata": {},
   "outputs": [],
   "source": []
  },
  {
   "cell_type": "code",
   "execution_count": null,
   "metadata": {},
   "outputs": [],
   "source": []
  },
  {
   "cell_type": "code",
   "execution_count": null,
   "metadata": {},
   "outputs": [],
   "source": []
  },
  {
   "cell_type": "code",
   "execution_count": null,
   "metadata": {},
   "outputs": [],
   "source": []
  },
  {
   "cell_type": "code",
   "execution_count": null,
   "metadata": {},
   "outputs": [],
   "source": []
  },
  {
   "cell_type": "markdown",
   "metadata": {},
   "source": [
    "***"
   ]
  },
  {
   "cell_type": "markdown",
   "metadata": {},
   "source": [
    "## [1.] DO NOT RUN: Elsevier API and Loop\n",
    "Code below is the rough basis for elsevier.py"
   ]
  },
  {
   "cell_type": "markdown",
   "metadata": {},
   "source": [
    "Setting up the API"
   ]
  },
  {
   "cell_type": "code",
   "execution_count": 48,
   "metadata": {},
   "outputs": [],
   "source": [
    "# Load configuration\n",
    "con_file = open(\"elsevier_api/config.json\")\n",
    "config = json.load(con_file)\n",
    "con_file.close()\n",
    "\n",
    "# Initialize client\n",
    "client = ElsClient(config['apikey'])\n",
    "client.local_dir = \"./get_fullpapers_pmidset/\""
   ]
  },
  {
   "cell_type": "code",
   "execution_count": 49,
   "metadata": {},
   "outputs": [],
   "source": [
    "# Function: Get paper\n",
    "def get_paper(doi: str):\n",
    "    ## ScienceDirect (full-text) document example using DOI\n",
    "    doi_doc = FullDoc(doi = doi)\n",
    "    if doi_doc.read(client):\n",
    "        return doi_doc.data\n",
    "    else:\n",
    "        return False"
   ]
  },
  {
   "cell_type": "markdown",
   "metadata": {},
   "source": [
    "Main Loop (taken and modified from elsevier_api).\n",
    "\n",
    "**NOTE: MUST ENABLE BERKELEY VPN FOR THIS TO WORK!**"
   ]
  },
  {
   "cell_type": "code",
   "execution_count": 50,
   "metadata": {},
   "outputs": [],
   "source": [
    "# Test to see if it works\n",
    "get_paper('10.1016/0031-9422(73)80493-5');"
   ]
  },
  {
   "cell_type": "code",
   "execution_count": 6,
   "metadata": {},
   "outputs": [],
   "source": [
    "# Output file = doi to full_text dict dictionary (in json)\n",
    "def loop_elsevier(elsevier_subset, outfile):\n",
    "    json_file = outfile\n",
    "    if os.path.isfile(json_file):\n",
    "        with open(json_file, 'r') as fp:\n",
    "            elsevier_fulltexts = json.load(fp)\n",
    "            fp.close()\n",
    "    else:\n",
    "        elsevier_fulltexts = {}\n",
    "\n",
    "    # hyperparam (-1 if max)\n",
    "    max_calls = -1\n",
    "\n",
    "    # Stats\n",
    "    calls = 0\n",
    "    fails = 0\n",
    "    not_elsevier = 0\n",
    "    successes_or_found = 0\n",
    "    queries = 0\n",
    "\n",
    "    try:\n",
    "        # Looping through quantify_dataset output json.\n",
    "        for pmid, metadata in elsevier_subset.items():\n",
    "            doi = metadata['doi']\n",
    "            doi_url = f\"https://doi.org/{doi}\"\n",
    "\n",
    "            # dont go over max calls. (-1 if infinite)\n",
    "            if calls == max_calls or (queries == -1):\n",
    "                print(\"Query limit reached.\")\n",
    "                break\n",
    "            else:\n",
    "                calls += 1\n",
    "\n",
    "            # checks if paper has been successfully fetched before\n",
    "            if pmid in elsevier_fulltexts:\n",
    "                successes_or_found += 1\n",
    "                print(f\"## Call {calls} found.\")\n",
    "                continue\n",
    "\n",
    "            fullpaper = get_paper(doi)\n",
    "            if (fullpaper):\n",
    "                elsevier_fulltexts[pmid] = fullpaper\n",
    "                successes_or_found += 1\n",
    "                queries += 1\n",
    "                print(f\"Call {calls} success.\")\n",
    "            else:\n",
    "                fails += 1\n",
    "                print (f\"##### Call {calls} failed: {fails}. DOI: {doi_url}.\")\n",
    "\n",
    "    except KeyboardInterrupt:\n",
    "        pass\n",
    "\n",
    "    # save to file\n",
    "    with open(json_file, 'w') as fp:\n",
    "        json.dump(elsevier_fulltexts, fp)\n",
    "        # vary: alter frequency of file save\n",
    "        fp.close()\n",
    "\n",
    "    # Print Stats\n",
    "    print(\"\")\n",
    "    print(\"###### STATS ######\")\n",
    "    print(f\"Total calls: {calls}\")\n",
    "    print(f\"Total number of queries: {queries}\")\n",
    "    print(f\"Total number of Elsevier papers: {calls - not_elsevier}\")\n",
    "    print(f\"Number of Non-Elsevier papers skipped: {not_elsevier}\")\n",
    "    print(f\"Number of fetch failures: {fails}\")\n",
    "    print(f\"Papers in storage: {len(elsevier_fulltexts)}\")\n",
    "    print(f\"% of success: {successes_or_found / (calls-not_elsevier) * 100}%\")"
   ]
  },
  {
   "cell_type": "code",
   "execution_count": null,
   "metadata": {},
   "outputs": [],
   "source": []
  }
 ],
 "metadata": {
  "kernelspec": {
   "display_name": "Python 3",
   "language": "python",
   "name": "python3"
  },
  "language_info": {
   "codemirror_mode": {
    "name": "ipython",
    "version": 3
   },
   "file_extension": ".py",
   "mimetype": "text/x-python",
   "name": "python",
   "nbconvert_exporter": "python",
   "pygments_lexer": "ipython3",
   "version": "3.7.8"
  }
 },
 "nbformat": 4,
 "nbformat_minor": 4
}
