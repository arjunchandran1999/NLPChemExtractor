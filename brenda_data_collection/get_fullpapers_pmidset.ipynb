{
 "cells": [
  {
   "cell_type": "markdown",
   "metadata": {},
   "source": [
    "# Getting Full Papers"
   ]
  },
  {
   "cell_type": "code",
   "execution_count": 1,
   "metadata": {},
   "outputs": [],
   "source": [
    "import urllib\n",
    "import requests\n",
    "import os\n",
    "import math\n",
    "import json\n",
    "import pandas as pd\n",
    "import xml.etree.ElementTree as ET\n",
    "import numpy as np\n",
    "\n",
    "from elsapy.elsclient import ElsClient\n",
    "from elsapy.elsprofile import ElsAuthor, ElsAffil\n",
    "from elsapy.elsdoc import FullDoc, AbsDoc\n",
    "from elsapy.elssearch import ElsSearch\n",
    "\n",
    "import igemutils as igem\n",
    "\n",
    "email = 'ivalexander13@berkeley.edu' # enter ur email pls"
   ]
  },
  {
   "cell_type": "markdown",
   "metadata": {},
   "source": []
  },
  {
   "cell_type": "markdown",
   "metadata": {},
   "source": [
    "## Use the Elsevier API "
   ]
  },
  {
   "cell_type": "markdown",
   "metadata": {},
   "source": [
    "Setting up the API"
   ]
  },
  {
   "cell_type": "code",
   "execution_count": 122,
   "metadata": {},
   "outputs": [],
   "source": [
    "# Load configuration\n",
    "con_file = open(\"elsevier_api/config.json\")\n",
    "config = json.load(con_file)\n",
    "con_file.close()\n",
    "\n",
    "# Initialize client\n",
    "client = ElsClient(config['apikey'])\n",
    "client.local_dir = \"./get_fullpapers_pmidset/\"\n",
    "\n",
    "# Function: Get paper\n",
    "def get_paper(doi: str):\n",
    "    ## ScienceDirect (full-text) document example using DOI\n",
    "    doi_doc = FullDoc(doi = doi)\n",
    "    if doi_doc.read(client):\n",
    "        return doi_doc.data\n",
    "    else:\n",
    "        return False"
   ]
  },
  {
   "cell_type": "markdown",
   "metadata": {},
   "source": [
    "Main Loop (taken and modified from elsevier_api)"
   ]
  },
  {
   "cell_type": "code",
   "execution_count": null,
   "metadata": {},
   "outputs": [],
   "source": [
    "# Output file = doi to full_text dict dictionary (in json)\n",
    "json_file = './get_fullpapers_pmidset/elsevier_fulltexts_all.json'\n",
    "if os.path.isfile(json_file):\n",
    "    with open(json_file, 'r') as fp:\n",
    "        elsevier_fulltexts = json.load(fp)\n",
    "        fp.close()\n",
    "else:\n",
    "    elsevier_fulltexts = {}\n",
    "\n",
    "# hyperparam (-1 if max)\n",
    "max_calls = -1\n",
    "\n",
    "# Stats\n",
    "calls = 0\n",
    "fails = 0\n",
    "not_elsevier = 0\n",
    "successes_or_found = 0\n",
    "queries = 0\n",
    "\n",
    "try:\n",
    "    # Looping through quantify_dataset output json.\n",
    "    for pmid in rxn_pmids:\n",
    "        doi = igem.pmid2doi()\n",
    "        doi_url = f\"https://doi.org/{doi}\"\n",
    "        \n",
    "        # dont go over max calls. (-1 if infinite)\n",
    "        if calls == max_calls or (queries == -1):\n",
    "            print(\"Query limit reached.\")\n",
    "            break\n",
    "        else:\n",
    "            calls += 1\n",
    "\n",
    "        # checks if paper has been successfully fetched before\n",
    "        if pmid in elsevier_fulltexts:\n",
    "            successes_or_found += 1\n",
    "            print(f\"## Call {calls} found.\")\n",
    "            continue\n",
    "        \n",
    "        # checks if publisher is elsevier\n",
    "        if value['publisher'] != 'Elsevier' and value['publisher'] != 'Elsevier BV':\n",
    "            not_elsevier += 1\n",
    "            continue\n",
    "        \n",
    "        if (fullpaper := get_paper(doi)):\n",
    "            elsevier_fulltexts[doi] = fullpaper\n",
    "            successes_or_found += 1\n",
    "            queries += 1\n",
    "            print(f\"Call {calls} success.\")\n",
    "        else:\n",
    "            fails += 1\n",
    "            print (f\"##### Call {calls} failed: {fails}. DOI: {doi_url}.\")\n",
    "        \n",
    "except KeyboardInterrupt:\n",
    "    pass\n",
    "\n",
    "# save to file\n",
    "with open(json_file, 'w') as fp:\n",
    "    json.dump(elsevier_fulltexts, fp)\n",
    "    # vary: alter frequency of file save\n",
    "    if (calls % 1 == 0):\n",
    "        fp.close()\n",
    "\n",
    "# Print Stats\n",
    "print(\"\")\n",
    "print(\"###### STATS ######\")\n",
    "print(f\"Total calls: {calls}\")\n",
    "print(f\"Total number of queries: {queries}\")\n",
    "print(f\"Total number of Elsevier papers: {calls - not_elsevier}\")\n",
    "print(f\"Number of Non-Elsevier papers skipped: {not_elsevier}\")\n",
    "print(f\"Number of fetch failures: {fails}\")\n",
    "print(f\"Papers in storage: {len(elsevier_fulltexts)}\")\n",
    "print(f\"% of success: {successes_or_found / (calls-not_elsevier) * 100}%\")"
   ]
  },
  {
   "cell_type": "code",
   "execution_count": null,
   "metadata": {},
   "outputs": [],
   "source": []
  }
 ],
 "metadata": {
  "kernelspec": {
   "display_name": "Python 3",
   "language": "python",
   "name": "python3"
  },
  "language_info": {
   "codemirror_mode": {
    "name": "ipython",
    "version": 3
   },
   "file_extension": ".py",
   "mimetype": "text/x-python",
   "name": "python",
   "nbconvert_exporter": "python",
   "pygments_lexer": "ipython3",
   "version": "3.7.8"
  }
 },
 "nbformat": 4,
 "nbformat_minor": 4
}
