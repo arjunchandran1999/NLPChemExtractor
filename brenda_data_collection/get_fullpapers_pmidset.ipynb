{
 "cells": [
  {
   "cell_type": "markdown",
   "metadata": {},
   "source": [
    "# Getting Full Papers"
   ]
  },
  {
   "cell_type": "code",
   "execution_count": 9,
   "metadata": {},
   "outputs": [],
   "source": [
    "import urllib\n",
    "import requests\n",
    "import os\n",
    "import math\n",
    "import json\n",
    "import pandas as pd\n",
    "import xml.etree.ElementTree as ET\n",
    "import numpy as np\n",
    "\n",
    "from elsapy.elsclient import ElsClient\n",
    "from elsapy.elsprofile import ElsAuthor, ElsAffil\n",
    "from elsapy.elsdoc import FullDoc, AbsDoc\n",
    "from elsapy.elssearch import ElsSearch\n",
    "\n",
    "import igemutils as igem\n",
    "\n",
    "email = 'ivalexander13@berkeley.edu' # enter ur email pls"
   ]
  },
  {
   "cell_type": "markdown",
   "metadata": {},
   "source": [
    "## Create Subsets"
   ]
  },
  {
   "cell_type": "code",
   "execution_count": 10,
   "metadata": {},
   "outputs": [
    {
     "name": "stdout",
     "output_type": "stream",
     "text": [
      "Count of is_oa being [True]: 46843.\n",
      "Count of is_oa not matching [True]: 49375.\n"
     ]
    }
   ],
   "source": [
    "rxns_pmid = igem.get_json(\"./get_metadata_pmidset/unpaywall_metadata_pmids.json\")\n",
    "oa_subset, non_oa_subset = igem.generate_subset(rxns_pmid, 'is_oa', [True], return_complement=True)"
   ]
  },
  {
   "cell_type": "markdown",
   "metadata": {},
   "source": [
    "# 1. Elsevier!!"
   ]
  },
  {
   "cell_type": "markdown",
   "metadata": {},
   "source": [
    "## Splitting Data"
   ]
  },
  {
   "cell_type": "code",
   "execution_count": 11,
   "metadata": {},
   "outputs": [
    {
     "name": "stdout",
     "output_type": "stream",
     "text": [
      "Count of publisher being ['Elsevier', 'Elsevier BV']: 23267.\n",
      "Saved part 1.\n",
      "Saved part 2.\n",
      "Saved part 3.\n",
      "Saved part 4.\n",
      "Saved part 5.\n",
      "Saved part 6.\n",
      "All done!\n"
     ]
    }
   ],
   "source": [
    "n_splits = 6 # fill this in!!\n",
    "\n",
    "elsevier_subset = igem.generate_subset(non_oa_subset, 'publisher', ['Elsevier', 'Elsevier BV'])[0]\n",
    "igem.split_dict(elsevier_subset, n_splits, 'get_fullpapers/elsevier/elsevier_subset_split')"
   ]
  },
  {
   "cell_type": "markdown",
   "metadata": {},
   "source": [
    "## Run this in parallel!!\n",
    "\n",
    "```python get_elsevier.py <num>```\n",
    "\n",
    "Where <num> is the split# generated from the cell above.\n",
    "    \n",
    "For convenience: just paste these in (in separate terminals!)"
   ]
  },
  {
   "cell_type": "code",
   "execution_count": 12,
   "metadata": {},
   "outputs": [
    {
     "name": "stdout",
     "output_type": "stream",
     "text": [
      "python get_elsevier.py 1\n",
      "\n",
      "python get_elsevier.py 2\n",
      "\n",
      "python get_elsevier.py 3\n",
      "\n",
      "python get_elsevier.py 4\n",
      "\n",
      "python get_elsevier.py 5\n",
      "\n",
      "python get_elsevier.py 6\n",
      "\n"
     ]
    }
   ],
   "source": [
    "for n in range(1, n_splits + 1):\n",
    "    print(f\"python get_elsevier.py {n}\")\n",
    "    print(\"\")\n",
    "    "
   ]
  },
  {
   "cell_type": "markdown",
   "metadata": {},
   "source": [
    "# 2. Open Access"
   ]
  },
  {
   "cell_type": "markdown",
   "metadata": {},
   "source": [
    "## Splitting Data"
   ]
  },
  {
   "cell_type": "code",
   "execution_count": 13,
   "metadata": {},
   "outputs": [
    {
     "name": "stdout",
     "output_type": "stream",
     "text": [
      "Saved part 1.\n",
      "Saved part 2.\n",
      "Saved part 3.\n",
      "Saved part 4.\n",
      "Saved part 5.\n",
      "Saved part 6.\n",
      "All done!\n"
     ]
    }
   ],
   "source": [
    "n_splits = 6 # fill this in!!\n",
    "igem.split_dict(oa_subset, n_splits, 'get_fullpapers/oa/oa_subset_split')"
   ]
  },
  {
   "cell_type": "code",
   "execution_count": 14,
   "metadata": {},
   "outputs": [],
   "source": [
    "oa_split1 = igem.get_json('get_fullpapers/oa/oa_subset_split1.json')"
   ]
  },
  {
   "cell_type": "code",
   "execution_count": 15,
   "metadata": {},
   "outputs": [
    {
     "data": {
      "text/plain": [
       "7808"
      ]
     },
     "execution_count": 15,
     "metadata": {},
     "output_type": "execute_result"
    }
   ],
   "source": [
    "len(oa_split1)"
   ]
  },
  {
   "cell_type": "markdown",
   "metadata": {},
   "source": [
    "### Convert PDF to Text"
   ]
  },
  {
   "cell_type": "code",
   "execution_count": 16,
   "metadata": {},
   "outputs": [],
   "source": [
    "def get_bestlink(pmid: str, oa_subset: dict):\n",
    "    try:\n",
    "        out = oa_subset[pmid]['best_oa_location']['url_for_pdf']\n",
    "    except:\n",
    "        return False\n",
    "    return out"
   ]
  },
  {
   "cell_type": "code",
   "execution_count": 81,
   "metadata": {},
   "outputs": [
    {
     "data": {
      "text/plain": [
       "'https://www.pnas.org/content/pnas/110/3/954.full.pdf'"
      ]
     },
     "execution_count": 81,
     "metadata": {},
     "output_type": "execute_result"
    }
   ],
   "source": [
    "oa_split1['23277574']['best_oa_location']['url_for_pdf']"
   ]
  },
  {
   "cell_type": "code",
   "execution_count": 82,
   "metadata": {},
   "outputs": [],
   "source": [
    "try:\n",
    "    response = requests.get('https://www.pnas.org/content/pnas/110/3/954.full.pdf')    \n",
    "except (requests.exceptions.RequestException,\n",
    "        ConnectionResetError) as e:\n",
    "    print(\"AAAAA\")"
   ]
  },
  {
   "cell_type": "code",
   "execution_count": 83,
   "metadata": {},
   "outputs": [],
   "source": [
    "with open('get_fullpapers/oa/tmp.pdf', 'wb') as fd:\n",
    "    fd.write(response.content)"
   ]
  },
  {
   "cell_type": "code",
   "execution_count": 85,
   "metadata": {},
   "outputs": [
    {
     "name": "stdout",
     "output_type": "stream",
     "text": [
      "Getting text content for get_fullpapers/oa/tmp.pdf...\n",
      "Done.\n"
     ]
    }
   ],
   "source": [
    "import subprocess\n",
    "def pdf_to_text(filepath):\n",
    "    print('Getting text content for {}...'.format(filepath))\n",
    "    process = subprocess.Popen(['pdf2txt.py', filepath], stdout=subprocess.PIPE, stderr=subprocess.STDOUT)\n",
    "    stdout, stderr = process.communicate()\n",
    "\n",
    "    if process.returncode != 0 or stderr:\n",
    "        raise OSError('Executing the command for {} caused an error:\\nCode: {}\\nOutput: {}\\nError: {}'.format(filepath, process.returncode, stdout, stderr))\n",
    "    print('Done.')\n",
    "    return stdout.decode('utf-8')\n",
    "\n",
    "fulltext_str = pdf_to_text('get_fullpapers/oa/tmp.pdf')"
   ]
  },
  {
   "cell_type": "code",
   "execution_count": 86,
   "metadata": {
    "collapsed": true,
    "jupyter": {
     "outputs_hidden": true
    }
   },
   "outputs": [
    {
     "data": {
      "text/plain": [
       "'Mechanism of proton-coupled quinone reduction in Photosystem II  Keisuke Saitoa,b, A. William Rutherfordc, and Hiroshi Ishikitaa,b,1  aCareer-Path Promotion Unit for Young Life Scientists, Graduate School of Medicine, Kyoto University, Kyoto 606-8501, Japan; bJapan Science and Technology Agency, Precursory Research for Embryonic Science and Technology, Saitama 332-0012, Japan; and cMolecular Biosciences, Imperial College London, London SW7 2AZ, United Kingdom  Edited by Pierre A. Joliot, Institut de Biologie Physico-Chimique, Paris, France, and approved November 28, 2012 (received for review July 27, 2012)  Photosystem II uses light to drive water oxidation and plastoqui- none (PQ) reduction. PQ reduction involves two PQ cofactors, QA and QB, working in series. QA is a one-electron carrier, whereas QB undergoes sequential reduction and protonation to form QBH2. QBH2 exchanges with PQ from the pool in the membrane. Based on the atomic coordinates of the Photosystem II crystal structure, we analyzed the proton transfer (PT) energetics adopting a quan- tum mechanical/molecular mechanical approach. The potential-en- (cid:129)– occurs from the ergy proﬁle suggests that the initial PT to QB (cid:129)– via D1-Ser264. The second PT is protonated, D1-His252 to QB likely to occur from D1-His215 to QBH− via an H-bond with an energy proﬁle with a single well, resulting in the formation of QBH2 and the D1-His215 anion. The pathway for reprotonation of D1-His215– may involve bicarbonate, D1-Tyr246 and water in the QB site. Formate ligation to Fe2+ did not signiﬁcantly affect the protonation of reduced QB, suggesting that formate inhibits QBH2 release rather than its formation. The presence of carbonate rather than bicarbonate seems unlikely because the calculations showed that this greatly perturbed the potential of the nonheme iron, sta- (cid:129)–, a situation not en- bilizing the Fe3+ state in the presence of QB countered experimentally. H-bonding from D1-Tyr246 and D2- Tyr244 to the bicarbonate ligand of the nonheme iron contributes to the stability of the semiquinones. A detailed mechanistic model for QB reduction is presented. electron transfer gating | purple bacterial reaction center | low-barrier hydrogen bond | photoinhibition | tyrosine peroxide The core of the Photosystem II (PSII) reaction center is com-  posed of D1/D2, a heterodimer of protein subunits containing the cofactors involved in photochemical charge separation, qui- none reduction, and water oxidation. These reactions are driven by light absorption by pigments absorbing around 680 nm (P680). P680 is composed of four chlorophyll a (Chla) molecules, PD1/PD2, ChlD1/ChlD2, and two pheophytin a molecules (PheoD1/PheoD2). Excitation of P680 initially leads to the formation of a range of (cid:129)− state domi- charge separated states, with the ChlD1 nating. After a short time the secondary radical pair, [PD1/PD2](cid:129)+ (cid:129)−, is formed in nearly all centers. This state is stabilized by PheoD1 electron transfer to the ﬁrst quinone, QA, and by electron dona- (cid:129)+. TyrZ(cid:129) tion from a tyrosine residue, D1-Tyr160 (TyrZ), to PD1 then oxidizes the Mn4CaO5 cluster, which catalyzes the sub- (cid:129)− acts as a one-electron sequent water splitting reaction. QA/QA (cid:129)− and donating to redox couple, accepting electrons from PheoD1 the second quinone, QB, without undergoing protonation itself. In contrast, QB reduction involves two consecutive one-electron reduction reactions with a series of associated proton uptake reactions (reviewed in 1–6). QB is located near the nonheme Fe2+ and the ligand to the Fe2+, D1-His215, donates an H-bond to the QB carbonyl O atom that is nearer to the Fe complex (OQB(proximal)). The QB carbonyl O atom distal to the Fe complex (OQB(distal)) accepts an H-bond from D1- Ser264, which itself accepts an H-bond from D1-His252 (Fig. 1), which is located on the protein surface in contact with the aqueous (cid:129)− formation is linked to proton medium (5-9). It is known that QB uptake (10, 11) and comparisons with the structure of the bacterial reaction center led to the ﬁrst suggestion that the D1-His252 was the  (cid:129)+ PheoD1  (cid:129)− formation (12). group undergoing protonation in response to QB In theoretical studies, it has been proposed that proton uptake by D1-His252 causes reorientation of the hydroxyl group of D1-Ser264 (cid:129)−, fa- toward the distal QB carbonyl group and stabilizes QB cilitating the initial electron transfer (ET) from QA to QB (8). Similar quinone reduction reactions occur in photosynthetic reaction centers from purple bacteria, which are thought to share a common ancestor with PSII (4, 13, 14). Notably, D1-Ser264 and D1-His252 in PSII are equivalent to Ser-L223 and Asp- L213, respectively, in the reaction center from Rhodobacter sphaeroides. Purple bacterial reaction centers contain an addi- tional globular subunit, the H-subunit, that covers the quinone/ Fe surface. Consequently, longer proton pathways exist to allow protons from the medium to reach the QB binding site. The residues involved in this proton transfer (PT) pathway include Glu-L212, Asp-L213, Ser-L223, Asp-M17, and several residues of the H-subunit (15, 16). Glu-L212 is protonated in response to (cid:129)− on the ﬁrst turnover. When Asp-L213 is the formation of QB protonated (via the same proton pathway), reorientation of the Ser-L223 hydroxyl group occurs and an H-bond forms between (cid:129)− to form Ser-L223 and OQB(distal) (17–20). Protonation of QB QBH(cid:129) occurs at OQB(distal) via Ser-L223 and Asp-L213 upon (cid:129)− state. Electron transfer then takes formation of the QA place leading to formation of QBH−, which then undergoes protonation at OQB(proximal) forming QBH2, with the proton from Glu-L212 (15). For PSII the current state of knowledge lacks these details, but several of the reactions are considered to be similar (reviewed in 4–6, 21). There are, however, several obvi- ous structural differences between the two systems that must result in mechanistic differences. Glu-L212, for example, which appears to be a prerequisite for the second protonation step in purple bacterial reaction centers (RCs) (15, 16), is replaced with Ala in PSII. Another potentially important difference is the presence of bicarbonate in PSII instead of the Glu-M234 in purple bacterial RCs. This exchangeable carboxylic acid has been linked to several phenomena speciﬁc to PSII, notably (i) slowed electron transfer when bicarbonate is replaced with other car- boxylic acids, (ii) a speciﬁc EPR signal from the semiquinone–iron complex, and (iii) redox activity of the nonheme ion (4–6, 21). Here, we investigated formation of QBH(cid:129) and QBH2 in the PSII protein environment, by adopting a large-scale quantum mechanical/molecular mechanical (QM/MM) approach based on the crystal structure with resolution at 1.9 Å (9).  (cid:129)− QB  Results and Discussion (cid:129)– to QBH(cid:129) via D1-His215 and First Protonation Step: Conversion of QB (cid:129)– to QBH(cid:129) D1-Ser264. To elucidate how the conversion of QB occurs, we analyzed the potential-energy proﬁles of the two  Author contributions: A.W.R. and H.I. designed research; K.S. and H.I. performed research; K.S., A.W.R., and H.I. analyzed data; and A.W.R. and H.I. wrote the paper.  The authors declare no conﬂict of interest.  This article is a PNAS Direct Submission.  Freely available online through the PNAS open access option. 1To whom correspondence should be addressed. E-mail: hiro@cp.kyoto-u.ac.jp.  This article contains supporting information online at www.pnas.org/lookup/suppl/doi:10. 1073/pnas.1212957110/-/DCSupplemental  954–959 | PNAS |  January 15, 2013 | vol. 110 | no. 3  www.pnas.org/cgi/doi/10.1073/pnas.1212957110     0 2 0 2    ,  7 2    r e b o t c O n o       t s e u g   y b   d e d a o n w o D  l  \\x0cthe presence of an unusually short H-bond indicates that PT be- tween the donor and acceptor moieties is about to occur. In contrast, the potential-energy proﬁle of the OQB(proximal). . .H– NδD1-His215 (Fig. 2) resembles that of a standard asymmetric double-well H-bond (22) (Fig. S1), suggesting that the ﬁrst PT from D1-His215 to OQB(proximal) is an energetically uphill process. This is primarily because proton release from the singly pro- tonated (neutral) His (pKa ∼14 for imidazole) (23) is unfavorable, unlike the doubly protonated (positively charged) His, for which the pKa ∼7. Although the pKa for neutral His is expected to be lowered to some extent by the positive charge and environment around the iron (see below), it is still likely to be relatively high and thus unfavorable on this step.  The potential-energy proﬁles in Fig. 2 indicate that the initial PT (cid:129)– is present compared with the occurs more favorably when QA neutral QA state. This is similar to the situation occurring in the (cid:129)– is unprotonated on the ﬁrst ﬂash purple bacterial RC, where QB (cid:129)–] state (cid:129)– QB and the QB is formed, before the second electron transfer step (15, 16).  (cid:129)– to QBH(cid:129) step only occurs when the [QA  Overall, the results suggest the following model for the ﬁrst (cid:129)– to QBH(cid:129) primarily occurs protonation: Protonation of QB at OQB(distal), this occurs as a result of concerted PT from D1-His252(H+) to OQB(distal) via D1-Ser264, and this induces reorientation of the D1-Ser264 hydroxyl group so that it can act as a H-bond acceptor from the QBH(cid:129). The preferential occur- rence of the ﬁrst protonation at OQB(distal) over OQB(proximal) is consistent with the QB protonation mechanism in purple bacte- rial RCs (15, 16, 24).  Second PT and an Unusually Short H-Bond Distance Between QBH– and D1-His215. Because OQB(distal) is protonated upon QBH(cid:129) forma- tion (Fig. 2), the second protonation—i.e., the conversion of QBH− to QBH2—must occur at OQB(proximal), which is H-bonded by Nδ of D1-His215 (Fig. 1). The QM/MM optimized H-bond distance between OQB(proximal) of QBH– and Nδ of D1-His215  D N A  S C I S Y H P O I B  Y G O L O I B  L A N O I T A T U P M O C  Fig. 1. Changes in the H-bond network geometry of QB in response to changes in the protonation/redox state. O and N atoms are depicted as red and blue spheres, respectively. Only the H atoms involved in H-bonds or protonation sites are depicted as cyan spheres.  (cid:129)–, OQB(distal). . .H–OD1-Ser264 and OQB(proximal). . .H– H-bonds of QB NδD1-His215. Because in previous electrostatic calculations, (cid:129)– state D1-His252 became protonated upon formation of the QB (8), we also assumed the presence of protonated D1-His252 and (cid:129)– state in the present QM/MM calculation. In general, the QB (cid:129)– state, the serine is unlikely to deprotonate. However, in the QB potential-energy proﬁle indicates that a PT from D1-Ser264 to OQB(distal) occurred very easily in an energetically downhill pro- cess (Fig. 2). This reaction was accompanied by a concerted PT from protonated D1-His252 to D1-Ser264, resulting in the formation of QB(distal)H(cid:129), deprotonated (neutral) D1-His252, and reoriented D1-Ser264 (Fig. 1, ﬁrst and second panels). The QM/MM-optimized geometry indicates that the two H-bonds of D1-Ser264, OQB(distal). . .H–OD1-Ser264 (2.48 Å) and OD1-Ser264– H. . .NδD1-His252. (2.51 Å), are unusually short, especially in the (cid:129)– state (Table 1). The two short H-bonds were only present QB before the initial PT occurred, but they lengthened (to 2.73 and 2.67 Å, respectively) immediately after PT had occurred. Therefore,  Fig. 2. Potential-energy proﬁles of the H-bond donor–acceptor pairs: (Right) H-bond between D1- Ser264 and the distal QB carbonyl (purple, in the neutral QA state, and blue, in the reduced QA state, curves); (Left) H-bond between D1-His215 and the proximal QB carbonyl (red curves). At each point, all of the atomic coordinates in the QM region were fully relaxed (i.e., not ﬁxed). Arrows indicate the directions of PT.  Saito et al.  PNAS |  January 15, 2013 | vol. 110 | no. 3 | 955     0 2 0 2    ,  7 2    r e b o t c O n o       t s e u g   y b   d e d a o n w o D  l  \\x0cTable 1. H-bond distances in optimized geometries in the PSII protein environment near QB systems (in Å)  QB state  Crystal  D1-His252 state D1-His215 state OQB(prox.)...H...NδH215  OQB(prox.)...H H. . .NδH215  2.47  OQB(dist.)...H...OS264  2.69  OQB(dist.)...H H...OS264  OS264...H...NeH252  OS264...H NeH252. . .H  Rmsd  2.77  QB  prot. neut. 2.77 1.76 1.02 2.61 1.67 0.98 2.58 1.55 1.07  (cid:129)–  QB  prot. neut. 2.68 1.65 1.04 2.48 1.47 1.03 2.51 1.41 1.12  QM/MM  QBH–  neut. neut. 2.47a 1.34 1.15 2.84 0.97 2.07 2.71 0.99 1.73  QBH2  neut. anion 2.55 1.04 1.53 2.84 0.97 2.05 2.70 0.99 1.72  QBH(cid:129)  neut. neut. 2.67 1.65 1.03 2.73 0.98 1.92 2.67 0.99 1.68  QB  neut. neut. 2.77 1.77 1.02 2.73 1.78 0.97 2.75 1.74 1.03  (cid:129)–  QB  neut. neut. 2.62 1.58 1.05 2.63 1.64 1.00 2.70 1.67 1.04  QB, S264, H252 0.30 Entire QM region 0.27 H-bond donor-acceptor distances of <∼2.5 Å are indicated in bold. H-bond donor-acceptor distances are shaded in gray. Crystal = 1.9-Å structure (9) (PDB entry 3ARC). anion, doubly deprotonated (negatively charged) His; prot., doubly protonated (positively charged) His; neut., singly protonated (either at Nδ or Ne) His. a2.54 Å when the bicarbonate (HCO3  –) ligand was replaced with carbonate (CO3  0.39 0.27  0.22 0.18  0.37 0.27  0.37 0.27  0.22 0.18  0.21 0.17  2–).  was found to be unusually short (2.47 Å) in the QBH– state (Table 1).  Intriguingly, this distance is identical to that in the 1.9 Å structural model, PSII monomer unit “A” of the PSII complexes (9). The corresponding OQB(proximal)–NδD1-His215 distances were (cid:129)– state found to be 2.77 Å in the QB state and 2.68 Å in the QB (Table 1), both being signiﬁcantly longer compared with that in the QBH– state. In addition, the corresponding QA-side distance (OQA(proximal)–NδD2-His214) was 2.78 Å in the 1.9 Å structure (9) and ∼2.8–2.9 Å in the purple bacterial RC (16). Given that the QB geometry was less well deﬁned than QA geometry in the 1.9 Å structure (9), the signiﬁcance of the short OQB(proximal)–NδD1-His215 distance (2.47 Å) distance should be treated with caution. Fur- thermore, the QBH– state is expected to be a short-lived in- termediate and not a state that would be present and in PSII under normal circumstances. Nevertheless, more discussion of the possible redox states of QB in the crystal structure is given in the SI Text. In a typical H-bond with an O–O distance longer than ∼2.6 Å, an H-atom is located near the donor moiety owing to the larger pKa value of the donor moiety relative to the acceptor moiety (having an asymmetric double-well potential H-bond) (22) (Fig. S1). On the other hand, according to the classiﬁcation of H- bonds by Jeffrey (25) or Frey (26), short H-bonds with O–O distances of 2.4–2.5 Å can be classiﬁed as single-well (ionic) H- bonds (22) (Fig. S1). Because O–N distances are generally greater than O–O distances, the OQB(proximal)–NδD1-His215 of 2.47 Å is an unusually short H-bond and may possess a single-well potential. Remarkably, the calculated potential-energy proﬁle for the OQB(proximal)–NδD1-His215 in the QBH– state resembled that of a barrierless single-well (ionic) H-bond, suggesting that the second PT can occur isoenergetically at OQB(proximal) (Fig. 2). The signiﬁcantly elongated H–N bond of D1-His215 (1.15 Å) in the QBH– state implies that further migration of an H atom toward the acceptor OQB(proximal) moiety (i.e., PT) can occur easily. Indeed, the single-well potential obtained for OQB(proximal)– NδD1-His215 is symmetric (Fig. 2), implying that the pKa difference (27) between D1-His215 deprotonation and QBH– protonation is close to zero.  The pKa for the QH– to QH2 protonation for plastoquinone (PQ) is expected to be similar to that measured for ubiquinone in aqueous solution—i.e., 10.7, signiﬁcantly higher than the pKa of 4.9 for the protonation of the semiquinone, Q(cid:129)– to QH(cid:129) (18, 28). The pKa for deprotonation of a neutral His is expected to be  similar to that for imidazole—i.e., ∼14 (23). In PSII, however, the ligation of D1-His215 to the positively charged Fe2+ should lower the pKa of neutral D1-His215. The pKa of the neutral His ligand to Fe2+ in the Rieske (2Fe-2S) cluster has been measured to be ∼12.5 rather than ∼14 (29, 30). The ligand environment of the Fe2+ in PSII is more positively charged than that in the Rieske cluster; thus, the pKa of neutral D1-His215 deprotonation is expected to be lower than ∼12.5. In agreement with this, FTIR studies have indicated that deprotonation of D1-His215 occurs in response to pH changes (31). Overall then the literature suggests that the pKa value of D1-His215 is likely to be close to that for the QBH– to QBH2 protonation, in accordance with the single-well potential obtained here (Fig. 2). For further details, see Table S1.  It has been proposed that Glu-L212 in purple bacterial RC from R. sphaeroides provides a proton to QBH– (15, 32, 33). This residue is 5.7 Å away from OQB(proximal) (34), and it is not clear how this last protonation reaction occurs. One possibility is that the QBH– state is also protonated by the Fe-ligated imidazole (His-L190) and that Glu-L212 provides a proton to the depro- tonated His residue (His-L190) facilitating the release of QBH2 from the site. Such a scenario has been discussed (and dis- favored) previously (15). Ionizable residues corresponding to Glu-L212 are absent near QB in PSII. PSII may not require the corresponding residue, as the quinones are more exposed to the aqueous phase. Doubly deprotonated D1-His215 may be reprotonated via the bicarbonate ligand; indeed, a role for the bicarbonate in protonation of QB has been considered for many years (21). The distance between OQB(proximal) and Obicarbonate is 4.8 Å (9). Despite this long distance, rapid PT may be possible if water intermediate(s) were involved. In purple bacteria, water intermediates may also mediate PT from Glu-L212 to QBH–, perhaps via the His-L190 anion.  H-Bond Pattern of the Tyrosine Residue Pair near the Bicarbonate Ligand. FTIR studies by Takahashi et al. have suggested that only one of the two tyrosine residues, either D1-Tyr246 or D2- Tyr244, provides an H-bond to bicarbonate (35). We investigated the inﬂuence of the H-bond pattern of these tyrosine residues on (cid:129)–. To do this, we redeﬁned the QM the stability of QA region such that it included QA, the nonheme Fe and its ligands, QB, D1-Tyr246 and D2-Tyr244. Note that in the calculations, in the absence of the PSII protein environment (i.e., in vacuum),  (cid:129)– and QB  956 | www.pnas.org/cgi/doi/10.1073/pnas.1212957110  Saito et al.     0 2 0 2    ,  7 2    r e b o t c O n o       t s e u g   y b   d e d a o n w o D  l  \\x0c(cid:129)– favored orientation), QB  When the tyrosine hydroxyl groups were oriented toward QA (cid:129)– in the presence of deprotonated (neutral) D1-His252, QA (cid:129)– favored orientation) was more pronounced formation (QA ([QA]–0.50 [Fe(His)4(HCO3)–]+0.77 [QB]–0.22) with values of QA/ QB = 50/22 for electron distribution and 69/33 for spin distri- bution (Table S2; Fig. 3). On the other hand, when the tyrosine hydroxyl groups were oriented toward QB in the presence of (cid:129)– forma- protonated D1-His252 (QB tion was high ([QA]+0.04 [Fe(His)4(HCO3)–]+0.80 [QB]–0.84; QA/ QB = 0/84 for electron distribution and 8/98 for spin distribution) (cid:129)– formation was predominantly inﬂuenced (Table S2; Fig. 3). QB by the protonation state of D1-His252 and orientation of D1- Ser264, as suggested in previous theoretical studies (8). On the other hand, donation of an H-bond from D1-Tyr246 to bicarbonate (cid:129)– favored orientation) appears to play an important role (i.e., QA (cid:129)–, because D1-His252/D1-Ser264- particularly in the stability of QA like residues are absent near QA. The orientation of the tyrosines may well be related to communication between the quinone sites via the H-bonding network of bicarbonate, gating, and/or pro- tonation reactions during electron transfer (Fig. 3).  electrons were almost evenly distributed over QA and QB owing to the structural symmetry (Table S2).  The two calculated conformations shown in Fig. 3 differ not only in terms of the orientations of D1-Tyr246 and D2-Tyr244 but also in terms of the orientation of bicarbonate, implying a link between bicarbonate and the quinone redox states as suggested by FTIR studies (31, 35). The two tyrosine residues are located in the D-de loop region (D1-225–250 and D2-224–248), (cid:129)– state which is believed to be crucial to the stability of the QA (36). The corresponding loop region is absent in the purple bacterial RC. Thus, the semiquinone stabilization mechanism, involving D1-Tyr246, D2-Tyr244, bicarbonate, and the rear- rangement of the H-bond network, as suggested here, is only relevant to PSII. Recently it was suggested that the ligation of the Fe2+ by bi- carbonate changes during electron transfer, going from bidentate (cid:129)– and returning to the to monodentate upon formation of QA bidentate form upon electron transfer to QB (37). In ref. 37, a monodentate ligand yielded two signiﬁcantly different Fe– (cid:129)– formation. Be- Obicarbonate distances of 2.3 and 3.2 Å for QB cause the atomic coordinates were unavailable, we could not evaluate the speciﬁc models discussed in ref. 37, however we addressed the same question in our calculations using the most recent structure (9). We could not observe such a dramatic (∼1 Å) change of the Fe–Obicarbonate bond. Our calculations showed that bicarbonate was clearly a bidentate ligand in both conformers irrespective of the reduction state of the two qui- nones: the two Fe–Obicarbonate distances were 2.21 and 2.29 Å (cid:129)– and 2.27 and 2.32 Å in the presence of in the presence of QA (cid:129)– (cid:129)– (Fig. 3). We conclude that the formation of stable QA QB  D N A  S C I S Y H P O I B  Y G O L O I B  L A N O I T A T U P M O C  (cid:129)– states do not result in dramatic differences in the bi- or QB carbonate ligation such as those proposed by Chernev et al. (37). It seems possible that the changes in the environment of the nonheme Fe2+ reported by Chernev et al. using X-ray ab- sorption spectroscopy could have resulted from the changes in the H-bond network associated with D1-Tyr246, D2-Tyr244, and the bicarbonate (Fig. 3). These results appear to ﬁt better with FTIR studies by Takahashi et al. (35). A further argument against electron transfer-induced changes in the ligation of the nonheme Fe2+ comes from EPR studies. The EPR spectra (cid:129)– Fe2+ formed at room and cryogenic temperature from QA (cid:129)– Fe2+ are all essentially the same (38, 39). A differ- and QB ence in the number of ligands to the Fe would be expected to result in more marked differences in these spectra.  Replacement of the Bicarbonate Ligand. Formate. The depletion of (bi)carbonate or its substitution by formate results in a slowing of quinone reduction (6, 21). Recent EPR studies have suggested that formate inhibits release of QBH2 (39). The PT mechanisms reported here suggest that the efﬁcient release of QBH2 requires the reprotonation of the anionic D1-His215. This pro- cess may involve bicarbonate, forming carbonate and releasing a proton to anionic D1-His215, as suggested here and earlier (21, 31). When bicarbonate is replaced with formate, the potential- energy proﬁle indicates that the second protonation remains es- sentially unchanged and can occur isoenergetically at OQB(proximal) (Fig. S2). Note that the calculated OQB(proximal)–NδD1-His215 distance was 2.49 Å in the QBH– state with the formate ligand, which is essentially the same as that with bicarbonate ligand (2.47 Å, Table 1). In the EPR work, a new EPR signal was reported from the formate-inhibited enzyme when reduced by three (cid:129)– Fe2+ in the presence of a two- electrons, attributed to QA electron reduced form of QB (39). In light of the present work, (cid:129)– Fe2+ QBH2 with the we suggest that this could correspond to QA anionic D1-His215. Carbonate. Recently, the characteristic g-value of ∼1.9 for the semiquinone and nonheme Fe complex in EPR spectroscopy (40) was reinvestigated in theoretical simulations. On the basis of the simulations, it was proposed that the native ligand to the nonheme –) (41). Fe was carbonate (CO3 In contrast, FTIR studies suggested that the bicarbonate ligand does not deprotonate even upon oxidation of the nonheme Fe (42). When the bicarbonate was substituted with fully ionized carbonate in our calculations, the QBH– to QBH2 protonation process became slightly energetically uphill and the OQB(proximal)– NδD1-His215 distance lengthened to 2.54 Å in the QBH– state (Table 1 and Fig. S2). These results suggest that the pKa for D1-His215 deprotonation was upshifted upon replacement of bicarbonate with carbonate and that the ligand plays a role in affecting the pKa of D1-His215, as proposed previously (31, 41). We also calculated the charge distribution in the PSII protein environment with carbonate (QM region: QA, the nonheme Fe, the His and carbonate ligands, QB, D1-Tyr246, and D2-Tyr244). Starting with carbonate-ligated Fe2+ and two neutral quinones, the QM/MM calculations resulted in the oxidized Fe3+, a reduced quinone, and a neutral quinone (Table S3). QM/MM calculations for the carbonate-ligated Fe2+, one reduced quinone, and one neutral quinone resulted in oxidized Fe3+ and two reduced qui- nones. These results suggest that the fully ionized carbonate ligand forces Fe2+ to release an electron to one of the quinones. This does not reﬂect experimental ﬁndings, so these results argue against carbonate being a stable ligand to the iron and indicate another explanation must be found for the characteristic EPR spectra of the semiquinone-iron signals seen in PSII. More discussion of the possible carbonate ligand is given in the SI Text.  2–) rather than bicarbonate (HCO3  Fig. 3. H-bond arrangements of D1-Tyr246, D2-Tyr244, and the bicarbonate (cid:129)– (H atoms in cyan ligand of the nonheme Fe complex upon formation of QA (cid:129)– (H atoms in pink and C atoms in yellow). For and C atoms in blue) or QB clarity, D1-His272 and D2-His268, which were also included in the QM region, are not shown in the ﬁgure. Atomic coordinates are provided in Dataset S1.  Tyrosine Peroxide at D1-Tyr246, Possible Link with Photoinhibition, and a Water-Mediated H-Bond Network. In both of the PSII monomer units of the 1.9-Å structure, an elongation of density is clearly seen near the hydroxyl O atom of D1-Tyr246. In QM/MM calculations, atomic coordinates of a tyrosine peroxide (Tyr-OOH)  Saito et al.  PNAS |  January 15, 2013 | vol. 110 | no. 3 | 957     0 2 0 2    ,  7 2    r e b o t c O n o       t s e u g   y b   d e d a o n w o D  l  \\x0cFig. 4. (Upper) The electron density map in the neighborhood of D1-Tyr246. QM/MM optimized ge- ometry of D1-Tyr246 is shown as (Left) Tyr-OOH or (Right) Tyr-OH and H2O in the presence of QB. (Lower) H-bond network (red dotted lines) linking bi- carbonate to D1-His215. D1-Tyr246 was modeled as Tyr-OH. (Left) A single water molecule (red cross) is required to establish the H-bond network with His215 in the presence of QBH2, (Right) whereas two water molecules are required in the absence of QBH2.  form (rather than a tyrosine with a water molecule) ﬁtted to the density (Fig. 4). Root-mean-square deviation of the optimized coordinates for Tyr-OOH with respect to those in the 1.9-Å structure is small (0.123 Å), even slightly smaller than that for Tyr- OH (0.149 Å). A Tyr-OOH at this position may be relevant to the function of PSII and is particularly intriguing in light of the lit- erature: (i) Under strong light, the nonheme Fe2+ is thought to be involved in the generation of hydroxyl radicals (OH(cid:129)) via iron- peroxo intermediates (43, 44) and Tyr-OOH can be generated in the presence of OH(cid:129) (45). (ii) The D-de loop (D1-238–249 including D1-Tyr246) was proposed to be the ﬁrst target for cleavage during photodegradation of D1 protein (46) and OH(cid:129) may trigger this process (44). (iii) Spectroscopic studies suggest that the nonheme Fe undergoes an increase in its redox potential and a minor modiﬁcation of the bicarbonate binding site during photodamage (47). These and other observations in the litera- ture could be linked to Tyr-OOH formation.  Although it is possible that D1-Tyr246 may become a peroxide under photoinhibitory conditions, its presence in the crystal structure could represent OH(cid:129) generated by the X-ray beam (48). The absence of the peroxide-like density for its counterpart D2- Tyr244 and the presence in both monomers in the crystal struc- ture suggests that peroxide generation speciﬁcally occurs at D1- Tyr246. The long distances (4.8/6.5 Å) between bicarbonate and D1-His215/QBH– imply that a direct PT would be kinetically un- favorable. QM/MM optimized geometries indicate that inclusion of water completes an H-bond network from bicarbonate to D1- His215 (Fig. 4). There is, however, no resolved water molecule in this region in the 1.9 Å structure (9). We speculate that the proposed Tyr-OOH at D1-Tyr246 could have arisen from Tyr-OH and a bridging water molecule. Photolytic-generation of Tyr-OOH at D1-Tyr246 is expected to remove the water molecule and dis- connect the PT path between bicarbonate and D1-His215. The presence of Tyr-OOH speciﬁcally at D1-Tyr246 but its absence at its counterpart D2-Tyr244 on the QA side ﬁts with the expectation that protons are excluded from the QA side, as it functions as a one-electron couple that does not show pH dependence (49).  Working Model. Based on the ﬁndings reported here and the lit- erature discussed above, we are able to propose a mechanism for quinone reduction in PSII: (i) Protonation of D1-His252 occurs (cid:129)–. (ii) The upon electron transfer from QA (cid:129)–, formed on the second turnover, triggers pro- presence of QA (cid:129)– from D1-Ser264 with the concerted arrival tonation of the QB on the serine of a proton from the protonated D1-His252, leading to neutral histidine formation. (iii) As in the purple bacterial reaction center, QBH(cid:129) may be transiently formed be- (cid:129)–, forming QBH–. (iv) fore the second electron arrives from QA  (cid:129)– to QB forming QB  QBH– has a single-well H-bond to the D1-His215 (ligand to the nonheme iron) and this favors the PT forming QBH2, which remains H-bonded to the D1-His215 anion. (v) The release of QBH2 is facilitated by reprotonation of D1-His215 anion and this may occur through water in the QB-site, which is part of an H- bonded network with the bicarbonate (a ligand to the Fe2+) and groups exposed to the aqueous medium. (vi) The orientation of the tyrosine hydroxyl groups (e.g., D1-Tyr246) contributes to stabilizing reduced states of quinones. D1-Tyr246 may be in- volved in the H-bond network involving bicarbonate, water, D1- His215, and QBH2. This working model should allow speciﬁc features to be tested by future experimentation.  Computational Procedures Coordinates and Atomic Partial Charges. The atomic coordinates of PSII were taken from the X-ray structure of PSII monomer unit “A” of the PSII com- plexes from Thermosynechococcus vulcanus at a 1.9-Å resolution (PDB code, 3ARC) (9). Hydrogen atoms were generated and energetically optimized with CHARMM (50), whereas the positions of all nonhydrogen atoms were ﬁxed, and all titratable groups were kept in their standard protonation states (i.e., acidic groups were ionized and basic groups were protonated). For the QM/MM calculations, we added additional counter-ions to neutralize the entire system. Atomic partial charges of the amino acids were adopted from the all-atom CHARMM22 (51) parameter set. The atomic charges of Chla, Pheoa, and quinones were taken from our previous studies on PSII (52). We considered the Mn4CaO5 cluster as the (O4)2−(O5)H− model (53) in the S1 state (see ref. 53 for the atomic coordinates and charges).  QM/MM Calculations. We used the electrostatic embedding QM/MM scheme, in which electrostatic and steric effects created by a protein environment were explicitly considered, and we used the Qsite (54) program code as used in previous studies (52). Owing to the large system size of PSII, we consid- ered residues and cofactors in only the D1 and D2 subunits as the protein environment. We used the unrestricted density functional theory method with the B3LYP functional and LACVP**+ basis sets. To analyze the effects of the H-bond pattern near the bicarbonate-tyrosine moiety, the QM re- gion was deﬁned as (QA, QB, bicarbonate, Fe, D1-His215, D1-His272, D2- His214, D2-His268, D1-Tyr246, and D2-Tyr244), whereas other protein units and all cofactors were approximated by the MM force ﬁeld. To analyze the H-bond potential energy proﬁles, the QM region was redeﬁned as (QB, D1- His252, D1-Ser264, bicarbonate, Fe, D1-His215, D1-His272, D2-His214, and D2-His268). The tail of PQ was replaced with a methyl group at C11. As in a previous study (37), we assumed a high-spin state (S = 2) of Fe2+ and set the spin multiplicity of the system to S = 2 in calculations for QB, QBH–, and (cid:129)–, QBH(cid:129), and [QAQB] (cid:129)–. The geometries were re- QBH2, and S = 5/2 for QB ﬁned by constrained QM/MM optimization. Speciﬁcally, the coordinates of the heavy atoms in the surrounding MM region were ﬁxed to the original X-ray coordinates, whereas those of the H atoms in the MM region were optimized using the OPLS2005 force ﬁeld. All of the atomic coordinates  958 | www.pnas.org/cgi/doi/10.1073/pnas.1212957110  Saito et al.     0 2 0 2    ,  7 2    r e b o t c O n o       t s e u g   y b   d e d a o n w o D  l  \\x0cD N A  S C I S Y H P O I B  Y G O L O I B  L A N O I T A T U P M O C  (except for the C11 atom of PQs) in the QM region were fully relaxed (i.e., not ﬁxed) in the QM/MM calculation.  The potential-energy proﬁle of the H-bond was obtained as follows: First, we prepared for the QM/MM optimized geometry without constraints, and we took the resulting geometry as the initial geometry. The H atom was then moved from the H-bond donor atom (Odonor) to the acceptor atom (Oacceptor) by 0.05 Å, after which the geometry was optimized by constraining the Odonor–H and H– Oacceptor distances, and the energy of the resulting geometry was calculated. This procedure was repeated until the H atom reached the Oacceptor atom.  ACKNOWLEDGMENTS. We thank James Murray of Imperial College for useful discussion. This research was supported by the Japan Science and Technology Agency, Precursory Research for Embryonic Science and Technol- ogy program (K.S. and H.I.); Grant-in-Aid for Scientiﬁc Research from the Ministry of Education, Culture, Sports, Science and Technology (MEXT) of Japan [22740276 (K.S.)]; Special Coordination Fund for Promoting Science and Technology of MEXT (H.I.); Takeda Science Foundation (H.I.); Kyoto University Step-Up Grant-in-Aid for young scientists (H.I.); and a Grant for Basic Science Research Projects from the Sumitomo Foundation (H.I.). A.W.R. is the recipient of the Wolfson Merit Award of the Royal Society.  1. Diner BA, Rappaport F (2002) Structure, dynamics, and energetics of the primary photochemistry of photosystem II of oxygenic photosynthesis. Annu Rev Plant Biol 53: 551–580.  2. Renger G, Renger T (2008) Photosystem II: The machinery of photosynthetic water  splitting. Photosynth Res 98(1-3):53–80.  3. Holzwarth AR (2008) Ultrafast primary reactions in the photosystems of oxygen evolving organisms. Ultrashort Laser Pulses in Biology and Medicine, Biological and Medical Physics, Biomedical Engineering, eds Braun M, Gilch P, Zinth W (Springer, Dordrecht, The Netherlands), pp 141–164.  4. Cardona T, Sedoud A, Cox N, Rutherford AW (2012) Charge separation in photosystem II:  A comparative and evolutionary overview. Biochim Biophys Acta 1817(1):26–43.  5. Müh F, Glöckner C, Hellmich J, Zouni A (2012) Light-induced quinone reduction in  photosystem II. Biochim Biophys Acta 1817(1):44–65.  6. Petrouleas V, Crofts AR (2005) The iron-quinone acceptor complex. Photosystem II: The Light-Driven Water: Plastoquinone Oxidoreductase, eds Wydrzynski T, Satoh K (Springer, Dordrecht, The Netherlands), pp 177–206.  7. Kawakami K, Umena Y, Kamiya N, Shen J-R (2011) Structure of the catalytic, inorganic core of oxygen-evolving photosystem II at 1.9 Å resolution. J Photochem Photobiol B 104(1-2):9–18.  8. Ishikita H, Knapp E-W (2005) Control of quinone redox potentials in photosystem II:  Electron transfer and photoprotection. J Am Chem Soc 127(42):14714–14720.  9. Umena Y, Kawakami K, Shen J-R, Kamiya N (2011) Crystal structure of oxygen-  evolving photosystem II at a resolution of 1.9 Å. Nature 473(7345):55–60.  10. Robinson HH, Crofts AR (1984) Kinetics of proton uptake and the oxidation-reduction reactions of the quinone acceptor complex of photosystem_II from pea chloroplasts. Advances in Photosynthesis Research, ed Sybesma C (Martinus Nijhoff/Dr. W. Junk Publishers, The Hague, The Netherlands), Vol 1, pp 477–480.  11. Rutherford AW, Renger G, Koike H, Inoue Y (1984) Thermoluminescence as a probe of photosystem II. The redox and protonation states of the secondary acceptor quinone and the O2-evolving enzyme. Biochim Biophys Acta 767(3):548–556.  12. Crofts AR, et al. (1987) Catalytic sites for reduction and oxidation of quinones. Cytochrome Systems: Molecular Biology and Bioenergetics, eds Papa S, Chance B, Ernster L (Plenum, New York), pp 617–624.  13. Michel H, Deisenhofer J (1988) Relevance of the photosynthetic reaction center from  purple bacteria to the structure of photosystem II. Biochemistry 27:1–7.  14. Rutherford AW, Faller P (2003) Photosystem II: Evolutionary perspectives. Philos Trans  R Soc Lond B Biol Sci 358(1429):245–253.  15. Wraight CA (2004) Proton and electron transfer in the acceptor quinone complex of photosynthetic reaction centers from Rhodobacter sphaeroides. Front Biosci 9: 309–337.  16. Okamura MY, Paddock ML, Graige MS, Feher G (2000) Proton and electron transfer in  bacterial reaction centers. Biochim Biophys Acta 1458(1):148–163.  17. Ishikita H, Knapp E-W (2004) Variation of Ser-L223 hydrogen bonding with the QB redox state in reaction centers from Rhodobacter sphaeroides. J Am Chem Soc 126 (25):8059–8064.  18. Zhu Z, Gunner MR (2005) Energetics of quinone-dependent electron and proton transfers in Rhodobacter sphaeroides photosynthetic reaction centers. Biochemistry 44(1):82–96.  19. Paddock ML, et al. (2007) ENDOR spectroscopy reveals light induced movement of the –(cid:129)) in reaction centers from  H-bond from Ser-L223 upon forming the semiquinone (QB Rhodobacter sphaeroides. Biochemistry 46(28):8234–8243.  20. Martin E, et al. (2011) Hydrogen bonding and spin density distribution in the QB semiquinone of bacterial reaction centers and comparison with the QA site. J Am Chem Soc 133(14):5525–5537.  21. Shevela D, Eaton-Rye JJ, Shen J-R, Govindjee (2012) Photosystem II and the unique role  of bicarbonate: A historical perspective. Biochim Biophys Acta 1817(8):1134–1151.  29. Zu Y, et al. (2003) Reduction potentials of Rieske clusters: Importance of the coupling between oxidation state and histidine protonation state. Biochemistry 42(42): 12400–12408.  30. Hsueh KL, Westler WM, Markley JL (2010) NMR investigations of the Rieske protein from Thermus thermophilus support a coupled proton and electron transfer mech- anism. J Am Chem Soc 132(23):7908–7918.  31. Berthomieu C, Hienerwadel R (2001) Iron coordination in photosystem II: Interaction between bicarbonate and the QB pocket studied by Fourier transform infrared spectroscopy. Biochemistry 40(13):4044–4052.  32. Paddock ML, McPherson PH, Feher G, Okamura MY (1990) Pathway of proton transfer in bacterial reaction centers: Replacement of serine-L223 by alanine inhibits electron and proton transfers associated with reduction of quinone to dihydroquinone. Proc Natl Acad Sci USA 87(17):6803–6807.  33. Kálmán L, Maróti P (1994) Stabilization of reduced primary quinone by proton uptake  in reaction centers of Rhodobacter sphaeroides. Biochemistry 33(31):9237–9244.  34. Stowell MHB, et al. (1997) Light-induced structural changes in photosynthetic re- action center: Implications for mechanism of electron-proton transfer. Science 276 (5313):812–816.  35. Takahashi R, Boussac A, Sugiura M, Noguchi T (2009) Structural coupling of a tyrosine side chain with the non-heme iron center in photosystem II as revealed by light-in- duced Fourier transform infrared difference spectroscopy. Biochemistry 48(38): 8994–9001.  36. Maenpaa P, et al. (1995) A mutation in the D-de Loop of D1 modiﬁes the stability of  the S2QA  - and S2QB  - states in Photosystem II. Plant Physiol 107(1):187–197.  37. Chernev P, Zaharieva I, Dau H, Haumann M (2011) Carboxylate shifts steer inter-  quinone electron transfer in photosynthesis. J Biol Chem 286(7):5368–5374.  38. Fufezan C, Zhang C, Krieger-Liszkay A, Rutherford AW (2005) Secondary quinone in photosystem II of Thermosynechococcus elongatus: Semiquinone-iron EPR signals and temperature dependence of electron transfer. Biochemistry 44(38): 12780–12789.  39. Sedoud A, et al. (2011) Effects of formate binding on the quinone-iron electron ac-  ceptor complex of photosystem II. Biochim Biophys Acta 1807(2):216–226.  40. Rutherford AW, Zimmermann J-L (1984) A new EPR signal attributed to the pri- mary plastosemiquinone acceptor in Photosystem II. Biochim Biophys Acta 767(1): 168–175.  41. Cox N, et al. (2009) The semiquinone-iron complex of photosystem II: Structural in- sights from ESR and theoretical simulation; evidence that the native ligand to the non-heme iron is carbonate. Biophys J 97(7):2024–2033.  42. Hienerwadel R, Berthomieu C (1995) Bicarbonate binding to the non-heme iron of photosystem II investigated by Fourier transform infrared difference spectroscopy and 13C-labeled bicarbonate. Biochemistry 34(50):16288–16297.  43. Pospísil P, Arató A, Krieger-Liszkay A, Rutherford AW (2004) Hydroxyl radical gen-  eration by photosystem II. Biochemistry 43(21):6783–6792.  44. Miyao M, Ikeuchi M, Yamamoto N, Ono T (1995) Speciﬁc degradation of the D1 protein of photosystem II by treatment with hydrogen peroxide in darkness: Im- plications for the mechanism of degradation of the D1 protein under illumination. Biochemistry 34(31):10019–10026.  45. Calabrese V, Boyd-Kimball D, Scapagnini G, Butterﬁeld DA (2004) Nitric oxide and cellular stress response in brain aging and neurodegenerative disorders: The role of vitagenes. In Vivo 18(3):245–267.  46. Greenberg BM, Gaba V, Mattoo AK, Edelman M (1987) Identiﬁcation of a primary in vivo degradation product of the rapidly-turning-over 32 kd protein of photosystem II. EMBO J 6(10):2865–2869.  47. Vass I, Sanakis Y, Spetea C, Petrouleas V (1995) Effects of photoinhibition on the -Fe2+ complex of photosystem II studied by EPR and Mössbauer spectroscopy.  QA Biochemistry 34(13):4434–4440.  22. Perrin CL, Nielson JB (1997) “Strong” hydrogen bonds in chemistry and biology. Annu  48. Berglund GI, et al. (2002) The catalytic pathway of horseradish peroxidase at high  Rev Phys Chem 48:511–544.  resolution. Nature 417(6887):463–468.  23. Bruice TC, Schmir GL (1958) Imidazole catalysis.  II. The reaction of substituted imidazoles with phenyl acetates in aqueous solution. J Am Chem Soc 80(1):148–156. 24. Rabenstein B, Ullmann GM, Knapp E-W (1998) Energetics of electron-transfer and protonation reactions of the quinones in the photosynthetic reaction center of Rhodopseudomonas viridis. Biochemistry 37(8):2488–2495.  49. Krieger A, Rutherford AW, Johnson GN (1995) On the determination of redox midpoint potential of the primary quinone electron transfer acceptor, QA, in pho- tosystem II. Biochim Biophys Acta 1229(2):193–201.  50. Brooks BR, et al. (1983) CHARMM: A program for macromolecular energy minimi-  zation and dynamics calculations. J Comput Chem 4(2):187–217.  25. Jeffrey GA (1997) An Introduction to Hydrogen Bonding (Oxford Univ Press,  51. MacKerell AD, Jr., et al. (1998) All-atom empirical potential for molecular modeling  Oxford, UK).  and dynamics studies of proteins. J Phys Chem B 102(18):3586–3616.  26. Frey PA (2006) Isotope Effects in Chemistry and Biology, eds Kohen A, Limbach H-H  52. Saito K, et al. (2011) Distribution of the cationic state over the chlorophyll pair of the  (CRC Press, Boca Raton, FL), pp 975–993.  photosystem II reaction center. J Am Chem Soc 133(36):14379–14388.  27. Schutz CN, Warshel A (2004) The low barrier hydrogen bond (LBHB) proposal re-  visited: The case of the Asp... His pair in serine proteases. Proteins 55(3):711–723.  28. Swallow AJ (1982) Function of Quinones in Energy Conserving Systems, ed Trumpower BL  53. Saito K, Shen J-R, Ishida T, Ishikita H (2011) Short hydrogen bond between redox- active tyrosine YZ and D1-His190 in the photosystem II crystal structure. Biochemistry 50(45):9836–9844.  (Academic Press, New York), pp 59–72.  54. (2012) QSite, version 5.8 (Schrödinger, LLC, New York, NY).  Saito et al.  PNAS |  January 15, 2013 | vol. 110 | no. 3 | 959     0 2 0 2    ,  7 2    r e b o t c O n o       t s e u g   y b   d e d a o n w o D  l  \\x0c'"
      ]
     },
     "execution_count": 86,
     "metadata": {},
     "output_type": "execute_result"
    }
   ],
   "source": [
    "fulltext_str.replace('\\n', ' ')"
   ]
  },
  {
   "cell_type": "code",
   "execution_count": 91,
   "metadata": {},
   "outputs": [],
   "source": [
    "def get_paper(pmid: str, metadata: dict) -> str:\n",
    "    url = metadata['best_oa_location']['url_for_pdf']\n",
    "    out_pdf = f'get_fullpapers/oa/tmp{num_run}.pdf'\n",
    "    \n",
    "    try:\n",
    "        # Fetch the paper\n",
    "        response = requests.get(url)\n",
    "\n",
    "        # Save to tmp.pdf\n",
    "        with open(out_pdf, 'wb') as fd:\n",
    "            fd.write(response.content)\n",
    "            fd.close()\n",
    "\n",
    "        outtext = pdf_to_text(out_pdf)\n",
    "    except Exception:\n",
    "        return False\n",
    "    except (requests.exceptions.RequestException,\n",
    "        ConnectionResetError):\n",
    "        print(\"Connection Error\")\n",
    "        return False\n",
    "\n",
    "\n",
    "    return outtext.replace('\\n', ' ')"
   ]
  },
  {
   "cell_type": "code",
   "execution_count": 93,
   "metadata": {},
   "outputs": [
    {
     "name": "stdout",
     "output_type": "stream",
     "text": [
      "Getting text content for get_fullpapers/oa/tmp1.pdf...\n",
      "Done.\n"
     ]
    },
    {
     "data": {
      "text/plain": [
       "'Mechanism of proton-coupled quinone reduction in Photosystem II  Keisuke Saitoa,b, A. William Rutherfordc, and Hiroshi Ishikitaa,b,1  aCareer-Path Promotion Unit for Young Life Scientists, Graduate School of Medicine, Kyoto University, Kyoto 606-8501, Japan; bJapan Science and Technology Agency, Precursory Research for Embryonic Science and Technology, Saitama 332-0012, Japan; and cMolecular Biosciences, Imperial College London, London SW7 2AZ, United Kingdom  Edited by Pierre A. Joliot, Institut de Biologie Physico-Chimique, Paris, France, and approved November 28, 2012 (received for review July 27, 2012)  Photosystem II uses light to drive water oxidation and plastoqui- none (PQ) reduction. PQ reduction involves two PQ cofactors, QA and QB, working in series. QA is a one-electron carrier, whereas QB undergoes sequential reduction and protonation to form QBH2. QBH2 exchanges with PQ from the pool in the membrane. Based on the atomic coordinates of the Photosystem II crystal structure, we analyzed the proton transfer (PT) energetics adopting a quan- tum mechanical/molecular mechanical approach. The potential-en- (cid:129)– occurs from the ergy proﬁle suggests that the initial PT to QB (cid:129)– via D1-Ser264. The second PT is protonated, D1-His252 to QB likely to occur from D1-His215 to QBH− via an H-bond with an energy proﬁle with a single well, resulting in the formation of QBH2 and the D1-His215 anion. The pathway for reprotonation of D1-His215– may involve bicarbonate, D1-Tyr246 and water in the QB site. Formate ligation to Fe2+ did not signiﬁcantly affect the protonation of reduced QB, suggesting that formate inhibits QBH2 release rather than its formation. The presence of carbonate rather than bicarbonate seems unlikely because the calculations showed that this greatly perturbed the potential of the nonheme iron, sta- (cid:129)–, a situation not en- bilizing the Fe3+ state in the presence of QB countered experimentally. H-bonding from D1-Tyr246 and D2- Tyr244 to the bicarbonate ligand of the nonheme iron contributes to the stability of the semiquinones. A detailed mechanistic model for QB reduction is presented. electron transfer gating | purple bacterial reaction center | low-barrier hydrogen bond | photoinhibition | tyrosine peroxide The core of the Photosystem II (PSII) reaction center is com-  posed of D1/D2, a heterodimer of protein subunits containing the cofactors involved in photochemical charge separation, qui- none reduction, and water oxidation. These reactions are driven by light absorption by pigments absorbing around 680 nm (P680). P680 is composed of four chlorophyll a (Chla) molecules, PD1/PD2, ChlD1/ChlD2, and two pheophytin a molecules (PheoD1/PheoD2). Excitation of P680 initially leads to the formation of a range of (cid:129)− state domi- charge separated states, with the ChlD1 nating. After a short time the secondary radical pair, [PD1/PD2](cid:129)+ (cid:129)−, is formed in nearly all centers. This state is stabilized by PheoD1 electron transfer to the ﬁrst quinone, QA, and by electron dona- (cid:129)+. TyrZ(cid:129) tion from a tyrosine residue, D1-Tyr160 (TyrZ), to PD1 then oxidizes the Mn4CaO5 cluster, which catalyzes the sub- (cid:129)− acts as a one-electron sequent water splitting reaction. QA/QA (cid:129)− and donating to redox couple, accepting electrons from PheoD1 the second quinone, QB, without undergoing protonation itself. In contrast, QB reduction involves two consecutive one-electron reduction reactions with a series of associated proton uptake reactions (reviewed in 1–6). QB is located near the nonheme Fe2+ and the ligand to the Fe2+, D1-His215, donates an H-bond to the QB carbonyl O atom that is nearer to the Fe complex (OQB(proximal)). The QB carbonyl O atom distal to the Fe complex (OQB(distal)) accepts an H-bond from D1- Ser264, which itself accepts an H-bond from D1-His252 (Fig. 1), which is located on the protein surface in contact with the aqueous (cid:129)− formation is linked to proton medium (5-9). It is known that QB uptake (10, 11) and comparisons with the structure of the bacterial reaction center led to the ﬁrst suggestion that the D1-His252 was the  (cid:129)+ PheoD1  (cid:129)− formation (12). group undergoing protonation in response to QB In theoretical studies, it has been proposed that proton uptake by D1-His252 causes reorientation of the hydroxyl group of D1-Ser264 (cid:129)−, fa- toward the distal QB carbonyl group and stabilizes QB cilitating the initial electron transfer (ET) from QA to QB (8). Similar quinone reduction reactions occur in photosynthetic reaction centers from purple bacteria, which are thought to share a common ancestor with PSII (4, 13, 14). Notably, D1-Ser264 and D1-His252 in PSII are equivalent to Ser-L223 and Asp- L213, respectively, in the reaction center from Rhodobacter sphaeroides. Purple bacterial reaction centers contain an addi- tional globular subunit, the H-subunit, that covers the quinone/ Fe surface. Consequently, longer proton pathways exist to allow protons from the medium to reach the QB binding site. The residues involved in this proton transfer (PT) pathway include Glu-L212, Asp-L213, Ser-L223, Asp-M17, and several residues of the H-subunit (15, 16). Glu-L212 is protonated in response to (cid:129)− on the ﬁrst turnover. When Asp-L213 is the formation of QB protonated (via the same proton pathway), reorientation of the Ser-L223 hydroxyl group occurs and an H-bond forms between (cid:129)− to form Ser-L223 and OQB(distal) (17–20). Protonation of QB QBH(cid:129) occurs at OQB(distal) via Ser-L223 and Asp-L213 upon (cid:129)− state. Electron transfer then takes formation of the QA place leading to formation of QBH−, which then undergoes protonation at OQB(proximal) forming QBH2, with the proton from Glu-L212 (15). For PSII the current state of knowledge lacks these details, but several of the reactions are considered to be similar (reviewed in 4–6, 21). There are, however, several obvi- ous structural differences between the two systems that must result in mechanistic differences. Glu-L212, for example, which appears to be a prerequisite for the second protonation step in purple bacterial reaction centers (RCs) (15, 16), is replaced with Ala in PSII. Another potentially important difference is the presence of bicarbonate in PSII instead of the Glu-M234 in purple bacterial RCs. This exchangeable carboxylic acid has been linked to several phenomena speciﬁc to PSII, notably (i) slowed electron transfer when bicarbonate is replaced with other car- boxylic acids, (ii) a speciﬁc EPR signal from the semiquinone–iron complex, and (iii) redox activity of the nonheme ion (4–6, 21). Here, we investigated formation of QBH(cid:129) and QBH2 in the PSII protein environment, by adopting a large-scale quantum mechanical/molecular mechanical (QM/MM) approach based on the crystal structure with resolution at 1.9 Å (9).  (cid:129)− QB  Results and Discussion (cid:129)– to QBH(cid:129) via D1-His215 and First Protonation Step: Conversion of QB (cid:129)– to QBH(cid:129) D1-Ser264. To elucidate how the conversion of QB occurs, we analyzed the potential-energy proﬁles of the two  Author contributions: A.W.R. and H.I. designed research; K.S. and H.I. performed research; K.S., A.W.R., and H.I. analyzed data; and A.W.R. and H.I. wrote the paper.  The authors declare no conﬂict of interest.  This article is a PNAS Direct Submission.  Freely available online through the PNAS open access option. 1To whom correspondence should be addressed. E-mail: hiro@cp.kyoto-u.ac.jp.  This article contains supporting information online at www.pnas.org/lookup/suppl/doi:10. 1073/pnas.1212957110/-/DCSupplemental  954–959 | PNAS |  January 15, 2013 | vol. 110 | no. 3  www.pnas.org/cgi/doi/10.1073/pnas.1212957110     0 2 0 2    ,  7 2    r e b o t c O n o       t s e u g   y b   d e d a o n w o D  l  \\x0cthe presence of an unusually short H-bond indicates that PT be- tween the donor and acceptor moieties is about to occur. In contrast, the potential-energy proﬁle of the OQB(proximal). . .H– NδD1-His215 (Fig. 2) resembles that of a standard asymmetric double-well H-bond (22) (Fig. S1), suggesting that the ﬁrst PT from D1-His215 to OQB(proximal) is an energetically uphill process. This is primarily because proton release from the singly pro- tonated (neutral) His (pKa ∼14 for imidazole) (23) is unfavorable, unlike the doubly protonated (positively charged) His, for which the pKa ∼7. Although the pKa for neutral His is expected to be lowered to some extent by the positive charge and environment around the iron (see below), it is still likely to be relatively high and thus unfavorable on this step.  The potential-energy proﬁles in Fig. 2 indicate that the initial PT (cid:129)– is present compared with the occurs more favorably when QA neutral QA state. This is similar to the situation occurring in the (cid:129)– is unprotonated on the ﬁrst ﬂash purple bacterial RC, where QB (cid:129)–] state (cid:129)– QB and the QB is formed, before the second electron transfer step (15, 16).  (cid:129)– to QBH(cid:129) step only occurs when the [QA  Overall, the results suggest the following model for the ﬁrst (cid:129)– to QBH(cid:129) primarily occurs protonation: Protonation of QB at OQB(distal), this occurs as a result of concerted PT from D1-His252(H+) to OQB(distal) via D1-Ser264, and this induces reorientation of the D1-Ser264 hydroxyl group so that it can act as a H-bond acceptor from the QBH(cid:129). The preferential occur- rence of the ﬁrst protonation at OQB(distal) over OQB(proximal) is consistent with the QB protonation mechanism in purple bacte- rial RCs (15, 16, 24).  Second PT and an Unusually Short H-Bond Distance Between QBH– and D1-His215. Because OQB(distal) is protonated upon QBH(cid:129) forma- tion (Fig. 2), the second protonation—i.e., the conversion of QBH− to QBH2—must occur at OQB(proximal), which is H-bonded by Nδ of D1-His215 (Fig. 1). The QM/MM optimized H-bond distance between OQB(proximal) of QBH– and Nδ of D1-His215  D N A  S C I S Y H P O I B  Y G O L O I B  L A N O I T A T U P M O C  Fig. 1. Changes in the H-bond network geometry of QB in response to changes in the protonation/redox state. O and N atoms are depicted as red and blue spheres, respectively. Only the H atoms involved in H-bonds or protonation sites are depicted as cyan spheres.  (cid:129)–, OQB(distal). . .H–OD1-Ser264 and OQB(proximal). . .H– H-bonds of QB NδD1-His215. Because in previous electrostatic calculations, (cid:129)– state D1-His252 became protonated upon formation of the QB (8), we also assumed the presence of protonated D1-His252 and (cid:129)– state in the present QM/MM calculation. In general, the QB (cid:129)– state, the serine is unlikely to deprotonate. However, in the QB potential-energy proﬁle indicates that a PT from D1-Ser264 to OQB(distal) occurred very easily in an energetically downhill pro- cess (Fig. 2). This reaction was accompanied by a concerted PT from protonated D1-His252 to D1-Ser264, resulting in the formation of QB(distal)H(cid:129), deprotonated (neutral) D1-His252, and reoriented D1-Ser264 (Fig. 1, ﬁrst and second panels). The QM/MM-optimized geometry indicates that the two H-bonds of D1-Ser264, OQB(distal). . .H–OD1-Ser264 (2.48 Å) and OD1-Ser264– H. . .NδD1-His252. (2.51 Å), are unusually short, especially in the (cid:129)– state (Table 1). The two short H-bonds were only present QB before the initial PT occurred, but they lengthened (to 2.73 and 2.67 Å, respectively) immediately after PT had occurred. Therefore,  Fig. 2. Potential-energy proﬁles of the H-bond donor–acceptor pairs: (Right) H-bond between D1- Ser264 and the distal QB carbonyl (purple, in the neutral QA state, and blue, in the reduced QA state, curves); (Left) H-bond between D1-His215 and the proximal QB carbonyl (red curves). At each point, all of the atomic coordinates in the QM region were fully relaxed (i.e., not ﬁxed). Arrows indicate the directions of PT.  Saito et al.  PNAS |  January 15, 2013 | vol. 110 | no. 3 | 955     0 2 0 2    ,  7 2    r e b o t c O n o       t s e u g   y b   d e d a o n w o D  l  \\x0cTable 1. H-bond distances in optimized geometries in the PSII protein environment near QB systems (in Å)  QB state  Crystal  D1-His252 state D1-His215 state OQB(prox.)...H...NδH215  OQB(prox.)...H H. . .NδH215  2.47  OQB(dist.)...H...OS264  2.69  OQB(dist.)...H H...OS264  OS264...H...NeH252  OS264...H NeH252. . .H  Rmsd  2.77  QB  prot. neut. 2.77 1.76 1.02 2.61 1.67 0.98 2.58 1.55 1.07  (cid:129)–  QB  prot. neut. 2.68 1.65 1.04 2.48 1.47 1.03 2.51 1.41 1.12  QM/MM  QBH–  neut. neut. 2.47a 1.34 1.15 2.84 0.97 2.07 2.71 0.99 1.73  QBH2  neut. anion 2.55 1.04 1.53 2.84 0.97 2.05 2.70 0.99 1.72  QBH(cid:129)  neut. neut. 2.67 1.65 1.03 2.73 0.98 1.92 2.67 0.99 1.68  QB  neut. neut. 2.77 1.77 1.02 2.73 1.78 0.97 2.75 1.74 1.03  (cid:129)–  QB  neut. neut. 2.62 1.58 1.05 2.63 1.64 1.00 2.70 1.67 1.04  QB, S264, H252 0.30 Entire QM region 0.27 H-bond donor-acceptor distances of <∼2.5 Å are indicated in bold. H-bond donor-acceptor distances are shaded in gray. Crystal = 1.9-Å structure (9) (PDB entry 3ARC). anion, doubly deprotonated (negatively charged) His; prot., doubly protonated (positively charged) His; neut., singly protonated (either at Nδ or Ne) His. a2.54 Å when the bicarbonate (HCO3  –) ligand was replaced with carbonate (CO3  0.39 0.27  0.22 0.18  0.37 0.27  0.37 0.27  0.22 0.18  0.21 0.17  2–).  was found to be unusually short (2.47 Å) in the QBH– state (Table 1).  Intriguingly, this distance is identical to that in the 1.9 Å structural model, PSII monomer unit “A” of the PSII complexes (9). The corresponding OQB(proximal)–NδD1-His215 distances were (cid:129)– state found to be 2.77 Å in the QB state and 2.68 Å in the QB (Table 1), both being signiﬁcantly longer compared with that in the QBH– state. In addition, the corresponding QA-side distance (OQA(proximal)–NδD2-His214) was 2.78 Å in the 1.9 Å structure (9) and ∼2.8–2.9 Å in the purple bacterial RC (16). Given that the QB geometry was less well deﬁned than QA geometry in the 1.9 Å structure (9), the signiﬁcance of the short OQB(proximal)–NδD1-His215 distance (2.47 Å) distance should be treated with caution. Fur- thermore, the QBH– state is expected to be a short-lived in- termediate and not a state that would be present and in PSII under normal circumstances. Nevertheless, more discussion of the possible redox states of QB in the crystal structure is given in the SI Text. In a typical H-bond with an O–O distance longer than ∼2.6 Å, an H-atom is located near the donor moiety owing to the larger pKa value of the donor moiety relative to the acceptor moiety (having an asymmetric double-well potential H-bond) (22) (Fig. S1). On the other hand, according to the classiﬁcation of H- bonds by Jeffrey (25) or Frey (26), short H-bonds with O–O distances of 2.4–2.5 Å can be classiﬁed as single-well (ionic) H- bonds (22) (Fig. S1). Because O–N distances are generally greater than O–O distances, the OQB(proximal)–NδD1-His215 of 2.47 Å is an unusually short H-bond and may possess a single-well potential. Remarkably, the calculated potential-energy proﬁle for the OQB(proximal)–NδD1-His215 in the QBH– state resembled that of a barrierless single-well (ionic) H-bond, suggesting that the second PT can occur isoenergetically at OQB(proximal) (Fig. 2). The signiﬁcantly elongated H–N bond of D1-His215 (1.15 Å) in the QBH– state implies that further migration of an H atom toward the acceptor OQB(proximal) moiety (i.e., PT) can occur easily. Indeed, the single-well potential obtained for OQB(proximal)– NδD1-His215 is symmetric (Fig. 2), implying that the pKa difference (27) between D1-His215 deprotonation and QBH– protonation is close to zero.  The pKa for the QH– to QH2 protonation for plastoquinone (PQ) is expected to be similar to that measured for ubiquinone in aqueous solution—i.e., 10.7, signiﬁcantly higher than the pKa of 4.9 for the protonation of the semiquinone, Q(cid:129)– to QH(cid:129) (18, 28). The pKa for deprotonation of a neutral His is expected to be  similar to that for imidazole—i.e., ∼14 (23). In PSII, however, the ligation of D1-His215 to the positively charged Fe2+ should lower the pKa of neutral D1-His215. The pKa of the neutral His ligand to Fe2+ in the Rieske (2Fe-2S) cluster has been measured to be ∼12.5 rather than ∼14 (29, 30). The ligand environment of the Fe2+ in PSII is more positively charged than that in the Rieske cluster; thus, the pKa of neutral D1-His215 deprotonation is expected to be lower than ∼12.5. In agreement with this, FTIR studies have indicated that deprotonation of D1-His215 occurs in response to pH changes (31). Overall then the literature suggests that the pKa value of D1-His215 is likely to be close to that for the QBH– to QBH2 protonation, in accordance with the single-well potential obtained here (Fig. 2). For further details, see Table S1.  It has been proposed that Glu-L212 in purple bacterial RC from R. sphaeroides provides a proton to QBH– (15, 32, 33). This residue is 5.7 Å away from OQB(proximal) (34), and it is not clear how this last protonation reaction occurs. One possibility is that the QBH– state is also protonated by the Fe-ligated imidazole (His-L190) and that Glu-L212 provides a proton to the depro- tonated His residue (His-L190) facilitating the release of QBH2 from the site. Such a scenario has been discussed (and dis- favored) previously (15). Ionizable residues corresponding to Glu-L212 are absent near QB in PSII. PSII may not require the corresponding residue, as the quinones are more exposed to the aqueous phase. Doubly deprotonated D1-His215 may be reprotonated via the bicarbonate ligand; indeed, a role for the bicarbonate in protonation of QB has been considered for many years (21). The distance between OQB(proximal) and Obicarbonate is 4.8 Å (9). Despite this long distance, rapid PT may be possible if water intermediate(s) were involved. In purple bacteria, water intermediates may also mediate PT from Glu-L212 to QBH–, perhaps via the His-L190 anion.  H-Bond Pattern of the Tyrosine Residue Pair near the Bicarbonate Ligand. FTIR studies by Takahashi et al. have suggested that only one of the two tyrosine residues, either D1-Tyr246 or D2- Tyr244, provides an H-bond to bicarbonate (35). We investigated the inﬂuence of the H-bond pattern of these tyrosine residues on (cid:129)–. To do this, we redeﬁned the QM the stability of QA region such that it included QA, the nonheme Fe and its ligands, QB, D1-Tyr246 and D2-Tyr244. Note that in the calculations, in the absence of the PSII protein environment (i.e., in vacuum),  (cid:129)– and QB  956 | www.pnas.org/cgi/doi/10.1073/pnas.1212957110  Saito et al.     0 2 0 2    ,  7 2    r e b o t c O n o       t s e u g   y b   d e d a o n w o D  l  \\x0c(cid:129)– favored orientation), QB  When the tyrosine hydroxyl groups were oriented toward QA (cid:129)– in the presence of deprotonated (neutral) D1-His252, QA (cid:129)– favored orientation) was more pronounced formation (QA ([QA]–0.50 [Fe(His)4(HCO3)–]+0.77 [QB]–0.22) with values of QA/ QB = 50/22 for electron distribution and 69/33 for spin distri- bution (Table S2; Fig. 3). On the other hand, when the tyrosine hydroxyl groups were oriented toward QB in the presence of (cid:129)– forma- protonated D1-His252 (QB tion was high ([QA]+0.04 [Fe(His)4(HCO3)–]+0.80 [QB]–0.84; QA/ QB = 0/84 for electron distribution and 8/98 for spin distribution) (cid:129)– formation was predominantly inﬂuenced (Table S2; Fig. 3). QB by the protonation state of D1-His252 and orientation of D1- Ser264, as suggested in previous theoretical studies (8). On the other hand, donation of an H-bond from D1-Tyr246 to bicarbonate (cid:129)– favored orientation) appears to play an important role (i.e., QA (cid:129)–, because D1-His252/D1-Ser264- particularly in the stability of QA like residues are absent near QA. The orientation of the tyrosines may well be related to communication between the quinone sites via the H-bonding network of bicarbonate, gating, and/or pro- tonation reactions during electron transfer (Fig. 3).  electrons were almost evenly distributed over QA and QB owing to the structural symmetry (Table S2).  The two calculated conformations shown in Fig. 3 differ not only in terms of the orientations of D1-Tyr246 and D2-Tyr244 but also in terms of the orientation of bicarbonate, implying a link between bicarbonate and the quinone redox states as suggested by FTIR studies (31, 35). The two tyrosine residues are located in the D-de loop region (D1-225–250 and D2-224–248), (cid:129)– state which is believed to be crucial to the stability of the QA (36). The corresponding loop region is absent in the purple bacterial RC. Thus, the semiquinone stabilization mechanism, involving D1-Tyr246, D2-Tyr244, bicarbonate, and the rear- rangement of the H-bond network, as suggested here, is only relevant to PSII. Recently it was suggested that the ligation of the Fe2+ by bi- carbonate changes during electron transfer, going from bidentate (cid:129)– and returning to the to monodentate upon formation of QA bidentate form upon electron transfer to QB (37). In ref. 37, a monodentate ligand yielded two signiﬁcantly different Fe– (cid:129)– formation. Be- Obicarbonate distances of 2.3 and 3.2 Å for QB cause the atomic coordinates were unavailable, we could not evaluate the speciﬁc models discussed in ref. 37, however we addressed the same question in our calculations using the most recent structure (9). We could not observe such a dramatic (∼1 Å) change of the Fe–Obicarbonate bond. Our calculations showed that bicarbonate was clearly a bidentate ligand in both conformers irrespective of the reduction state of the two qui- nones: the two Fe–Obicarbonate distances were 2.21 and 2.29 Å (cid:129)– and 2.27 and 2.32 Å in the presence of in the presence of QA (cid:129)– (cid:129)– (Fig. 3). We conclude that the formation of stable QA QB  D N A  S C I S Y H P O I B  Y G O L O I B  L A N O I T A T U P M O C  (cid:129)– states do not result in dramatic differences in the bi- or QB carbonate ligation such as those proposed by Chernev et al. (37). It seems possible that the changes in the environment of the nonheme Fe2+ reported by Chernev et al. using X-ray ab- sorption spectroscopy could have resulted from the changes in the H-bond network associated with D1-Tyr246, D2-Tyr244, and the bicarbonate (Fig. 3). These results appear to ﬁt better with FTIR studies by Takahashi et al. (35). A further argument against electron transfer-induced changes in the ligation of the nonheme Fe2+ comes from EPR studies. The EPR spectra (cid:129)– Fe2+ formed at room and cryogenic temperature from QA (cid:129)– Fe2+ are all essentially the same (38, 39). A differ- and QB ence in the number of ligands to the Fe would be expected to result in more marked differences in these spectra.  Replacement of the Bicarbonate Ligand. Formate. The depletion of (bi)carbonate or its substitution by formate results in a slowing of quinone reduction (6, 21). Recent EPR studies have suggested that formate inhibits release of QBH2 (39). The PT mechanisms reported here suggest that the efﬁcient release of QBH2 requires the reprotonation of the anionic D1-His215. This pro- cess may involve bicarbonate, forming carbonate and releasing a proton to anionic D1-His215, as suggested here and earlier (21, 31). When bicarbonate is replaced with formate, the potential- energy proﬁle indicates that the second protonation remains es- sentially unchanged and can occur isoenergetically at OQB(proximal) (Fig. S2). Note that the calculated OQB(proximal)–NδD1-His215 distance was 2.49 Å in the QBH– state with the formate ligand, which is essentially the same as that with bicarbonate ligand (2.47 Å, Table 1). In the EPR work, a new EPR signal was reported from the formate-inhibited enzyme when reduced by three (cid:129)– Fe2+ in the presence of a two- electrons, attributed to QA electron reduced form of QB (39). In light of the present work, (cid:129)– Fe2+ QBH2 with the we suggest that this could correspond to QA anionic D1-His215. Carbonate. Recently, the characteristic g-value of ∼1.9 for the semiquinone and nonheme Fe complex in EPR spectroscopy (40) was reinvestigated in theoretical simulations. On the basis of the simulations, it was proposed that the native ligand to the nonheme –) (41). Fe was carbonate (CO3 In contrast, FTIR studies suggested that the bicarbonate ligand does not deprotonate even upon oxidation of the nonheme Fe (42). When the bicarbonate was substituted with fully ionized carbonate in our calculations, the QBH– to QBH2 protonation process became slightly energetically uphill and the OQB(proximal)– NδD1-His215 distance lengthened to 2.54 Å in the QBH– state (Table 1 and Fig. S2). These results suggest that the pKa for D1-His215 deprotonation was upshifted upon replacement of bicarbonate with carbonate and that the ligand plays a role in affecting the pKa of D1-His215, as proposed previously (31, 41). We also calculated the charge distribution in the PSII protein environment with carbonate (QM region: QA, the nonheme Fe, the His and carbonate ligands, QB, D1-Tyr246, and D2-Tyr244). Starting with carbonate-ligated Fe2+ and two neutral quinones, the QM/MM calculations resulted in the oxidized Fe3+, a reduced quinone, and a neutral quinone (Table S3). QM/MM calculations for the carbonate-ligated Fe2+, one reduced quinone, and one neutral quinone resulted in oxidized Fe3+ and two reduced qui- nones. These results suggest that the fully ionized carbonate ligand forces Fe2+ to release an electron to one of the quinones. This does not reﬂect experimental ﬁndings, so these results argue against carbonate being a stable ligand to the iron and indicate another explanation must be found for the characteristic EPR spectra of the semiquinone-iron signals seen in PSII. More discussion of the possible carbonate ligand is given in the SI Text.  2–) rather than bicarbonate (HCO3  Fig. 3. H-bond arrangements of D1-Tyr246, D2-Tyr244, and the bicarbonate (cid:129)– (H atoms in cyan ligand of the nonheme Fe complex upon formation of QA (cid:129)– (H atoms in pink and C atoms in yellow). For and C atoms in blue) or QB clarity, D1-His272 and D2-His268, which were also included in the QM region, are not shown in the ﬁgure. Atomic coordinates are provided in Dataset S1.  Tyrosine Peroxide at D1-Tyr246, Possible Link with Photoinhibition, and a Water-Mediated H-Bond Network. In both of the PSII monomer units of the 1.9-Å structure, an elongation of density is clearly seen near the hydroxyl O atom of D1-Tyr246. In QM/MM calculations, atomic coordinates of a tyrosine peroxide (Tyr-OOH)  Saito et al.  PNAS |  January 15, 2013 | vol. 110 | no. 3 | 957     0 2 0 2    ,  7 2    r e b o t c O n o       t s e u g   y b   d e d a o n w o D  l  \\x0cFig. 4. (Upper) The electron density map in the neighborhood of D1-Tyr246. QM/MM optimized ge- ometry of D1-Tyr246 is shown as (Left) Tyr-OOH or (Right) Tyr-OH and H2O in the presence of QB. (Lower) H-bond network (red dotted lines) linking bi- carbonate to D1-His215. D1-Tyr246 was modeled as Tyr-OH. (Left) A single water molecule (red cross) is required to establish the H-bond network with His215 in the presence of QBH2, (Right) whereas two water molecules are required in the absence of QBH2.  form (rather than a tyrosine with a water molecule) ﬁtted to the density (Fig. 4). Root-mean-square deviation of the optimized coordinates for Tyr-OOH with respect to those in the 1.9-Å structure is small (0.123 Å), even slightly smaller than that for Tyr- OH (0.149 Å). A Tyr-OOH at this position may be relevant to the function of PSII and is particularly intriguing in light of the lit- erature: (i) Under strong light, the nonheme Fe2+ is thought to be involved in the generation of hydroxyl radicals (OH(cid:129)) via iron- peroxo intermediates (43, 44) and Tyr-OOH can be generated in the presence of OH(cid:129) (45). (ii) The D-de loop (D1-238–249 including D1-Tyr246) was proposed to be the ﬁrst target for cleavage during photodegradation of D1 protein (46) and OH(cid:129) may trigger this process (44). (iii) Spectroscopic studies suggest that the nonheme Fe undergoes an increase in its redox potential and a minor modiﬁcation of the bicarbonate binding site during photodamage (47). These and other observations in the litera- ture could be linked to Tyr-OOH formation.  Although it is possible that D1-Tyr246 may become a peroxide under photoinhibitory conditions, its presence in the crystal structure could represent OH(cid:129) generated by the X-ray beam (48). The absence of the peroxide-like density for its counterpart D2- Tyr244 and the presence in both monomers in the crystal struc- ture suggests that peroxide generation speciﬁcally occurs at D1- Tyr246. The long distances (4.8/6.5 Å) between bicarbonate and D1-His215/QBH– imply that a direct PT would be kinetically un- favorable. QM/MM optimized geometries indicate that inclusion of water completes an H-bond network from bicarbonate to D1- His215 (Fig. 4). There is, however, no resolved water molecule in this region in the 1.9 Å structure (9). We speculate that the proposed Tyr-OOH at D1-Tyr246 could have arisen from Tyr-OH and a bridging water molecule. Photolytic-generation of Tyr-OOH at D1-Tyr246 is expected to remove the water molecule and dis- connect the PT path between bicarbonate and D1-His215. The presence of Tyr-OOH speciﬁcally at D1-Tyr246 but its absence at its counterpart D2-Tyr244 on the QA side ﬁts with the expectation that protons are excluded from the QA side, as it functions as a one-electron couple that does not show pH dependence (49).  Working Model. Based on the ﬁndings reported here and the lit- erature discussed above, we are able to propose a mechanism for quinone reduction in PSII: (i) Protonation of D1-His252 occurs (cid:129)–. (ii) The upon electron transfer from QA (cid:129)–, formed on the second turnover, triggers pro- presence of QA (cid:129)– from D1-Ser264 with the concerted arrival tonation of the QB on the serine of a proton from the protonated D1-His252, leading to neutral histidine formation. (iii) As in the purple bacterial reaction center, QBH(cid:129) may be transiently formed be- (cid:129)–, forming QBH–. (iv) fore the second electron arrives from QA  (cid:129)– to QB forming QB  QBH– has a single-well H-bond to the D1-His215 (ligand to the nonheme iron) and this favors the PT forming QBH2, which remains H-bonded to the D1-His215 anion. (v) The release of QBH2 is facilitated by reprotonation of D1-His215 anion and this may occur through water in the QB-site, which is part of an H- bonded network with the bicarbonate (a ligand to the Fe2+) and groups exposed to the aqueous medium. (vi) The orientation of the tyrosine hydroxyl groups (e.g., D1-Tyr246) contributes to stabilizing reduced states of quinones. D1-Tyr246 may be in- volved in the H-bond network involving bicarbonate, water, D1- His215, and QBH2. This working model should allow speciﬁc features to be tested by future experimentation.  Computational Procedures Coordinates and Atomic Partial Charges. The atomic coordinates of PSII were taken from the X-ray structure of PSII monomer unit “A” of the PSII com- plexes from Thermosynechococcus vulcanus at a 1.9-Å resolution (PDB code, 3ARC) (9). Hydrogen atoms were generated and energetically optimized with CHARMM (50), whereas the positions of all nonhydrogen atoms were ﬁxed, and all titratable groups were kept in their standard protonation states (i.e., acidic groups were ionized and basic groups were protonated). For the QM/MM calculations, we added additional counter-ions to neutralize the entire system. Atomic partial charges of the amino acids were adopted from the all-atom CHARMM22 (51) parameter set. The atomic charges of Chla, Pheoa, and quinones were taken from our previous studies on PSII (52). We considered the Mn4CaO5 cluster as the (O4)2−(O5)H− model (53) in the S1 state (see ref. 53 for the atomic coordinates and charges).  QM/MM Calculations. We used the electrostatic embedding QM/MM scheme, in which electrostatic and steric effects created by a protein environment were explicitly considered, and we used the Qsite (54) program code as used in previous studies (52). Owing to the large system size of PSII, we consid- ered residues and cofactors in only the D1 and D2 subunits as the protein environment. We used the unrestricted density functional theory method with the B3LYP functional and LACVP**+ basis sets. To analyze the effects of the H-bond pattern near the bicarbonate-tyrosine moiety, the QM re- gion was deﬁned as (QA, QB, bicarbonate, Fe, D1-His215, D1-His272, D2- His214, D2-His268, D1-Tyr246, and D2-Tyr244), whereas other protein units and all cofactors were approximated by the MM force ﬁeld. To analyze the H-bond potential energy proﬁles, the QM region was redeﬁned as (QB, D1- His252, D1-Ser264, bicarbonate, Fe, D1-His215, D1-His272, D2-His214, and D2-His268). The tail of PQ was replaced with a methyl group at C11. As in a previous study (37), we assumed a high-spin state (S = 2) of Fe2+ and set the spin multiplicity of the system to S = 2 in calculations for QB, QBH–, and (cid:129)–, QBH(cid:129), and [QAQB] (cid:129)–. The geometries were re- QBH2, and S = 5/2 for QB ﬁned by constrained QM/MM optimization. Speciﬁcally, the coordinates of the heavy atoms in the surrounding MM region were ﬁxed to the original X-ray coordinates, whereas those of the H atoms in the MM region were optimized using the OPLS2005 force ﬁeld. All of the atomic coordinates  958 | www.pnas.org/cgi/doi/10.1073/pnas.1212957110  Saito et al.     0 2 0 2    ,  7 2    r e b o t c O n o       t s e u g   y b   d e d a o n w o D  l  \\x0cD N A  S C I S Y H P O I B  Y G O L O I B  L A N O I T A T U P M O C  (except for the C11 atom of PQs) in the QM region were fully relaxed (i.e., not ﬁxed) in the QM/MM calculation.  The potential-energy proﬁle of the H-bond was obtained as follows: First, we prepared for the QM/MM optimized geometry without constraints, and we took the resulting geometry as the initial geometry. The H atom was then moved from the H-bond donor atom (Odonor) to the acceptor atom (Oacceptor) by 0.05 Å, after which the geometry was optimized by constraining the Odonor–H and H– Oacceptor distances, and the energy of the resulting geometry was calculated. This procedure was repeated until the H atom reached the Oacceptor atom.  ACKNOWLEDGMENTS. We thank James Murray of Imperial College for useful discussion. This research was supported by the Japan Science and Technology Agency, Precursory Research for Embryonic Science and Technol- ogy program (K.S. and H.I.); Grant-in-Aid for Scientiﬁc Research from the Ministry of Education, Culture, Sports, Science and Technology (MEXT) of Japan [22740276 (K.S.)]; Special Coordination Fund for Promoting Science and Technology of MEXT (H.I.); Takeda Science Foundation (H.I.); Kyoto University Step-Up Grant-in-Aid for young scientists (H.I.); and a Grant for Basic Science Research Projects from the Sumitomo Foundation (H.I.). A.W.R. is the recipient of the Wolfson Merit Award of the Royal Society.  1. Diner BA, Rappaport F (2002) Structure, dynamics, and energetics of the primary photochemistry of photosystem II of oxygenic photosynthesis. Annu Rev Plant Biol 53: 551–580.  2. Renger G, Renger T (2008) Photosystem II: The machinery of photosynthetic water  splitting. Photosynth Res 98(1-3):53–80.  3. Holzwarth AR (2008) Ultrafast primary reactions in the photosystems of oxygen evolving organisms. Ultrashort Laser Pulses in Biology and Medicine, Biological and Medical Physics, Biomedical Engineering, eds Braun M, Gilch P, Zinth W (Springer, Dordrecht, The Netherlands), pp 141–164.  4. Cardona T, Sedoud A, Cox N, Rutherford AW (2012) Charge separation in photosystem II:  A comparative and evolutionary overview. Biochim Biophys Acta 1817(1):26–43.  5. Müh F, Glöckner C, Hellmich J, Zouni A (2012) Light-induced quinone reduction in  photosystem II. Biochim Biophys Acta 1817(1):44–65.  6. Petrouleas V, Crofts AR (2005) The iron-quinone acceptor complex. Photosystem II: The Light-Driven Water: Plastoquinone Oxidoreductase, eds Wydrzynski T, Satoh K (Springer, Dordrecht, The Netherlands), pp 177–206.  7. Kawakami K, Umena Y, Kamiya N, Shen J-R (2011) Structure of the catalytic, inorganic core of oxygen-evolving photosystem II at 1.9 Å resolution. J Photochem Photobiol B 104(1-2):9–18.  8. Ishikita H, Knapp E-W (2005) Control of quinone redox potentials in photosystem II:  Electron transfer and photoprotection. J Am Chem Soc 127(42):14714–14720.  9. Umena Y, Kawakami K, Shen J-R, Kamiya N (2011) Crystal structure of oxygen-  evolving photosystem II at a resolution of 1.9 Å. Nature 473(7345):55–60.  10. Robinson HH, Crofts AR (1984) Kinetics of proton uptake and the oxidation-reduction reactions of the quinone acceptor complex of photosystem_II from pea chloroplasts. Advances in Photosynthesis Research, ed Sybesma C (Martinus Nijhoff/Dr. W. Junk Publishers, The Hague, The Netherlands), Vol 1, pp 477–480.  11. Rutherford AW, Renger G, Koike H, Inoue Y (1984) Thermoluminescence as a probe of photosystem II. The redox and protonation states of the secondary acceptor quinone and the O2-evolving enzyme. Biochim Biophys Acta 767(3):548–556.  12. Crofts AR, et al. (1987) Catalytic sites for reduction and oxidation of quinones. Cytochrome Systems: Molecular Biology and Bioenergetics, eds Papa S, Chance B, Ernster L (Plenum, New York), pp 617–624.  13. Michel H, Deisenhofer J (1988) Relevance of the photosynthetic reaction center from  purple bacteria to the structure of photosystem II. Biochemistry 27:1–7.  14. Rutherford AW, Faller P (2003) Photosystem II: Evolutionary perspectives. Philos Trans  R Soc Lond B Biol Sci 358(1429):245–253.  15. Wraight CA (2004) Proton and electron transfer in the acceptor quinone complex of photosynthetic reaction centers from Rhodobacter sphaeroides. Front Biosci 9: 309–337.  16. Okamura MY, Paddock ML, Graige MS, Feher G (2000) Proton and electron transfer in  bacterial reaction centers. Biochim Biophys Acta 1458(1):148–163.  17. Ishikita H, Knapp E-W (2004) Variation of Ser-L223 hydrogen bonding with the QB redox state in reaction centers from Rhodobacter sphaeroides. J Am Chem Soc 126 (25):8059–8064.  18. Zhu Z, Gunner MR (2005) Energetics of quinone-dependent electron and proton transfers in Rhodobacter sphaeroides photosynthetic reaction centers. Biochemistry 44(1):82–96.  19. Paddock ML, et al. (2007) ENDOR spectroscopy reveals light induced movement of the –(cid:129)) in reaction centers from  H-bond from Ser-L223 upon forming the semiquinone (QB Rhodobacter sphaeroides. Biochemistry 46(28):8234–8243.  20. Martin E, et al. (2011) Hydrogen bonding and spin density distribution in the QB semiquinone of bacterial reaction centers and comparison with the QA site. J Am Chem Soc 133(14):5525–5537.  21. Shevela D, Eaton-Rye JJ, Shen J-R, Govindjee (2012) Photosystem II and the unique role  of bicarbonate: A historical perspective. Biochim Biophys Acta 1817(8):1134–1151.  29. Zu Y, et al. (2003) Reduction potentials of Rieske clusters: Importance of the coupling between oxidation state and histidine protonation state. Biochemistry 42(42): 12400–12408.  30. Hsueh KL, Westler WM, Markley JL (2010) NMR investigations of the Rieske protein from Thermus thermophilus support a coupled proton and electron transfer mech- anism. J Am Chem Soc 132(23):7908–7918.  31. Berthomieu C, Hienerwadel R (2001) Iron coordination in photosystem II: Interaction between bicarbonate and the QB pocket studied by Fourier transform infrared spectroscopy. Biochemistry 40(13):4044–4052.  32. Paddock ML, McPherson PH, Feher G, Okamura MY (1990) Pathway of proton transfer in bacterial reaction centers: Replacement of serine-L223 by alanine inhibits electron and proton transfers associated with reduction of quinone to dihydroquinone. Proc Natl Acad Sci USA 87(17):6803–6807.  33. Kálmán L, Maróti P (1994) Stabilization of reduced primary quinone by proton uptake  in reaction centers of Rhodobacter sphaeroides. Biochemistry 33(31):9237–9244.  34. Stowell MHB, et al. (1997) Light-induced structural changes in photosynthetic re- action center: Implications for mechanism of electron-proton transfer. Science 276 (5313):812–816.  35. Takahashi R, Boussac A, Sugiura M, Noguchi T (2009) Structural coupling of a tyrosine side chain with the non-heme iron center in photosystem II as revealed by light-in- duced Fourier transform infrared difference spectroscopy. Biochemistry 48(38): 8994–9001.  36. Maenpaa P, et al. (1995) A mutation in the D-de Loop of D1 modiﬁes the stability of  the S2QA  - and S2QB  - states in Photosystem II. Plant Physiol 107(1):187–197.  37. Chernev P, Zaharieva I, Dau H, Haumann M (2011) Carboxylate shifts steer inter-  quinone electron transfer in photosynthesis. J Biol Chem 286(7):5368–5374.  38. Fufezan C, Zhang C, Krieger-Liszkay A, Rutherford AW (2005) Secondary quinone in photosystem II of Thermosynechococcus elongatus: Semiquinone-iron EPR signals and temperature dependence of electron transfer. Biochemistry 44(38): 12780–12789.  39. Sedoud A, et al. (2011) Effects of formate binding on the quinone-iron electron ac-  ceptor complex of photosystem II. Biochim Biophys Acta 1807(2):216–226.  40. Rutherford AW, Zimmermann J-L (1984) A new EPR signal attributed to the pri- mary plastosemiquinone acceptor in Photosystem II. Biochim Biophys Acta 767(1): 168–175.  41. Cox N, et al. (2009) The semiquinone-iron complex of photosystem II: Structural in- sights from ESR and theoretical simulation; evidence that the native ligand to the non-heme iron is carbonate. Biophys J 97(7):2024–2033.  42. Hienerwadel R, Berthomieu C (1995) Bicarbonate binding to the non-heme iron of photosystem II investigated by Fourier transform infrared difference spectroscopy and 13C-labeled bicarbonate. Biochemistry 34(50):16288–16297.  43. Pospísil P, Arató A, Krieger-Liszkay A, Rutherford AW (2004) Hydroxyl radical gen-  eration by photosystem II. Biochemistry 43(21):6783–6792.  44. Miyao M, Ikeuchi M, Yamamoto N, Ono T (1995) Speciﬁc degradation of the D1 protein of photosystem II by treatment with hydrogen peroxide in darkness: Im- plications for the mechanism of degradation of the D1 protein under illumination. Biochemistry 34(31):10019–10026.  45. Calabrese V, Boyd-Kimball D, Scapagnini G, Butterﬁeld DA (2004) Nitric oxide and cellular stress response in brain aging and neurodegenerative disorders: The role of vitagenes. In Vivo 18(3):245–267.  46. Greenberg BM, Gaba V, Mattoo AK, Edelman M (1987) Identiﬁcation of a primary in vivo degradation product of the rapidly-turning-over 32 kd protein of photosystem II. EMBO J 6(10):2865–2869.  47. Vass I, Sanakis Y, Spetea C, Petrouleas V (1995) Effects of photoinhibition on the -Fe2+ complex of photosystem II studied by EPR and Mössbauer spectroscopy.  QA Biochemistry 34(13):4434–4440.  22. Perrin CL, Nielson JB (1997) “Strong” hydrogen bonds in chemistry and biology. Annu  48. Berglund GI, et al. (2002) The catalytic pathway of horseradish peroxidase at high  Rev Phys Chem 48:511–544.  resolution. Nature 417(6887):463–468.  23. Bruice TC, Schmir GL (1958) Imidazole catalysis.  II. The reaction of substituted imidazoles with phenyl acetates in aqueous solution. J Am Chem Soc 80(1):148–156. 24. Rabenstein B, Ullmann GM, Knapp E-W (1998) Energetics of electron-transfer and protonation reactions of the quinones in the photosynthetic reaction center of Rhodopseudomonas viridis. Biochemistry 37(8):2488–2495.  49. Krieger A, Rutherford AW, Johnson GN (1995) On the determination of redox midpoint potential of the primary quinone electron transfer acceptor, QA, in pho- tosystem II. Biochim Biophys Acta 1229(2):193–201.  50. Brooks BR, et al. (1983) CHARMM: A program for macromolecular energy minimi-  zation and dynamics calculations. J Comput Chem 4(2):187–217.  25. Jeffrey GA (1997) An Introduction to Hydrogen Bonding (Oxford Univ Press,  51. MacKerell AD, Jr., et al. (1998) All-atom empirical potential for molecular modeling  Oxford, UK).  and dynamics studies of proteins. J Phys Chem B 102(18):3586–3616.  26. Frey PA (2006) Isotope Effects in Chemistry and Biology, eds Kohen A, Limbach H-H  52. Saito K, et al. (2011) Distribution of the cationic state over the chlorophyll pair of the  (CRC Press, Boca Raton, FL), pp 975–993.  photosystem II reaction center. J Am Chem Soc 133(36):14379–14388.  27. Schutz CN, Warshel A (2004) The low barrier hydrogen bond (LBHB) proposal re-  visited: The case of the Asp... His pair in serine proteases. Proteins 55(3):711–723.  28. Swallow AJ (1982) Function of Quinones in Energy Conserving Systems, ed Trumpower BL  53. Saito K, Shen J-R, Ishida T, Ishikita H (2011) Short hydrogen bond between redox- active tyrosine YZ and D1-His190 in the photosystem II crystal structure. Biochemistry 50(45):9836–9844.  (Academic Press, New York), pp 59–72.  54. (2012) QSite, version 5.8 (Schrödinger, LLC, New York, NY).  Saito et al.  PNAS |  January 15, 2013 | vol. 110 | no. 3 | 959     0 2 0 2    ,  7 2    r e b o t c O n o       t s e u g   y b   d e d a o n w o D  l  \\x0c'"
      ]
     },
     "execution_count": 93,
     "metadata": {},
     "output_type": "execute_result"
    }
   ],
   "source": [
    "num_run = 1\n",
    "get_paper('23277574', oa_split1['23277574'])"
   ]
  },
  {
   "cell_type": "code",
   "execution_count": null,
   "metadata": {},
   "outputs": [],
   "source": []
  },
  {
   "cell_type": "code",
   "execution_count": null,
   "metadata": {},
   "outputs": [],
   "source": []
  },
  {
   "cell_type": "code",
   "execution_count": 33,
   "metadata": {},
   "outputs": [],
   "source": [
    "os.remove('tmp.pdf')"
   ]
  },
  {
   "cell_type": "code",
   "execution_count": 46,
   "metadata": {},
   "outputs": [],
   "source": [
    "import PyPDF2\n",
    "import io\n",
    "\n",
    "outtext = ''\n",
    "with io.BytesIO(response.content) as f:\n",
    "    reader = PyPDF2.PdfFileReader(f)\n",
    "    for page in reader.pages:\n",
    "        outtext += page.extractText()"
   ]
  },
  {
   "cell_type": "markdown",
   "metadata": {},
   "source": [
    "### Command for bash\n",
    "Make sure the pwd is /brenda_data_collection/, then paste the following command:"
   ]
  },
  {
   "cell_type": "code",
   "execution_count": 80,
   "metadata": {},
   "outputs": [
    {
     "name": "stdout",
     "output_type": "stream",
     "text": [
      "python fetch_oa.py 1 & python fetch_oa.py 2 & python fetch_oa.py 3 & python fetch_oa.py 4 & python fetch_oa.py 5 & python fetch_oa.py 6 & "
     ]
    }
   ],
   "source": [
    "for i in range(1, 7):\n",
    "    print(f\"python fetch_oa.py {i} &\", end=' ')"
   ]
  },
  {
   "cell_type": "code",
   "execution_count": null,
   "metadata": {},
   "outputs": [],
   "source": []
  },
  {
   "cell_type": "markdown",
   "metadata": {},
   "source": [
    "***"
   ]
  },
  {
   "cell_type": "markdown",
   "metadata": {},
   "source": [
    "## [1.] DO NOT RUN: Elsevier API and Loop\n",
    "Code below is the rough basis for elsevier.py"
   ]
  },
  {
   "cell_type": "markdown",
   "metadata": {},
   "source": [
    "Setting up the API"
   ]
  },
  {
   "cell_type": "code",
   "execution_count": null,
   "metadata": {},
   "outputs": [],
   "source": [
    "# Load configuration\n",
    "con_file = open(\"elsevier_api/config.json\")\n",
    "config = json.load(con_file)\n",
    "con_file.close()\n",
    "\n",
    "# Initialize client\n",
    "client = ElsClient(config['apikey'])\n",
    "client.local_dir = \"./get_fullpapers_pmidset/\""
   ]
  },
  {
   "cell_type": "code",
   "execution_count": null,
   "metadata": {},
   "outputs": [],
   "source": [
    "# Function: Get paper\n",
    "def get_paper(doi: str):\n",
    "    ## ScienceDirect (full-text) document example using DOI\n",
    "    doi_doc = FullDoc(doi = doi)\n",
    "    if doi_doc.read(client):\n",
    "        return doi_doc.data\n",
    "    else:\n",
    "        return False"
   ]
  },
  {
   "cell_type": "markdown",
   "metadata": {},
   "source": [
    "Main Loop (taken and modified from elsevier_api).\n",
    "\n",
    "**NOTE: MUST ENABLE BERKELEY VPN FOR THIS TO WORK!**"
   ]
  },
  {
   "cell_type": "code",
   "execution_count": null,
   "metadata": {},
   "outputs": [],
   "source": [
    "# Test to see if it works\n",
    "get_paper('10.1016/0031-9422(73)80493-5');"
   ]
  },
  {
   "cell_type": "code",
   "execution_count": null,
   "metadata": {},
   "outputs": [],
   "source": [
    "# Output file = doi to full_text dict dictionary (in json)\n",
    "def loop_elsevier(elsevier_subset, outfile):\n",
    "    json_file = outfile\n",
    "    if os.path.isfile(json_file):\n",
    "        with open(json_file, 'r') as fp:\n",
    "            elsevier_fulltexts = json.load(fp)\n",
    "            fp.close()\n",
    "    else:\n",
    "        elsevier_fulltexts = {}\n",
    "\n",
    "    # hyperparam (-1 if max)\n",
    "    max_calls = -1\n",
    "\n",
    "    # Stats\n",
    "    calls = 0\n",
    "    fails = 0\n",
    "    not_elsevier = 0\n",
    "    successes_or_found = 0\n",
    "    queries = 0\n",
    "\n",
    "    try:\n",
    "        # Looping through quantify_dataset output json.\n",
    "        for pmid, metadata in elsevier_subset.items():\n",
    "            doi = metadata['doi']\n",
    "            doi_url = f\"https://doi.org/{doi}\"\n",
    "\n",
    "            # dont go over max calls. (-1 if infinite)\n",
    "            if calls == max_calls or (queries == -1):\n",
    "                print(\"Query limit reached.\")\n",
    "                break\n",
    "            else:\n",
    "                calls += 1\n",
    "\n",
    "            # checks if paper has been successfully fetched before\n",
    "            if pmid in elsevier_fulltexts:\n",
    "                successes_or_found += 1\n",
    "                print(f\"## Call {calls} found.\")\n",
    "                continue\n",
    "\n",
    "            fullpaper = get_paper(doi)\n",
    "            if (fullpaper):\n",
    "                elsevier_fulltexts[pmid] = fullpaper\n",
    "                successes_or_found += 1\n",
    "                queries += 1\n",
    "                print(f\"Call {calls} success.\")\n",
    "            else:\n",
    "                fails += 1\n",
    "                print (f\"##### Call {calls} failed: {fails}. DOI: {doi_url}.\")\n",
    "\n",
    "    except KeyboardInterrupt:\n",
    "        pass\n",
    "\n",
    "    # save to file\n",
    "    with open(json_file, 'w') as fp:\n",
    "        json.dump(elsevier_fulltexts, fp)\n",
    "        # vary: alter frequency of file save\n",
    "        fp.close()\n",
    "\n",
    "    # Print Stats\n",
    "    print(\"\")\n",
    "    print(\"###### STATS ######\")\n",
    "    print(f\"Total calls: {calls}\")\n",
    "    print(f\"Total number of queries: {queries}\")\n",
    "    print(f\"Total number of Elsevier papers: {calls - not_elsevier}\")\n",
    "    print(f\"Number of Non-Elsevier papers skipped: {not_elsevier}\")\n",
    "    print(f\"Number of fetch failures: {fails}\")\n",
    "    print(f\"Papers in storage: {len(elsevier_fulltexts)}\")\n",
    "    print(f\"% of success: {successes_or_found / (calls-not_elsevier) * 100}%\")"
   ]
  },
  {
   "cell_type": "code",
   "execution_count": null,
   "metadata": {},
   "outputs": [],
   "source": []
  }
 ],
 "metadata": {
  "kernelspec": {
   "display_name": "Python 3",
   "language": "python",
   "name": "python3"
  },
  "language_info": {
   "codemirror_mode": {
    "name": "ipython",
    "version": 3
   },
   "file_extension": ".py",
   "mimetype": "text/x-python",
   "name": "python",
   "nbconvert_exporter": "python",
   "pygments_lexer": "ipython3",
   "version": "3.7.8"
  }
 },
 "nbformat": 4,
 "nbformat_minor": 4
}
