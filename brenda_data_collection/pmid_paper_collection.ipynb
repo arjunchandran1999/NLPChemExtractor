{
 "cells": [
  {
   "cell_type": "code",
   "execution_count": 1,
   "metadata": {},
   "outputs": [],
   "source": [
    "import pandas as pd"
   ]
  },
  {
   "cell_type": "code",
   "execution_count": 4,
   "metadata": {},
   "outputs": [
    {
     "output_type": "execute_result",
     "data": {
      "text/plain": "('../Data_CSVs/nih_pmids_index.csv', <email.message.Message at 0x7f6d0bf31af0>)"
     },
     "metadata": {},
     "execution_count": 4
    }
   ],
   "source": [
    "# Download the index; function might be deprecated in the future.\n",
    "import urllib\n",
    "\n",
    "urllib.request.urlretrieve('ftp://ftp.ncbi.nlm.nih.gov/pub/pmc/oa_file_list.csv', '../Data_CSVs/nih_pmids_index.csv')"
   ]
  },
  {
   "cell_type": "code",
   "execution_count": 2,
   "metadata": {},
   "outputs": [],
   "source": [
    "rxns = pd.read_csv(\"../Data_CSVs/brenda_rxns_incomplete.csv\")\n",
    "pmids = pd.read_csv(\"../Data_CSVs/nih_pmids_index.csv\")"
   ]
  },
  {
   "cell_type": "code",
   "execution_count": 6,
   "metadata": {},
   "outputs": [
    {
     "data": {
      "text/plain": [
       "3102979"
      ]
     },
     "execution_count": 6,
     "metadata": {},
     "output_type": "execute_result"
    }
   ],
   "source": [
    "len(pmids)"
   ]
  },
  {
   "cell_type": "code",
   "execution_count": 5,
   "metadata": {},
   "outputs": [
    {
     "data": {
      "text/html": [
       "<div>\n",
       "<style scoped>\n",
       "    .dataframe tbody tr th:only-of-type {\n",
       "        vertical-align: middle;\n",
       "    }\n",
       "\n",
       "    .dataframe tbody tr th {\n",
       "        vertical-align: top;\n",
       "    }\n",
       "\n",
       "    .dataframe thead th {\n",
       "        text-align: right;\n",
       "    }\n",
       "</style>\n",
       "<table border=\"1\" class=\"dataframe\">\n",
       "  <thead>\n",
       "    <tr style=\"text-align: right;\">\n",
       "      <th></th>\n",
       "      <th>File</th>\n",
       "      <th>Article Citation</th>\n",
       "      <th>Accession ID</th>\n",
       "      <th>Last Updated (YYYY-MM-DD HH:MM:SS)</th>\n",
       "      <th>PMID</th>\n",
       "      <th>License</th>\n",
       "    </tr>\n",
       "  </thead>\n",
       "  <tbody>\n",
       "    <tr>\n",
       "      <th>0</th>\n",
       "      <td>oa_package/08/e0/PMC13900.tar.gz</td>\n",
       "      <td>Breast Cancer Res. 2001 Nov 2; 3(1):55-60</td>\n",
       "      <td>PMC13900</td>\n",
       "      <td>2019-11-05 11:56:12</td>\n",
       "      <td>11250746.0</td>\n",
       "      <td>NO-CC CODE</td>\n",
       "    </tr>\n",
       "    <tr>\n",
       "      <th>1</th>\n",
       "      <td>oa_package/b0/ac/PMC13901.tar.gz</td>\n",
       "      <td>Breast Cancer Res. 2001 Nov 9; 3(1):61-65</td>\n",
       "      <td>PMC13901</td>\n",
       "      <td>2019-11-05 11:56:12</td>\n",
       "      <td>11250747.0</td>\n",
       "      <td>NO-CC CODE</td>\n",
       "    </tr>\n",
       "    <tr>\n",
       "      <th>2</th>\n",
       "      <td>oa_package/f7/98/PMC13902.tar.gz</td>\n",
       "      <td>Breast Cancer Res. 2001 Nov 8; 3(1):66-75</td>\n",
       "      <td>PMC13902</td>\n",
       "      <td>2019-11-05 11:56:12</td>\n",
       "      <td>11250748.0</td>\n",
       "      <td>NO-CC CODE</td>\n",
       "    </tr>\n",
       "    <tr>\n",
       "      <th>3</th>\n",
       "      <td>oa_package/9c/7f/PMC13911.tar.gz</td>\n",
       "      <td>Breast Cancer Res. 2000 Nov 16; 2(1):59-63</td>\n",
       "      <td>PMC13911</td>\n",
       "      <td>2013-03-17 14:00:52</td>\n",
       "      <td>11056684.0</td>\n",
       "      <td>NO-CC CODE</td>\n",
       "    </tr>\n",
       "    <tr>\n",
       "      <th>4</th>\n",
       "      <td>oa_package/c6/fb/PMC13912.tar.gz</td>\n",
       "      <td>Breast Cancer Res. 2000 Dec 6; 2(1):64-72</td>\n",
       "      <td>PMC13912</td>\n",
       "      <td>2019-11-05 11:56:12</td>\n",
       "      <td>11400682.0</td>\n",
       "      <td>NO-CC CODE</td>\n",
       "    </tr>\n",
       "  </tbody>\n",
       "</table>\n",
       "</div>"
      ],
      "text/plain": [
       "                               File  \\\n",
       "0  oa_package/08/e0/PMC13900.tar.gz   \n",
       "1  oa_package/b0/ac/PMC13901.tar.gz   \n",
       "2  oa_package/f7/98/PMC13902.tar.gz   \n",
       "3  oa_package/9c/7f/PMC13911.tar.gz   \n",
       "4  oa_package/c6/fb/PMC13912.tar.gz   \n",
       "\n",
       "                             Article Citation Accession ID  \\\n",
       "0   Breast Cancer Res. 2001 Nov 2; 3(1):55-60     PMC13900   \n",
       "1   Breast Cancer Res. 2001 Nov 9; 3(1):61-65     PMC13901   \n",
       "2   Breast Cancer Res. 2001 Nov 8; 3(1):66-75     PMC13902   \n",
       "3  Breast Cancer Res. 2000 Nov 16; 2(1):59-63     PMC13911   \n",
       "4   Breast Cancer Res. 2000 Dec 6; 2(1):64-72     PMC13912   \n",
       "\n",
       "  Last Updated (YYYY-MM-DD HH:MM:SS)        PMID     License  \n",
       "0                2019-11-05 11:56:12  11250746.0  NO-CC CODE  \n",
       "1                2019-11-05 11:56:12  11250747.0  NO-CC CODE  \n",
       "2                2019-11-05 11:56:12  11250748.0  NO-CC CODE  \n",
       "3                2013-03-17 14:00:52  11056684.0  NO-CC CODE  \n",
       "4                2019-11-05 11:56:12  11400682.0  NO-CC CODE  "
      ]
     },
     "execution_count": 5,
     "metadata": {},
     "output_type": "execute_result"
    }
   ],
   "source": [
    "pmids.head()"
   ]
  },
  {
   "cell_type": "code",
   "execution_count": 7,
   "metadata": {},
   "outputs": [],
   "source": [
    "accessible_pmids = pmids[pd.notnull(pmids[\"PMID\"])]"
   ]
  },
  {
   "cell_type": "code",
   "execution_count": 9,
   "metadata": {},
   "outputs": [
    {
     "data": {
      "text/plain": [
       "2917083"
      ]
     },
     "execution_count": 9,
     "metadata": {},
     "output_type": "execute_result"
    }
   ],
   "source": [
    "len(accessible_pmids)"
   ]
  },
  {
   "cell_type": "code",
   "execution_count": 10,
   "metadata": {},
   "outputs": [],
   "source": [
    "papers_index = accessible_pmids.merge(rxns, left_on=[\"PMID\"], right_on=\"pubmedId\", how=\"inner\")"
   ]
  },
  {
   "cell_type": "code",
   "execution_count": 11,
   "metadata": {},
   "outputs": [
    {
     "data": {
      "text/plain": [
       "24013"
      ]
     },
     "execution_count": 11,
     "metadata": {},
     "output_type": "execute_result"
    }
   ],
   "source": [
    "len(papers_index)"
   ]
  },
  {
   "cell_type": "code",
   "execution_count": 15,
   "metadata": {},
   "outputs": [
    {
     "data": {
      "text/plain": [
       "6243"
      ]
     },
     "execution_count": 15,
     "metadata": {},
     "output_type": "execute_result"
    }
   ],
   "source": [
    "papers_index.PMID.unique().size"
   ]
  },
  {
   "cell_type": "code",
   "execution_count": 17,
   "metadata": {},
   "outputs": [
    {
     "data": {
      "text/plain": [
       "97705"
      ]
     },
     "execution_count": 17,
     "metadata": {},
     "output_type": "execute_result"
    }
   ],
   "source": [
    "rxns.pubmedId.unique().size-papers_index.PMID.unique().size"
   ]
  },
  {
   "cell_type": "code",
   "execution_count": 18,
   "metadata": {},
   "outputs": [
    {
     "data": {
      "text/plain": [
       "0.060058875591641976"
      ]
     },
     "execution_count": 18,
     "metadata": {},
     "output_type": "execute_result"
    }
   ],
   "source": [
    "papers_index.PMID.unique().size/rxns.pubmedId.unique().size"
   ]
  },
  {
   "cell_type": "code",
   "execution_count": 21,
   "metadata": {},
   "outputs": [
    {
     "name": "stderr",
     "output_type": "stream",
     "text": [
      "/Users/mrunali/opt/anaconda3/lib/python3.7/site-packages/ipykernel_launcher.py:1: DeprecationWarning: elementwise comparison failed; this will raise an error in the future.\n",
      "  \"\"\"Entry point for launching an IPython kernel.\n"
     ]
    },
    {
     "ename": "ValueError",
     "evalue": "Lengths must match to compare",
     "output_type": "error",
     "traceback": [
      "\u001b[0;31m---------------------------------------------------------------------------\u001b[0m",
      "\u001b[0;31mValueError\u001b[0m                                Traceback (most recent call last)",
      "\u001b[0;32m<ipython-input-21-cbc98592cfe9>\u001b[0m in \u001b[0;36m<module>\u001b[0;34m\u001b[0m\n\u001b[0;32m----> 1\u001b[0;31m \u001b[0maccessible_pmids\u001b[0m\u001b[0;34m[\u001b[0m\u001b[0maccessible_pmids\u001b[0m\u001b[0;34m[\u001b[0m\u001b[0;34m\"PMID\"\u001b[0m\u001b[0;34m]\u001b[0m \u001b[0;32min\u001b[0m \u001b[0;34m(\u001b[0m\u001b[0mpapers_index\u001b[0m\u001b[0;34m.\u001b[0m\u001b[0mPMID\u001b[0m\u001b[0;34m.\u001b[0m\u001b[0munique\u001b[0m\u001b[0;34m(\u001b[0m\u001b[0;34m)\u001b[0m\u001b[0;34m)\u001b[0m\u001b[0;34m]\u001b[0m\u001b[0;34m\u001b[0m\u001b[0;34m\u001b[0m\u001b[0m\n\u001b[0m",
      "\u001b[0;32m~/opt/anaconda3/lib/python3.7/site-packages/pandas/core/ops/__init__.py\u001b[0m in \u001b[0;36mwrapper\u001b[0;34m(self, other, axis)\u001b[0m\n\u001b[1;32m   1205\u001b[0m             \u001b[0;31m# as it will broadcast\u001b[0m\u001b[0;34m\u001b[0m\u001b[0;34m\u001b[0m\u001b[0;34m\u001b[0m\u001b[0m\n\u001b[1;32m   1206\u001b[0m             \u001b[0;32mif\u001b[0m \u001b[0mother\u001b[0m\u001b[0;34m.\u001b[0m\u001b[0mndim\u001b[0m \u001b[0;34m!=\u001b[0m \u001b[0;36m0\u001b[0m \u001b[0;32mand\u001b[0m \u001b[0mlen\u001b[0m\u001b[0;34m(\u001b[0m\u001b[0mself\u001b[0m\u001b[0;34m)\u001b[0m \u001b[0;34m!=\u001b[0m \u001b[0mlen\u001b[0m\u001b[0;34m(\u001b[0m\u001b[0mother\u001b[0m\u001b[0;34m)\u001b[0m\u001b[0;34m:\u001b[0m\u001b[0;34m\u001b[0m\u001b[0;34m\u001b[0m\u001b[0m\n\u001b[0;32m-> 1207\u001b[0;31m                 \u001b[0;32mraise\u001b[0m \u001b[0mValueError\u001b[0m\u001b[0;34m(\u001b[0m\u001b[0;34m\"Lengths must match to compare\"\u001b[0m\u001b[0;34m)\u001b[0m\u001b[0;34m\u001b[0m\u001b[0;34m\u001b[0m\u001b[0m\n\u001b[0m\u001b[1;32m   1208\u001b[0m \u001b[0;34m\u001b[0m\u001b[0m\n\u001b[1;32m   1209\u001b[0m             \u001b[0mres_values\u001b[0m \u001b[0;34m=\u001b[0m \u001b[0mna_op\u001b[0m\u001b[0;34m(\u001b[0m\u001b[0mself\u001b[0m\u001b[0;34m.\u001b[0m\u001b[0mvalues\u001b[0m\u001b[0;34m,\u001b[0m \u001b[0mnp\u001b[0m\u001b[0;34m.\u001b[0m\u001b[0masarray\u001b[0m\u001b[0;34m(\u001b[0m\u001b[0mother\u001b[0m\u001b[0;34m)\u001b[0m\u001b[0;34m)\u001b[0m\u001b[0;34m\u001b[0m\u001b[0;34m\u001b[0m\u001b[0m\n",
      "\u001b[0;31mValueError\u001b[0m: Lengths must match to compare"
     ]
    }
   ],
   "source": [
    "accessible_pmids[accessible_pmids[\"PMID\"].str.isin(papers_index.PMID.unique())]"
   ]
  },
  {
   "cell_type": "code",
   "execution_count": 23,
   "metadata": {},
   "outputs": [
    {
     "data": {
      "text/html": [
       "<div>\n",
       "<style scoped>\n",
       "    .dataframe tbody tr th:only-of-type {\n",
       "        vertical-align: middle;\n",
       "    }\n",
       "\n",
       "    .dataframe tbody tr th {\n",
       "        vertical-align: top;\n",
       "    }\n",
       "\n",
       "    .dataframe thead th {\n",
       "        text-align: right;\n",
       "    }\n",
       "</style>\n",
       "<table border=\"1\" class=\"dataframe\">\n",
       "  <thead>\n",
       "    <tr style=\"text-align: right;\">\n",
       "      <th></th>\n",
       "      <th>Unnamed: 0</th>\n",
       "      <th>literatureProducts</th>\n",
       "      <th>literatureSubstrates</th>\n",
       "      <th>organismSubstrates</th>\n",
       "      <th>commentarySubstrates</th>\n",
       "      <th>reversibility</th>\n",
       "      <th>organismProducts</th>\n",
       "      <th>products</th>\n",
       "      <th>commentaryProducts</th>\n",
       "      <th>substrates</th>\n",
       "      <th>ecNumber</th>\n",
       "      <th>pubmedId</th>\n",
       "    </tr>\n",
       "  </thead>\n",
       "  <tbody>\n",
       "    <tr>\n",
       "      <th>0</th>\n",
       "      <td>0</td>\n",
       "      <td>NaN</td>\n",
       "      <td>695811.0</td>\n",
       "      <td>Thermus sp.</td>\n",
       "      <td>1% activity compared to cyclohexanone</td>\n",
       "      <td>?</td>\n",
       "      <td>NaN</td>\n",
       "      <td>? + NAD+</td>\n",
       "      <td>NaN</td>\n",
       "      <td>(-)-carvone + NADH + H+</td>\n",
       "      <td>1.1.1.1</td>\n",
       "      <td>18704396.0</td>\n",
       "    </tr>\n",
       "    <tr>\n",
       "      <th>1</th>\n",
       "      <td>1</td>\n",
       "      <td>NaN</td>\n",
       "      <td>695811.0</td>\n",
       "      <td>Thermus sp.</td>\n",
       "      <td>125% activity compared to cyclohexanol</td>\n",
       "      <td>r</td>\n",
       "      <td>NaN</td>\n",
       "      <td>(rac)-3-methylcyclohexanone + NADH + H+</td>\n",
       "      <td>163% activity compared to cyclohexanone</td>\n",
       "      <td>(1S,3S)-3-methylcyclohexanol + NAD+</td>\n",
       "      <td>1.1.1.1</td>\n",
       "      <td>18704396.0</td>\n",
       "    </tr>\n",
       "    <tr>\n",
       "      <th>2</th>\n",
       "      <td>2</td>\n",
       "      <td>NaN</td>\n",
       "      <td>735498.0</td>\n",
       "      <td>Yokenella sp.</td>\n",
       "      <td>41.5% of the activity with (2E)-but-2-enal, yi...</td>\n",
       "      <td>?</td>\n",
       "      <td>NaN</td>\n",
       "      <td>(2E)-2-methylpent-2-en-1-ol + NADP+</td>\n",
       "      <td>NaN</td>\n",
       "      <td>(2E)-2-methylpent-2-enal + NADPH + H+</td>\n",
       "      <td>1.1.1.1</td>\n",
       "      <td>24509923.0</td>\n",
       "    </tr>\n",
       "    <tr>\n",
       "      <th>3</th>\n",
       "      <td>3</td>\n",
       "      <td>NaN</td>\n",
       "      <td>735498.0</td>\n",
       "      <td>Yokenella sp.</td>\n",
       "      <td>37.4% of the activity with (2E)-but-2-enal, yi...</td>\n",
       "      <td>?</td>\n",
       "      <td>NaN</td>\n",
       "      <td>(2E)-3,7-dimethylocta-2,6-dien-1-ol + NADP+</td>\n",
       "      <td>NaN</td>\n",
       "      <td>(2E)-3,7-dimethylocta-2,6-dienal + NADPH + H+</td>\n",
       "      <td>1.1.1.1</td>\n",
       "      <td>24509923.0</td>\n",
       "    </tr>\n",
       "    <tr>\n",
       "      <th>4</th>\n",
       "      <td>4</td>\n",
       "      <td>NaN</td>\n",
       "      <td>691867.0</td>\n",
       "      <td>Homo sapiens</td>\n",
       "      <td>substrate of isozyme ADH4</td>\n",
       "      <td>r</td>\n",
       "      <td>NaN</td>\n",
       "      <td>(2E)-non-2-ene-1,4-diol + NAD+</td>\n",
       "      <td>NaN</td>\n",
       "      <td>(2E)-4-hydroxynon-2-enal + NADH + H+</td>\n",
       "      <td>1.1.1.1</td>\n",
       "      <td>18505683.0</td>\n",
       "    </tr>\n",
       "  </tbody>\n",
       "</table>\n",
       "</div>"
      ],
      "text/plain": [
       "   Unnamed: 0  literatureProducts  literatureSubstrates organismSubstrates  \\\n",
       "0           0                 NaN              695811.0        Thermus sp.   \n",
       "1           1                 NaN              695811.0        Thermus sp.   \n",
       "2           2                 NaN              735498.0      Yokenella sp.   \n",
       "3           3                 NaN              735498.0      Yokenella sp.   \n",
       "4           4                 NaN              691867.0       Homo sapiens   \n",
       "\n",
       "                                commentarySubstrates reversibility  \\\n",
       "0              1% activity compared to cyclohexanone             ?   \n",
       "1             125% activity compared to cyclohexanol             r   \n",
       "2  41.5% of the activity with (2E)-but-2-enal, yi...             ?   \n",
       "3  37.4% of the activity with (2E)-but-2-enal, yi...             ?   \n",
       "4                          substrate of isozyme ADH4             r   \n",
       "\n",
       "  organismProducts                                     products  \\\n",
       "0              NaN                                     ? + NAD+   \n",
       "1              NaN      (rac)-3-methylcyclohexanone + NADH + H+   \n",
       "2              NaN          (2E)-2-methylpent-2-en-1-ol + NADP+   \n",
       "3              NaN  (2E)-3,7-dimethylocta-2,6-dien-1-ol + NADP+   \n",
       "4              NaN               (2E)-non-2-ene-1,4-diol + NAD+   \n",
       "\n",
       "                        commentaryProducts  \\\n",
       "0                                      NaN   \n",
       "1  163% activity compared to cyclohexanone   \n",
       "2                                      NaN   \n",
       "3                                      NaN   \n",
       "4                                      NaN   \n",
       "\n",
       "                                      substrates ecNumber    pubmedId  \n",
       "0                        (-)-carvone + NADH + H+  1.1.1.1  18704396.0  \n",
       "1            (1S,3S)-3-methylcyclohexanol + NAD+  1.1.1.1  18704396.0  \n",
       "2          (2E)-2-methylpent-2-enal + NADPH + H+  1.1.1.1  24509923.0  \n",
       "3  (2E)-3,7-dimethylocta-2,6-dienal + NADPH + H+  1.1.1.1  24509923.0  \n",
       "4           (2E)-4-hydroxynon-2-enal + NADH + H+  1.1.1.1  18505683.0  "
      ]
     },
     "execution_count": 23,
     "metadata": {},
     "output_type": "execute_result"
    }
   ],
   "source": [
    "rxns.head()"
   ]
  },
  {
   "cell_type": "code",
   "execution_count": 27,
   "metadata": {},
   "outputs": [
    {
     "ename": "ModuleNotFoundError",
     "evalue": "No module named 'BeautifulSoup'",
     "output_type": "error",
     "traceback": [
      "\u001b[0;31m---------------------------------------------------------------------------\u001b[0m",
      "\u001b[0;31mModuleNotFoundError\u001b[0m                       Traceback (most recent call last)",
      "\u001b[0;32m<ipython-input-27-ad1a75b85793>\u001b[0m in \u001b[0;36m<module>\u001b[0;34m\u001b[0m\n\u001b[0;32m----> 1\u001b[0;31m \u001b[0;32mimport\u001b[0m \u001b[0mBeautifulSoup\u001b[0m\u001b[0;34m\u001b[0m\u001b[0;34m\u001b[0m\u001b[0m\n\u001b[0m",
      "\u001b[0;31mModuleNotFoundError\u001b[0m: No module named 'BeautifulSoup'"
     ]
    }
   ],
   "source": [
    "import BeautifulSoup"
   ]
  },
  {
   "cell_type": "code",
   "execution_count": null,
   "metadata": {},
   "outputs": [],
   "source": [
    "https://doi.crossref.org/openurl?pid=mrunali@berkeley.edu&aulast=Maas%20LRM&title= JOURNAL%20OF%20PHYSICAL%20OCEANOGRAPHY&volume=32&issue=3&spage=870&date=2002&noredirect=true"
   ]
  }
 ],
 "metadata": {
  "kernelspec": {
   "display_name": "Python 3.8.5 64-bit ('igem': conda)",
   "language": "python",
   "name": "python_defaultSpec_1600484352239"
  },
  "language_info": {
   "codemirror_mode": {
    "name": "ipython",
    "version": 3
   },
   "file_extension": ".py",
   "mimetype": "text/x-python",
   "name": "python",
   "nbconvert_exporter": "python",
   "pygments_lexer": "ipython3",
   "version": "3.8.5-final"
  }
 },
 "nbformat": 4,
 "nbformat_minor": 4
}