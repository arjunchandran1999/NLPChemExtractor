{
 "cells": [
  {
   "cell_type": "markdown",
   "metadata": {},
   "source": [
    "## Looking at Open Access PMID papers \n",
    "~6% or 6243 papers that we are interested in are available through PubMed's open access subset, covering 97705 reactions"
   ]
  },
  {
   "cell_type": "code",
   "execution_count": 3,
   "metadata": {},
   "outputs": [],
   "source": [
    "import pandas as pd"
   ]
  },
  {
   "cell_type": "code",
   "execution_count": 4,
   "metadata": {},
   "outputs": [
    {
     "name": "stdout",
     "output_type": "stream",
     "text": [
      "File already exists. Not downloading.\n"
     ]
    }
   ],
   "source": [
    "# Download the index; function might be deprecated in the future.\n",
    "import urllib\n",
    "import os.path\n",
    "\n",
    "if not os.path.isfile('../Data_CSVs/nih_pmids_index.csv'):\n",
    "    urllib.request.urlretrieve('ftp://ftp.ncbi.nlm.nih.gov/pub/pmc/oa_file_list.csv', '../Data_CSVs/nih_pmids_index.csv')\n",
    "    print(\"File downloaded.\")\n",
    "else:\n",
    "    print(\"File already exists. Not downloading.\")"
   ]
  },
  {
   "cell_type": "code",
   "execution_count": 5,
   "metadata": {},
   "outputs": [],
   "source": [
    "rxns = pd.read_csv(\"../Data_CSVs/brenda_rxns_incomplete.csv\")\n",
    "pmids = pd.read_csv(\"../Data_CSVs/nih_pmids_index.csv\")"
   ]
  },
  {
   "cell_type": "code",
   "execution_count": 6,
   "metadata": {},
   "outputs": [
    {
     "data": {
      "text/plain": [
       "3116586"
      ]
     },
     "execution_count": 6,
     "metadata": {},
     "output_type": "execute_result"
    }
   ],
   "source": [
    "len(pmids)"
   ]
  },
  {
   "cell_type": "code",
   "execution_count": 7,
   "metadata": {},
   "outputs": [
    {
     "data": {
      "text/html": [
       "<div>\n",
       "<style scoped>\n",
       "    .dataframe tbody tr th:only-of-type {\n",
       "        vertical-align: middle;\n",
       "    }\n",
       "\n",
       "    .dataframe tbody tr th {\n",
       "        vertical-align: top;\n",
       "    }\n",
       "\n",
       "    .dataframe thead th {\n",
       "        text-align: right;\n",
       "    }\n",
       "</style>\n",
       "<table border=\"1\" class=\"dataframe\">\n",
       "  <thead>\n",
       "    <tr style=\"text-align: right;\">\n",
       "      <th></th>\n",
       "      <th>File</th>\n",
       "      <th>Article Citation</th>\n",
       "      <th>Accession ID</th>\n",
       "      <th>Last Updated (YYYY-MM-DD HH:MM:SS)</th>\n",
       "      <th>PMID</th>\n",
       "      <th>License</th>\n",
       "    </tr>\n",
       "  </thead>\n",
       "  <tbody>\n",
       "    <tr>\n",
       "      <td>0</td>\n",
       "      <td>oa_package/08/e0/PMC13900.tar.gz</td>\n",
       "      <td>Breast Cancer Res. 2001 Nov 2; 3(1):55-60</td>\n",
       "      <td>PMC13900</td>\n",
       "      <td>2019-11-05 11:56:12</td>\n",
       "      <td>11250746.0</td>\n",
       "      <td>NO-CC CODE</td>\n",
       "    </tr>\n",
       "    <tr>\n",
       "      <td>1</td>\n",
       "      <td>oa_package/b0/ac/PMC13901.tar.gz</td>\n",
       "      <td>Breast Cancer Res. 2001 Nov 9; 3(1):61-65</td>\n",
       "      <td>PMC13901</td>\n",
       "      <td>2019-11-05 11:56:12</td>\n",
       "      <td>11250747.0</td>\n",
       "      <td>NO-CC CODE</td>\n",
       "    </tr>\n",
       "    <tr>\n",
       "      <td>2</td>\n",
       "      <td>oa_package/f7/98/PMC13902.tar.gz</td>\n",
       "      <td>Breast Cancer Res. 2001 Nov 8; 3(1):66-75</td>\n",
       "      <td>PMC13902</td>\n",
       "      <td>2019-11-05 11:56:12</td>\n",
       "      <td>11250748.0</td>\n",
       "      <td>NO-CC CODE</td>\n",
       "    </tr>\n",
       "    <tr>\n",
       "      <td>3</td>\n",
       "      <td>oa_package/9c/7f/PMC13911.tar.gz</td>\n",
       "      <td>Breast Cancer Res. 2000 Nov 16; 2(1):59-63</td>\n",
       "      <td>PMC13911</td>\n",
       "      <td>2013-03-17 14:00:52</td>\n",
       "      <td>11056684.0</td>\n",
       "      <td>NO-CC CODE</td>\n",
       "    </tr>\n",
       "    <tr>\n",
       "      <td>4</td>\n",
       "      <td>oa_package/c6/fb/PMC13912.tar.gz</td>\n",
       "      <td>Breast Cancer Res. 2000 Dec 6; 2(1):64-72</td>\n",
       "      <td>PMC13912</td>\n",
       "      <td>2019-11-05 11:56:12</td>\n",
       "      <td>11400682.0</td>\n",
       "      <td>NO-CC CODE</td>\n",
       "    </tr>\n",
       "  </tbody>\n",
       "</table>\n",
       "</div>"
      ],
      "text/plain": [
       "                               File  \\\n",
       "0  oa_package/08/e0/PMC13900.tar.gz   \n",
       "1  oa_package/b0/ac/PMC13901.tar.gz   \n",
       "2  oa_package/f7/98/PMC13902.tar.gz   \n",
       "3  oa_package/9c/7f/PMC13911.tar.gz   \n",
       "4  oa_package/c6/fb/PMC13912.tar.gz   \n",
       "\n",
       "                             Article Citation Accession ID  \\\n",
       "0   Breast Cancer Res. 2001 Nov 2; 3(1):55-60     PMC13900   \n",
       "1   Breast Cancer Res. 2001 Nov 9; 3(1):61-65     PMC13901   \n",
       "2   Breast Cancer Res. 2001 Nov 8; 3(1):66-75     PMC13902   \n",
       "3  Breast Cancer Res. 2000 Nov 16; 2(1):59-63     PMC13911   \n",
       "4   Breast Cancer Res. 2000 Dec 6; 2(1):64-72     PMC13912   \n",
       "\n",
       "  Last Updated (YYYY-MM-DD HH:MM:SS)        PMID     License  \n",
       "0                2019-11-05 11:56:12  11250746.0  NO-CC CODE  \n",
       "1                2019-11-05 11:56:12  11250747.0  NO-CC CODE  \n",
       "2                2019-11-05 11:56:12  11250748.0  NO-CC CODE  \n",
       "3                2013-03-17 14:00:52  11056684.0  NO-CC CODE  \n",
       "4                2019-11-05 11:56:12  11400682.0  NO-CC CODE  "
      ]
     },
     "execution_count": 7,
     "metadata": {},
     "output_type": "execute_result"
    }
   ],
   "source": [
    "pmids.head()"
   ]
  },
  {
   "cell_type": "code",
   "execution_count": 8,
   "metadata": {},
   "outputs": [],
   "source": [
    "accessible_pmids = pmids[pd.notnull(pmids[\"PMID\"])]"
   ]
  },
  {
   "cell_type": "code",
   "execution_count": 9,
   "metadata": {},
   "outputs": [
    {
     "data": {
      "text/plain": [
       "2927133"
      ]
     },
     "execution_count": 9,
     "metadata": {},
     "output_type": "execute_result"
    }
   ],
   "source": [
    "len(accessible_pmids)"
   ]
  },
  {
   "cell_type": "code",
   "execution_count": 10,
   "metadata": {},
   "outputs": [],
   "source": [
    "papers_index = accessible_pmids.merge(rxns, left_on=[\"PMID\"], right_on=\"pubmedId\", how=\"inner\")"
   ]
  },
  {
   "cell_type": "code",
   "execution_count": 11,
   "metadata": {},
   "outputs": [
    {
     "data": {
      "text/plain": [
       "24013"
      ]
     },
     "execution_count": 11,
     "metadata": {},
     "output_type": "execute_result"
    }
   ],
   "source": [
    "len(papers_index)"
   ]
  },
  {
   "cell_type": "code",
   "execution_count": 12,
   "metadata": {},
   "outputs": [
    {
     "data": {
      "text/plain": [
       "6243"
      ]
     },
     "execution_count": 12,
     "metadata": {},
     "output_type": "execute_result"
    }
   ],
   "source": [
    "papers_index.PMID.unique().size"
   ]
  },
  {
   "cell_type": "code",
   "execution_count": 13,
   "metadata": {},
   "outputs": [
    {
     "data": {
      "text/plain": [
       "97705"
      ]
     },
     "execution_count": 13,
     "metadata": {},
     "output_type": "execute_result"
    }
   ],
   "source": [
    "rxns.pubmedId.unique().size-papers_index.PMID.unique().size"
   ]
  },
  {
   "cell_type": "code",
   "execution_count": 14,
   "metadata": {},
   "outputs": [
    {
     "data": {
      "text/plain": [
       "0.060058875591641976"
      ]
     },
     "execution_count": 14,
     "metadata": {},
     "output_type": "execute_result"
    }
   ],
   "source": [
    "papers_index.PMID.unique().size/rxns.pubmedId.unique().size"
   ]
  },
  {
   "cell_type": "code",
   "execution_count": 15,
   "metadata": {},
   "outputs": [
    {
     "ename": "AttributeError",
     "evalue": "Can only use .str accessor with string values!",
     "output_type": "error",
     "traceback": [
      "\u001b[0;31m---------------------------------------------------------------------------\u001b[0m",
      "\u001b[0;31mAttributeError\u001b[0m                            Traceback (most recent call last)",
      "\u001b[0;32m<ipython-input-15-cddb234a12c6>\u001b[0m in \u001b[0;36m<module>\u001b[0;34m\u001b[0m\n\u001b[0;32m----> 1\u001b[0;31m \u001b[0maccessible_pmids\u001b[0m\u001b[0;34m[\u001b[0m\u001b[0maccessible_pmids\u001b[0m\u001b[0;34m[\u001b[0m\u001b[0;34m\"PMID\"\u001b[0m\u001b[0;34m]\u001b[0m\u001b[0;34m.\u001b[0m\u001b[0mstr\u001b[0m\u001b[0;34m.\u001b[0m\u001b[0misin\u001b[0m\u001b[0;34m(\u001b[0m\u001b[0mpapers_index\u001b[0m\u001b[0;34m.\u001b[0m\u001b[0mPMID\u001b[0m\u001b[0;34m.\u001b[0m\u001b[0munique\u001b[0m\u001b[0;34m(\u001b[0m\u001b[0;34m)\u001b[0m\u001b[0;34m)\u001b[0m\u001b[0;34m]\u001b[0m\u001b[0;34m\u001b[0m\u001b[0;34m\u001b[0m\u001b[0m\n\u001b[0m",
      "\u001b[0;32m~/opt/anaconda3/lib/python3.7/site-packages/pandas/core/generic.py\u001b[0m in \u001b[0;36m__getattr__\u001b[0;34m(self, name)\u001b[0m\n\u001b[1;32m   5173\u001b[0m             \u001b[0;32mor\u001b[0m \u001b[0mname\u001b[0m \u001b[0;32min\u001b[0m \u001b[0mself\u001b[0m\u001b[0;34m.\u001b[0m\u001b[0m_accessors\u001b[0m\u001b[0;34m\u001b[0m\u001b[0;34m\u001b[0m\u001b[0m\n\u001b[1;32m   5174\u001b[0m         ):\n\u001b[0;32m-> 5175\u001b[0;31m             \u001b[0;32mreturn\u001b[0m \u001b[0mobject\u001b[0m\u001b[0;34m.\u001b[0m\u001b[0m__getattribute__\u001b[0m\u001b[0;34m(\u001b[0m\u001b[0mself\u001b[0m\u001b[0;34m,\u001b[0m \u001b[0mname\u001b[0m\u001b[0;34m)\u001b[0m\u001b[0;34m\u001b[0m\u001b[0;34m\u001b[0m\u001b[0m\n\u001b[0m\u001b[1;32m   5176\u001b[0m         \u001b[0;32melse\u001b[0m\u001b[0;34m:\u001b[0m\u001b[0;34m\u001b[0m\u001b[0;34m\u001b[0m\u001b[0m\n\u001b[1;32m   5177\u001b[0m             \u001b[0;32mif\u001b[0m \u001b[0mself\u001b[0m\u001b[0;34m.\u001b[0m\u001b[0m_info_axis\u001b[0m\u001b[0;34m.\u001b[0m\u001b[0m_can_hold_identifiers_and_holds_name\u001b[0m\u001b[0;34m(\u001b[0m\u001b[0mname\u001b[0m\u001b[0;34m)\u001b[0m\u001b[0;34m:\u001b[0m\u001b[0;34m\u001b[0m\u001b[0;34m\u001b[0m\u001b[0m\n",
      "\u001b[0;32m~/opt/anaconda3/lib/python3.7/site-packages/pandas/core/accessor.py\u001b[0m in \u001b[0;36m__get__\u001b[0;34m(self, obj, cls)\u001b[0m\n\u001b[1;32m    173\u001b[0m             \u001b[0;31m# we're accessing the attribute of the class, i.e., Dataset.geo\u001b[0m\u001b[0;34m\u001b[0m\u001b[0;34m\u001b[0m\u001b[0;34m\u001b[0m\u001b[0m\n\u001b[1;32m    174\u001b[0m             \u001b[0;32mreturn\u001b[0m \u001b[0mself\u001b[0m\u001b[0;34m.\u001b[0m\u001b[0m_accessor\u001b[0m\u001b[0;34m\u001b[0m\u001b[0;34m\u001b[0m\u001b[0m\n\u001b[0;32m--> 175\u001b[0;31m         \u001b[0maccessor_obj\u001b[0m \u001b[0;34m=\u001b[0m \u001b[0mself\u001b[0m\u001b[0;34m.\u001b[0m\u001b[0m_accessor\u001b[0m\u001b[0;34m(\u001b[0m\u001b[0mobj\u001b[0m\u001b[0;34m)\u001b[0m\u001b[0;34m\u001b[0m\u001b[0;34m\u001b[0m\u001b[0m\n\u001b[0m\u001b[1;32m    176\u001b[0m         \u001b[0;31m# Replace the property with the accessor object. Inspired by:\u001b[0m\u001b[0;34m\u001b[0m\u001b[0;34m\u001b[0m\u001b[0;34m\u001b[0m\u001b[0m\n\u001b[1;32m    177\u001b[0m         \u001b[0;31m# http://www.pydanny.com/cached-property.html\u001b[0m\u001b[0;34m\u001b[0m\u001b[0;34m\u001b[0m\u001b[0;34m\u001b[0m\u001b[0m\n",
      "\u001b[0;32m~/opt/anaconda3/lib/python3.7/site-packages/pandas/core/strings.py\u001b[0m in \u001b[0;36m__init__\u001b[0;34m(self, data)\u001b[0m\n\u001b[1;32m   1915\u001b[0m \u001b[0;34m\u001b[0m\u001b[0m\n\u001b[1;32m   1916\u001b[0m     \u001b[0;32mdef\u001b[0m \u001b[0m__init__\u001b[0m\u001b[0;34m(\u001b[0m\u001b[0mself\u001b[0m\u001b[0;34m,\u001b[0m \u001b[0mdata\u001b[0m\u001b[0;34m)\u001b[0m\u001b[0;34m:\u001b[0m\u001b[0;34m\u001b[0m\u001b[0;34m\u001b[0m\u001b[0m\n\u001b[0;32m-> 1917\u001b[0;31m         \u001b[0mself\u001b[0m\u001b[0;34m.\u001b[0m\u001b[0m_inferred_dtype\u001b[0m \u001b[0;34m=\u001b[0m \u001b[0mself\u001b[0m\u001b[0;34m.\u001b[0m\u001b[0m_validate\u001b[0m\u001b[0;34m(\u001b[0m\u001b[0mdata\u001b[0m\u001b[0;34m)\u001b[0m\u001b[0;34m\u001b[0m\u001b[0;34m\u001b[0m\u001b[0m\n\u001b[0m\u001b[1;32m   1918\u001b[0m         \u001b[0mself\u001b[0m\u001b[0;34m.\u001b[0m\u001b[0m_is_categorical\u001b[0m \u001b[0;34m=\u001b[0m \u001b[0mis_categorical_dtype\u001b[0m\u001b[0;34m(\u001b[0m\u001b[0mdata\u001b[0m\u001b[0;34m)\u001b[0m\u001b[0;34m\u001b[0m\u001b[0;34m\u001b[0m\u001b[0m\n\u001b[1;32m   1919\u001b[0m \u001b[0;34m\u001b[0m\u001b[0m\n",
      "\u001b[0;32m~/opt/anaconda3/lib/python3.7/site-packages/pandas/core/strings.py\u001b[0m in \u001b[0;36m_validate\u001b[0;34m(data)\u001b[0m\n\u001b[1;32m   1965\u001b[0m \u001b[0;34m\u001b[0m\u001b[0m\n\u001b[1;32m   1966\u001b[0m         \u001b[0;32mif\u001b[0m \u001b[0minferred_dtype\u001b[0m \u001b[0;32mnot\u001b[0m \u001b[0;32min\u001b[0m \u001b[0mallowed_types\u001b[0m\u001b[0;34m:\u001b[0m\u001b[0;34m\u001b[0m\u001b[0;34m\u001b[0m\u001b[0m\n\u001b[0;32m-> 1967\u001b[0;31m             \u001b[0;32mraise\u001b[0m \u001b[0mAttributeError\u001b[0m\u001b[0;34m(\u001b[0m\u001b[0;34m\"Can only use .str accessor with string \"\u001b[0m \u001b[0;34m\"values!\"\u001b[0m\u001b[0;34m)\u001b[0m\u001b[0;34m\u001b[0m\u001b[0;34m\u001b[0m\u001b[0m\n\u001b[0m\u001b[1;32m   1968\u001b[0m         \u001b[0;32mreturn\u001b[0m \u001b[0minferred_dtype\u001b[0m\u001b[0;34m\u001b[0m\u001b[0;34m\u001b[0m\u001b[0m\n\u001b[1;32m   1969\u001b[0m \u001b[0;34m\u001b[0m\u001b[0m\n",
      "\u001b[0;31mAttributeError\u001b[0m: Can only use .str accessor with string values!"
     ]
    }
   ],
   "source": [
    "accessible_pmids[accessible_pmids[\"PMID\"].str.isin(papers_index.PMID.unique())]"
   ]
  },
  {
   "cell_type": "code",
   "execution_count": 16,
   "metadata": {},
   "outputs": [
    {
     "ename": "SyntaxError",
     "evalue": "invalid syntax (<ipython-input-16-b459a2c4b3d5>, line 1)",
     "output_type": "error",
     "traceback": [
      "\u001b[0;36m  File \u001b[0;32m\"<ipython-input-16-b459a2c4b3d5>\"\u001b[0;36m, line \u001b[0;32m1\u001b[0m\n\u001b[0;31m    https://doi.crossref.org/openurl?pid=mrunali@berkeley.edu&aulast=Maas%20LRM&title= JOURNAL%20OF%20PHYSICAL%20OCEANOGRAPHY&volume=32&issue=3&spage=870&date=2002&noredirect=true\u001b[0m\n\u001b[0m           ^\u001b[0m\n\u001b[0;31mSyntaxError\u001b[0m\u001b[0;31m:\u001b[0m invalid syntax\n"
     ]
    }
   ],
   "source": [
    "https://doi.crossref.org/openurl?pid=mrunali@berkeley.edu&aulast=Maas%20LRM&title= JOURNAL%20OF%20PHYSICAL%20OCEANOGRAPHY&volume=32&issue=3&spage=870&date=2002&noredirect=true"
   ]
  },
  {
   "cell_type": "code",
   "execution_count": 17,
   "metadata": {
    "scrolled": true
   },
   "outputs": [
    {
     "data": {
      "text/html": [
       "<div>\n",
       "<style scoped>\n",
       "    .dataframe tbody tr th:only-of-type {\n",
       "        vertical-align: middle;\n",
       "    }\n",
       "\n",
       "    .dataframe tbody tr th {\n",
       "        vertical-align: top;\n",
       "    }\n",
       "\n",
       "    .dataframe thead th {\n",
       "        text-align: right;\n",
       "    }\n",
       "</style>\n",
       "<table border=\"1\" class=\"dataframe\">\n",
       "  <thead>\n",
       "    <tr style=\"text-align: right;\">\n",
       "      <th></th>\n",
       "      <th>Unnamed: 0</th>\n",
       "      <th>literatureProducts</th>\n",
       "      <th>literatureSubstrates</th>\n",
       "      <th>organismSubstrates</th>\n",
       "      <th>commentarySubstrates</th>\n",
       "      <th>reversibility</th>\n",
       "      <th>organismProducts</th>\n",
       "      <th>products</th>\n",
       "      <th>commentaryProducts</th>\n",
       "      <th>substrates</th>\n",
       "      <th>ecNumber</th>\n",
       "      <th>pubmedId</th>\n",
       "    </tr>\n",
       "  </thead>\n",
       "  <tbody>\n",
       "    <tr>\n",
       "      <td>0</td>\n",
       "      <td>0</td>\n",
       "      <td>NaN</td>\n",
       "      <td>695811.0</td>\n",
       "      <td>Thermus sp.</td>\n",
       "      <td>1% activity compared to cyclohexanone</td>\n",
       "      <td>?</td>\n",
       "      <td>NaN</td>\n",
       "      <td>? + NAD+</td>\n",
       "      <td>NaN</td>\n",
       "      <td>(-)-carvone + NADH + H+</td>\n",
       "      <td>1.1.1.1</td>\n",
       "      <td>18704396.0</td>\n",
       "    </tr>\n",
       "    <tr>\n",
       "      <td>1</td>\n",
       "      <td>1</td>\n",
       "      <td>NaN</td>\n",
       "      <td>695811.0</td>\n",
       "      <td>Thermus sp.</td>\n",
       "      <td>125% activity compared to cyclohexanol</td>\n",
       "      <td>r</td>\n",
       "      <td>NaN</td>\n",
       "      <td>(rac)-3-methylcyclohexanone + NADH + H+</td>\n",
       "      <td>163% activity compared to cyclohexanone</td>\n",
       "      <td>(1S,3S)-3-methylcyclohexanol + NAD+</td>\n",
       "      <td>1.1.1.1</td>\n",
       "      <td>18704396.0</td>\n",
       "    </tr>\n",
       "    <tr>\n",
       "      <td>2</td>\n",
       "      <td>2</td>\n",
       "      <td>NaN</td>\n",
       "      <td>735498.0</td>\n",
       "      <td>Yokenella sp.</td>\n",
       "      <td>41.5% of the activity with (2E)-but-2-enal, yi...</td>\n",
       "      <td>?</td>\n",
       "      <td>NaN</td>\n",
       "      <td>(2E)-2-methylpent-2-en-1-ol + NADP+</td>\n",
       "      <td>NaN</td>\n",
       "      <td>(2E)-2-methylpent-2-enal + NADPH + H+</td>\n",
       "      <td>1.1.1.1</td>\n",
       "      <td>24509923.0</td>\n",
       "    </tr>\n",
       "    <tr>\n",
       "      <td>3</td>\n",
       "      <td>3</td>\n",
       "      <td>NaN</td>\n",
       "      <td>735498.0</td>\n",
       "      <td>Yokenella sp.</td>\n",
       "      <td>37.4% of the activity with (2E)-but-2-enal, yi...</td>\n",
       "      <td>?</td>\n",
       "      <td>NaN</td>\n",
       "      <td>(2E)-3,7-dimethylocta-2,6-dien-1-ol + NADP+</td>\n",
       "      <td>NaN</td>\n",
       "      <td>(2E)-3,7-dimethylocta-2,6-dienal + NADPH + H+</td>\n",
       "      <td>1.1.1.1</td>\n",
       "      <td>24509923.0</td>\n",
       "    </tr>\n",
       "    <tr>\n",
       "      <td>4</td>\n",
       "      <td>4</td>\n",
       "      <td>NaN</td>\n",
       "      <td>691867.0</td>\n",
       "      <td>Homo sapiens</td>\n",
       "      <td>substrate of isozyme ADH4</td>\n",
       "      <td>r</td>\n",
       "      <td>NaN</td>\n",
       "      <td>(2E)-non-2-ene-1,4-diol + NAD+</td>\n",
       "      <td>NaN</td>\n",
       "      <td>(2E)-4-hydroxynon-2-enal + NADH + H+</td>\n",
       "      <td>1.1.1.1</td>\n",
       "      <td>18505683.0</td>\n",
       "    </tr>\n",
       "  </tbody>\n",
       "</table>\n",
       "</div>"
      ],
      "text/plain": [
       "   Unnamed: 0  literatureProducts  literatureSubstrates organismSubstrates  \\\n",
       "0           0                 NaN              695811.0        Thermus sp.   \n",
       "1           1                 NaN              695811.0        Thermus sp.   \n",
       "2           2                 NaN              735498.0      Yokenella sp.   \n",
       "3           3                 NaN              735498.0      Yokenella sp.   \n",
       "4           4                 NaN              691867.0       Homo sapiens   \n",
       "\n",
       "                                commentarySubstrates reversibility  \\\n",
       "0              1% activity compared to cyclohexanone             ?   \n",
       "1             125% activity compared to cyclohexanol             r   \n",
       "2  41.5% of the activity with (2E)-but-2-enal, yi...             ?   \n",
       "3  37.4% of the activity with (2E)-but-2-enal, yi...             ?   \n",
       "4                          substrate of isozyme ADH4             r   \n",
       "\n",
       "  organismProducts                                     products  \\\n",
       "0              NaN                                     ? + NAD+   \n",
       "1              NaN      (rac)-3-methylcyclohexanone + NADH + H+   \n",
       "2              NaN          (2E)-2-methylpent-2-en-1-ol + NADP+   \n",
       "3              NaN  (2E)-3,7-dimethylocta-2,6-dien-1-ol + NADP+   \n",
       "4              NaN               (2E)-non-2-ene-1,4-diol + NAD+   \n",
       "\n",
       "                        commentaryProducts  \\\n",
       "0                                      NaN   \n",
       "1  163% activity compared to cyclohexanone   \n",
       "2                                      NaN   \n",
       "3                                      NaN   \n",
       "4                                      NaN   \n",
       "\n",
       "                                      substrates ecNumber    pubmedId  \n",
       "0                        (-)-carvone + NADH + H+  1.1.1.1  18704396.0  \n",
       "1            (1S,3S)-3-methylcyclohexanol + NAD+  1.1.1.1  18704396.0  \n",
       "2          (2E)-2-methylpent-2-enal + NADPH + H+  1.1.1.1  24509923.0  \n",
       "3  (2E)-3,7-dimethylocta-2,6-dienal + NADPH + H+  1.1.1.1  24509923.0  \n",
       "4           (2E)-4-hydroxynon-2-enal + NADH + H+  1.1.1.1  18505683.0  "
      ]
     },
     "execution_count": 17,
     "metadata": {},
     "output_type": "execute_result"
    }
   ],
   "source": [
    "rxns.head()"
   ]
  },
  {
   "cell_type": "code",
   "execution_count": 18,
   "metadata": {},
   "outputs": [
    {
     "data": {
      "text/html": [
       "<div>\n",
       "<style scoped>\n",
       "    .dataframe tbody tr th:only-of-type {\n",
       "        vertical-align: middle;\n",
       "    }\n",
       "\n",
       "    .dataframe tbody tr th {\n",
       "        vertical-align: top;\n",
       "    }\n",
       "\n",
       "    .dataframe thead th {\n",
       "        text-align: right;\n",
       "    }\n",
       "</style>\n",
       "<table border=\"1\" class=\"dataframe\">\n",
       "  <thead>\n",
       "    <tr style=\"text-align: right;\">\n",
       "      <th></th>\n",
       "      <th>File</th>\n",
       "      <th>Article Citation</th>\n",
       "      <th>Accession ID</th>\n",
       "      <th>Last Updated (YYYY-MM-DD HH:MM:SS)</th>\n",
       "      <th>PMID</th>\n",
       "      <th>License</th>\n",
       "      <th>Unnamed: 0</th>\n",
       "      <th>literatureProducts</th>\n",
       "      <th>literatureSubstrates</th>\n",
       "      <th>organismSubstrates</th>\n",
       "      <th>commentarySubstrates</th>\n",
       "      <th>reversibility</th>\n",
       "      <th>organismProducts</th>\n",
       "      <th>products</th>\n",
       "      <th>commentaryProducts</th>\n",
       "      <th>substrates</th>\n",
       "      <th>ecNumber</th>\n",
       "      <th>pubmedId</th>\n",
       "    </tr>\n",
       "  </thead>\n",
       "  <tbody>\n",
       "    <tr>\n",
       "      <td>0</td>\n",
       "      <td>oa_package/ab/6e/PMC55331.tar.gz</td>\n",
       "      <td>BMC Microbiol. 2001 Aug 8; 1:15</td>\n",
       "      <td>PMC55331</td>\n",
       "      <td>2019-11-05 11:56:12</td>\n",
       "      <td>11545674.0</td>\n",
       "      <td>NO-CC CODE</td>\n",
       "      <td>187124</td>\n",
       "      <td>NaN</td>\n",
       "      <td>640275.0</td>\n",
       "      <td>Bacillus subtilis</td>\n",
       "      <td>NaN</td>\n",
       "      <td>NaN</td>\n",
       "      <td>NaN</td>\n",
       "      <td>ADP + S-methyl-5-thio-D-ribose 1-phosphate</td>\n",
       "      <td>NaN</td>\n",
       "      <td>ATP + S-methyl-5-thio-D-ribose</td>\n",
       "      <td>2.7.1.100</td>\n",
       "      <td>11545674.0</td>\n",
       "    </tr>\n",
       "    <tr>\n",
       "      <td>1</td>\n",
       "      <td>oa_package/d3/b2/PMC101404.tar.gz</td>\n",
       "      <td>BMC Microbiol. 2002 Mar 15; 2:5</td>\n",
       "      <td>PMC101404</td>\n",
       "      <td>2010-12-21 14:48:19</td>\n",
       "      <td>11914133.0</td>\n",
       "      <td>NO-CC CODE</td>\n",
       "      <td>415495</td>\n",
       "      <td>650729.0</td>\n",
       "      <td>650729.0</td>\n",
       "      <td>Salmonella enterica subsp. enterica serovar Ty...</td>\n",
       "      <td>NaN</td>\n",
       "      <td>?</td>\n",
       "      <td>Salmonella enterica subsp. enterica serovar Ty...</td>\n",
       "      <td>Pyruvate + NH3</td>\n",
       "      <td>NaN</td>\n",
       "      <td>L-2,3-Diaminopropanoate + H2O</td>\n",
       "      <td>4.3.1.15</td>\n",
       "      <td>11914133.0</td>\n",
       "    </tr>\n",
       "    <tr>\n",
       "      <td>2</td>\n",
       "      <td>oa_package/a9/22/PMC102759.tar.gz</td>\n",
       "      <td>BMC Bioinformatics. 2002 Apr 3; 3:10</td>\n",
       "      <td>PMC102759</td>\n",
       "      <td>2013-03-20 09:25:12</td>\n",
       "      <td>11929612.0</td>\n",
       "      <td>NO-CC CODE</td>\n",
       "      <td>120461</td>\n",
       "      <td>NaN</td>\n",
       "      <td>702877.0</td>\n",
       "      <td>Escherichia coli</td>\n",
       "      <td>NaN</td>\n",
       "      <td>?</td>\n",
       "      <td>NaN</td>\n",
       "      <td>S-adenosyl-L-homocysteine + N2-methylguanine12...</td>\n",
       "      <td>NaN</td>\n",
       "      <td>S-adenosyl-L-methionine + guanine1207 in 16S rRNA</td>\n",
       "      <td>2.1.1.172</td>\n",
       "      <td>11929612.0</td>\n",
       "    </tr>\n",
       "    <tr>\n",
       "      <td>3</td>\n",
       "      <td>oa_package/79/0c/PMC117780.tar.gz</td>\n",
       "      <td>BMC Biochem. 2002 Jul 16; 3:20</td>\n",
       "      <td>PMC117780</td>\n",
       "      <td>2010-12-21 17:51:11</td>\n",
       "      <td>12121577.0</td>\n",
       "      <td>NO-CC CODE</td>\n",
       "      <td>383197</td>\n",
       "      <td>NaN</td>\n",
       "      <td>714610.0</td>\n",
       "      <td>Homo sapiens</td>\n",
       "      <td>weak activity</td>\n",
       "      <td>?</td>\n",
       "      <td>NaN</td>\n",
       "      <td>ATP + AMP</td>\n",
       "      <td>NaN</td>\n",
       "      <td>P1,P4-bis(5'-adenosyl)tetraphosphate + H2O</td>\n",
       "      <td>3.6.1.60</td>\n",
       "      <td>12121577.0</td>\n",
       "    </tr>\n",
       "    <tr>\n",
       "      <td>4</td>\n",
       "      <td>oa_package/79/0c/PMC117780.tar.gz</td>\n",
       "      <td>BMC Biochem. 2002 Jul 16; 3:20</td>\n",
       "      <td>PMC117780</td>\n",
       "      <td>2010-12-21 17:51:11</td>\n",
       "      <td>12121577.0</td>\n",
       "      <td>NO-CC CODE</td>\n",
       "      <td>383198</td>\n",
       "      <td>NaN</td>\n",
       "      <td>714610.0</td>\n",
       "      <td>Homo sapiens</td>\n",
       "      <td>marked preference for adenine over guanine nuc...</td>\n",
       "      <td>?</td>\n",
       "      <td>NaN</td>\n",
       "      <td>adenosine 5'-tetraphosphate + AMP</td>\n",
       "      <td>NaN</td>\n",
       "      <td>P1,P5-bis(5'-adenosyl)pentaphosphate + H2O</td>\n",
       "      <td>3.6.1.60</td>\n",
       "      <td>12121577.0</td>\n",
       "    </tr>\n",
       "  </tbody>\n",
       "</table>\n",
       "</div>"
      ],
      "text/plain": [
       "                                File                      Article Citation  \\\n",
       "0   oa_package/ab/6e/PMC55331.tar.gz       BMC Microbiol. 2001 Aug 8; 1:15   \n",
       "1  oa_package/d3/b2/PMC101404.tar.gz       BMC Microbiol. 2002 Mar 15; 2:5   \n",
       "2  oa_package/a9/22/PMC102759.tar.gz  BMC Bioinformatics. 2002 Apr 3; 3:10   \n",
       "3  oa_package/79/0c/PMC117780.tar.gz        BMC Biochem. 2002 Jul 16; 3:20   \n",
       "4  oa_package/79/0c/PMC117780.tar.gz        BMC Biochem. 2002 Jul 16; 3:20   \n",
       "\n",
       "  Accession ID Last Updated (YYYY-MM-DD HH:MM:SS)        PMID     License  \\\n",
       "0     PMC55331                2019-11-05 11:56:12  11545674.0  NO-CC CODE   \n",
       "1    PMC101404                2010-12-21 14:48:19  11914133.0  NO-CC CODE   \n",
       "2    PMC102759                2013-03-20 09:25:12  11929612.0  NO-CC CODE   \n",
       "3    PMC117780                2010-12-21 17:51:11  12121577.0  NO-CC CODE   \n",
       "4    PMC117780                2010-12-21 17:51:11  12121577.0  NO-CC CODE   \n",
       "\n",
       "   Unnamed: 0  literatureProducts  literatureSubstrates  \\\n",
       "0      187124                 NaN              640275.0   \n",
       "1      415495            650729.0              650729.0   \n",
       "2      120461                 NaN              702877.0   \n",
       "3      383197                 NaN              714610.0   \n",
       "4      383198                 NaN              714610.0   \n",
       "\n",
       "                                  organismSubstrates  \\\n",
       "0                                  Bacillus subtilis   \n",
       "1  Salmonella enterica subsp. enterica serovar Ty...   \n",
       "2                                   Escherichia coli   \n",
       "3                                       Homo sapiens   \n",
       "4                                       Homo sapiens   \n",
       "\n",
       "                                commentarySubstrates reversibility  \\\n",
       "0                                                NaN           NaN   \n",
       "1                                                NaN             ?   \n",
       "2                                                NaN             ?   \n",
       "3                                      weak activity             ?   \n",
       "4  marked preference for adenine over guanine nuc...             ?   \n",
       "\n",
       "                                    organismProducts  \\\n",
       "0                                                NaN   \n",
       "1  Salmonella enterica subsp. enterica serovar Ty...   \n",
       "2                                                NaN   \n",
       "3                                                NaN   \n",
       "4                                                NaN   \n",
       "\n",
       "                                            products commentaryProducts  \\\n",
       "0         ADP + S-methyl-5-thio-D-ribose 1-phosphate                NaN   \n",
       "1                                     Pyruvate + NH3                NaN   \n",
       "2  S-adenosyl-L-homocysteine + N2-methylguanine12...                NaN   \n",
       "3                                          ATP + AMP                NaN   \n",
       "4                  adenosine 5'-tetraphosphate + AMP                NaN   \n",
       "\n",
       "                                          substrates   ecNumber    pubmedId  \n",
       "0                     ATP + S-methyl-5-thio-D-ribose  2.7.1.100  11545674.0  \n",
       "1                      L-2,3-Diaminopropanoate + H2O   4.3.1.15  11914133.0  \n",
       "2  S-adenosyl-L-methionine + guanine1207 in 16S rRNA  2.1.1.172  11929612.0  \n",
       "3         P1,P4-bis(5'-adenosyl)tetraphosphate + H2O   3.6.1.60  12121577.0  \n",
       "4         P1,P5-bis(5'-adenosyl)pentaphosphate + H2O   3.6.1.60  12121577.0  "
      ]
     },
     "execution_count": 18,
     "metadata": {},
     "output_type": "execute_result"
    }
   ],
   "source": [
    "papers_index.head()"
   ]
  },
  {
   "cell_type": "code",
   "execution_count": 19,
   "metadata": {},
   "outputs": [
    {
     "ename": "InvalidSchema",
     "evalue": "No connection adapters were found for 'ftp://ftp.ncbi.nlm.nih.gov/pub/pmc/{}’.format(pmid_loc)'",
     "output_type": "error",
     "traceback": [
      "\u001b[0;31m---------------------------------------------------------------------------\u001b[0m",
      "\u001b[0;31mInvalidSchema\u001b[0m                             Traceback (most recent call last)",
      "\u001b[0;32m<ipython-input-19-871987780eac>\u001b[0m in \u001b[0;36m<module>\u001b[0;34m\u001b[0m\n\u001b[1;32m      6\u001b[0m     \u001b[0murl\u001b[0m \u001b[0;34m=\u001b[0m \u001b[0;34m'ftp://ftp.ncbi.nlm.nih.gov/pub/pmc/{}’.format(pmid_loc)'\u001b[0m\u001b[0;34m\u001b[0m\u001b[0;34m\u001b[0m\u001b[0m\n\u001b[1;32m      7\u001b[0m     \u001b[0mtarget_path\u001b[0m \u001b[0;34m=\u001b[0m \u001b[0;34m'temp.tar.gz'\u001b[0m\u001b[0;34m\u001b[0m\u001b[0;34m\u001b[0m\u001b[0m\n\u001b[0;32m----> 8\u001b[0;31m     \u001b[0mresponse\u001b[0m \u001b[0;34m=\u001b[0m \u001b[0mrequests\u001b[0m\u001b[0;34m.\u001b[0m\u001b[0mget\u001b[0m\u001b[0;34m(\u001b[0m\u001b[0murl\u001b[0m\u001b[0;34m,\u001b[0m \u001b[0mstream\u001b[0m\u001b[0;34m=\u001b[0m\u001b[0;32mTrue\u001b[0m\u001b[0;34m)\u001b[0m\u001b[0;34m\u001b[0m\u001b[0;34m\u001b[0m\u001b[0m\n\u001b[0m\u001b[1;32m      9\u001b[0m \u001b[0;34m\u001b[0m\u001b[0m\n\u001b[1;32m     10\u001b[0m     \u001b[0;32mif\u001b[0m \u001b[0mresponse\u001b[0m\u001b[0;34m.\u001b[0m\u001b[0mstatus_code\u001b[0m \u001b[0;34m==\u001b[0m \u001b[0;36m200\u001b[0m\u001b[0;34m:\u001b[0m\u001b[0;34m\u001b[0m\u001b[0;34m\u001b[0m\u001b[0m\n",
      "\u001b[0;32m~/opt/anaconda3/lib/python3.7/site-packages/requests/api.py\u001b[0m in \u001b[0;36mget\u001b[0;34m(url, params, **kwargs)\u001b[0m\n\u001b[1;32m     73\u001b[0m \u001b[0;34m\u001b[0m\u001b[0m\n\u001b[1;32m     74\u001b[0m     \u001b[0mkwargs\u001b[0m\u001b[0;34m.\u001b[0m\u001b[0msetdefault\u001b[0m\u001b[0;34m(\u001b[0m\u001b[0;34m'allow_redirects'\u001b[0m\u001b[0;34m,\u001b[0m \u001b[0;32mTrue\u001b[0m\u001b[0;34m)\u001b[0m\u001b[0;34m\u001b[0m\u001b[0;34m\u001b[0m\u001b[0m\n\u001b[0;32m---> 75\u001b[0;31m     \u001b[0;32mreturn\u001b[0m \u001b[0mrequest\u001b[0m\u001b[0;34m(\u001b[0m\u001b[0;34m'get'\u001b[0m\u001b[0;34m,\u001b[0m \u001b[0murl\u001b[0m\u001b[0;34m,\u001b[0m \u001b[0mparams\u001b[0m\u001b[0;34m=\u001b[0m\u001b[0mparams\u001b[0m\u001b[0;34m,\u001b[0m \u001b[0;34m**\u001b[0m\u001b[0mkwargs\u001b[0m\u001b[0;34m)\u001b[0m\u001b[0;34m\u001b[0m\u001b[0;34m\u001b[0m\u001b[0m\n\u001b[0m\u001b[1;32m     76\u001b[0m \u001b[0;34m\u001b[0m\u001b[0m\n\u001b[1;32m     77\u001b[0m \u001b[0;34m\u001b[0m\u001b[0m\n",
      "\u001b[0;32m~/opt/anaconda3/lib/python3.7/site-packages/requests/api.py\u001b[0m in \u001b[0;36mrequest\u001b[0;34m(method, url, **kwargs)\u001b[0m\n\u001b[1;32m     58\u001b[0m     \u001b[0;31m# cases, and look like a memory leak in others.\u001b[0m\u001b[0;34m\u001b[0m\u001b[0;34m\u001b[0m\u001b[0;34m\u001b[0m\u001b[0m\n\u001b[1;32m     59\u001b[0m     \u001b[0;32mwith\u001b[0m \u001b[0msessions\u001b[0m\u001b[0;34m.\u001b[0m\u001b[0mSession\u001b[0m\u001b[0;34m(\u001b[0m\u001b[0;34m)\u001b[0m \u001b[0;32mas\u001b[0m \u001b[0msession\u001b[0m\u001b[0;34m:\u001b[0m\u001b[0;34m\u001b[0m\u001b[0;34m\u001b[0m\u001b[0m\n\u001b[0;32m---> 60\u001b[0;31m         \u001b[0;32mreturn\u001b[0m \u001b[0msession\u001b[0m\u001b[0;34m.\u001b[0m\u001b[0mrequest\u001b[0m\u001b[0;34m(\u001b[0m\u001b[0mmethod\u001b[0m\u001b[0;34m=\u001b[0m\u001b[0mmethod\u001b[0m\u001b[0;34m,\u001b[0m \u001b[0murl\u001b[0m\u001b[0;34m=\u001b[0m\u001b[0murl\u001b[0m\u001b[0;34m,\u001b[0m \u001b[0;34m**\u001b[0m\u001b[0mkwargs\u001b[0m\u001b[0;34m)\u001b[0m\u001b[0;34m\u001b[0m\u001b[0;34m\u001b[0m\u001b[0m\n\u001b[0m\u001b[1;32m     61\u001b[0m \u001b[0;34m\u001b[0m\u001b[0m\n\u001b[1;32m     62\u001b[0m \u001b[0;34m\u001b[0m\u001b[0m\n",
      "\u001b[0;32m~/opt/anaconda3/lib/python3.7/site-packages/requests/sessions.py\u001b[0m in \u001b[0;36mrequest\u001b[0;34m(self, method, url, params, data, headers, cookies, files, auth, timeout, allow_redirects, proxies, hooks, stream, verify, cert, json)\u001b[0m\n\u001b[1;32m    531\u001b[0m         }\n\u001b[1;32m    532\u001b[0m         \u001b[0msend_kwargs\u001b[0m\u001b[0;34m.\u001b[0m\u001b[0mupdate\u001b[0m\u001b[0;34m(\u001b[0m\u001b[0msettings\u001b[0m\u001b[0;34m)\u001b[0m\u001b[0;34m\u001b[0m\u001b[0;34m\u001b[0m\u001b[0m\n\u001b[0;32m--> 533\u001b[0;31m         \u001b[0mresp\u001b[0m \u001b[0;34m=\u001b[0m \u001b[0mself\u001b[0m\u001b[0;34m.\u001b[0m\u001b[0msend\u001b[0m\u001b[0;34m(\u001b[0m\u001b[0mprep\u001b[0m\u001b[0;34m,\u001b[0m \u001b[0;34m**\u001b[0m\u001b[0msend_kwargs\u001b[0m\u001b[0;34m)\u001b[0m\u001b[0;34m\u001b[0m\u001b[0;34m\u001b[0m\u001b[0m\n\u001b[0m\u001b[1;32m    534\u001b[0m \u001b[0;34m\u001b[0m\u001b[0m\n\u001b[1;32m    535\u001b[0m         \u001b[0;32mreturn\u001b[0m \u001b[0mresp\u001b[0m\u001b[0;34m\u001b[0m\u001b[0;34m\u001b[0m\u001b[0m\n",
      "\u001b[0;32m~/opt/anaconda3/lib/python3.7/site-packages/requests/sessions.py\u001b[0m in \u001b[0;36msend\u001b[0;34m(self, request, **kwargs)\u001b[0m\n\u001b[1;32m    638\u001b[0m \u001b[0;34m\u001b[0m\u001b[0m\n\u001b[1;32m    639\u001b[0m         \u001b[0;31m# Get the appropriate adapter to use\u001b[0m\u001b[0;34m\u001b[0m\u001b[0;34m\u001b[0m\u001b[0;34m\u001b[0m\u001b[0m\n\u001b[0;32m--> 640\u001b[0;31m         \u001b[0madapter\u001b[0m \u001b[0;34m=\u001b[0m \u001b[0mself\u001b[0m\u001b[0;34m.\u001b[0m\u001b[0mget_adapter\u001b[0m\u001b[0;34m(\u001b[0m\u001b[0murl\u001b[0m\u001b[0;34m=\u001b[0m\u001b[0mrequest\u001b[0m\u001b[0;34m.\u001b[0m\u001b[0murl\u001b[0m\u001b[0;34m)\u001b[0m\u001b[0;34m\u001b[0m\u001b[0;34m\u001b[0m\u001b[0m\n\u001b[0m\u001b[1;32m    641\u001b[0m \u001b[0;34m\u001b[0m\u001b[0m\n\u001b[1;32m    642\u001b[0m         \u001b[0;31m# Start time (approximately) of the request\u001b[0m\u001b[0;34m\u001b[0m\u001b[0;34m\u001b[0m\u001b[0;34m\u001b[0m\u001b[0m\n",
      "\u001b[0;32m~/opt/anaconda3/lib/python3.7/site-packages/requests/sessions.py\u001b[0m in \u001b[0;36mget_adapter\u001b[0;34m(self, url)\u001b[0m\n\u001b[1;32m    729\u001b[0m \u001b[0;34m\u001b[0m\u001b[0m\n\u001b[1;32m    730\u001b[0m         \u001b[0;31m# Nothing matches :-/\u001b[0m\u001b[0;34m\u001b[0m\u001b[0;34m\u001b[0m\u001b[0;34m\u001b[0m\u001b[0m\n\u001b[0;32m--> 731\u001b[0;31m         \u001b[0;32mraise\u001b[0m \u001b[0mInvalidSchema\u001b[0m\u001b[0;34m(\u001b[0m\u001b[0;34m\"No connection adapters were found for '%s'\"\u001b[0m \u001b[0;34m%\u001b[0m \u001b[0murl\u001b[0m\u001b[0;34m)\u001b[0m\u001b[0;34m\u001b[0m\u001b[0;34m\u001b[0m\u001b[0m\n\u001b[0m\u001b[1;32m    732\u001b[0m \u001b[0;34m\u001b[0m\u001b[0m\n\u001b[1;32m    733\u001b[0m     \u001b[0;32mdef\u001b[0m \u001b[0mclose\u001b[0m\u001b[0;34m(\u001b[0m\u001b[0mself\u001b[0m\u001b[0;34m)\u001b[0m\u001b[0;34m:\u001b[0m\u001b[0;34m\u001b[0m\u001b[0;34m\u001b[0m\u001b[0m\n",
      "\u001b[0;31mInvalidSchema\u001b[0m: No connection adapters were found for 'ftp://ftp.ncbi.nlm.nih.gov/pub/pmc/{}’.format(pmid_loc)'"
     ]
    }
   ],
   "source": [
    "# Download the tarball based on the link + unpack. The temp file will be overriden on next curl.\n",
    "\n",
    "import requests\n",
    "\n",
    "for pmid_loc in papers_index.File.unique():\n",
    "    url = 'ftp://ftp.ncbi.nlm.nih.gov/pub/pmc/{}’.format(pmid_loc)'\n",
    "    target_path = 'temp.tar.gz'\n",
    "    response = requests.get(url, stream=True)\n",
    "    \n",
    "    if response.status_code == 200:\n",
    "        with open(target_path, 'wb') as f:\n",
    "            f.write(response.raw.read())\n",
    "    \n",
    "    #urllib.request.urlretrieve(url, 'temp.tar.gz')\n",
    "    break"
   ]
  },
  {
   "cell_type": "code",
   "execution_count": null,
   "metadata": {},
   "outputs": [],
   "source": []
  },
  {
   "cell_type": "code",
   "execution_count": null,
   "metadata": {},
   "outputs": [],
   "source": []
  }
 ],
 "metadata": {
  "kernelspec": {
   "display_name": "Python 3",
   "language": "python",
   "name": "python3"
  },
  "language_info": {
   "codemirror_mode": {
    "name": "ipython",
    "version": 3
   },
   "file_extension": ".py",
   "mimetype": "text/x-python",
   "name": "python",
   "nbconvert_exporter": "python",
   "pygments_lexer": "ipython3",
   "version": "3.7.4"
  }
 },
 "nbformat": 4,
 "nbformat_minor": 4
}
