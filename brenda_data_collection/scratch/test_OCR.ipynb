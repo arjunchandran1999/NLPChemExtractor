{
 "cells": [
  {
   "cell_type": "markdown",
   "metadata": {},
   "source": [
    "# Getting OA Data\n",
    "\n",
    "Required packages:\n",
    "pytesseract, Pillow, pdf2image (and poppler)\n",
    "\n",
    "```\n",
    "conda install -c conda-forge poppler\n",
    "```\n",
    "\n",
    "\n",
    "Ref:\n",
    "- https://www.geeksforgeeks.org/python-reading-contents-of-pdf-using-ocr-optical-character-recognition/\n",
    "- https://pypi.org/project/pytesseract/"
   ]
  },
  {
   "cell_type": "code",
   "execution_count": 1,
   "metadata": {},
   "outputs": [],
   "source": [
    "from PIL import Image \n",
    "import pytesseract \n",
    "import sys \n",
    "from pdf2image import convert_from_path \n",
    "import os \n"
   ]
  },
  {
   "cell_type": "markdown",
   "metadata": {},
   "source": [
    "Copied from geeks4geeks"
   ]
  },
  {
   "cell_type": "code",
   "execution_count": 9,
   "metadata": {},
   "outputs": [],
   "source": [
    "pages = convert_from_path(\"first.pdf\", 100) \n"
   ]
  },
  {
   "cell_type": "code",
   "execution_count": 11,
   "metadata": {},
   "outputs": [],
   "source": [
    "pages[0].save('test.jpeg', 'JPEG')"
   ]
  },
  {
   "cell_type": "code",
   "execution_count": 14,
   "metadata": {},
   "outputs": [],
   "source": [
    "text = str(((pytesseract.image_to_string(Image.open(filename)))))"
   ]
  },
  {
   "cell_type": "code",
   "execution_count": 18,
   "metadata": {},
   "outputs": [
    {
     "data": {
      "text/plain": [
       "'   19, Barber, G. A. Observations on the mechanisms of the reversible epimerization of GDP-D-mannose to GDP-L-galactose by an enzyme from Chlorella pyrenidosa. J. Biol. Chem. 254, 7600-7603 (1979). 20, Barber, G. A. Synthesis of L-galactose by plant enzyme systems. Arch. Biochem. Biophys. 147, 619-623  (1971).  21, Feingold, D, S. in Encyclopedia of Plant Physiology, Vol. 13A (eds Loewus, F. A. & Tanner, W.) 3-76 (Springer, Berlin, 1982).  22, Roberts, R. M. & Harrer, E. Determination of L-galactose in polysaccharide material. Phytochemistry 12, 2679-2682 (1973).  23, Harris, G. C. et al. Mannose metabolism in corn and its impact on leaf metabolites, photosynthetic gas exchange, and chlorophyll fluorescence. Plant Physiol. 82, 1081—1089 (1986).  24, Conklin, P. L., Williams, E. H. & Last, R. L. Environmental stress sensitivity of an ascorbic aciddeficient Arabidopsis mutant. Proc. Natl Acad. Sci. USA 93, 9970-9974 (1996).  25. Conklin, P. L., Pallanca, J. E., Last, R. L. & Smirnoff, N. L-Ascorbic acid metabolism in the ascorbatedeficient Arabidopsis mutant vtcl. Plant Physiol. 115, 1277-1285 (1997).  26. Chen, Y-T., Isherwood, F. A. & Mapson, L. W. Quantitative estimation of ascorbic acid and related substances in biological extracts by separation on a paper chromatogram. Biochem. J. 55, 821-823 (1953).  27, Andrews, M. A. Capillary gas-chromatographic analysis of monosaccharides: improvements and comparisons using trifluoroacetylation and trimethylsilylation of sugar O-benzyl and O-methyl oximes. Carbohydrate Res. 194, 1-19 (1989).  28. Ghebragzabher, M., Ruffini, S., Monaldi, B. & Lato, M. Thin layer chromatography of monosaccharides, J. Chromatogr. 127, 133-162 (1976).  29. Dawson, R. M. C., Elliott, D. C., Elliott, W. H. & Jones, K. M. (eds) Data for Biochemical Research 2nd  edn. (Clarendon, Oxford, 1969).  Acknowledgements. The research was supported by a BBSRC studentship (G.L.W.), a Nuffield Student \" Bursary (M.A.J.) and Zeneca Agrochemicals. We thank Nippon-Roche for the gift of .-sorbosone. Earlier  work by J. Pallanca, funded by the BBSRC BOMRIP programme, provided a basis for this research. We  thank M. Raymond for technical assistance; J. Kingdon and J. Hindley for growing the plants; and W. \" Schuch for his support.  Correspondence and requests for materials should be addressed to N.S. (e-mail: N.Smirnoff@exeter. ack).     Visual input evokes transient and strong shunting inhibition invisual cortical neurons  Lyle J. Borg-Graham, Cyril Monier & Yves Frégnac  _ Equipe Cognisciences, Institut Alfred Fessard, CNRS, Avenue de la Terrasse, 91198 Gif sur Yvette, France  The function and nature of inhibition of neurons in the visual cortex have been the focus of both experimental and theoretical Investigations’ ’. There are two ways in which inhibition can ‘Suppress synaptic excitation™*. In hyperpolarizing inhibition, hegative and positive currents sum linearly to produce a net change in membrane potential. In contrast, shunting inhibition acts nonlinearly by causing an increase in membrane conductance; this divides the amplitude of the excitatory response. Visually evoked changes in membrane conductance have been Teported to be nonsignificant or weak, supporting the hyperetn mode of inhibition®’\". Here we present a new pproach to studying inhibition that is based on in vivo wholeell voltage clamping. This technique allows the continuous Measurement of conductance dynamics during visual activation. We show, in neurons of cat primary visual cortex, that the F¢sponse to optimally orientated flashed bars can increase the Somatic input conductance to more than three times that of the Testing state. The short latency of the visually evoked peak of onductance, and its apparent reversal potential suggest a domifant contribution from y-aminobutyric acid ((GABA),) receptormediated synapses. We propose that nonlinear shunting inhibifon may act during the initial stage of visual cortical processing, Setting the balance between opponent ‘On’ and ‘Off? responses in different locations of the visual receptive field.  [ Tn the visual cortex, there are two major types of receptive fields, Simple’ and ‘complex’, based partly on the degree of spatial overlap Setween On and Off responses (evoked by an increase or decrease in Light contrast, respectively) in the visual field*\\'’. Simple receptive elds have distinct On and Off subfields, whereas these are over                                                        |VOL 393/28 MAY 1998  letters to nature  lapping in complex cells. We can consider how intracortical inhibition works during visual cortical processing at different levels. At the functional level, inhibition could help in the push—pull organization of opponent responses (for example, hyperpolarization is evoked by a decrease in light contrast in the On subfield) seen in simple receptive fields*. It could also control the spatial tuning of On and Off excitation, as intracortical blockade of y-aminobutyric acid (GABA), receptors results in loss of segregation of On and Off excitatory responses in simple cells, whether measured extracellularly\\' or intracellularly\".  At the biophysical level, even if shunting inhibition does exist, there is still a quantitative issue concerning its functional importance. As the reversal potential for GABA,-mediated channels, which are probably responsible for the shunt in membrane conductance, is near the resting potential, shunting inhibition must produce a large change in the postsynaptic conductance to significantly counteract excitation. Simulations show that this shunt should be visible as a 100—200% increase in the somatic input conductance, G;,(t), relative to the no-stimulus condition (characterized as Gane: However, measurements from current clamp recordings have indicated limited conductance changes (relative  a 70 c 1000 t=T Rest A Vn (mV) Vn In (PA) -80 i +90 0 Erey (1) b rev I, i NM ame . A ane ‘onv Vm (7) -9Omv 800 ; : -50 d 200 f 200  AG (%)     Yer prone i iecee Ae 0              e x 100 Eey (mV) 0 tt “40 Wi \\\\ “80 . Ri -120 : eee oT 250 500 750 1000 420-80 © 40 0 40 Time (ms) Erey (mV)  Figure 1 The visually evoked relative change in input conductance AG;,(t) and its apparent reversal potential E,.(t) are derived from the current waveforms measured by two to four voltage-clamp protocols, illustrated here for the subthreshold response of an end-stopped simple cell to an Off transition of a flashing bar (full response is shown in Fig. 2e, cell 4, position 8). a, Voltage responses under current clamp and predicted Vm (arrow) from voltage-clamp currents, assuming a linear model. b, Responses under voltage clamp for four command holding potentials. ¢, //V characteristics derived from linear regressions corresponding to the resting state (squares), the slope of which gives Grest, and during visual activation (circles) at the time 7 marked by a dotted line in (a-e), the slope of which gives G;,(7). The voltage axis, V,, corresponds to the command holding potential corrected for R,. The interpolated voltage at zero current of the //V characteristic at any given time predicts the current clamp response (Vin(t) inc. The stability of the recording, and the justification of a linear approximation for this subthreshold example, are shown by the close match between the original and the interpolated traces superimposed in a. d, Relative AG;,(t), derived continuously over the complete duration of the visual stimulation. e, E,.,(t). f, Phase olot of relative AG;,(t) versus E,.,(t), where each point represents averages taken over 1 ms, illustrating the various trajectories in time (arrow for time 7). In this case, the conductance response at time 0 is >105% of the input conductance at rest because the tail of the On response starts 1000 ms earlier. All responses in this paper are averages of 10 trials.  369    \\x0c'"
      ]
     },
     "execution_count": 18,
     "metadata": {},
     "output_type": "execute_result"
    }
   ],
   "source": [
    "text = text.replace('-\\n', '').replace('\\n', ' ') \n",
    "text"
   ]
  },
  {
   "cell_type": "code",
   "execution_count": 16,
   "metadata": {},
   "outputs": [],
   "source": [
    "# Path of the pdf \n",
    "PDF_file = \"first.pdf\"\n",
    "  \n",
    "''' \n",
    "Part #1 : Converting PDF to images \n",
    "'''\n",
    "  \n",
    "# Store all the pages of the PDF in a variable \n",
    "pages = convert_from_path(PDF_file, 100) \n",
    "  \n",
    "# Counter to store images of each page of PDF to image \n",
    "image_counter = 1\n",
    "  \n",
    "# Iterate through all the pages stored above \n",
    "for page in pages: \n",
    "  \n",
    "    # Declaring filename for each page of PDF as JPG \n",
    "    # For each page, filename will be: \n",
    "    # PDF page 1 -> page_1.jpg \n",
    "    # PDF page 2 -> page_2.jpg \n",
    "    # PDF page 3 -> page_3.jpg \n",
    "    # .... \n",
    "    # PDF page n -> page_n.jpg \n",
    "    filename = \"page_\"+str(image_counter)+\".jpg\"\n",
    "      \n",
    "    # Save the image of the page in system \n",
    "    page.save(filename, 'JPEG') \n",
    "  \n",
    "    # Increment the counter to update filename \n",
    "    image_counter = image_counter + 1\n",
    "  \n",
    "''' \n",
    "Part #2 - Recognizing text from the images using OCR \n",
    "'''\n",
    "    \n",
    "# Variable to get count of total number of pages \n",
    "filelimit = image_counter-1\n",
    "  \n",
    "# Creating a text file to write the output \n",
    "outfile = \"out_text.txt\"\n",
    "  \n",
    "# Open the file in append mode so that  \n",
    "# All contents of all images are added to the same file \n",
    "f = open(outfile, \"a\") \n",
    "  \n",
    "# Iterate from 1 to total number of pages \n",
    "for i in range(1, filelimit + 1): \n",
    "  \n",
    "    # Set filename to recognize text from \n",
    "    # Again, these files will be: \n",
    "    # page_1.jpg \n",
    "    # page_2.jpg \n",
    "    # .... \n",
    "    # page_n.jpg \n",
    "    filename = \"page_\"+str(i)+\".jpg\"\n",
    "          \n",
    "    # Recognize the text as string in image using pytesserct \n",
    "    text = str(((pytesseract.image_to_string(Image.open(filename))))) \n",
    "  \n",
    "    # The recognized text is stored in variable text \n",
    "    # Any string processing may be applied on text \n",
    "    # Here, basic formatting has been done: \n",
    "    # In many PDFs, at line ending, if a word can't \n",
    "    # be written fully, a 'hyphen' is added. \n",
    "    # The rest of the word is written in the next line \n",
    "    # Eg: This is a sample text this word here GeeksF- \n",
    "    # orGeeks is half on first line, remaining on next. \n",
    "    # To remove this, we replace every '-\\n' to ''. \n",
    "    text = text.replace('-\\n', '')     \n",
    "  \n",
    "    # Finally, write the processed text to the file. \n",
    "    f.write(text) \n",
    "  \n",
    "# Close the file after writing all the text. \n",
    "f.close() "
   ]
  },
  {
   "cell_type": "code",
   "execution_count": null,
   "metadata": {},
   "outputs": [],
   "source": []
  }
 ],
 "metadata": {
  "kernelspec": {
   "display_name": "Python 3",
   "language": "python",
   "name": "python3"
  },
  "language_info": {
   "codemirror_mode": {
    "name": "ipython",
    "version": 3
   },
   "file_extension": ".py",
   "mimetype": "text/x-python",
   "name": "python",
   "nbconvert_exporter": "python",
   "pygments_lexer": "ipython3",
   "version": "3.7.8"
  }
 },
 "nbformat": 4,
 "nbformat_minor": 4
}
