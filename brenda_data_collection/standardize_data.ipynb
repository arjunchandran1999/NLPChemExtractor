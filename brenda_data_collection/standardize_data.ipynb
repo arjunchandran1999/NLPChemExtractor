{
 "cells": [
  {
   "cell_type": "markdown",
   "metadata": {},
   "source": [
    "# Standardizing Data\n"
   ]
  },
  {
   "cell_type": "markdown",
   "metadata": {},
   "source": [
    "Not a pipeline script! Only run as needed."
   ]
  },
  {
   "cell_type": "code",
   "execution_count": 3,
   "metadata": {},
   "outputs": [],
   "source": [
    "import igemutils as igem"
   ]
  },
  {
   "cell_type": "markdown",
   "metadata": {},
   "source": [
    "## PMID Set: Elsevier \n",
    "Change key: pmid -> doi and value: dict->text"
   ]
  },
  {
   "cell_type": "code",
   "execution_count": 5,
   "metadata": {},
   "outputs": [],
   "source": [
    "in_file_base = '../data/get_fullpapers/elsevier/elsevier_fullpapers_split'\n",
    "out_file_base = '../data/get_fullpapers/elsevier/elsevier_pmid_split'\n",
    "meta_base = '../data/get_fullpapers/elsevier/elsevier_subset_split'"
   ]
  },
  {
   "cell_type": "code",
   "execution_count": 11,
   "metadata": {},
   "outputs": [
    {
     "name": "stdout",
     "output_type": "stream",
     "text": [
      "Split number: 1\n",
      "Split number: 2\n",
      "Split number: 3\n",
      "Split number: 4\n",
      "Split number: 5\n",
      "Split number: 6\n"
     ]
    }
   ],
   "source": [
    "for filenum in range(1, 7):\n",
    "    print(f\"Split number: {filenum}\")\n",
    "    in_dict = igem.get_json(f\"{in_file_base}{filenum}.json\")\n",
    "    out_dict = {}\n",
    "    \n",
    "    subset_metadata = igem.get_json(f\"{meta_base}{filenum}.json\")\n",
    "    \n",
    "    try:\n",
    "        for key, value in in_dict.items():\n",
    "            doi = subset_metadata[key]['doi']\n",
    "\n",
    "            out_dict[doi] = value['originalText']\n",
    "\n",
    "    except KeyboardInterrupt:\n",
    "        print(\"Stopped.\")\n",
    "    \n",
    "    igem.save_json(f\"{out_file_base}{filenum}.json\", out_dict)\n"
   ]
  },
  {
   "cell_type": "markdown",
   "metadata": {},
   "source": [
    "# PMID Set: OA\n",
    "Key: pmid -> doi"
   ]
  },
  {
   "cell_type": "code",
   "execution_count": 1,
   "metadata": {},
   "outputs": [],
   "source": [
    "in_file_base = '../data/get_fullpapers/oa/oa_fullpapers_split'\n",
    "out_file_base = '../data/get_fullpapers/oa/oa_pmid_split'\n",
    "meta_base = '../data/get_fullpapers/oa/oa_subset_split'"
   ]
  },
  {
   "cell_type": "code",
   "execution_count": 13,
   "metadata": {},
   "outputs": [
    {
     "name": "stdout",
     "output_type": "stream",
     "text": [
      "Split number: 1\n",
      "Split number: 2\n",
      "Split number: 3\n",
      "Split number: 4\n",
      "Split number: 5\n",
      "Split number: 6\n"
     ]
    }
   ],
   "source": [
    "for filenum in range(1, 7):\n",
    "    print(f\"Split number: {filenum}\")\n",
    "    in_dict = igem.get_json(f\"{in_file_base}{filenum}.json\")\n",
    "    out_dict = {}\n",
    "    \n",
    "    subset_metadata = igem.get_json(f\"{meta_base}{filenum}.json\")\n",
    "    \n",
    "    try:\n",
    "        for key, value in in_dict.items():\n",
    "            doi = subset_metadata[key]['doi']\n",
    "\n",
    "            out_dict[doi] = value\n",
    "\n",
    "    except KeyboardInterrupt:\n",
    "        print(\"Stopped.\")\n",
    "    \n",
    "    igem.save_json(f\"{out_file_base}{filenum}.json\", out_dict)"
   ]
  },
  {
   "cell_type": "markdown",
   "metadata": {},
   "source": [
    "# Non PMID: Elsevier\n",
    "Value: dict -> text"
   ]
  },
  {
   "cell_type": "code",
   "execution_count": 17,
   "metadata": {},
   "outputs": [],
   "source": [
    "in_file = '../data/elsevier_api/elsevier_fulltexts.json'\n",
    "out_file = '../data/elsevier_api/elsevier_fulltexts.json'"
   ]
  },
  {
   "cell_type": "code",
   "execution_count": 16,
   "metadata": {},
   "outputs": [
    {
     "ename": "TypeError",
     "evalue": "string indices must be integers",
     "output_type": "error",
     "traceback": [
      "\u001b[0;31m---------------------------------------------------------------------------\u001b[0m",
      "\u001b[0;31mTypeError\u001b[0m                                 Traceback (most recent call last)",
      "\u001b[0;32m<ipython-input-16-b8b410c754a7>\u001b[0m in \u001b[0;36m<module>\u001b[0;34m()\u001b[0m\n\u001b[1;32m      4\u001b[0m \u001b[0;32mtry\u001b[0m\u001b[0;34m:\u001b[0m\u001b[0;34m\u001b[0m\u001b[0;34m\u001b[0m\u001b[0m\n\u001b[1;32m      5\u001b[0m     \u001b[0;32mfor\u001b[0m \u001b[0mkey\u001b[0m\u001b[0;34m,\u001b[0m \u001b[0mvalue\u001b[0m \u001b[0;32min\u001b[0m \u001b[0min_dict\u001b[0m\u001b[0;34m.\u001b[0m\u001b[0mitems\u001b[0m\u001b[0;34m(\u001b[0m\u001b[0;34m)\u001b[0m\u001b[0;34m:\u001b[0m\u001b[0;34m\u001b[0m\u001b[0;34m\u001b[0m\u001b[0m\n\u001b[0;32m----> 6\u001b[0;31m         \u001b[0mout_dict\u001b[0m\u001b[0;34m[\u001b[0m\u001b[0mkey\u001b[0m\u001b[0;34m]\u001b[0m \u001b[0;34m=\u001b[0m \u001b[0mvalue\u001b[0m\u001b[0;34m[\u001b[0m\u001b[0;34m'originalText'\u001b[0m\u001b[0;34m]\u001b[0m\u001b[0;34m\u001b[0m\u001b[0;34m\u001b[0m\u001b[0m\n\u001b[0m\u001b[1;32m      7\u001b[0m \u001b[0;34m\u001b[0m\u001b[0m\n\u001b[1;32m      8\u001b[0m \u001b[0;32mexcept\u001b[0m \u001b[0mKeyboardInterrupt\u001b[0m\u001b[0;34m:\u001b[0m\u001b[0;34m\u001b[0m\u001b[0;34m\u001b[0m\u001b[0m\n",
      "\u001b[0;31mTypeError\u001b[0m: string indices must be integers"
     ]
    }
   ],
   "source": [
    "in_dict = igem.get_json(in_file)\n",
    "out_dict = {}\n",
    "\n",
    "try:\n",
    "    for key, value in in_dict.items():\n",
    "        out_dict[key] = value['originalText']\n",
    "\n",
    "except KeyboardInterrupt:\n",
    "    print(\"Stopped.\")\n",
    "\n",
    "igem.save_json(out_file, out_dict)"
   ]
  },
  {
   "cell_type": "markdown",
   "metadata": {},
   "source": [
    "# Transposon to rename stuff really really inefficiently"
   ]
  },
  {
   "cell_type": "code",
   "execution_count": 6,
   "metadata": {},
   "outputs": [
    {
     "name": "stdout",
     "output_type": "stream",
     "text": [
      "Doing: 1\n",
      "Doing: 2\n",
      "Doing: 3\n",
      "Doing: 4\n",
      "Doing: 5\n",
      "Doing: 6\n"
     ]
    }
   ],
   "source": [
    "for filenum in range(1, 7):\n",
    "    print(f\"Doing: {filenum}\")\n",
    "    in_dict = igem.get_json(f\"{in_file_base}{filenum}.json\")\n",
    "    \n",
    "    igem.save_json(f\"{out_file_base}{filenum}.json\", in_dict)"
   ]
  }
 ],
 "metadata": {
  "kernelspec": {
   "display_name": "Python 3",
   "language": "python",
   "name": "python3"
  },
  "language_info": {
   "codemirror_mode": {
    "name": "ipython",
    "version": 3
   },
   "file_extension": ".py",
   "mimetype": "text/x-python",
   "name": "python",
   "nbconvert_exporter": "python",
   "pygments_lexer": "ipython3",
   "version": "3.7.8"
  }
 },
 "nbformat": 4,
 "nbformat_minor": 4
}
