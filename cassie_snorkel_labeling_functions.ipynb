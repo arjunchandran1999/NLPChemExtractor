{
 "cells": [
  {
   "cell_type": "markdown",
   "metadata": {},
   "source": [
    "## iGEM labeling functions"
   ]
  },
  {
   "cell_type": "markdown",
   "metadata": {},
   "source": [
    "## imports"
   ]
  },
  {
   "cell_type": "code",
   "execution_count": 2,
   "metadata": {},
   "outputs": [],
   "source": [
    "import pandas as pd\n",
    "import numpy as np\n",
    "import os\n",
    "import nltk\n",
    "import regex as re\n",
    "import ast\n",
    "from collections import defaultdict\n",
    "from snorkel.labeling import labeling_function"
   ]
  },
  {
   "cell_type": "markdown",
   "metadata": {},
   "source": [
    "### setting up abstain"
   ]
  },
  {
   "cell_type": "code",
   "execution_count": 159,
   "metadata": {},
   "outputs": [],
   "source": [
    "ABSTAIN = -1"
   ]
  },
  {
   "cell_type": "code",
   "execution_count": 160,
   "metadata": {},
   "outputs": [],
   "source": [
    "all_lfs = []"
   ]
  },
  {
   "cell_type": "markdown",
   "metadata": {},
   "source": [
    "### labeling functions + small tests written"
   ]
  },
  {
   "cell_type": "code",
   "execution_count": 161,
   "metadata": {},
   "outputs": [],
   "source": [
    "# includes_solution_words\n",
    "# If any of the words is in a list of solution terms, we label FALSE\n",
    "# https://www.hach.com/chemGlossary   \n",
    "solution_terms = [\"buffer\", \"diluent\", \"solute\", \"solvent\", \"saturated\", \"unsaturated\", \"saturating\",\n",
    "                    \"saturable\"]\n",
    "@labeling_function()\n",
    "def includes_solution_words(x):\n",
    "    for word in solution_terms:\n",
    "        if (word in x[0]):\n",
    "            return (False)\n",
    "    return ABSTAIN\n",
    "\n",
    "all_lfs.append(includes_solution_words)"
   ]
  },
  {
   "cell_type": "code",
   "execution_count": 162,
   "metadata": {},
   "outputs": [],
   "source": [
    "# includes_mixture_words\n",
    "# If any of the words is in a list of mixture terms, we label FALSE\n",
    "# https://www.hach.com/chemGlossary   \n",
    "mixture_terms = [\"suspended\", \"mixture\", \"heterogenous\", \"homogeneous\"]\n",
    "@labeling_function()\n",
    "def includes_mixture_words(x):\n",
    "    for word in mixture_terms:\n",
    "        if (word in x[0]):\n",
    "            return (False)\n",
    "    return ABSTAIN\n",
    "\n",
    "all_lfs.append(includes_mixture_words)"
   ]
  },
  {
   "cell_type": "code",
   "execution_count": 163,
   "metadata": {},
   "outputs": [],
   "source": [
    "# includes_physical_words\n",
    "# If there are common physical terms, we label FALSE\n",
    "physical_terms = [\"detection\", \"composed\", \"weight\", \"characteristic\", \"metal\", \"express\",\n",
    "    \"characterization\", \"color\", \"metalic\", \"consists\", \"pure\", \"compose\", \"assay\", \"mm\", \"bound\",\n",
    "    \"permeable\", \"signal\", \"bind\", \"property\", \"stored\", \"released\", \"capacity\", \"resistance\", \"mol\"]\n",
    "@labeling_function()\n",
    "def includes_physical_words(x):\n",
    "    for word in physical_terms:\n",
    "        if (word in x[0]):\n",
    "            return (False)\n",
    "    return ABSTAIN\n",
    "\n",
    "all_lfs.append(includes_physical_words)"
   ]
  },
  {
   "cell_type": "code",
   "execution_count": 164,
   "metadata": {},
   "outputs": [],
   "source": [
    "# includes_genetic_words\n",
    "# If one of the chemicals is in a list of genetic terms such as reductase, dna, gene, we label FALSE\n",
    "genetic_terms = [\"reductase\", \"dna\", \"gene\", \"allele\", \"locus\", \"genotype\", \"phenotype\", \"dominant\", \"recessive\", \"additive\", \"phenoset\",\n",
    "    \"diallelic\", \"multiallelic\", \"polyallelic\", \"monomorphic\", \"monoallelic\", \"polymorphism\", \"mutation\", \"complex\", \"trait\", \"multifactorial\",\n",
    "    \"polygenic\", \"monogenic\", \"mixed model\", \"transmission probability\", \"transition probability\", \"epistasis\", \"interaction\", \"pleiotropy\",\n",
    "    \"quantitative trait locus\", \"probit\", \"logit\", \"penetrance\", \"transformation\", \"scale of measurement\", \"identity by descent\", \"identity in state\",\n",
    "    \"haplotype\", \"phase\", \"multilocus\", \"genotype\", \"allelic\", \"association\", \"linkage\", \"disequilibrium\", \"gametic\", \"rna\"]\n",
    "@labeling_function()\n",
    "def includes_genetic_words(x):\n",
    "    for word in genetic_terms:\n",
    "        if (word in x[0]):\n",
    "            return False\n",
    "    return ABSTAIN\n",
    "\n",
    "all_lfs.append(includes_genetic_words)\n",
    "    "
   ]
  },
  {
   "cell_type": "code",
   "execution_count": 165,
   "metadata": {},
   "outputs": [],
   "source": [
    "# includes_structural_words\n",
    "# If there are common structural terms, we label FALSE\n",
    "structural_terms = [\"loop\", \"sequence\", \"encodes\", \"code\", \"codon\", \"dna\", \"rna\", \"pair\", \"group\", \"active site\",\n",
    "    \"bond\", \"chain\", \"gene\", \"structure\", \"structural\", \"encoding\", \"cdna\", \"cluster\"]\n",
    "@labeling_function()\n",
    "def includes_structural_words(x):\n",
    "    for word in structural_terms:\n",
    "        if (word in x[0]):\n",
    "            return (False)\n",
    "    return ABSTAIN\n",
    "\n",
    "all_lfs.append(includes_structural_words)"
   ]
  },
  {
   "cell_type": "code",
   "execution_count": 166,
   "metadata": {},
   "outputs": [],
   "source": [
    "# includes_general_chemical_words\n",
    "# If any of the words is in a list of common chemical terms such as amino acid, sugar, adenosine, amide, adenine, etc..., we label FALSE\n",
    "# https://www.hach.com/chemGlossary   \n",
    "chemical_terms = [\"amino acid\", \"sugar\", \"adenosine\", \"amide\", \"adenine\", \"algaecide\", \"amines\", \"base\", \"biocides\",\n",
    "    \"clarifier\", \"hydrocarbon\", \"hydrogenation\", \"molecule\", \"nutrients\", \"polymer\", \"peptide\", \"polypeptide\",\n",
    "    \"tag\", \"functional\", \"activity\", \"electron\", \"cofactor\", \"gas\"]\n",
    "@labeling_function()\n",
    "def includes_general_chemical_words(x):\n",
    "    for word in chemical_terms:\n",
    "        if (word in x[0]):\n",
    "            return (False)\n",
    "    return ABSTAIN\n",
    "\n",
    "all_lfs.append(includes_general_chemical_words)"
   ]
  },
  {
   "cell_type": "code",
   "execution_count": 167,
   "metadata": {},
   "outputs": [],
   "source": [
    "# includes_functional_group\n",
    "# If there is a close mention of a functional chemical group, we label FALSE (as it is more likely descriptive of a structure than of a reaction)\n",
    "# https://www.masterorganicchemistry.com/2010/10/06/functional-groups-organic-chemistry/\n",
    "common_functional_groups = [\"alkane\", \"alkene\", \"alkyne\", \"benzene ring\", \"phenyl\", \"amine\", \"alcohol\", \"ether\", \"alkyl halide\", \"thiol\",\n",
    "    \"aldehyde\", \"ketone\", \"ester\", \"carboxylic acid\", \"amide\", \"nitrile\", \"epoxide\", \"disulfide\", \"imine\", \"acid chloride\", \"anhydride\", \"nitro\",\n",
    "    \"sulfide\", \"thioether\", \"group\", \"functional\"]\n",
    "@labeling_function()\n",
    "def includes_functional_group(x):\n",
    "    for group in common_functional_groups:\n",
    "        if (group in x[0]):\n",
    "            return False\n",
    "    return ABSTAIN\n",
    "\n",
    "all_lfs.append(includes_functional_group)\n"
   ]
  },
  {
   "cell_type": "code",
   "execution_count": 168,
   "metadata": {},
   "outputs": [],
   "source": [
    "# includes_amino_acid\n",
    "# If there is an amino acid mentioned, we label FALSE\n",
    "amino_acids = ['val', 'ile', 'leu', 'glu', 'gln', \\\n",
    "    'asp', 'asn' 'his' 'trp', 'phe', 'tyr',    \\\n",
    "    'arg', 'lys', 'ser', 'thr', 'met', 'ala',    \\\n",
    "    'gly', 'pro', 'cys', \"amino\"]\n",
    "@labeling_function()\n",
    "def includes_amino_acid(x):\n",
    "    for group in amino_acids:\n",
    "        if (group in x[0]):\n",
    "            return False\n",
    "    return ABSTAIN\n",
    "\n",
    "all_lfs.append(includes_amino_acid)\n"
   ]
  },
  {
   "cell_type": "code",
   "execution_count": 169,
   "metadata": {},
   "outputs": [],
   "source": [
    "# includes_paper_artifacts\n",
    "# If there are common words from paper headers/footers, we label FALSE\n",
    "common_terms = [\"university\", \"univ\", \"pharma\", \"avenue\", \"street\", \"road\", \"department\", \"usa\", \"reference\", \"ref\",\n",
    "    \"keyword\", \"article\", \"http\", \"png\", \"jpg\"]\n",
    "@labeling_function()\n",
    "def includes_paper_artifacts(x):\n",
    "    for word in common_terms:\n",
    "        if (word in x[0]):\n",
    "            return (False)\n",
    "    return ABSTAIN\n",
    "\n",
    "all_lfs.append(includes_paper_artifacts)"
   ]
  },
  {
   "cell_type": "code",
   "execution_count": 170,
   "metadata": {},
   "outputs": [],
   "source": [
    "# includes_no_terms\n",
    "# If there are words stopping or with no change, we label FALSE\n",
    "common_no_terms = [\"inactivated\", \"unaffected\", \"inactive\", \"inactivates\", \"stops\", \"prevent\", \"inhibit\",\n",
    "    \"denature\", \"block\"]\n",
    "@labeling_function()\n",
    "def includes_no_terms(x):\n",
    "    for word in common_no_terms:\n",
    "        if (word in x[0]):\n",
    "            return (False)\n",
    "    return ABSTAIN\n",
    "\n",
    "all_lfs.append(includes_no_terms)"
   ]
  },
  {
   "cell_type": "code",
   "execution_count": 171,
   "metadata": {},
   "outputs": [],
   "source": [
    "def helper_sep_chems_with_or(chemicals):\n",
    "    final = \"\"\n",
    "    for chem in chemicals:\n",
    "        if (final == \"\"):\n",
    "            final += chem\n",
    "        else:\n",
    "            final += \"|\" + chem\n",
    "    return final"
   ]
  },
  {
   "cell_type": "code",
   "execution_count": 172,
   "metadata": {},
   "outputs": [],
   "source": [
    "# structure_adjacent_mentions\n",
    "# If the chemicals are adjacent, we label FALSE\n",
    "@labeling_function()\n",
    "def structure_adjacent_mentions(x):\n",
    "    chemicals = helper_sep_chems_with_or(x[1])\n",
    "    structure = \"(\" + chemicals + \") (\" + chemicals + \")\"\n",
    "    if (re.search(structure, x[0])):\n",
    "        return False\n",
    "    return ABSTAIN\n",
    "\n",
    "all_lfs.append(structure_adjacent_mentions)"
   ]
  },
  {
   "cell_type": "code",
   "execution_count": 173,
   "metadata": {},
   "outputs": [],
   "source": [
    "# structure_sep_or\n",
    "# If the chemicals are separated by or, we label FALSE\n",
    "@labeling_function()\n",
    "def structure_sep_or(x):\n",
    "    chemicals = helper_sep_chems_with_or(x[1])\n",
    "    structure = \"(\" + chemicals + \") or (\" + chemicals + \")\"\n",
    "    if (re.search(structure, x[0])):\n",
    "        return False\n",
    "    return ABSTAIN\n",
    "\n",
    "all_lfs.append(structure_sep_or)"
   ]
  },
  {
   "cell_type": "code",
   "execution_count": 174,
   "metadata": {},
   "outputs": [],
   "source": [
    "# structure_sep_and\n",
    "# If the chemicals are separated by and, we label FALSE\n",
    "@labeling_function()\n",
    "def structure_sep_and(x):\n",
    "    chemicals = helper_sep_chems_with_or(x[1])\n",
    "    structure = \"(\" + chemicals + \") and (\" + chemicals + \")\"\n",
    "    if (re.search(structure, x[0])):\n",
    "        return False\n",
    "    return ABSTAIN\n",
    "\n",
    "all_lfs.append(structure_sep_and)"
   ]
  },
  {
   "cell_type": "code",
   "execution_count": 175,
   "metadata": {},
   "outputs": [],
   "source": [
    "# structure_sep_comma\n",
    "# If the chemicals are separated by a comma, we label FALSE\n",
    "@labeling_function()\n",
    "def structure_sep_comma(x):\n",
    "    chemicals = helper_sep_chems_with_or(x[1])\n",
    "    structure = \"(\" + chemicals + \"), (\" + chemicals + \")\"\n",
    "    if (re.search(structure, x[0])):\n",
    "        return False\n",
    "    return ABSTAIN\n",
    "\n",
    "all_lfs.append(structure_sep_comma)"
   ]
  },
  {
   "cell_type": "code",
   "execution_count": 176,
   "metadata": {},
   "outputs": [],
   "source": [
    "# LF_sep_via\n",
    "# If the chemicals are separated by via, in, etc, we label FALSE\n",
    "via_terms = \"via|by|in\"\n",
    "@labeling_function()\n",
    "def structure_sep_via(x):\n",
    "    chemicals = helper_sep_chems_with_or(x[1])\n",
    "    structure = \"(\" + chemicals + \") (\" + via_terms + \") (\" + chemicals + \")\"\n",
    "    if (re.search(structure, x[0])):\n",
    "        return False\n",
    "    return ABSTAIN\n",
    "\n",
    "all_lfs.append(structure_sep_via)"
   ]
  },
  {
   "cell_type": "code",
   "execution_count": 177,
   "metadata": {},
   "outputs": [],
   "source": [
    "# structure_sep_sym\n",
    "# If the chemicals are separated by a single character, we label FALSE  \n",
    "@labeling_function()\n",
    "def structure_sep_sym(x):\n",
    "    chemicals = helper_sep_chems_with_or(x[1])\n",
    "    structure = \"(\" + chemicals + \").(\" + chemicals + \")\"\n",
    "    if (re.search(structure, x[0])):\n",
    "        return False\n",
    "    return ABSTAIN\n",
    "\n",
    "all_lfs.append(structure_sep_via)"
   ]
  },
  {
   "cell_type": "code",
   "execution_count": 178,
   "metadata": {},
   "outputs": [],
   "source": [
    "# structure_followed_by_ase\n",
    "# If one of the chemicals is followed by a word that ends with -ase, we label FALSE\n",
    "@labeling_function()\n",
    "def structure_followed_by_ase(x):\n",
    "    chemicals = helper_sep_chems_with_or(x[1])\n",
    "    structure = \"(\" + chemicals + r\") \\w*ase\\b\"\n",
    "    if (re.search(structure, x[0])):\n",
    "        return False\n",
    "    return ABSTAIN\n",
    "\n",
    "all_lfs.append(structure_followed_by_ase)"
   ]
  },
  {
   "cell_type": "code",
   "execution_count": 236,
   "metadata": {},
   "outputs": [],
   "source": [
    "# structure_followed_by_noun\n",
    "# If one of the chemicals is followed by a noun, we label FALSE\n",
    "@labeling_function()\n",
    "def structure_followed_by_noun(x):\n",
    "    sentence = x[0].replace(',', '')\n",
    "    chemicals = helper_sep_chems_with_or(x[1])\n",
    "    if (chemicals == \"\"):\n",
    "        return ABSTAIN\n",
    "    structure = \"(\" + chemicals + r\") \\w+\"\n",
    "    for match in re.finditer(structure, sentence):\n",
    "        if (nltk.pos_tag([match.group(0).split()[1]])[0][1] == \"NN\"):\n",
    "            return False\n",
    "    return ABSTAIN\n",
    "\n",
    "all_lfs.append(structure_followed_by_noun)"
   ]
  },
  {
   "cell_type": "code",
   "execution_count": 232,
   "metadata": {},
   "outputs": [],
   "source": [
    "# structure_sep_verb\n",
    "# If the chemicals are separated by a verb, we label TRUE\n",
    "@labeling_function()\n",
    "def structure_sep_verb(x):\n",
    "    sentence = x[0].replace(',', '')\n",
    "    chemicals = helper_sep_chems_with_or(x[1])\n",
    "    if (chemicals == \"\"):\n",
    "        return ABSTAIN\n",
    "    structure = \"(\" + chemicals + r\") \\w+ (\" + chemicals + \")\"\n",
    "    for match in re.finditer(structure, sentence):\n",
    "        if (re.match(r\"(\\bVB|NNS)\", nltk.pos_tag([match.group(0).split()[1]])[0][1])):\n",
    "            return True\n",
    "    return ABSTAIN\n",
    "\n",
    "all_lfs.append(structure_sep_verb)"
   ]
  },
  {
   "cell_type": "code",
   "execution_count": 233,
   "metadata": {},
   "outputs": [],
   "source": [
    "# structure_sep_adverb\n",
    "# If the chemicals are separated by a adverb, we label FALSE\n",
    "@labeling_function()\n",
    "def structure_sep_adverb(x):\n",
    "    sentence = x[0].replace(',', '')\n",
    "    chemicals = helper_sep_chems_with_or(x[1])\n",
    "    if (chemicals == \"\"):\n",
    "        return ABSTAIN\n",
    "    structure = \"(\" + chemicals + r\") \\w+ (\" + chemicals + \")\"\n",
    "    for match in re.finditer(structure, sentence):\n",
    "        if (re.match(r\"(\\bRB)\", nltk.pos_tag([match.group(0).split()[1]])[0][1])):\n",
    "            return False\n",
    "    return ABSTAIN\n",
    "\n",
    "all_lfs.append(structure_sep_adverb)"
   ]
  },
  {
   "cell_type": "code",
   "execution_count": 234,
   "metadata": {},
   "outputs": [
    {
     "data": {
      "text/plain": [
       "False"
      ]
     },
     "execution_count": 234,
     "metadata": {},
     "output_type": "execute_result"
    }
   ],
   "source": [
    "structure_sep_adverb([\"cassie crazily night away\", [\"cassie\", \"night\"]])"
   ]
  },
  {
   "cell_type": "code",
   "execution_count": 99,
   "metadata": {},
   "outputs": [],
   "source": [
    "# includes_oxidation_words\n",
    "# If the sentence contains oxidation words, we label True\n",
    "oxidation_terms = \"oxidiz|oxidis|redox|reduc|rust|corrod\"\n",
    "@labeling_function()\n",
    "def includes_oxidation_words(x):\n",
    "    structure = \"(\" + oxidation_terms + \")\"\n",
    "    if (re.search(structure, x[0])):\n",
    "        return True\n",
    "    return ABSTAIN\n",
    "\n",
    "all_lfs.append(includes_oxidation_words)"
   ]
  },
  {
   "cell_type": "code",
   "execution_count": 100,
   "metadata": {},
   "outputs": [],
   "source": [
    "# includes_combustion_words\n",
    "# If the sentence contains combustion words, we label True\n",
    "combustion_terms = \"combust|burn|explod|gas-form\"\n",
    "@labeling_function()\n",
    "def includes_combustion_words(x):\n",
    "    structure = \"(\" + combustion_terms + \")\"\n",
    "    if (re.search(structure, x[0])):\n",
    "        return True\n",
    "    return ABSTAIN\n",
    "\n",
    "all_lfs.append(includes_combustion_words)"
   ]
  },
  {
   "cell_type": "code",
   "execution_count": 101,
   "metadata": {},
   "outputs": [],
   "source": [
    "# includes_neutralization_words\n",
    "# If the sentence contains neutralization words, we label True\n",
    "neutralization_terms = \"neutraliz|titrat|buffer|gas-form\"\n",
    "@labeling_function()\n",
    "def includes_neutralization_words(x):\n",
    "    structure = \"(\" + neutralization_terms + \")\"\n",
    "    if (re.search(structure, x[0])):\n",
    "        return True\n",
    "    return ABSTAIN\n",
    "\n",
    "all_lfs.append(includes_neutralization_words)"
   ]
  },
  {
   "cell_type": "code",
   "execution_count": 35,
   "metadata": {},
   "outputs": [],
   "source": [
    "# LF_includes_catalyze_words\n",
    "# If the sentence contains catalyze words, we label True\n",
    "# catalyze_words = [\"catalyze\", \"catalyst\", \"catalyse\", \"catalysing\", \"catalyzing\"]\n",
    "# @labeling_function()\n",
    "# def includes_catalyze_words(x):\n",
    "#     for word in catalyze_words:\n",
    "#         if(word in x[0]):\n",
    "#             return True\n",
    "#     return ABSTAIN"
   ]
  },
  {
   "cell_type": "code",
   "execution_count": 102,
   "metadata": {},
   "outputs": [],
   "source": [
    "# includes_combination_words\n",
    "# If the sentence contains combination words, we label True\n",
    "combination_terms = \"combin\"\n",
    "@labeling_function()\n",
    "def includes_combination_words(x):\n",
    "    structure = \"(\" + combination_terms + \")\"\n",
    "    if (re.search(structure, x[0])):\n",
    "        return True\n",
    "    return ABSTAIN\n",
    "\n",
    "all_lfs.append(includes_combination_words)"
   ]
  },
  {
   "cell_type": "code",
   "execution_count": 103,
   "metadata": {},
   "outputs": [],
   "source": [
    "# includes_decomposition_words\n",
    "# If the sentence contains decomposition words, we label True\n",
    "decomposition_terms = \"decompos\"\n",
    "@labeling_function()\n",
    "def includes_decomposition_words(x):\n",
    "    structure = \"(\" + decomposition_terms + \")\"\n",
    "    if (re.search(structure, x[0])):\n",
    "        return True\n",
    "    return ABSTAIN\n",
    "\n",
    "all_lfs.append(includes_decomposition_words)"
   ]
  },
  {
   "cell_type": "code",
   "execution_count": 104,
   "metadata": {},
   "outputs": [],
   "source": [
    "# includes_replacement_words\n",
    "# If the sentence contains decomposition words, we label True\n",
    "replacement_terms = \"replac\"\n",
    "@labeling_function()\n",
    "def includes_replacement_words(x):\n",
    "    structure = \"(\" + replacement_terms + \")\"\n",
    "    if (re.search(structure, x[0])):\n",
    "        return True\n",
    "    return ABSTAIN\n",
    "\n",
    "all_lfs.append(includes_replacement_words)"
   ]
  },
  {
   "cell_type": "code",
   "execution_count": 105,
   "metadata": {},
   "outputs": [],
   "source": [
    "# includes_reaction_words\n",
    "# If the sentence contains reactions words, we label True\n",
    "reaction_terms = \"conver|yield|produc|mak|creat|synthesiz|synthesis|transform|ferment|break|displac|exchang\" + \\\n",
    "                 \"precipit|transfer|through|produc|activat|revers|form|ation|metaboliz|metabolis|generat|hydroly\"\n",
    "@labeling_function()\n",
    "def includes_reaction_words(x):\n",
    "    structure = \"(\" + reaction_terms + \")\"\n",
    "    if (re.search(structure, x[0])):\n",
    "        return True\n",
    "    return ABSTAIN\n",
    "\n",
    "all_lfs.append(includes_reaction_words)"
   ]
  },
  {
   "cell_type": "code",
   "execution_count": 106,
   "metadata": {},
   "outputs": [],
   "source": [
    "# includes_react\n",
    "# If the sentence contains react, we label True\n",
    "@labeling_function()\n",
    "def includes_react(x):\n",
    "    if(\"react\" in x[0]):\n",
    "        return True\n",
    "    return ABSTAIN\n",
    "\n",
    "all_lfs.append(includes_react)"
   ]
  },
  {
   "cell_type": "code",
   "execution_count": 107,
   "metadata": {},
   "outputs": [],
   "source": [
    "# includes_reaction_component_words\n",
    "# If the sentence contains reaction components words, we label True\n",
    "reaction_component_terms = [\"substrate\", \"product\", \"reactant\", \"step\"]\n",
    "@labeling_function()\n",
    "def includes_reaction_component_words(x):\n",
    "    for word in reaction_component_terms:\n",
    "        if(word in x[0]):\n",
    "            return True\n",
    "    return ABSTAIN\n",
    "\n",
    "all_lfs.append(includes_reaction_component_words)"
   ]
  },
  {
   "cell_type": "code",
   "execution_count": 108,
   "metadata": {},
   "outputs": [],
   "source": [
    "# includes_comparison_words\n",
    "# If the sentence contains comparison words, we label False\n",
    "comparison_terms = [\"similar\", \"more\", \"greater\", \"less\", \"increase\", \"decrease\", \"compare\", \"comparing\",\n",
    "    \"difference\", \"differ\", \"relative\", \"better\", \"times\", \"than\"]\n",
    "@labeling_function()\n",
    "def includes_comparison_words(x):\n",
    "    for word in comparison_terms:\n",
    "        if(word in x[0]):\n",
    "            return False\n",
    "    return ABSTAIN\n",
    "\n",
    "all_lfs.append(includes_comparison_words)"
   ]
  },
  {
   "cell_type": "code",
   "execution_count": 109,
   "metadata": {},
   "outputs": [],
   "source": [
    "# includes_concentration\n",
    "# If the sentence contains react, we label True\n",
    "@labeling_function()\n",
    "def includes_concentration(x):\n",
    "    if(\"concentration\" in x[0]):\n",
    "        return True\n",
    "    return ABSTAIN\n",
    "\n",
    "all_lfs.append(includes_concentration)"
   ]
  },
  {
   "cell_type": "code",
   "execution_count": 110,
   "metadata": {},
   "outputs": [],
   "source": [
    "# includes_measure_words\n",
    "# If the sentence contains measure words, we label False\n",
    "measure_terms = [\"high\", \"low\", \"ph\", \"stability\", \"corelated\", \"more\", \"less\", \"level\", \"degree\", \"time\",\n",
    "                \"measure\"]\n",
    "@labeling_function()\n",
    "def includes_measure_words(x):\n",
    "    for word in measure_terms:\n",
    "        if(word in x[0]):\n",
    "            return False\n",
    "    return ABSTAIN\n",
    "\n",
    "all_lfs.append(includes_measure_words)"
   ]
  },
  {
   "cell_type": "code",
   "execution_count": 111,
   "metadata": {},
   "outputs": [],
   "source": [
    "# includes_experiment_words\n",
    "# If the sentence contains experiement words, we label False\n",
    "experiment_terms = [\"mice\", \"cell\", \"mouse\", \"ovary\", \"male\", \"female\", \"animal\", \"study\", \"method\",\n",
    "    \"test\", \"treat\", \"protection\", \"brain\", \"nerve\", \"human\", \"tissue\", \"fetal\", \"vitro\", \"studies\",\n",
    "    \"membrane\", \"strain\", \"mutant\", \"regulate\", \"dependent\", \"drug\", \"therapy\", \"oral\", \"test\", \"autoantigen\"]\n",
    "@labeling_function()\n",
    "def includes_experiment_words(x):\n",
    "    for word in experiment_terms:\n",
    "        if(word in x[0]):\n",
    "            return False\n",
    "    return ABSTAIN\n",
    "\n",
    "all_lfs.append(includes_experiment_words)"
   ]
  },
  {
   "cell_type": "code",
   "execution_count": 114,
   "metadata": {},
   "outputs": [],
   "source": [
    "# structure_sep_converstion_words\n",
    "# If the sentence contains to, from, into, etc., we label True\n",
    "conversion_terms = \"to|from|into|becom|became\"\n",
    "@labeling_function()\n",
    "def structure_sep_converstion_words(x):\n",
    "    sentence = x[0].replace(',', '')\n",
    "    chemicals = helper_sep_chems_with_or(x[1])\n",
    "    structure = \"((\" + chemicals + r\") (\" + conversion_terms + r\")\\b|((\" + conversion_terms + r\")\\b (\" + chemicals + \")))\"\n",
    "    if (re.search(structure, sentence)):\n",
    "            return True\n",
    "    return ABSTAIN\n",
    "\n",
    "all_lfs.append(structure_sep_converstion_words)"
   ]
  },
  {
   "cell_type": "code",
   "execution_count": 118,
   "metadata": {},
   "outputs": [],
   "source": [
    "# includes_one_chem\n",
    "# If the sentence contains one identified chemical, we label False\n",
    "@labeling_function()\n",
    "def includes_one_chem(x):\n",
    "    if(len(x[1]) == 1):\n",
    "            return False\n",
    "    return ABSTAIN\n",
    "\n",
    "all_lfs.append(includes_one_chem)"
   ]
  },
  {
   "cell_type": "markdown",
   "metadata": {},
   "source": [
    "### importing data in and cleaning it (this data has truth values)"
   ]
  },
  {
   "cell_type": "code",
   "execution_count": 129,
   "metadata": {},
   "outputs": [],
   "source": [
    "# have this csv file in the same folder\n",
    "sentence_df = pd.read_csv(\"sentence_data_cleaned_csv_fixed.csv\")"
   ]
  },
  {
   "cell_type": "code",
   "execution_count": 130,
   "metadata": {},
   "outputs": [
    {
     "data": {
      "text/html": [
       "<div>\n",
       "<style scoped>\n",
       "    .dataframe tbody tr th:only-of-type {\n",
       "        vertical-align: middle;\n",
       "    }\n",
       "\n",
       "    .dataframe tbody tr th {\n",
       "        vertical-align: top;\n",
       "    }\n",
       "\n",
       "    .dataframe thead th {\n",
       "        text-align: right;\n",
       "    }\n",
       "</style>\n",
       "<table border=\"1\" class=\"dataframe\">\n",
       "  <thead>\n",
       "    <tr style=\"text-align: right;\">\n",
       "      <th></th>\n",
       "      <th>sentence</th>\n",
       "      <th>chemicals</th>\n",
       "      <th>truth</th>\n",
       "      <th>substrates</th>\n",
       "      <th>products</th>\n",
       "    </tr>\n",
       "  </thead>\n",
       "  <tbody>\n",
       "    <tr>\n",
       "      <th>0</th>\n",
       "      <td>The enzyme cyclo-oxygenase catalyses the oxyge...</td>\n",
       "      <td>prostaglandins</td>\n",
       "      <td>1.0</td>\n",
       "      <td>arachidonic, acid</td>\n",
       "      <td>prostaglandins</td>\n",
       "    </tr>\n",
       "    <tr>\n",
       "      <th>1</th>\n",
       "      <td>Recently two forms of cyclo-oxygenase have bee...</td>\n",
       "      <td>NaN</td>\n",
       "      <td>0.0</td>\n",
       "      <td>NaN</td>\n",
       "      <td>NaN</td>\n",
       "    </tr>\n",
       "    <tr>\n",
       "      <th>2</th>\n",
       "      <td>Constitutive and inducible forms of human cycl...</td>\n",
       "      <td>NaN</td>\n",
       "      <td>0.0</td>\n",
       "      <td>NaN</td>\n",
       "      <td>NaN</td>\n",
       "    </tr>\n",
       "    <tr>\n",
       "      <th>3</th>\n",
       "      <td>hCOX-1 had a specific activity of 18.8 mumol o...</td>\n",
       "      <td>arachidonate</td>\n",
       "      <td>0.0</td>\n",
       "      <td>arachidonate</td>\n",
       "      <td>NaN</td>\n",
       "    </tr>\n",
       "    <tr>\n",
       "      <th>4</th>\n",
       "      <td>of 1500 nmol of O2/nmol of enzyme, whereas hCO...</td>\n",
       "      <td>arachidonate</td>\n",
       "      <td>0.0</td>\n",
       "      <td>arachidonate</td>\n",
       "      <td>NaN</td>\n",
       "    </tr>\n",
       "  </tbody>\n",
       "</table>\n",
       "</div>"
      ],
      "text/plain": [
       "                                            sentence       chemicals  truth  \\\n",
       "0  The enzyme cyclo-oxygenase catalyses the oxyge...  prostaglandins    1.0   \n",
       "1  Recently two forms of cyclo-oxygenase have bee...             NaN    0.0   \n",
       "2  Constitutive and inducible forms of human cycl...             NaN    0.0   \n",
       "3  hCOX-1 had a specific activity of 18.8 mumol o...    arachidonate    0.0   \n",
       "4  of 1500 nmol of O2/nmol of enzyme, whereas hCO...    arachidonate    0.0   \n",
       "\n",
       "          substrates        products  \n",
       "0  arachidonic, acid  prostaglandins  \n",
       "1                NaN             NaN  \n",
       "2                NaN             NaN  \n",
       "3       arachidonate             NaN  \n",
       "4       arachidonate             NaN  "
      ]
     },
     "execution_count": 130,
     "metadata": {},
     "output_type": "execute_result"
    }
   ],
   "source": [
    "sentence_chem_df = sentence_df[[\"sentence\", \"chemicals\", \"truth\", \"substrates\", \"products\"]]\n",
    "sentence_chem_df.head()"
   ]
  },
  {
   "cell_type": "code",
   "execution_count": 131,
   "metadata": {},
   "outputs": [],
   "source": [
    "greek_alphabet = {\n",
    "    u'\\u0393': 'Gamma',\n",
    "    u'\\u0394': 'Delta',\n",
    "    u'\\u0398': 'Theta',\n",
    "    u'\\u039B': 'Lamda',\n",
    "    u'\\u039E': 'Xi',\n",
    "    u'\\u03A0': 'Pi',\n",
    "    u'\\u03A3': 'Sigma',\n",
    "    u'\\u03A6': 'Phi',\n",
    "    u'\\u03A7': 'Chi',\n",
    "    u'\\u03A8': 'Psi',\n",
    "    u'\\u03A9': 'Omega',\n",
    "    u'\\u03B1': 'alpha',\n",
    "    u'\\u03B2': 'beta',\n",
    "    u'\\u03B3': 'gamma',\n",
    "    u'\\u03B4': 'delta',\n",
    "    u'\\u03B5': 'epsilon',\n",
    "    u'\\u03B6': 'zeta',\n",
    "    u'\\u03B7': 'eta',\n",
    "    u'\\u03B8': 'theta',\n",
    "    u'\\u03B9': 'iota',\n",
    "    u'\\u03BA': 'kappa',\n",
    "    u'\\u03BB': 'lamda',\n",
    "    u'\\u03BC': 'mu',\n",
    "    u'\\u03BD': 'nu',\n",
    "    u'\\u03BE': 'xi',\n",
    "    u'\\u03BF': 'omicron',\n",
    "    u'\\u03C0': 'pi',\n",
    "    u'\\u03C1': 'rho',\n",
    "    u'\\u03C3': 'sigma',\n",
    "    u'\\u03C4': 'tau',\n",
    "    u'\\u03C5': 'upsilon',\n",
    "    u'\\u03C6': 'phi',\n",
    "    u'\\u03C7': 'chi',\n",
    "    u'\\u03C8': 'psi',\n",
    "    u'\\u03C9': 'omega'\n",
    "}"
   ]
  },
  {
   "cell_type": "code",
   "execution_count": 132,
   "metadata": {},
   "outputs": [],
   "source": [
    "def remove_greek(words):\n",
    "    for letter in greek_alphabet.keys():\n",
    "        words = words.replace(letter, greek_alphabet[letter])\n",
    "    return words"
   ]
  },
  {
   "cell_type": "code",
   "execution_count": 133,
   "metadata": {},
   "outputs": [
    {
     "name": "stderr",
     "output_type": "stream",
     "text": [
      "C:\\Users\\cassi\\AppData\\Local\\Temp/ipykernel_2096/1323417438.py:2: SettingWithCopyWarning: \n",
      "A value is trying to be set on a copy of a slice from a DataFrame.\n",
      "Try using .loc[row_indexer,col_indexer] = value instead\n",
      "\n",
      "See the caveats in the documentation: https://pandas.pydata.org/pandas-docs/stable/user_guide/indexing.html#returning-a-view-versus-a-copy\n",
      "  sentence_chem_df[\"chemicals\"] = sentence_chem_df[\"chemicals\"].replace(np.NaN, \"0\")\n"
     ]
    }
   ],
   "source": [
    "import math\n",
    "sentence_chem_df[\"chemicals\"] = sentence_chem_df[\"chemicals\"].replace(np.NaN, \"0\")"
   ]
  },
  {
   "cell_type": "code",
   "execution_count": 134,
   "metadata": {},
   "outputs": [],
   "source": [
    "def chem_into_array(chemicals):\n",
    "    if (chemicals == \"0\"):\n",
    "        return []\n",
    "    chemicals = remove_greek(chemicals)\n",
    "    chemicals = chemicals.lower()\n",
    "    sample_chems = chemicals.replace(\"%20\", \" \")\n",
    "    sample_chems_list = sample_chems.split(\", \")\n",
    "    for index in range(len(sample_chems_list)):\n",
    "        while(sample_chems_list[index][-1] == \",\"):\n",
    "            sample_chems_list[index] = sample_chems_list[index][:-1]\n",
    "    sample_chems_list = list(set(sample_chems_list))\n",
    "    return sample_chems_list"
   ]
  },
  {
   "cell_type": "code",
   "execution_count": 135,
   "metadata": {},
   "outputs": [],
   "source": [
    "def sentence_cleaned(sentence):\n",
    "    sentence = remove_greek(sentence)\n",
    "    sentence = sentence.lower()\n",
    "    sentence = sentence.replace(\".\", \"\")\n",
    "    sentence = sentence.replace(\")\", \"\")\n",
    "    sentence = sentence.replace(\"(\", \"\")\n",
    "    sentence = sentence.replace(\";\", \"\")\n",
    "    sentence = sentence.replace(\":\", \"\")\n",
    "    return sentence"
   ]
  },
  {
   "cell_type": "code",
   "execution_count": 136,
   "metadata": {},
   "outputs": [
    {
     "name": "stderr",
     "output_type": "stream",
     "text": [
      "C:\\Users\\cassi\\AppData\\Local\\Temp/ipykernel_2096/436195421.py:1: SettingWithCopyWarning: \n",
      "A value is trying to be set on a copy of a slice from a DataFrame.\n",
      "Try using .loc[row_indexer,col_indexer] = value instead\n",
      "\n",
      "See the caveats in the documentation: https://pandas.pydata.org/pandas-docs/stable/user_guide/indexing.html#returning-a-view-versus-a-copy\n",
      "  sentence_chem_df[\"sentence\"] = sentence_chem_df[\"sentence\"].apply(sentence_cleaned)\n"
     ]
    },
    {
     "data": {
      "text/plain": [
       "0.0    342\n",
       "1.0     18\n",
       "Name: truth, dtype: int64"
      ]
     },
     "execution_count": 136,
     "metadata": {},
     "output_type": "execute_result"
    }
   ],
   "source": [
    "sentence_chem_df[\"sentence\"] = sentence_chem_df[\"sentence\"].apply(sentence_cleaned)\n",
    "sentence_chem_df[\"truth\"].value_counts()"
   ]
  },
  {
   "cell_type": "code",
   "execution_count": 137,
   "metadata": {},
   "outputs": [
    {
     "name": "stderr",
     "output_type": "stream",
     "text": [
      "C:\\Users\\cassi\\AppData\\Local\\Temp/ipykernel_2096/741021427.py:1: SettingWithCopyWarning: \n",
      "A value is trying to be set on a copy of a slice from a DataFrame.\n",
      "Try using .loc[row_indexer,col_indexer] = value instead\n",
      "\n",
      "See the caveats in the documentation: https://pandas.pydata.org/pandas-docs/stable/user_guide/indexing.html#returning-a-view-versus-a-copy\n",
      "  sentence_chem_df[\"chemicals\"] = sentence_chem_df[\"chemicals\"].apply(chem_into_array)\n"
     ]
    }
   ],
   "source": [
    "sentence_chem_df[\"chemicals\"] = sentence_chem_df[\"chemicals\"].apply(chem_into_array)"
   ]
  },
  {
   "cell_type": "code",
   "execution_count": 138,
   "metadata": {},
   "outputs": [
    {
     "name": "stderr",
     "output_type": "stream",
     "text": [
      "C:\\Users\\cassi\\AppData\\Local\\Temp/ipykernel_2096/4259470197.py:1: SettingWithCopyWarning: \n",
      "A value is trying to be set on a copy of a slice from a DataFrame.\n",
      "Try using .loc[row_indexer,col_indexer] = value instead\n",
      "\n",
      "See the caveats in the documentation: https://pandas.pydata.org/pandas-docs/stable/user_guide/indexing.html#returning-a-view-versus-a-copy\n",
      "  sentence_chem_df[\"text\"] = sentence_chem_df[[\"sentence\", \"chemicals\"]].values.tolist()\n"
     ]
    },
    {
     "data": {
      "text/html": [
       "<div>\n",
       "<style scoped>\n",
       "    .dataframe tbody tr th:only-of-type {\n",
       "        vertical-align: middle;\n",
       "    }\n",
       "\n",
       "    .dataframe tbody tr th {\n",
       "        vertical-align: top;\n",
       "    }\n",
       "\n",
       "    .dataframe thead th {\n",
       "        text-align: right;\n",
       "    }\n",
       "</style>\n",
       "<table border=\"1\" class=\"dataframe\">\n",
       "  <thead>\n",
       "    <tr style=\"text-align: right;\">\n",
       "      <th></th>\n",
       "      <th>sentence</th>\n",
       "      <th>chemicals</th>\n",
       "      <th>truth</th>\n",
       "      <th>substrates</th>\n",
       "      <th>products</th>\n",
       "      <th>text</th>\n",
       "    </tr>\n",
       "  </thead>\n",
       "  <tbody>\n",
       "    <tr>\n",
       "      <th>0</th>\n",
       "      <td>the enzyme cyclo-oxygenase catalyses the oxyge...</td>\n",
       "      <td>[prostaglandins]</td>\n",
       "      <td>1.0</td>\n",
       "      <td>arachidonic, acid</td>\n",
       "      <td>prostaglandins</td>\n",
       "      <td>[the enzyme cyclo-oxygenase catalyses the oxyg...</td>\n",
       "    </tr>\n",
       "    <tr>\n",
       "      <th>1</th>\n",
       "      <td>recently two forms of cyclo-oxygenase have bee...</td>\n",
       "      <td>[]</td>\n",
       "      <td>0.0</td>\n",
       "      <td>NaN</td>\n",
       "      <td>NaN</td>\n",
       "      <td>[recently two forms of cyclo-oxygenase have be...</td>\n",
       "    </tr>\n",
       "    <tr>\n",
       "      <th>2</th>\n",
       "      <td>constitutive and inducible forms of human cycl...</td>\n",
       "      <td>[]</td>\n",
       "      <td>0.0</td>\n",
       "      <td>NaN</td>\n",
       "      <td>NaN</td>\n",
       "      <td>[constitutive and inducible forms of human cyc...</td>\n",
       "    </tr>\n",
       "    <tr>\n",
       "      <th>3</th>\n",
       "      <td>hcox-1 had a specific activity of 188 mumol of...</td>\n",
       "      <td>[arachidonate]</td>\n",
       "      <td>0.0</td>\n",
       "      <td>arachidonate</td>\n",
       "      <td>NaN</td>\n",
       "      <td>[hcox-1 had a specific activity of 188 mumol o...</td>\n",
       "    </tr>\n",
       "    <tr>\n",
       "      <th>4</th>\n",
       "      <td>of 1500 nmol of o2/nmol of enzyme, whereas hco...</td>\n",
       "      <td>[arachidonate]</td>\n",
       "      <td>0.0</td>\n",
       "      <td>arachidonate</td>\n",
       "      <td>NaN</td>\n",
       "      <td>[of 1500 nmol of o2/nmol of enzyme, whereas hc...</td>\n",
       "    </tr>\n",
       "    <tr>\n",
       "      <th>...</th>\n",
       "      <td>...</td>\n",
       "      <td>...</td>\n",
       "      <td>...</td>\n",
       "      <td>...</td>\n",
       "      <td>...</td>\n",
       "      <td>...</td>\n",
       "    </tr>\n",
       "    <tr>\n",
       "      <th>1409</th>\n",
       "      <td>water uptake of the polymer was only 28 and 02...</td>\n",
       "      <td>[pec]</td>\n",
       "      <td>0.0</td>\n",
       "      <td>NaN</td>\n",
       "      <td>NaN</td>\n",
       "      <td>[water uptake of the polymer was only 28 and 0...</td>\n",
       "    </tr>\n",
       "    <tr>\n",
       "      <th>1410</th>\n",
       "      <td>degradation of less hydrophilic pec41 with hig...</td>\n",
       "      <td>[]</td>\n",
       "      <td>0.0</td>\n",
       "      <td>NaN</td>\n",
       "      <td>NaN</td>\n",
       "      <td>[degradation of less hydrophilic pec41 with hi...</td>\n",
       "    </tr>\n",
       "    <tr>\n",
       "      <th>1411</th>\n",
       "      <td>by this mechanism, ce-responsive drug in vitro...</td>\n",
       "      <td>[pec]</td>\n",
       "      <td>0.0</td>\n",
       "      <td>NaN</td>\n",
       "      <td>NaN</td>\n",
       "      <td>[by this mechanism, ce-responsive drug in vitr...</td>\n",
       "    </tr>\n",
       "    <tr>\n",
       "      <th>1412</th>\n",
       "      <td>as expected, less bovine serum albumin bsa was...</td>\n",
       "      <td>[]</td>\n",
       "      <td>0.0</td>\n",
       "      <td>NaN</td>\n",
       "      <td>NaN</td>\n",
       "      <td>[as expected, less bovine serum albumin bsa wa...</td>\n",
       "    </tr>\n",
       "    <tr>\n",
       "      <th>1413</th>\n",
       "      <td>in conclusion, this work enabled the in vitro ...</td>\n",
       "      <td>[pec]</td>\n",
       "      <td>0.0</td>\n",
       "      <td>NaN</td>\n",
       "      <td>NaN</td>\n",
       "      <td>[in conclusion, this work enabled the in vitro...</td>\n",
       "    </tr>\n",
       "  </tbody>\n",
       "</table>\n",
       "<p>1414 rows × 6 columns</p>\n",
       "</div>"
      ],
      "text/plain": [
       "                                               sentence         chemicals  \\\n",
       "0     the enzyme cyclo-oxygenase catalyses the oxyge...  [prostaglandins]   \n",
       "1     recently two forms of cyclo-oxygenase have bee...                []   \n",
       "2     constitutive and inducible forms of human cycl...                []   \n",
       "3     hcox-1 had a specific activity of 188 mumol of...    [arachidonate]   \n",
       "4     of 1500 nmol of o2/nmol of enzyme, whereas hco...    [arachidonate]   \n",
       "...                                                 ...               ...   \n",
       "1409  water uptake of the polymer was only 28 and 02...             [pec]   \n",
       "1410  degradation of less hydrophilic pec41 with hig...                []   \n",
       "1411  by this mechanism, ce-responsive drug in vitro...             [pec]   \n",
       "1412  as expected, less bovine serum albumin bsa was...                []   \n",
       "1413  in conclusion, this work enabled the in vitro ...             [pec]   \n",
       "\n",
       "      truth         substrates        products  \\\n",
       "0       1.0  arachidonic, acid  prostaglandins   \n",
       "1       0.0                NaN             NaN   \n",
       "2       0.0                NaN             NaN   \n",
       "3       0.0       arachidonate             NaN   \n",
       "4       0.0       arachidonate             NaN   \n",
       "...     ...                ...             ...   \n",
       "1409    0.0                NaN             NaN   \n",
       "1410    0.0                NaN             NaN   \n",
       "1411    0.0                NaN             NaN   \n",
       "1412    0.0                NaN             NaN   \n",
       "1413    0.0                NaN             NaN   \n",
       "\n",
       "                                                   text  \n",
       "0     [the enzyme cyclo-oxygenase catalyses the oxyg...  \n",
       "1     [recently two forms of cyclo-oxygenase have be...  \n",
       "2     [constitutive and inducible forms of human cyc...  \n",
       "3     [hcox-1 had a specific activity of 188 mumol o...  \n",
       "4     [of 1500 nmol of o2/nmol of enzyme, whereas hc...  \n",
       "...                                                 ...  \n",
       "1409  [water uptake of the polymer was only 28 and 0...  \n",
       "1410  [degradation of less hydrophilic pec41 with hi...  \n",
       "1411  [by this mechanism, ce-responsive drug in vitr...  \n",
       "1412  [as expected, less bovine serum albumin bsa wa...  \n",
       "1413  [in conclusion, this work enabled the in vitro...  \n",
       "\n",
       "[1414 rows x 6 columns]"
      ]
     },
     "execution_count": 138,
     "metadata": {},
     "output_type": "execute_result"
    }
   ],
   "source": [
    "sentence_chem_df[\"text\"] = sentence_chem_df[[\"sentence\", \"chemicals\"]].values.tolist()\n",
    "sentence_chem_df"
   ]
  },
  {
   "cell_type": "markdown",
   "metadata": {},
   "source": [
    "### data with no truth values"
   ]
  },
  {
   "cell_type": "code",
   "execution_count": 139,
   "metadata": {},
   "outputs": [],
   "source": [
    "# have this data one folder up\n",
    "uncleaned_df = pd.read_csv(\"../sentence_annotations_elsevier_pmid_split6.csv\")"
   ]
  },
  {
   "cell_type": "code",
   "execution_count": 68,
   "metadata": {},
   "outputs": [],
   "source": [
    "uncleaned_no_na_df = uncleaned_df.dropna()\n",
    "uncleaned_several_chem_df = uncleaned_no_na_df.loc[uncleaned_no_na_df[\"chemical_names\"].str.contains(\",\")]\n",
    "uncleaned_several_chem_df = uncleaned_several_chem_df[[\"sentence\", \"chemical_names\"]]"
   ]
  },
  {
   "cell_type": "code",
   "execution_count": 69,
   "metadata": {},
   "outputs": [],
   "source": [
    "uncleaned_several_chem_df[\"sentence\"] = uncleaned_several_chem_df[\"sentence\"].apply(sentence_cleaned)\n",
    "uncleaned_several_chem_df[\"chemical_names\"] = uncleaned_several_chem_df[\"chemical_names\"].apply(chem_into_array)"
   ]
  },
  {
   "cell_type": "code",
   "execution_count": 71,
   "metadata": {},
   "outputs": [],
   "source": [
    "# need to get rid of this line if this data should be used\n",
    "re_check_several_chem_uncleaned_df = uncleaned_several_chem_df.loc[uncleaned_several_chem_df[\"chemical_names\"].str.len() > 1]"
   ]
  },
  {
   "cell_type": "code",
   "execution_count": 73,
   "metadata": {},
   "outputs": [
    {
     "name": "stderr",
     "output_type": "stream",
     "text": [
      "C:\\Users\\cassi\\AppData\\Local\\Temp/ipykernel_7088/496917810.py:1: SettingWithCopyWarning: \n",
      "A value is trying to be set on a copy of a slice from a DataFrame.\n",
      "Try using .loc[row_indexer,col_indexer] = value instead\n",
      "\n",
      "See the caveats in the documentation: https://pandas.pydata.org/pandas-docs/stable/user_guide/indexing.html#returning-a-view-versus-a-copy\n",
      "  re_check_several_chem_uncleaned_df[\"text\"] = re_check_several_chem_uncleaned_df[[\"sentence\", \"chemical_names\"]].values.tolist()\n"
     ]
    },
    {
     "data": {
      "text/plain": [
       "['univ sydney, dept pharm, sydney, nsw 2006, australia abstract two distinct mg2+-atpase activities were isolated from triton x-100-solubilized human erythrocyte membranes using a combination of calmodulin-agarose to remove ca2+-atpase and ion exchange chromatography to separate the mg2+-atpase activities',\n",
       " ['ca2+', 'mg2+']]"
      ]
     },
     "execution_count": 73,
     "metadata": {},
     "output_type": "execute_result"
    }
   ],
   "source": [
    "re_check_several_chem_uncleaned_df[\"text\"] = re_check_several_chem_uncleaned_df[[\"sentence\", \"chemical_names\"]].values.tolist()\n",
    "re_check_several_chem_uncleaned_df.iloc[47][\"text\"]"
   ]
  },
  {
   "cell_type": "markdown",
   "metadata": {},
   "source": [
    "### snorkel code for model (running on data with truth values)"
   ]
  },
  {
   "cell_type": "code",
   "execution_count": 141,
   "metadata": {},
   "outputs": [],
   "source": [
    "from snorkel.labeling import PandasLFApplier"
   ]
  },
  {
   "cell_type": "code",
   "execution_count": 142,
   "metadata": {},
   "outputs": [
    {
     "data": {
      "text/html": [
       "<div>\n",
       "<style scoped>\n",
       "    .dataframe tbody tr th:only-of-type {\n",
       "        vertical-align: middle;\n",
       "    }\n",
       "\n",
       "    .dataframe tbody tr th {\n",
       "        vertical-align: top;\n",
       "    }\n",
       "\n",
       "    .dataframe thead th {\n",
       "        text-align: right;\n",
       "    }\n",
       "</style>\n",
       "<table border=\"1\" class=\"dataframe\">\n",
       "  <thead>\n",
       "    <tr style=\"text-align: right;\">\n",
       "      <th></th>\n",
       "      <th>sentence</th>\n",
       "      <th>chemicals</th>\n",
       "      <th>truth</th>\n",
       "      <th>substrates</th>\n",
       "      <th>products</th>\n",
       "      <th>text</th>\n",
       "    </tr>\n",
       "  </thead>\n",
       "  <tbody>\n",
       "    <tr>\n",
       "      <th>0</th>\n",
       "      <td>the enzyme cyclo-oxygenase catalyses the oxyge...</td>\n",
       "      <td>[prostaglandins]</td>\n",
       "      <td>1.0</td>\n",
       "      <td>arachidonic, acid</td>\n",
       "      <td>prostaglandins</td>\n",
       "      <td>[the enzyme cyclo-oxygenase catalyses the oxyg...</td>\n",
       "    </tr>\n",
       "    <tr>\n",
       "      <th>1</th>\n",
       "      <td>recently two forms of cyclo-oxygenase have bee...</td>\n",
       "      <td>[]</td>\n",
       "      <td>0.0</td>\n",
       "      <td>NaN</td>\n",
       "      <td>NaN</td>\n",
       "      <td>[recently two forms of cyclo-oxygenase have be...</td>\n",
       "    </tr>\n",
       "    <tr>\n",
       "      <th>2</th>\n",
       "      <td>constitutive and inducible forms of human cycl...</td>\n",
       "      <td>[]</td>\n",
       "      <td>0.0</td>\n",
       "      <td>NaN</td>\n",
       "      <td>NaN</td>\n",
       "      <td>[constitutive and inducible forms of human cyc...</td>\n",
       "    </tr>\n",
       "    <tr>\n",
       "      <th>3</th>\n",
       "      <td>hcox-1 had a specific activity of 188 mumol of...</td>\n",
       "      <td>[arachidonate]</td>\n",
       "      <td>0.0</td>\n",
       "      <td>arachidonate</td>\n",
       "      <td>NaN</td>\n",
       "      <td>[hcox-1 had a specific activity of 188 mumol o...</td>\n",
       "    </tr>\n",
       "    <tr>\n",
       "      <th>4</th>\n",
       "      <td>of 1500 nmol of o2/nmol of enzyme, whereas hco...</td>\n",
       "      <td>[arachidonate]</td>\n",
       "      <td>0.0</td>\n",
       "      <td>arachidonate</td>\n",
       "      <td>NaN</td>\n",
       "      <td>[of 1500 nmol of o2/nmol of enzyme, whereas hc...</td>\n",
       "    </tr>\n",
       "    <tr>\n",
       "      <th>...</th>\n",
       "      <td>...</td>\n",
       "      <td>...</td>\n",
       "      <td>...</td>\n",
       "      <td>...</td>\n",
       "      <td>...</td>\n",
       "      <td>...</td>\n",
       "    </tr>\n",
       "    <tr>\n",
       "      <th>1409</th>\n",
       "      <td>water uptake of the polymer was only 28 and 02...</td>\n",
       "      <td>[pec]</td>\n",
       "      <td>0.0</td>\n",
       "      <td>NaN</td>\n",
       "      <td>NaN</td>\n",
       "      <td>[water uptake of the polymer was only 28 and 0...</td>\n",
       "    </tr>\n",
       "    <tr>\n",
       "      <th>1410</th>\n",
       "      <td>degradation of less hydrophilic pec41 with hig...</td>\n",
       "      <td>[]</td>\n",
       "      <td>0.0</td>\n",
       "      <td>NaN</td>\n",
       "      <td>NaN</td>\n",
       "      <td>[degradation of less hydrophilic pec41 with hi...</td>\n",
       "    </tr>\n",
       "    <tr>\n",
       "      <th>1411</th>\n",
       "      <td>by this mechanism, ce-responsive drug in vitro...</td>\n",
       "      <td>[pec]</td>\n",
       "      <td>0.0</td>\n",
       "      <td>NaN</td>\n",
       "      <td>NaN</td>\n",
       "      <td>[by this mechanism, ce-responsive drug in vitr...</td>\n",
       "    </tr>\n",
       "    <tr>\n",
       "      <th>1412</th>\n",
       "      <td>as expected, less bovine serum albumin bsa was...</td>\n",
       "      <td>[]</td>\n",
       "      <td>0.0</td>\n",
       "      <td>NaN</td>\n",
       "      <td>NaN</td>\n",
       "      <td>[as expected, less bovine serum albumin bsa wa...</td>\n",
       "    </tr>\n",
       "    <tr>\n",
       "      <th>1413</th>\n",
       "      <td>in conclusion, this work enabled the in vitro ...</td>\n",
       "      <td>[pec]</td>\n",
       "      <td>0.0</td>\n",
       "      <td>NaN</td>\n",
       "      <td>NaN</td>\n",
       "      <td>[in conclusion, this work enabled the in vitro...</td>\n",
       "    </tr>\n",
       "  </tbody>\n",
       "</table>\n",
       "<p>1414 rows × 6 columns</p>\n",
       "</div>"
      ],
      "text/plain": [
       "                                               sentence         chemicals  \\\n",
       "0     the enzyme cyclo-oxygenase catalyses the oxyge...  [prostaglandins]   \n",
       "1     recently two forms of cyclo-oxygenase have bee...                []   \n",
       "2     constitutive and inducible forms of human cycl...                []   \n",
       "3     hcox-1 had a specific activity of 188 mumol of...    [arachidonate]   \n",
       "4     of 1500 nmol of o2/nmol of enzyme, whereas hco...    [arachidonate]   \n",
       "...                                                 ...               ...   \n",
       "1409  water uptake of the polymer was only 28 and 02...             [pec]   \n",
       "1410  degradation of less hydrophilic pec41 with hig...                []   \n",
       "1411  by this mechanism, ce-responsive drug in vitro...             [pec]   \n",
       "1412  as expected, less bovine serum albumin bsa was...                []   \n",
       "1413  in conclusion, this work enabled the in vitro ...             [pec]   \n",
       "\n",
       "      truth         substrates        products  \\\n",
       "0       1.0  arachidonic, acid  prostaglandins   \n",
       "1       0.0                NaN             NaN   \n",
       "2       0.0                NaN             NaN   \n",
       "3       0.0       arachidonate             NaN   \n",
       "4       0.0       arachidonate             NaN   \n",
       "...     ...                ...             ...   \n",
       "1409    0.0                NaN             NaN   \n",
       "1410    0.0                NaN             NaN   \n",
       "1411    0.0                NaN             NaN   \n",
       "1412    0.0                NaN             NaN   \n",
       "1413    0.0                NaN             NaN   \n",
       "\n",
       "                                                   text  \n",
       "0     [the enzyme cyclo-oxygenase catalyses the oxyg...  \n",
       "1     [recently two forms of cyclo-oxygenase have be...  \n",
       "2     [constitutive and inducible forms of human cyc...  \n",
       "3     [hcox-1 had a specific activity of 188 mumol o...  \n",
       "4     [of 1500 nmol of o2/nmol of enzyme, whereas hc...  \n",
       "...                                                 ...  \n",
       "1409  [water uptake of the polymer was only 28 and 0...  \n",
       "1410  [degradation of less hydrophilic pec41 with hi...  \n",
       "1411  [by this mechanism, ce-responsive drug in vitr...  \n",
       "1412  [as expected, less bovine serum albumin bsa wa...  \n",
       "1413  [in conclusion, this work enabled the in vitro...  \n",
       "\n",
       "[1414 rows x 6 columns]"
      ]
     },
     "execution_count": 142,
     "metadata": {},
     "output_type": "execute_result"
    }
   ],
   "source": [
    "sentence_chem_df"
   ]
  },
  {
   "cell_type": "code",
   "execution_count": 143,
   "metadata": {},
   "outputs": [
    {
     "data": {
      "text/html": [
       "<div>\n",
       "<style scoped>\n",
       "    .dataframe tbody tr th:only-of-type {\n",
       "        vertical-align: middle;\n",
       "    }\n",
       "\n",
       "    .dataframe tbody tr th {\n",
       "        vertical-align: top;\n",
       "    }\n",
       "\n",
       "    .dataframe thead th {\n",
       "        text-align: right;\n",
       "    }\n",
       "</style>\n",
       "<table border=\"1\" class=\"dataframe\">\n",
       "  <thead>\n",
       "    <tr style=\"text-align: right;\">\n",
       "      <th></th>\n",
       "      <th>sentence</th>\n",
       "      <th>chemicals</th>\n",
       "      <th>truth</th>\n",
       "      <th>substrates</th>\n",
       "      <th>products</th>\n",
       "      <th>text</th>\n",
       "    </tr>\n",
       "  </thead>\n",
       "  <tbody>\n",
       "    <tr>\n",
       "      <th>318</th>\n",
       "      <td>even though the activities of mat and gnmt wer...</td>\n",
       "      <td>[s-adenosylhomocysteine, s-adenosylmethionine]</td>\n",
       "      <td>NaN</td>\n",
       "      <td>S-adenosylmethionine</td>\n",
       "      <td>S-adenosylhomocysteine</td>\n",
       "      <td>[even though the activities of mat and gnmt we...</td>\n",
       "    </tr>\n",
       "  </tbody>\n",
       "</table>\n",
       "</div>"
      ],
      "text/plain": [
       "                                              sentence  \\\n",
       "318  even though the activities of mat and gnmt wer...   \n",
       "\n",
       "                                          chemicals  truth  \\\n",
       "318  [s-adenosylhomocysteine, s-adenosylmethionine]    NaN   \n",
       "\n",
       "               substrates                products  \\\n",
       "318  S-adenosylmethionine  S-adenosylhomocysteine   \n",
       "\n",
       "                                                  text  \n",
       "318  [even though the activities of mat and gnmt we...  "
      ]
     },
     "execution_count": 143,
     "metadata": {},
     "output_type": "execute_result"
    }
   ],
   "source": [
    "# how to find the location\n",
    "sentence_chem_df[sentence_chem_df[\"sentence\"] == \"even though the activities of mat and gnmt were elevated, the concentration of liver s-adenosylmethionine was decreased 24%, p<0001 and s-adenosylhomocysteine increased 113%, p<0001 in the dwarf mice\"]"
   ]
  },
  {
   "cell_type": "code",
   "execution_count": 258,
   "metadata": {},
   "outputs": [
    {
     "name": "stderr",
     "output_type": "stream",
     "text": [
      "100%|██████████| 1414/1414 [00:02<00:00, 617.11it/s]\n"
     ]
    }
   ],
   "source": [
    "# Define the set of labeling functions (LFs)\n",
    "# currently excluding amino_acid and followed_ase and followed_by_noun\n",
    "lfs = [includes_solution_words, includes_mixture_words, includes_physical_words, includes_genetic_words, includes_structural_words,\n",
    "      includes_general_chemical_words, includes_functional_group, includes_paper_artifacts, includes_no_terms, structure_adjacent_mentions,\n",
    "      structure_sep_or, structure_sep_comma, structure_sep_via, structure_sep_sym, structure_sep_adverb, includes_oxidation_words,\n",
    "      structure_sep_verb, structure_sep_converstion_words, includes_combustion_words, includes_neutralization_words, includes_combination_words,\n",
    "      includes_decomposition_words, includes_replacement_words, includes_reaction_words, includes_reaction_component_words, includes_comparison_words,\n",
    "      includes_one_chem, includes_react, includes_measure_words, includes_experiment_words, includes_concentration, structure_sep_and]\n",
    "      # includes_amino_acid, structure_followed_by_ase, structure_followed_by_noun]\n",
    "\n",
    "# removing physical_words increases recall but causes large drop in precision\n",
    "# sep_conversion_word and sep_verb removal increase precision to 0.71 with recall at 0.38\n",
    "# Apply the LFs to the unlabeled training data\n",
    "df_train = sentence_chem_df\n",
    "applier = PandasLFApplier(lfs=lfs)\n",
    "L_train = applier.apply(df=df_train)"
   ]
  },
  {
   "cell_type": "code",
   "execution_count": 259,
   "metadata": {},
   "outputs": [
    {
     "data": {
      "text/plain": [
       "array([-1, -1,  0, -1, -1, -1, -1, -1, -1,  0, -1,  0,  0,  0, -1, -1, -1,\n",
       "        1, -1, -1, -1, -1, -1,  1, -1, -1, -1, -1, -1,  0, -1,  0])"
      ]
     },
     "execution_count": 259,
     "metadata": {},
     "output_type": "execute_result"
    }
   ],
   "source": [
    "L_train[1]"
   ]
  },
  {
   "cell_type": "code",
   "execution_count": 260,
   "metadata": {},
   "outputs": [
    {
     "data": {
      "text/html": [
       "<div>\n",
       "<style scoped>\n",
       "    .dataframe tbody tr th:only-of-type {\n",
       "        vertical-align: middle;\n",
       "    }\n",
       "\n",
       "    .dataframe tbody tr th {\n",
       "        vertical-align: top;\n",
       "    }\n",
       "\n",
       "    .dataframe thead th {\n",
       "        text-align: right;\n",
       "    }\n",
       "</style>\n",
       "<table border=\"1\" class=\"dataframe\">\n",
       "  <thead>\n",
       "    <tr style=\"text-align: right;\">\n",
       "      <th></th>\n",
       "      <th>j</th>\n",
       "      <th>Polarity</th>\n",
       "      <th>Coverage</th>\n",
       "      <th>Overlaps</th>\n",
       "      <th>Conflicts</th>\n",
       "    </tr>\n",
       "  </thead>\n",
       "  <tbody>\n",
       "    <tr>\n",
       "      <th>includes_solution_words</th>\n",
       "      <td>0</td>\n",
       "      <td>[0]</td>\n",
       "      <td>0.012023</td>\n",
       "      <td>0.012023</td>\n",
       "      <td>0.010608</td>\n",
       "    </tr>\n",
       "    <tr>\n",
       "      <th>includes_mixture_words</th>\n",
       "      <td>1</td>\n",
       "      <td>[0]</td>\n",
       "      <td>0.001414</td>\n",
       "      <td>0.001414</td>\n",
       "      <td>0.001414</td>\n",
       "    </tr>\n",
       "    <tr>\n",
       "      <th>includes_physical_words</th>\n",
       "      <td>2</td>\n",
       "      <td>[0]</td>\n",
       "      <td>0.304809</td>\n",
       "      <td>0.304809</td>\n",
       "      <td>0.193777</td>\n",
       "    </tr>\n",
       "    <tr>\n",
       "      <th>includes_genetic_words</th>\n",
       "      <td>3</td>\n",
       "      <td>[0]</td>\n",
       "      <td>0.212871</td>\n",
       "      <td>0.212871</td>\n",
       "      <td>0.153465</td>\n",
       "    </tr>\n",
       "    <tr>\n",
       "      <th>includes_structural_words</th>\n",
       "      <td>4</td>\n",
       "      <td>[0]</td>\n",
       "      <td>0.194484</td>\n",
       "      <td>0.194484</td>\n",
       "      <td>0.137907</td>\n",
       "    </tr>\n",
       "    <tr>\n",
       "      <th>includes_general_chemical_words</th>\n",
       "      <td>5</td>\n",
       "      <td>[0]</td>\n",
       "      <td>0.251061</td>\n",
       "      <td>0.250354</td>\n",
       "      <td>0.166902</td>\n",
       "    </tr>\n",
       "    <tr>\n",
       "      <th>includes_functional_group</th>\n",
       "      <td>6</td>\n",
       "      <td>[0]</td>\n",
       "      <td>0.173975</td>\n",
       "      <td>0.173975</td>\n",
       "      <td>0.127298</td>\n",
       "    </tr>\n",
       "    <tr>\n",
       "      <th>includes_paper_artifacts</th>\n",
       "      <td>7</td>\n",
       "      <td>[0]</td>\n",
       "      <td>0.041726</td>\n",
       "      <td>0.041726</td>\n",
       "      <td>0.024045</td>\n",
       "    </tr>\n",
       "    <tr>\n",
       "      <th>includes_no_terms</th>\n",
       "      <td>8</td>\n",
       "      <td>[0]</td>\n",
       "      <td>0.192362</td>\n",
       "      <td>0.191655</td>\n",
       "      <td>0.125884</td>\n",
       "    </tr>\n",
       "    <tr>\n",
       "      <th>structure_adjacent_mentions</th>\n",
       "      <td>9</td>\n",
       "      <td>[0]</td>\n",
       "      <td>0.396040</td>\n",
       "      <td>0.396040</td>\n",
       "      <td>0.235502</td>\n",
       "    </tr>\n",
       "    <tr>\n",
       "      <th>structure_sep_or</th>\n",
       "      <td>10</td>\n",
       "      <td>[0]</td>\n",
       "      <td>0.027581</td>\n",
       "      <td>0.027581</td>\n",
       "      <td>0.017680</td>\n",
       "    </tr>\n",
       "    <tr>\n",
       "      <th>structure_sep_comma</th>\n",
       "      <td>11</td>\n",
       "      <td>[0]</td>\n",
       "      <td>0.200849</td>\n",
       "      <td>0.200849</td>\n",
       "      <td>0.118105</td>\n",
       "    </tr>\n",
       "    <tr>\n",
       "      <th>structure_sep_via</th>\n",
       "      <td>12</td>\n",
       "      <td>[0]</td>\n",
       "      <td>0.195191</td>\n",
       "      <td>0.195191</td>\n",
       "      <td>0.123762</td>\n",
       "    </tr>\n",
       "    <tr>\n",
       "      <th>structure_sep_sym</th>\n",
       "      <td>13</td>\n",
       "      <td>[0]</td>\n",
       "      <td>0.400990</td>\n",
       "      <td>0.398161</td>\n",
       "      <td>0.236209</td>\n",
       "    </tr>\n",
       "    <tr>\n",
       "      <th>structure_sep_adverb</th>\n",
       "      <td>14</td>\n",
       "      <td>[]</td>\n",
       "      <td>0.000000</td>\n",
       "      <td>0.000000</td>\n",
       "      <td>0.000000</td>\n",
       "    </tr>\n",
       "    <tr>\n",
       "      <th>includes_oxidation_words</th>\n",
       "      <td>15</td>\n",
       "      <td>[1]</td>\n",
       "      <td>0.073550</td>\n",
       "      <td>0.072843</td>\n",
       "      <td>0.072843</td>\n",
       "    </tr>\n",
       "    <tr>\n",
       "      <th>structure_sep_verb</th>\n",
       "      <td>16</td>\n",
       "      <td>[1]</td>\n",
       "      <td>0.006365</td>\n",
       "      <td>0.006365</td>\n",
       "      <td>0.006365</td>\n",
       "    </tr>\n",
       "    <tr>\n",
       "      <th>structure_sep_converstion_words</th>\n",
       "      <td>17</td>\n",
       "      <td>[1]</td>\n",
       "      <td>0.175389</td>\n",
       "      <td>0.175389</td>\n",
       "      <td>0.173267</td>\n",
       "    </tr>\n",
       "    <tr>\n",
       "      <th>includes_combustion_words</th>\n",
       "      <td>18</td>\n",
       "      <td>[]</td>\n",
       "      <td>0.000000</td>\n",
       "      <td>0.000000</td>\n",
       "      <td>0.000000</td>\n",
       "    </tr>\n",
       "    <tr>\n",
       "      <th>includes_neutralization_words</th>\n",
       "      <td>19</td>\n",
       "      <td>[1]</td>\n",
       "      <td>0.003536</td>\n",
       "      <td>0.003536</td>\n",
       "      <td>0.003536</td>\n",
       "    </tr>\n",
       "    <tr>\n",
       "      <th>includes_combination_words</th>\n",
       "      <td>20</td>\n",
       "      <td>[1]</td>\n",
       "      <td>0.021216</td>\n",
       "      <td>0.021216</td>\n",
       "      <td>0.021216</td>\n",
       "    </tr>\n",
       "    <tr>\n",
       "      <th>includes_decomposition_words</th>\n",
       "      <td>21</td>\n",
       "      <td>[]</td>\n",
       "      <td>0.000000</td>\n",
       "      <td>0.000000</td>\n",
       "      <td>0.000000</td>\n",
       "    </tr>\n",
       "    <tr>\n",
       "      <th>includes_replacement_words</th>\n",
       "      <td>22</td>\n",
       "      <td>[1]</td>\n",
       "      <td>0.002829</td>\n",
       "      <td>0.002829</td>\n",
       "      <td>0.002829</td>\n",
       "    </tr>\n",
       "    <tr>\n",
       "      <th>includes_reaction_words</th>\n",
       "      <td>23</td>\n",
       "      <td>[1]</td>\n",
       "      <td>0.495757</td>\n",
       "      <td>0.493635</td>\n",
       "      <td>0.490099</td>\n",
       "    </tr>\n",
       "    <tr>\n",
       "      <th>includes_reaction_component_words</th>\n",
       "      <td>24</td>\n",
       "      <td>[1]</td>\n",
       "      <td>0.076379</td>\n",
       "      <td>0.076379</td>\n",
       "      <td>0.074965</td>\n",
       "    </tr>\n",
       "    <tr>\n",
       "      <th>includes_comparison_words</th>\n",
       "      <td>25</td>\n",
       "      <td>[0]</td>\n",
       "      <td>0.241160</td>\n",
       "      <td>0.239038</td>\n",
       "      <td>0.144979</td>\n",
       "    </tr>\n",
       "    <tr>\n",
       "      <th>includes_one_chem</th>\n",
       "      <td>26</td>\n",
       "      <td>[0]</td>\n",
       "      <td>0.350778</td>\n",
       "      <td>0.342291</td>\n",
       "      <td>0.217115</td>\n",
       "    </tr>\n",
       "    <tr>\n",
       "      <th>includes_react</th>\n",
       "      <td>27</td>\n",
       "      <td>[1]</td>\n",
       "      <td>0.026874</td>\n",
       "      <td>0.026874</td>\n",
       "      <td>0.026167</td>\n",
       "    </tr>\n",
       "    <tr>\n",
       "      <th>includes_measure_words</th>\n",
       "      <td>28</td>\n",
       "      <td>[0]</td>\n",
       "      <td>0.393211</td>\n",
       "      <td>0.391796</td>\n",
       "      <td>0.259547</td>\n",
       "    </tr>\n",
       "    <tr>\n",
       "      <th>includes_experiment_words</th>\n",
       "      <td>29</td>\n",
       "      <td>[0]</td>\n",
       "      <td>0.484441</td>\n",
       "      <td>0.480198</td>\n",
       "      <td>0.311881</td>\n",
       "    </tr>\n",
       "    <tr>\n",
       "      <th>includes_concentration</th>\n",
       "      <td>30</td>\n",
       "      <td>[1]</td>\n",
       "      <td>0.031117</td>\n",
       "      <td>0.031117</td>\n",
       "      <td>0.031117</td>\n",
       "    </tr>\n",
       "    <tr>\n",
       "      <th>structure_sep_and</th>\n",
       "      <td>31</td>\n",
       "      <td>[0]</td>\n",
       "      <td>0.227016</td>\n",
       "      <td>0.224894</td>\n",
       "      <td>0.146393</td>\n",
       "    </tr>\n",
       "  </tbody>\n",
       "</table>\n",
       "</div>"
      ],
      "text/plain": [
       "                                    j Polarity  Coverage  Overlaps  Conflicts\n",
       "includes_solution_words             0      [0]  0.012023  0.012023   0.010608\n",
       "includes_mixture_words              1      [0]  0.001414  0.001414   0.001414\n",
       "includes_physical_words             2      [0]  0.304809  0.304809   0.193777\n",
       "includes_genetic_words              3      [0]  0.212871  0.212871   0.153465\n",
       "includes_structural_words           4      [0]  0.194484  0.194484   0.137907\n",
       "includes_general_chemical_words     5      [0]  0.251061  0.250354   0.166902\n",
       "includes_functional_group           6      [0]  0.173975  0.173975   0.127298\n",
       "includes_paper_artifacts            7      [0]  0.041726  0.041726   0.024045\n",
       "includes_no_terms                   8      [0]  0.192362  0.191655   0.125884\n",
       "structure_adjacent_mentions         9      [0]  0.396040  0.396040   0.235502\n",
       "structure_sep_or                   10      [0]  0.027581  0.027581   0.017680\n",
       "structure_sep_comma                11      [0]  0.200849  0.200849   0.118105\n",
       "structure_sep_via                  12      [0]  0.195191  0.195191   0.123762\n",
       "structure_sep_sym                  13      [0]  0.400990  0.398161   0.236209\n",
       "structure_sep_adverb               14       []  0.000000  0.000000   0.000000\n",
       "includes_oxidation_words           15      [1]  0.073550  0.072843   0.072843\n",
       "structure_sep_verb                 16      [1]  0.006365  0.006365   0.006365\n",
       "structure_sep_converstion_words    17      [1]  0.175389  0.175389   0.173267\n",
       "includes_combustion_words          18       []  0.000000  0.000000   0.000000\n",
       "includes_neutralization_words      19      [1]  0.003536  0.003536   0.003536\n",
       "includes_combination_words         20      [1]  0.021216  0.021216   0.021216\n",
       "includes_decomposition_words       21       []  0.000000  0.000000   0.000000\n",
       "includes_replacement_words         22      [1]  0.002829  0.002829   0.002829\n",
       "includes_reaction_words            23      [1]  0.495757  0.493635   0.490099\n",
       "includes_reaction_component_words  24      [1]  0.076379  0.076379   0.074965\n",
       "includes_comparison_words          25      [0]  0.241160  0.239038   0.144979\n",
       "includes_one_chem                  26      [0]  0.350778  0.342291   0.217115\n",
       "includes_react                     27      [1]  0.026874  0.026874   0.026167\n",
       "includes_measure_words             28      [0]  0.393211  0.391796   0.259547\n",
       "includes_experiment_words          29      [0]  0.484441  0.480198   0.311881\n",
       "includes_concentration             30      [1]  0.031117  0.031117   0.031117\n",
       "structure_sep_and                  31      [0]  0.227016  0.224894   0.146393"
      ]
     },
     "execution_count": 260,
     "metadata": {},
     "output_type": "execute_result"
    }
   ],
   "source": [
    "from snorkel.labeling import LFAnalysis\n",
    "\n",
    "LFAnalysis(L=L_train, lfs=lfs).lf_summary()"
   ]
  },
  {
   "cell_type": "code",
   "execution_count": 261,
   "metadata": {},
   "outputs": [
    {
     "data": {
      "text/plain": [
       "0.9985855728429985"
      ]
     },
     "execution_count": 261,
     "metadata": {},
     "output_type": "execute_result"
    }
   ],
   "source": [
    "LFAnalysis(L_train).label_coverage()"
   ]
  },
  {
   "cell_type": "code",
   "execution_count": 262,
   "metadata": {},
   "outputs": [],
   "source": [
    "from snorkel.labeling.model import MajorityLabelVoter\n",
    "from snorkel.labeling.model import LabelModel"
   ]
  },
  {
   "cell_type": "code",
   "execution_count": 263,
   "metadata": {},
   "outputs": [
    {
     "name": "stderr",
     "output_type": "stream",
     "text": [
      "C:\\Users\\cassi\\AppData\\Local\\Temp/ipykernel_2096/3651419276.py:2: SettingWithCopyWarning: \n",
      "A value is trying to be set on a copy of a slice from a DataFrame.\n",
      "Try using .loc[row_indexer,col_indexer] = value instead\n",
      "\n",
      "See the caveats in the documentation: https://pandas.pydata.org/pandas-docs/stable/user_guide/indexing.html#returning-a-view-versus-a-copy\n",
      "  df_train[\"label\"] = majority_model.predict(L=L_train)\n"
     ]
    }
   ],
   "source": [
    "majority_model = MajorityLabelVoter()\n",
    "df_train[\"label\"] = majority_model.predict(L=L_train)"
   ]
  },
  {
   "cell_type": "code",
   "execution_count": 264,
   "metadata": {},
   "outputs": [
    {
     "data": {
      "text/plain": [
       " 0    1295\n",
       "-1      76\n",
       " 1      43\n",
       "Name: label, dtype: int64"
      ]
     },
     "execution_count": 264,
     "metadata": {},
     "output_type": "execute_result"
    }
   ],
   "source": [
    "df_train[\"label\"].value_counts()"
   ]
  },
  {
   "cell_type": "code",
   "execution_count": 265,
   "metadata": {},
   "outputs": [],
   "source": [
    "def grab_second(probs):\n",
    "    return (probs[1])"
   ]
  },
  {
   "cell_type": "code",
   "execution_count": 277,
   "metadata": {},
   "outputs": [
    {
     "name": "stderr",
     "output_type": "stream",
     "text": [
      "C:\\Users\\cassi\\AppData\\Local\\Temp/ipykernel_2096/3178941354.py:1: SettingWithCopyWarning: \n",
      "A value is trying to be set on a copy of a slice from a DataFrame.\n",
      "Try using .loc[row_indexer,col_indexer] = value instead\n",
      "\n",
      "See the caveats in the documentation: https://pandas.pydata.org/pandas-docs/stable/user_guide/indexing.html#returning-a-view-versus-a-copy\n",
      "  df_train[\"label_probs\"] = np.apply_along_axis(grab_second, 1, majority_model.predict_proba(L=L_train))\n"
     ]
    },
    {
     "data": {
      "text/plain": [
       "0.0    1295\n",
       "0.5      76\n",
       "1.0      43\n",
       "Name: label_probs, dtype: int64"
      ]
     },
     "execution_count": 277,
     "metadata": {},
     "output_type": "execute_result"
    }
   ],
   "source": [
    "df_train[\"label_probs\"] = np.apply_along_axis(grab_second, 1, majority_model.predict_proba(L=L_train))\n",
    "df_train[\"label_probs\"].value_counts()"
   ]
  },
  {
   "cell_type": "code",
   "execution_count": 267,
   "metadata": {},
   "outputs": [],
   "source": [
    "df_train.to_csv(r'../labeled.csv')"
   ]
  },
  {
   "cell_type": "code",
   "execution_count": 268,
   "metadata": {},
   "outputs": [
    {
     "data": {
      "text/plain": [
       "0.0    342\n",
       "1.0     18\n",
       "Name: truth, dtype: int64"
      ]
     },
     "execution_count": 268,
     "metadata": {},
     "output_type": "execute_result"
    }
   ],
   "source": [
    "df_train[\"truth\"].value_counts()"
   ]
  },
  {
   "cell_type": "code",
   "execution_count": 269,
   "metadata": {},
   "outputs": [
    {
     "data": {
      "text/html": [
       "<div>\n",
       "<style scoped>\n",
       "    .dataframe tbody tr th:only-of-type {\n",
       "        vertical-align: middle;\n",
       "    }\n",
       "\n",
       "    .dataframe tbody tr th {\n",
       "        vertical-align: top;\n",
       "    }\n",
       "\n",
       "    .dataframe thead th {\n",
       "        text-align: right;\n",
       "    }\n",
       "</style>\n",
       "<table border=\"1\" class=\"dataframe\">\n",
       "  <thead>\n",
       "    <tr style=\"text-align: right;\">\n",
       "      <th></th>\n",
       "      <th>sentence</th>\n",
       "      <th>chemicals</th>\n",
       "      <th>truth</th>\n",
       "      <th>substrates</th>\n",
       "      <th>products</th>\n",
       "      <th>text</th>\n",
       "      <th>label</th>\n",
       "      <th>label_probs</th>\n",
       "    </tr>\n",
       "  </thead>\n",
       "  <tbody>\n",
       "    <tr>\n",
       "      <th>0</th>\n",
       "      <td>the enzyme cyclo-oxygenase catalyses the oxyge...</td>\n",
       "      <td>[prostaglandins]</td>\n",
       "      <td>1.0</td>\n",
       "      <td>arachidonic, acid</td>\n",
       "      <td>prostaglandins</td>\n",
       "      <td>[the enzyme cyclo-oxygenase catalyses the oxyg...</td>\n",
       "      <td>0</td>\n",
       "      <td>0.0</td>\n",
       "    </tr>\n",
       "    <tr>\n",
       "      <th>1</th>\n",
       "      <td>recently two forms of cyclo-oxygenase have bee...</td>\n",
       "      <td>[]</td>\n",
       "      <td>0.0</td>\n",
       "      <td>NaN</td>\n",
       "      <td>NaN</td>\n",
       "      <td>[recently two forms of cyclo-oxygenase have be...</td>\n",
       "      <td>0</td>\n",
       "      <td>0.0</td>\n",
       "    </tr>\n",
       "    <tr>\n",
       "      <th>2</th>\n",
       "      <td>constitutive and inducible forms of human cycl...</td>\n",
       "      <td>[]</td>\n",
       "      <td>0.0</td>\n",
       "      <td>NaN</td>\n",
       "      <td>NaN</td>\n",
       "      <td>[constitutive and inducible forms of human cyc...</td>\n",
       "      <td>0</td>\n",
       "      <td>0.0</td>\n",
       "    </tr>\n",
       "    <tr>\n",
       "      <th>3</th>\n",
       "      <td>hcox-1 had a specific activity of 188 mumol of...</td>\n",
       "      <td>[arachidonate]</td>\n",
       "      <td>0.0</td>\n",
       "      <td>arachidonate</td>\n",
       "      <td>NaN</td>\n",
       "      <td>[hcox-1 had a specific activity of 188 mumol o...</td>\n",
       "      <td>0</td>\n",
       "      <td>0.0</td>\n",
       "    </tr>\n",
       "    <tr>\n",
       "      <th>4</th>\n",
       "      <td>of 1500 nmol of o2/nmol of enzyme, whereas hco...</td>\n",
       "      <td>[arachidonate]</td>\n",
       "      <td>0.0</td>\n",
       "      <td>arachidonate</td>\n",
       "      <td>NaN</td>\n",
       "      <td>[of 1500 nmol of o2/nmol of enzyme, whereas hc...</td>\n",
       "      <td>0</td>\n",
       "      <td>0.0</td>\n",
       "    </tr>\n",
       "    <tr>\n",
       "      <th>...</th>\n",
       "      <td>...</td>\n",
       "      <td>...</td>\n",
       "      <td>...</td>\n",
       "      <td>...</td>\n",
       "      <td>...</td>\n",
       "      <td>...</td>\n",
       "      <td>...</td>\n",
       "      <td>...</td>\n",
       "    </tr>\n",
       "    <tr>\n",
       "      <th>1409</th>\n",
       "      <td>water uptake of the polymer was only 28 and 02...</td>\n",
       "      <td>[pec]</td>\n",
       "      <td>0.0</td>\n",
       "      <td>NaN</td>\n",
       "      <td>NaN</td>\n",
       "      <td>[water uptake of the polymer was only 28 and 0...</td>\n",
       "      <td>0</td>\n",
       "      <td>0.0</td>\n",
       "    </tr>\n",
       "    <tr>\n",
       "      <th>1410</th>\n",
       "      <td>degradation of less hydrophilic pec41 with hig...</td>\n",
       "      <td>[]</td>\n",
       "      <td>0.0</td>\n",
       "      <td>NaN</td>\n",
       "      <td>NaN</td>\n",
       "      <td>[degradation of less hydrophilic pec41 with hi...</td>\n",
       "      <td>0</td>\n",
       "      <td>0.0</td>\n",
       "    </tr>\n",
       "    <tr>\n",
       "      <th>1411</th>\n",
       "      <td>by this mechanism, ce-responsive drug in vitro...</td>\n",
       "      <td>[pec]</td>\n",
       "      <td>0.0</td>\n",
       "      <td>NaN</td>\n",
       "      <td>NaN</td>\n",
       "      <td>[by this mechanism, ce-responsive drug in vitr...</td>\n",
       "      <td>-1</td>\n",
       "      <td>0.5</td>\n",
       "    </tr>\n",
       "    <tr>\n",
       "      <th>1412</th>\n",
       "      <td>as expected, less bovine serum albumin bsa was...</td>\n",
       "      <td>[]</td>\n",
       "      <td>0.0</td>\n",
       "      <td>NaN</td>\n",
       "      <td>NaN</td>\n",
       "      <td>[as expected, less bovine serum albumin bsa wa...</td>\n",
       "      <td>0</td>\n",
       "      <td>0.0</td>\n",
       "    </tr>\n",
       "    <tr>\n",
       "      <th>1413</th>\n",
       "      <td>in conclusion, this work enabled the in vitro ...</td>\n",
       "      <td>[pec]</td>\n",
       "      <td>0.0</td>\n",
       "      <td>NaN</td>\n",
       "      <td>NaN</td>\n",
       "      <td>[in conclusion, this work enabled the in vitro...</td>\n",
       "      <td>0</td>\n",
       "      <td>0.0</td>\n",
       "    </tr>\n",
       "  </tbody>\n",
       "</table>\n",
       "<p>360 rows × 8 columns</p>\n",
       "</div>"
      ],
      "text/plain": [
       "                                               sentence         chemicals  \\\n",
       "0     the enzyme cyclo-oxygenase catalyses the oxyge...  [prostaglandins]   \n",
       "1     recently two forms of cyclo-oxygenase have bee...                []   \n",
       "2     constitutive and inducible forms of human cycl...                []   \n",
       "3     hcox-1 had a specific activity of 188 mumol of...    [arachidonate]   \n",
       "4     of 1500 nmol of o2/nmol of enzyme, whereas hco...    [arachidonate]   \n",
       "...                                                 ...               ...   \n",
       "1409  water uptake of the polymer was only 28 and 02...             [pec]   \n",
       "1410  degradation of less hydrophilic pec41 with hig...                []   \n",
       "1411  by this mechanism, ce-responsive drug in vitro...             [pec]   \n",
       "1412  as expected, less bovine serum albumin bsa was...                []   \n",
       "1413  in conclusion, this work enabled the in vitro ...             [pec]   \n",
       "\n",
       "      truth         substrates        products  \\\n",
       "0       1.0  arachidonic, acid  prostaglandins   \n",
       "1       0.0                NaN             NaN   \n",
       "2       0.0                NaN             NaN   \n",
       "3       0.0       arachidonate             NaN   \n",
       "4       0.0       arachidonate             NaN   \n",
       "...     ...                ...             ...   \n",
       "1409    0.0                NaN             NaN   \n",
       "1410    0.0                NaN             NaN   \n",
       "1411    0.0                NaN             NaN   \n",
       "1412    0.0                NaN             NaN   \n",
       "1413    0.0                NaN             NaN   \n",
       "\n",
       "                                                   text  label  label_probs  \n",
       "0     [the enzyme cyclo-oxygenase catalyses the oxyg...      0          0.0  \n",
       "1     [recently two forms of cyclo-oxygenase have be...      0          0.0  \n",
       "2     [constitutive and inducible forms of human cyc...      0          0.0  \n",
       "3     [hcox-1 had a specific activity of 188 mumol o...      0          0.0  \n",
       "4     [of 1500 nmol of o2/nmol of enzyme, whereas hc...      0          0.0  \n",
       "...                                                 ...    ...          ...  \n",
       "1409  [water uptake of the polymer was only 28 and 0...      0          0.0  \n",
       "1410  [degradation of less hydrophilic pec41 with hi...      0          0.0  \n",
       "1411  [by this mechanism, ce-responsive drug in vitr...     -1          0.5  \n",
       "1412  [as expected, less bovine serum albumin bsa wa...      0          0.0  \n",
       "1413  [in conclusion, this work enabled the in vitro...      0          0.0  \n",
       "\n",
       "[360 rows x 8 columns]"
      ]
     },
     "execution_count": 269,
     "metadata": {},
     "output_type": "execute_result"
    }
   ],
   "source": [
    "only_truth_df = df_train.dropna(subset=['truth'])\n",
    "only_truth_df"
   ]
  },
  {
   "cell_type": "code",
   "execution_count": 270,
   "metadata": {},
   "outputs": [],
   "source": [
    "import sklearn as sk\n",
    "from sklearn.metrics import recall_score\n",
    "from sklearn.metrics import precision_score\n",
    "from sklearn.metrics import accuracy_score\n",
    "from sklearn.metrics import confusion_matrix\n",
    "from sklearn.metrics import balanced_accuracy_score\n"
   ]
  },
  {
   "cell_type": "code",
   "execution_count": 271,
   "metadata": {},
   "outputs": [
    {
     "data": {
      "text/plain": [
       "0.7000000000000001"
      ]
     },
     "execution_count": 271,
     "metadata": {},
     "output_type": "execute_result"
    }
   ],
   "source": [
    "no_abstain_df = only_truth_df[only_truth_df[\"label\"] != -1]\n",
    "sk.metrics.f1_score(no_abstain_df[\"truth\"], no_abstain_df[\"label\"])"
   ]
  },
  {
   "cell_type": "code",
   "execution_count": 272,
   "metadata": {},
   "outputs": [
    {
     "data": {
      "text/plain": [
       "0.6363636363636364"
      ]
     },
     "execution_count": 272,
     "metadata": {},
     "output_type": "execute_result"
    }
   ],
   "source": [
    "recall_score(no_abstain_df[\"truth\"], no_abstain_df[\"label\"])"
   ]
  },
  {
   "cell_type": "code",
   "execution_count": 273,
   "metadata": {},
   "outputs": [
    {
     "data": {
      "text/plain": [
       "0.7777777777777778"
      ]
     },
     "execution_count": 273,
     "metadata": {},
     "output_type": "execute_result"
    }
   ],
   "source": [
    "precision_score(no_abstain_df[\"truth\"], no_abstain_df[\"label\"])"
   ]
  },
  {
   "cell_type": "code",
   "execution_count": 274,
   "metadata": {},
   "outputs": [
    {
     "data": {
      "text/plain": [
       "0.9821428571428571"
      ]
     },
     "execution_count": 274,
     "metadata": {},
     "output_type": "execute_result"
    }
   ],
   "source": [
    "accuracy_score(no_abstain_df[\"truth\"], no_abstain_df[\"label\"])"
   ]
  },
  {
   "cell_type": "code",
   "execution_count": 275,
   "metadata": {},
   "outputs": [
    {
     "data": {
      "text/plain": [
       "0.8151048951048951"
      ]
     },
     "execution_count": 275,
     "metadata": {},
     "output_type": "execute_result"
    }
   ],
   "source": [
    "balanced_accuracy_score(no_abstain_df[\"truth\"], no_abstain_df[\"label\"])"
   ]
  },
  {
   "cell_type": "code",
   "execution_count": 276,
   "metadata": {},
   "outputs": [
    {
     "data": {
      "text/plain": [
       "(323, 2, 4, 7)"
      ]
     },
     "execution_count": 276,
     "metadata": {},
     "output_type": "execute_result"
    }
   ],
   "source": [
    "tn, fp, fn, tp = confusion_matrix(no_abstain_df[\"truth\"], no_abstain_df[\"label\"]).ravel()\n",
    "(tn, fp, fn, tp)"
   ]
  },
  {
   "cell_type": "code",
   "execution_count": 257,
   "metadata": {},
   "outputs": [
    {
     "data": {
      "text/plain": [
       "0.0    338\n",
       "1.0     12\n",
       "Name: truth, dtype: int64"
      ]
     },
     "execution_count": 257,
     "metadata": {},
     "output_type": "execute_result"
    }
   ],
   "source": [
    "df_train[df_train[\"label\"] != -1][\"truth\"].value_counts()"
   ]
  },
  {
   "cell_type": "code",
   "execution_count": 140,
   "metadata": {},
   "outputs": [
    {
     "data": {
      "text/plain": [
       "0    1063\n",
       "1     122\n",
       "Name: label, dtype: int64"
      ]
     },
     "execution_count": 140,
     "metadata": {},
     "output_type": "execute_result"
    }
   ],
   "source": [
    "df_train[df_train[\"label\"] != -1][\"label\"].value_counts()"
   ]
  },
  {
   "cell_type": "code",
   "execution_count": 141,
   "metadata": {},
   "outputs": [
    {
     "data": {
      "text/plain": [
       "0    262\n",
       "1     14\n",
       "Name: label, dtype: int64"
      ]
     },
     "execution_count": 141,
     "metadata": {},
     "output_type": "execute_result"
    }
   ],
   "source": [
    "matched_df = df_train[df_train[\"label\"] == df_train[\"truth\"]]\n",
    "matched_df[\"label\"].value_counts()"
   ]
  }
 ],
 "metadata": {
  "interpreter": {
   "hash": "e1fffad673803e23a98281b7492a34c559235864658941242758d49259d94b3b"
  },
  "kernelspec": {
   "display_name": "Python 3.8.10 64-bit (windows store)",
   "name": "python3"
  },
  "language_info": {
   "codemirror_mode": {
    "name": "ipython",
    "version": 3
   },
   "file_extension": ".py",
   "mimetype": "text/x-python",
   "name": "python",
   "nbconvert_exporter": "python",
   "pygments_lexer": "ipython3",
   "version": "3.8.10"
  }
 },
 "nbformat": 4,
 "nbformat_minor": 2
}
