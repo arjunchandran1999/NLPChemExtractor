{
 "cells": [
  {
   "cell_type": "code",
   "execution_count": 1,
   "metadata": {},
   "outputs": [],
   "source": [
    "import pandas as pd\n",
    "import numpy as np\n",
    "import os\n",
    "import regex as re\n",
    "import ast\n",
    "from collections import defaultdict\n",
    "from snorkel.labeling import labeling_function"
   ]
  },
  {
   "cell_type": "markdown",
   "metadata": {},
   "source": [
    "## Data cleaning"
   ]
  },
  {
   "cell_type": "code",
   "execution_count": 2,
   "metadata": {},
   "outputs": [],
   "source": [
    "pd.set_option('display.max_colwidth', None)\n",
    "pd.reset_option('display.max_colwidth')"
   ]
  },
  {
   "cell_type": "code",
   "execution_count": 3,
   "metadata": {},
   "outputs": [
    {
     "name": "stderr",
     "output_type": "stream",
     "text": [
      "/global/home/users/jluo5972/fc_igemcomp/software/scibert-env/lib/python3.6/site-packages/IPython/core/interactiveshell.py:3072: DtypeWarning: Columns (6,8,10) have mixed types.Specify dtype option on import or set low_memory=False.\n",
      "  interactivity=interactivity, compiler=compiler, result=result)\n"
     ]
    }
   ],
   "source": [
    "brenda_split6_df = pd.read_csv(\"../training_data_csvs/output/full_merge_sentence_annots_2_14/sentence_annotations_elsevier_pmid_split6_brenda_data.csv\").set_index(\"pubmedId\")\n",
    "brenda_dois_df = pd.read_csv(\"../training_data/brenda_reactions_with_dois.csv\").set_index(\"pubmedId\")"
   ]
  },
  {
   "cell_type": "code",
   "execution_count": 4,
   "metadata": {},
   "outputs": [
    {
     "data": {
      "text/plain": [
       "Index(['Unnamed: 0', 'Unnamed: 0.1', 'Unnamed: 0.1.1', 'literatureProducts',\n",
       "       'literatureSubstrates', 'organismSubstrates', 'commentarySubstrates',\n",
       "       'reversibility', 'organismProducts', 'products', 'commentaryProducts',\n",
       "       'substrates', 'ecNumber', 'doi', 'lit_id', 'indices', 'start', 'end',\n",
       "       'sentence', 'sentence_pos', 'enzymes', 'enzyme_locations',\n",
       "       'chemical_entities_full', 'chemical_names', 'chemical_smiles',\n",
       "       'name_smile_tuples'],\n",
       "      dtype='object')"
      ]
     },
     "execution_count": 4,
     "metadata": {},
     "output_type": "execute_result"
    }
   ],
   "source": [
    "brenda_split6_df.columns"
   ]
  },
  {
   "cell_type": "code",
   "execution_count": 5,
   "metadata": {},
   "outputs": [],
   "source": [
    "#TAKES A WHILE\n",
    "hemprot_entities_path = \"../scibert/mar12_NER/chemprot_corpus/chemprot_training_entities.tsv\"\n",
    "chemprot_labeled_clean_path = \"../scibert/mar12_NER/labeled_chemprot_data_all_cols_clean.csv\"\n",
    "\n",
    "chemprot_entities_df = pd.read_csv(chemprot_entities_path, sep='\\t', names = [\"doc\", \"token_id\", \"entity_type\", \"start\", \"end\", \"entity_name\"])\n",
    "chemprot_entities_df = chemprot_entities_df.set_index([\"doc\", \"entity_name\"])\n",
    "\n",
    "chemprot_word_df = pd.read_csv(chemprot_labeled_clean_path, sep='\\t')\n",
    "chemprot_word_df[\"start\"] = [len(chemprot_word_df[\"title\"].iloc[i]) + chemprot_word_df[\"start\"].iloc[i] + 1 for i in range(len(chemprot_word_df))]\n",
    "chemprot_word_df[\"end\"] = [len(chemprot_word_df[\"title\"].iloc[i]) + chemprot_word_df[\"end\"].iloc[i] + 1for i in range(len(chemprot_word_df))]\n",
    "chemprot_sentence_rxn = chemprot_word_df.reset_index().set_index([\"doc\",\"word\"])\n",
    "# chemprot_entities_df = chemprot_entities_df.set_index([\"doc\"])\n",
    "# chemprot_sentence_rxn = chemprot_sentence_rxn.reset_index().set_index([\"doc\"])"
   ]
  },
  {
   "cell_type": "code",
   "execution_count": 6,
   "metadata": {},
   "outputs": [
    {
     "data": {
      "text/html": [
       "<div>\n",
       "<style scoped>\n",
       "    .dataframe tbody tr th:only-of-type {\n",
       "        vertical-align: middle;\n",
       "    }\n",
       "\n",
       "    .dataframe tbody tr th {\n",
       "        vertical-align: top;\n",
       "    }\n",
       "\n",
       "    .dataframe thead th {\n",
       "        text-align: right;\n",
       "    }\n",
       "</style>\n",
       "<table border=\"1\" class=\"dataframe\">\n",
       "  <thead>\n",
       "    <tr style=\"text-align: right;\">\n",
       "      <th></th>\n",
       "      <th>doc</th>\n",
       "      <th>sentence</th>\n",
       "      <th>level_1</th>\n",
       "      <th>spans</th>\n",
       "      <th>word</th>\n",
       "      <th>abstract_clean</th>\n",
       "    </tr>\n",
       "  </thead>\n",
       "  <tbody>\n",
       "    <tr>\n",
       "      <th>0</th>\n",
       "      <td>7832763</td>\n",
       "      <td>The enzyme cyclo-oxygenase catalyses the oxyge...</td>\n",
       "      <td>920</td>\n",
       "      <td>(0, 3)</td>\n",
       "      <td>The</td>\n",
       "      <td>The enzyme cyclo-oxygenase catalyses the oxyge...</td>\n",
       "    </tr>\n",
       "    <tr>\n",
       "      <th>1</th>\n",
       "      <td>7832763</td>\n",
       "      <td>The enzyme cyclo-oxygenase catalyses the oxyge...</td>\n",
       "      <td>920</td>\n",
       "      <td>(4, 10)</td>\n",
       "      <td>enzyme</td>\n",
       "      <td>The enzyme cyclo-oxygenase catalyses the oxyge...</td>\n",
       "    </tr>\n",
       "    <tr>\n",
       "      <th>2</th>\n",
       "      <td>7832763</td>\n",
       "      <td>The enzyme cyclo-oxygenase catalyses the oxyge...</td>\n",
       "      <td>920</td>\n",
       "      <td>(11, 26)</td>\n",
       "      <td>cyclo-oxygenase</td>\n",
       "      <td>The enzyme cyclo-oxygenase catalyses the oxyge...</td>\n",
       "    </tr>\n",
       "    <tr>\n",
       "      <th>3</th>\n",
       "      <td>7832763</td>\n",
       "      <td>The enzyme cyclo-oxygenase catalyses the oxyge...</td>\n",
       "      <td>920</td>\n",
       "      <td>(27, 36)</td>\n",
       "      <td>catalyses</td>\n",
       "      <td>The enzyme cyclo-oxygenase catalyses the oxyge...</td>\n",
       "    </tr>\n",
       "    <tr>\n",
       "      <th>4</th>\n",
       "      <td>7832763</td>\n",
       "      <td>The enzyme cyclo-oxygenase catalyses the oxyge...</td>\n",
       "      <td>920</td>\n",
       "      <td>(37, 40)</td>\n",
       "      <td>the</td>\n",
       "      <td>The enzyme cyclo-oxygenase catalyses the oxyge...</td>\n",
       "    </tr>\n",
       "    <tr>\n",
       "      <th>...</th>\n",
       "      <td>...</td>\n",
       "      <td>...</td>\n",
       "      <td>...</td>\n",
       "      <td>...</td>\n",
       "      <td>...</td>\n",
       "      <td>...</td>\n",
       "    </tr>\n",
       "    <tr>\n",
       "      <th>96</th>\n",
       "      <td>7832763</td>\n",
       "      <td>hCOX-1 had a specific activity of 18.8 mumol o...</td>\n",
       "      <td>920</td>\n",
       "      <td>(574, 578)</td>\n",
       "      <td>13.8</td>\n",
       "      <td>The enzyme cyclo-oxygenase catalyses the oxyge...</td>\n",
       "    </tr>\n",
       "    <tr>\n",
       "      <th>97</th>\n",
       "      <td>7832763</td>\n",
       "      <td>hCOX-1 had a specific activity of 18.8 mumol o...</td>\n",
       "      <td>920</td>\n",
       "      <td>(579, 585)</td>\n",
       "      <td>microM</td>\n",
       "      <td>The enzyme cyclo-oxygenase catalyses the oxyge...</td>\n",
       "    </tr>\n",
       "    <tr>\n",
       "      <th>98</th>\n",
       "      <td>7832763</td>\n",
       "      <td>hCOX-1 had a specific activity of 18.8 mumol o...</td>\n",
       "      <td>920</td>\n",
       "      <td>(586, 589)</td>\n",
       "      <td>for</td>\n",
       "      <td>The enzyme cyclo-oxygenase catalyses the oxyge...</td>\n",
       "    </tr>\n",
       "    <tr>\n",
       "      <th>99</th>\n",
       "      <td>7832763</td>\n",
       "      <td>hCOX-1 had a specific activity of 18.8 mumol o...</td>\n",
       "      <td>920</td>\n",
       "      <td>(590, 602)</td>\n",
       "      <td>arachidonate</td>\n",
       "      <td>The enzyme cyclo-oxygenase catalyses the oxyge...</td>\n",
       "    </tr>\n",
       "    <tr>\n",
       "      <th>100</th>\n",
       "      <td>7832763</td>\n",
       "      <td>hCOX-1 had a specific activity of 18.8 mumol o...</td>\n",
       "      <td>920</td>\n",
       "      <td>(603, 606)</td>\n",
       "      <td>and</td>\n",
       "      <td>The enzyme cyclo-oxygenase catalyses the oxyge...</td>\n",
       "    </tr>\n",
       "  </tbody>\n",
       "</table>\n",
       "<p>101 rows × 6 columns</p>\n",
       "</div>"
      ],
      "text/plain": [
       "         doc                                           sentence  level_1  \\\n",
       "0    7832763  The enzyme cyclo-oxygenase catalyses the oxyge...      920   \n",
       "1    7832763  The enzyme cyclo-oxygenase catalyses the oxyge...      920   \n",
       "2    7832763  The enzyme cyclo-oxygenase catalyses the oxyge...      920   \n",
       "3    7832763  The enzyme cyclo-oxygenase catalyses the oxyge...      920   \n",
       "4    7832763  The enzyme cyclo-oxygenase catalyses the oxyge...      920   \n",
       "..       ...                                                ...      ...   \n",
       "96   7832763  hCOX-1 had a specific activity of 18.8 mumol o...      920   \n",
       "97   7832763  hCOX-1 had a specific activity of 18.8 mumol o...      920   \n",
       "98   7832763  hCOX-1 had a specific activity of 18.8 mumol o...      920   \n",
       "99   7832763  hCOX-1 had a specific activity of 18.8 mumol o...      920   \n",
       "100  7832763  hCOX-1 had a specific activity of 18.8 mumol o...      920   \n",
       "\n",
       "          spans             word  \\\n",
       "0        (0, 3)              The   \n",
       "1       (4, 10)           enzyme   \n",
       "2      (11, 26)  cyclo-oxygenase   \n",
       "3      (27, 36)        catalyses   \n",
       "4      (37, 40)              the   \n",
       "..          ...              ...   \n",
       "96   (574, 578)             13.8   \n",
       "97   (579, 585)           microM   \n",
       "98   (586, 589)              for   \n",
       "99   (590, 602)     arachidonate   \n",
       "100  (603, 606)              and   \n",
       "\n",
       "                                        abstract_clean  \n",
       "0    The enzyme cyclo-oxygenase catalyses the oxyge...  \n",
       "1    The enzyme cyclo-oxygenase catalyses the oxyge...  \n",
       "2    The enzyme cyclo-oxygenase catalyses the oxyge...  \n",
       "3    The enzyme cyclo-oxygenase catalyses the oxyge...  \n",
       "4    The enzyme cyclo-oxygenase catalyses the oxyge...  \n",
       "..                                                 ...  \n",
       "96   The enzyme cyclo-oxygenase catalyses the oxyge...  \n",
       "97   The enzyme cyclo-oxygenase catalyses the oxyge...  \n",
       "98   The enzyme cyclo-oxygenase catalyses the oxyge...  \n",
       "99   The enzyme cyclo-oxygenase catalyses the oxyge...  \n",
       "100  The enzyme cyclo-oxygenase catalyses the oxyge...  \n",
       "\n",
       "[101 rows x 6 columns]"
      ]
     },
     "execution_count": 6,
     "metadata": {},
     "output_type": "execute_result"
    }
   ],
   "source": [
    "chemprot_word_df.loc[:100, [\"doc\", \"sentence\", \"level_1\", \"spans\", \"word\", \"abstract_clean\"]]"
   ]
  },
  {
   "cell_type": "code",
   "execution_count": 7,
   "metadata": {},
   "outputs": [
    {
     "data": {
      "text/plain": [
       "(37802, 25752)"
      ]
     },
     "execution_count": 7,
     "metadata": {},
     "output_type": "execute_result"
    }
   ],
   "source": [
    "len(chemprot_word_df), len(chemprot_entities_df)"
   ]
  },
  {
   "cell_type": "code",
   "execution_count": 8,
   "metadata": {},
   "outputs": [
    {
     "data": {
      "text/plain": [
       "0        (19429089, serotonin)\n",
       "1       (23221006, phenformin)\n",
       "2       (23221006, Phenformin)\n",
       "3    (23318471, 17β-estradiol)\n",
       "4               (9928259, NET)\n",
       "dtype: object"
      ]
     },
     "execution_count": 8,
     "metadata": {},
     "output_type": "execute_result"
    }
   ],
   "source": [
    "s1 = chemprot_sentence_rxn.index\n",
    "s2 = chemprot_entities_df.index\n",
    "pd.Series(list(set(s2).intersection(set(s1)))).loc[:4]"
   ]
  },
  {
   "cell_type": "code",
   "execution_count": 9,
   "metadata": {},
   "outputs": [],
   "source": [
    "# save merged chemprot_sentence_rnx and chemprot_entities_df\n",
    "merged_chemprot_annot = pd.merge(chemprot_sentence_rxn, chemprot_entities_df, how = \"left\", left_index = True, right_on = [\"doc\",\"entity_name\"])\n",
    "merged_chemprot_annot.to_csv(\"chemprot_annotations_merged.csv\")"
   ]
  },
  {
   "cell_type": "markdown",
   "metadata": {},
   "source": [
    "### clean duplicate words from merge, repeated nonsense sentences, and null values "
   ]
  },
  {
   "cell_type": "code",
   "execution_count": 10,
   "metadata": {},
   "outputs": [],
   "source": [
    "merged_chemprot_annot_strings = merged_chemprot_annot.loc[:,[\"token_id\",\"entity_type\", \"label\", \"sentence_clean\"]].fillna(\"null\")"
   ]
  },
  {
   "cell_type": "code",
   "execution_count": 11,
   "metadata": {},
   "outputs": [],
   "source": [
    "#clean duplicate word-level entities that appear due to the weird merge\n",
    "merged_chemprot_entities = merged_chemprot_annot_strings.reset_index()[\"entity_name\"]\n",
    "bool_duplicate_entity = pd.Series([True] + [merged_chemprot_entities[ind] != merged_chemprot_entities[ind-1] for ind in range(1, len(merged_chemprot_entities))])\n",
    "merged_chemprot_cleaned = merged_chemprot_annot_strings.reset_index()[bool_duplicate_entity]\n",
    "merged_chemprot_cleaned[\"doc\"] = merged_chemprot_cleaned[\"doc\"].apply(str)"
   ]
  },
  {
   "cell_type": "code",
   "execution_count": null,
   "metadata": {},
   "outputs": [],
   "source": []
  },
  {
   "cell_type": "code",
   "execution_count": 12,
   "metadata": {},
   "outputs": [],
   "source": [
    "def clean_redundant_sentence_noise(entry):\n",
    "    # remove any sentence with multiple docIDs from the grouped-by-sentence dataframe;\n",
    "    # these are non-unique sentences in Chemprot, ie \"2.\" or \"(2004) J. Biol.\"\n",
    "    list_doc_ids = entry.split(\", \")\n",
    "    return 1 == len(set(list_doc_ids))"
   ]
  },
  {
   "cell_type": "code",
   "execution_count": 13,
   "metadata": {},
   "outputs": [],
   "source": [
    "# def remove_null(series_entry):\n",
    "#     list_series_entry = series_entry.split(\", \")\n",
    "#     cleaned_ls = [entry for entry in list_series_entry if entry != \"null\"]\n",
    "#     if len(cleaned_ls) > 0:\n",
    "#         return \", \".join(cleaned_ls)\n",
    "#     return np.nan\n",
    "\n",
    "def extract_chemical_entities_indices(series_entry, query):\n",
    "    list_series_entry = series_entry.split(\", \")\n",
    "    indexes = []\n",
    "    for index in range(len(list_series_entry)):\n",
    "        entry = list_series_entry[index]\n",
    "        if query in entry:\n",
    "            indexes.append(index)\n",
    "    if len(indexes) > 0:\n",
    "        return indexes\n",
    "    return np.nan\n",
    "def get_entities_series_from_index_series(index_series, sentence_series):\n",
    "    sentence_series = sentence_series.apply(lambda x: x.split(\", \"))\n",
    "    rv_list = []\n",
    "    for entry_ind in range(len(index_series)):\n",
    "        list_entry = index_series.iloc[entry_ind]\n",
    "        entities_list = []\n",
    "        if type(list_entry) == list:\n",
    "            for entity_ind in list_entry:\n",
    "                entities_list.append(str(sentence_series.iloc[entry_ind][entity_ind]))\n",
    "        if len(entities_list) > 0:\n",
    "            entities_str = ', '.join(entities_list)\n",
    "            rv_list.append(entities_str)\n",
    "        else:\n",
    "            rv_list.append(np.nan)\n",
    "    return pd.Series(rv_list)\n",
    "def extract_labeled_entities_dict(series_entry):\n",
    "    list_series_entry = series_entry.split(\", \")\n",
    "    indexes = []\n",
    "    dict_rv = {}\n",
    "    for index in range(len(list_series_entry)):\n",
    "        entry = list_series_entry[index]\n",
    "        if entry != \"O\":\n",
    "            indexes.append(index)\n",
    "    if len(indexes) > 0:\n",
    "        for index in indexes:\n",
    "            dict_rv[index] = list_series_entry[index]\n",
    "        return dict_rv\n",
    "    return np.nan\n",
    "def extract_docID(doc_string_comma_sep):\n",
    "    list_series_entry = doc_string_comma_sep.split(\", \")\n",
    "    # add \".0\" to end of docID string to match brenda data index\n",
    "    return float(list_series_entry[0])"
   ]
  },
  {
   "cell_type": "code",
   "execution_count": 14,
   "metadata": {},
   "outputs": [],
   "source": [
    "# clean_redundant_sentence_noise removes the following sentences: (\"2.\", \"3.\", \"5.\", \"Abstract 1.\")\n",
    "chemprot_annot_sentence = merged_chemprot_cleaned.reset_index().groupby(\"sentence_clean\").agg(lambda x : \", \".join(x))\n",
    "chemprot_annot_sentence = chemprot_annot_sentence[chemprot_annot_sentence[\"doc\"].apply(clean_redundant_sentence_noise)]\n",
    "\n",
    "#reset_index to make adding series easy\n",
    "chemprot_annot_sentence = chemprot_annot_sentence.reset_index()\n",
    "\n",
    "#extract chemicals and enzymes from entity_type\n",
    "chemprot_annot_sentence[\"chemical_ind\"] = chemprot_annot_sentence[\"entity_type\"].apply(lambda x: extract_chemical_entities_indices(x, \"CHEMICAL\"))\n",
    "chemprot_annot_sentence[\"gene_ind\"] = chemprot_annot_sentence[\"entity_type\"].apply(lambda x: extract_chemical_entities_indices(x, \"GENE\"))\n",
    "chemprot_annot_sentence[\"chemicals\"] = get_entities_series_from_index_series(chemprot_annot_sentence[\"chemical_ind\"], chemprot_annot_sentence[\"entity_name\"])\n",
    "chemprot_annot_sentence[\"genes\"] = get_entities_series_from_index_series(chemprot_annot_sentence[\"gene_ind\"], chemprot_annot_sentence[\"entity_name\"])\n",
    "\n",
    "# extract substrates, product-of, enzyme\n",
    "chemprot_annot_sentence[\"substrate_ind\"] = chemprot_annot_sentence[\"label\"].apply(lambda x: extract_chemical_entities_indices(x, \"SUBSTRATE\"))\n",
    "chemprot_annot_sentence[\"product_ind\"] = chemprot_annot_sentence[\"label\"].apply(lambda x: extract_chemical_entities_indices(x, \"PRODUCT\"))\n",
    "chemprot_annot_sentence[\"enzyme_ind\"] = chemprot_annot_sentence[\"label\"].apply(lambda x: extract_chemical_entities_indices(x, \"enzyme\"))\n",
    "\n",
    "chemprot_annot_sentence[\"substrates\"] = get_entities_series_from_index_series(chemprot_annot_sentence[\"substrate_ind\"], chemprot_annot_sentence[\"entity_name\"])\n",
    "chemprot_annot_sentence[\"products\"] = get_entities_series_from_index_series(chemprot_annot_sentence[\"product_ind\"], chemprot_annot_sentence[\"entity_name\"])\n",
    "chemprot_annot_sentence[\"enzymes\"] = get_entities_series_from_index_series(chemprot_annot_sentence[\"enzyme_ind\"], chemprot_annot_sentence[\"entity_name\"])\n",
    "\n",
    "#extract labels: dict between word index and label\n",
    "chemprot_annot_sentence[\"label_dict\"] = chemprot_annot_sentence[\"label\"].apply(extract_labeled_entities_dict)\n",
    "\n",
    "#reindex on doc (unique paper-level ID)\n",
    "chemprot_annot_sentence['doc'] = chemprot_annot_sentence['doc'].apply(extract_docID)\n",
    "chemprot_annot_sentence = chemprot_annot_sentence.reset_index().set_index(\"doc\")\n",
    "\n",
    "#rename and drop columns\n",
    "chemprot_annot_sentence = chemprot_annot_sentence.rename(columns = {\"sentence_clean\": \"sentence\", \"entity_name\": \"sentence entities\", \"label_dict\": \"label index dict\"})\n",
    "chemprot_annot_sentence = chemprot_annot_sentence.drop([\"index\", \"token_id\", \"sentence entities\", \"chemical_ind\", \"gene_ind\", \"substrate_ind\", \"product_ind\", \"enzyme_ind\"], axis = 1)"
   ]
  },
  {
   "cell_type": "code",
   "execution_count": 16,
   "metadata": {},
   "outputs": [],
   "source": [
    "# helper function for abstract-sentence featurization\n",
    "def sort_list_match_ref(abstract_ref, extracted_s):\n",
    "    rv = []\n",
    "    for i in range(len(abstract_ref)):\n",
    "        text = abstract_ref.iloc[i]\n",
    "        extracted_ls = extracted_s.iloc[i]\n",
    "        try:\n",
    "            rv.append(sorted(extracted_ls, key = lambda x: text.index(x)))\n",
    "        except:\n",
    "            print(\"Extracted sentence in doc \" + str(ref.index[i]) + \" does not match the abstract.\")\n",
    "    return pd.Series(rv, index = ref.index)\n",
    "def get_sentence_index(sentence_s, sentence_list_s):\n",
    "    rv = []\n",
    "    for i in range(len(sentence_s)):\n",
    "        sentence_list = sentence_list_s.iloc[i]\n",
    "        sentence = sentence_s.iloc[i]\n",
    "        rv.append(sentence_list.index(sentence))\n",
    "    return pd.Series(rv, index = sentence_s.index)\n",
    "#sort_list_match_ref(ref, abstract_expand)\n",
    "#get_sentence_index(sentence_s,abstract_ordered)"
   ]
  },
  {
   "cell_type": "code",
   "execution_count": 17,
   "metadata": {},
   "outputs": [
    {
     "data": {
      "text/html": [
       "<div>\n",
       "<style scoped>\n",
       "    .dataframe tbody tr th:only-of-type {\n",
       "        vertical-align: middle;\n",
       "    }\n",
       "\n",
       "    .dataframe tbody tr th {\n",
       "        vertical-align: top;\n",
       "    }\n",
       "\n",
       "    .dataframe thead th {\n",
       "        text-align: right;\n",
       "    }\n",
       "</style>\n",
       "<table border=\"1\" class=\"dataframe\">\n",
       "  <thead>\n",
       "    <tr style=\"text-align: right;\">\n",
       "      <th></th>\n",
       "      <th></th>\n",
       "      <th>sentence</th>\n",
       "      <th>entity_type</th>\n",
       "      <th>label</th>\n",
       "      <th>chemicals</th>\n",
       "      <th>genes</th>\n",
       "      <th>substrates</th>\n",
       "      <th>products</th>\n",
       "      <th>enzymes</th>\n",
       "      <th>label index dict</th>\n",
       "      <th>abstract_clean</th>\n",
       "      <th>abstract_expand</th>\n",
       "      <th>abstract_ordered</th>\n",
       "    </tr>\n",
       "    <tr>\n",
       "      <th>doc</th>\n",
       "      <th>sentence_index</th>\n",
       "      <th></th>\n",
       "      <th></th>\n",
       "      <th></th>\n",
       "      <th></th>\n",
       "      <th></th>\n",
       "      <th></th>\n",
       "      <th></th>\n",
       "      <th></th>\n",
       "      <th></th>\n",
       "      <th></th>\n",
       "      <th></th>\n",
       "      <th></th>\n",
       "    </tr>\n",
       "  </thead>\n",
       "  <tbody>\n",
       "    <tr>\n",
       "      <th rowspan=\"4\" valign=\"top\">7832763</th>\n",
       "      <th>0</th>\n",
       "      <td>The enzyme cyclo-oxygenase catalyses the oxyge...</td>\n",
       "      <td>null, null, GENE-N, null, null, null, null, nu...</td>\n",
       "      <td>O, O, B-enzyme, O, O, O, O, B-SUBSTRATE, I-SUB...</td>\n",
       "      <td>prostaglandins</td>\n",
       "      <td>cyclo-oxygenase</td>\n",
       "      <td>arachidonic, acid</td>\n",
       "      <td>prostaglandins</td>\n",
       "      <td>cyclo-oxygenase</td>\n",
       "      <td>{2: 'B-enzyme', 7: 'B-SUBSTRATE', 8: 'I-SUBSTR...</td>\n",
       "      <td>The enzyme cyclo-oxygenase catalyses the oxyge...</td>\n",
       "      <td>[The enzyme cyclo-oxygenase catalyses the oxyg...</td>\n",
       "      <td>[The enzyme cyclo-oxygenase catalyses the oxyg...</td>\n",
       "    </tr>\n",
       "    <tr>\n",
       "      <th>1</th>\n",
       "      <td>Recently two forms of cyclo-oxygenase have bee...</td>\n",
       "      <td>null, null, null, null, GENE-N, null, null, nu...</td>\n",
       "      <td>O, O, O, O, O, O, O, O, O, O, O, O, O, O, O, O...</td>\n",
       "      <td>NaN</td>\n",
       "      <td>cyclo-oxygenase, COX-1, COX-2, cytokines</td>\n",
       "      <td>NaN</td>\n",
       "      <td>NaN</td>\n",
       "      <td>NaN</td>\n",
       "      <td>NaN</td>\n",
       "      <td>The enzyme cyclo-oxygenase catalyses the oxyge...</td>\n",
       "      <td>[The enzyme cyclo-oxygenase catalyses the oxyg...</td>\n",
       "      <td>[The enzyme cyclo-oxygenase catalyses the oxyg...</td>\n",
       "    </tr>\n",
       "    <tr>\n",
       "      <th>2</th>\n",
       "      <td>Constitutive and inducible forms of human cycl...</td>\n",
       "      <td>null, null, null, null, null, null, GENE-N, nu...</td>\n",
       "      <td>O, O, O, O, O, O, O, O, O, O, O, O, O, O, O, O...</td>\n",
       "      <td>NaN</td>\n",
       "      <td>cyclo-oxygenase, hCOX-1, hCOX-2</td>\n",
       "      <td>NaN</td>\n",
       "      <td>NaN</td>\n",
       "      <td>NaN</td>\n",
       "      <td>NaN</td>\n",
       "      <td>The enzyme cyclo-oxygenase catalyses the oxyge...</td>\n",
       "      <td>[The enzyme cyclo-oxygenase catalyses the oxyg...</td>\n",
       "      <td>[The enzyme cyclo-oxygenase catalyses the oxyg...</td>\n",
       "    </tr>\n",
       "    <tr>\n",
       "      <th>3</th>\n",
       "      <td>hCOX-1 had a specific activity of 18.8 mumol o...</td>\n",
       "      <td>GENE-Y, null, null, null, null, null, null, nu...</td>\n",
       "      <td>B-enzyme, O, O, O, O, O, O, O, O, O, O, O, O, ...</td>\n",
       "      <td>arachidonate</td>\n",
       "      <td>hCOX-1</td>\n",
       "      <td>arachidonate</td>\n",
       "      <td>NaN</td>\n",
       "      <td>hCOX-1</td>\n",
       "      <td>{0: 'B-enzyme', 17: 'B-SUBSTRATE'}</td>\n",
       "      <td>The enzyme cyclo-oxygenase catalyses the oxyge...</td>\n",
       "      <td>[The enzyme cyclo-oxygenase catalyses the oxyg...</td>\n",
       "      <td>[The enzyme cyclo-oxygenase catalyses the oxyg...</td>\n",
       "    </tr>\n",
       "  </tbody>\n",
       "</table>\n",
       "</div>"
      ],
      "text/plain": [
       "                                                                 sentence  \\\n",
       "doc     sentence_index                                                      \n",
       "7832763 0               The enzyme cyclo-oxygenase catalyses the oxyge...   \n",
       "        1               Recently two forms of cyclo-oxygenase have bee...   \n",
       "        2               Constitutive and inducible forms of human cycl...   \n",
       "        3               hCOX-1 had a specific activity of 18.8 mumol o...   \n",
       "\n",
       "                                                              entity_type  \\\n",
       "doc     sentence_index                                                      \n",
       "7832763 0               null, null, GENE-N, null, null, null, null, nu...   \n",
       "        1               null, null, null, null, GENE-N, null, null, nu...   \n",
       "        2               null, null, null, null, null, null, GENE-N, nu...   \n",
       "        3               GENE-Y, null, null, null, null, null, null, nu...   \n",
       "\n",
       "                                                                    label  \\\n",
       "doc     sentence_index                                                      \n",
       "7832763 0               O, O, B-enzyme, O, O, O, O, B-SUBSTRATE, I-SUB...   \n",
       "        1               O, O, O, O, O, O, O, O, O, O, O, O, O, O, O, O...   \n",
       "        2               O, O, O, O, O, O, O, O, O, O, O, O, O, O, O, O...   \n",
       "        3               B-enzyme, O, O, O, O, O, O, O, O, O, O, O, O, ...   \n",
       "\n",
       "                             chemicals  \\\n",
       "doc     sentence_index                   \n",
       "7832763 0               prostaglandins   \n",
       "        1                          NaN   \n",
       "        2                          NaN   \n",
       "        3                 arachidonate   \n",
       "\n",
       "                                                           genes  \\\n",
       "doc     sentence_index                                             \n",
       "7832763 0                                        cyclo-oxygenase   \n",
       "        1               cyclo-oxygenase, COX-1, COX-2, cytokines   \n",
       "        2                        cyclo-oxygenase, hCOX-1, hCOX-2   \n",
       "        3                                                 hCOX-1   \n",
       "\n",
       "                               substrates        products          enzymes  \\\n",
       "doc     sentence_index                                                       \n",
       "7832763 0               arachidonic, acid  prostaglandins  cyclo-oxygenase   \n",
       "        1                             NaN             NaN              NaN   \n",
       "        2                             NaN             NaN              NaN   \n",
       "        3                    arachidonate             NaN           hCOX-1   \n",
       "\n",
       "                                                         label index dict  \\\n",
       "doc     sentence_index                                                      \n",
       "7832763 0               {2: 'B-enzyme', 7: 'B-SUBSTRATE', 8: 'I-SUBSTR...   \n",
       "        1                                                             NaN   \n",
       "        2                                                             NaN   \n",
       "        3                              {0: 'B-enzyme', 17: 'B-SUBSTRATE'}   \n",
       "\n",
       "                                                           abstract_clean  \\\n",
       "doc     sentence_index                                                      \n",
       "7832763 0               The enzyme cyclo-oxygenase catalyses the oxyge...   \n",
       "        1               The enzyme cyclo-oxygenase catalyses the oxyge...   \n",
       "        2               The enzyme cyclo-oxygenase catalyses the oxyge...   \n",
       "        3               The enzyme cyclo-oxygenase catalyses the oxyge...   \n",
       "\n",
       "                                                          abstract_expand  \\\n",
       "doc     sentence_index                                                      \n",
       "7832763 0               [The enzyme cyclo-oxygenase catalyses the oxyg...   \n",
       "        1               [The enzyme cyclo-oxygenase catalyses the oxyg...   \n",
       "        2               [The enzyme cyclo-oxygenase catalyses the oxyg...   \n",
       "        3               [The enzyme cyclo-oxygenase catalyses the oxyg...   \n",
       "\n",
       "                                                         abstract_ordered  \n",
       "doc     sentence_index                                                     \n",
       "7832763 0               [The enzyme cyclo-oxygenase catalyses the oxyg...  \n",
       "        1               [The enzyme cyclo-oxygenase catalyses the oxyg...  \n",
       "        2               [The enzyme cyclo-oxygenase catalyses the oxyg...  \n",
       "        3               [The enzyme cyclo-oxygenase catalyses the oxyg...  "
      ]
     },
     "execution_count": 17,
     "metadata": {},
     "output_type": "execute_result"
    }
   ],
   "source": [
    "chemprot_doc_abstract = pd.DataFrame(chemprot_word_df.loc[:,[\"doc\", \"abstract_clean\"]].drop_duplicates().groupby(\"doc\")[\"abstract_clean\"].sum()).reset_index()\n",
    "chemprot_abstract_annot = pd.merge(chemprot_annot_sentence, chemprot_doc_abstract, how = \"left\", left_index = True, right_on = [\"doc\"]).set_index(\"doc\").sort_index()\n",
    "expanded_abstract_df = pd.DataFrame(chemprot_abstract_annot.groupby(\"doc\")['sentence'].apply(list)).rename(columns = {\"sentence\": \"abstract_expand\"})\n",
    "\n",
    "chemprot_final_annot = pd.merge(chemprot_abstract_annot, expanded_abstract_df, how = \"left\", left_index = True, right_on = [\"doc\"])\n",
    "# define parameters for featurization helper functions\n",
    "ref = chemprot_final_annot.loc[:,\"abstract_clean\"]\n",
    "abstract_expand = chemprot_final_annot.loc[:, \"abstract_expand\"]\n",
    "abstract_ordered = pd.Series(sort_list_match_ref(ref, abstract_expand))\n",
    "sentence_s = chemprot_final_annot.loc[:, \"sentence\"]\n",
    "# add final features to define sentence positions within abstracts\n",
    "chemprot_final_annot[\"abstract_ordered\"] = abstract_ordered\n",
    "chemprot_final_annot[\"sentence_index\"] = get_sentence_index(sentence_s, abstract_ordered)\n",
    "chemprot_final_annot = chemprot_final_annot.reset_index().set_index([\"doc\", \"sentence_index\"]).sort_index()\n",
    "chemprot_final_annot.iloc[:4,:]"
   ]
  },
  {
   "cell_type": "code",
   "execution_count": 23,
   "metadata": {},
   "outputs": [],
   "source": [
    "# save sentence level chemprot data that is annotated to resemble brenda data\n",
    "chemprot_final_annot.to_csv(\"chemprot_sentence_level_cleaned.csv\")"
   ]
  },
  {
   "cell_type": "markdown",
   "metadata": {},
   "source": [
    "## brenda data exploration"
   ]
  },
  {
   "cell_type": "code",
   "execution_count": 18,
   "metadata": {},
   "outputs": [
    {
     "data": {
      "text/plain": [
       "0    12067524.0\n",
       "dtype: float64"
      ]
     },
     "execution_count": 18,
     "metadata": {},
     "output_type": "execute_result"
    }
   ],
   "source": [
    "s1 = chemprot_annot_sentence.index\n",
    "s2 = brenda_split6_df.index\n",
    "pd.Series(list(set(s2).intersection(set(s1)))).loc[:4]"
   ]
  },
  {
   "cell_type": "code",
   "execution_count": 19,
   "metadata": {},
   "outputs": [
    {
     "data": {
      "text/html": [
       "<div>\n",
       "<style scoped>\n",
       "    .dataframe tbody tr th:only-of-type {\n",
       "        vertical-align: middle;\n",
       "    }\n",
       "\n",
       "    .dataframe tbody tr th {\n",
       "        vertical-align: top;\n",
       "    }\n",
       "\n",
       "    .dataframe thead th {\n",
       "        text-align: right;\n",
       "    }\n",
       "</style>\n",
       "<table border=\"1\" class=\"dataframe\">\n",
       "  <thead>\n",
       "    <tr style=\"text-align: right;\">\n",
       "      <th></th>\n",
       "      <th>sentence</th>\n",
       "      <th>indices</th>\n",
       "      <th>substrates</th>\n",
       "      <th>products</th>\n",
       "      <th>chemical_names</th>\n",
       "      <th>enzymes</th>\n",
       "    </tr>\n",
       "    <tr>\n",
       "      <th>pubmedId</th>\n",
       "      <th></th>\n",
       "      <th></th>\n",
       "      <th></th>\n",
       "      <th></th>\n",
       "      <th></th>\n",
       "      <th></th>\n",
       "    </tr>\n",
       "  </thead>\n",
       "  <tbody>\n",
       "    <tr>\n",
       "      <th>18585373.0</th>\n",
       "      <td>serial JL 272543 291210 291734 291852 291854 3...</td>\n",
       "      <td>0</td>\n",
       "      <td>more</td>\n",
       "      <td>?</td>\n",
       "      <td>NaN</td>\n",
       "      <td>NaN</td>\n",
       "    </tr>\n",
       "    <tr>\n",
       "      <th>18585373.0</th>\n",
       "      <td>All rights reserved.</td>\n",
       "      <td>1</td>\n",
       "      <td>more</td>\n",
       "      <td>?</td>\n",
       "      <td>NaN</td>\n",
       "      <td>NaN</td>\n",
       "    </tr>\n",
       "    <tr>\n",
       "      <th>18585373.0</th>\n",
       "      <td>RHOGTPASECONTROLSINVAGINATIONCOHESIVEMIGRATION...</td>\n",
       "      <td>2</td>\n",
       "      <td>more</td>\n",
       "      <td>?</td>\n",
       "      <td>NaN</td>\n",
       "      <td>GTPase, GTPase</td>\n",
       "    </tr>\n",
       "    <tr>\n",
       "      <th>18585373.0</th>\n",
       "      <td>Rho1 K heterozygous salivary glands invaginate...</td>\n",
       "      <td>3</td>\n",
       "      <td>more</td>\n",
       "      <td>?</td>\n",
       "      <td>NaN</td>\n",
       "      <td>NaN</td>\n",
       "    </tr>\n",
       "    <tr>\n",
       "      <th>18585373.0</th>\n",
       "      <td>Rho1 K homozygous glands begin to invaginate (...</td>\n",
       "      <td>4</td>\n",
       "      <td>more</td>\n",
       "      <td>?</td>\n",
       "      <td>NaN</td>\n",
       "      <td>NaN</td>\n",
       "    </tr>\n",
       "  </tbody>\n",
       "</table>\n",
       "</div>"
      ],
      "text/plain": [
       "                                                     sentence  indices  \\\n",
       "pubmedId                                                                 \n",
       "18585373.0  serial JL 272543 291210 291734 291852 291854 3...        0   \n",
       "18585373.0                               All rights reserved.        1   \n",
       "18585373.0  RHOGTPASECONTROLSINVAGINATIONCOHESIVEMIGRATION...        2   \n",
       "18585373.0  Rho1 K heterozygous salivary glands invaginate...        3   \n",
       "18585373.0  Rho1 K homozygous glands begin to invaginate (...        4   \n",
       "\n",
       "           substrates products chemical_names         enzymes  \n",
       "pubmedId                                                       \n",
       "18585373.0       more        ?            NaN             NaN  \n",
       "18585373.0       more        ?            NaN             NaN  \n",
       "18585373.0       more        ?            NaN  GTPase, GTPase  \n",
       "18585373.0       more        ?            NaN             NaN  \n",
       "18585373.0       more        ?            NaN             NaN  "
      ]
     },
     "execution_count": 19,
     "metadata": {},
     "output_type": "execute_result"
    }
   ],
   "source": [
    "brenda_split6_df.loc[:, [\"sentence\", \"indices\", \"substrates\", \"products\", \"chemical_names\", \"enzymes\"]].iloc[:5]"
   ]
  },
  {
   "cell_type": "code",
   "execution_count": 20,
   "metadata": {},
   "outputs": [],
   "source": [
    "brenda_important_features = brenda_split6_df.loc[:, [\"sentence\", \"indices\", \"substrates\", \"products\", \"chemical_names\", \"enzymes\"]].fillna(\"null\").reset_index()\n",
    "brenda_important_features[\"pubmedId\"] = brenda_important_features[\"pubmedId\"].apply(str)\n",
    "brenda_important_features[\"indices\"] = brenda_important_features[\"indices\"].apply(str)\n"
   ]
  },
  {
   "cell_type": "code",
   "execution_count": 21,
   "metadata": {},
   "outputs": [],
   "source": [
    "#groupby  duplicate sentences\n",
    "brenda_index_sentence_per_article = brenda_important_features.set_index([\"pubmedId\", \"sentence\"])"
   ]
  },
  {
   "cell_type": "code",
   "execution_count": 22,
   "metadata": {},
   "outputs": [
    {
     "ename": "KeyboardInterrupt",
     "evalue": "",
     "output_type": "error",
     "traceback": [
      "\u001b[0;31m---------------------------------------------------------------------------\u001b[0m",
      "\u001b[0;31mKeyboardInterrupt\u001b[0m                         Traceback (most recent call last)",
      "\u001b[0;32m<ipython-input-22-ae62662bc177>\u001b[0m in \u001b[0;36m<module>\u001b[0;34m\u001b[0m\n\u001b[0;32m----> 1\u001b[0;31m \u001b[0mbrenda_sentences_clean\u001b[0m \u001b[0;34m=\u001b[0m \u001b[0mbrenda_index_sentence_per_article\u001b[0m\u001b[0;34m.\u001b[0m\u001b[0mgroupby\u001b[0m\u001b[0;34m(\u001b[0m\u001b[0;34m[\u001b[0m\u001b[0;34m\"pubmedId\"\u001b[0m\u001b[0;34m,\u001b[0m \u001b[0;34m\"sentence\"\u001b[0m\u001b[0;34m]\u001b[0m\u001b[0;34m)\u001b[0m\u001b[0;34m.\u001b[0m\u001b[0magg\u001b[0m\u001b[0;34m(\u001b[0m\u001b[0;32mlambda\u001b[0m \u001b[0mx\u001b[0m \u001b[0;34m:\u001b[0m \u001b[0;34m\", \"\u001b[0m\u001b[0;34m.\u001b[0m\u001b[0mjoin\u001b[0m\u001b[0;34m(\u001b[0m\u001b[0mx\u001b[0m\u001b[0;34m)\u001b[0m\u001b[0;34m)\u001b[0m\u001b[0;34m\u001b[0m\u001b[0;34m\u001b[0m\u001b[0m\n\u001b[0m",
      "\u001b[0;32m~/fc_igemcomp/software/scibert-env/lib/python3.6/site-packages/pandas/core/groupby/generic.py\u001b[0m in \u001b[0;36maggregate\u001b[0;34m(self, func, engine, engine_kwargs, *args, **kwargs)\u001b[0m\n\u001b[1;32m    957\u001b[0m             \u001b[0;31m# grouper specific aggregations\u001b[0m\u001b[0;34m\u001b[0m\u001b[0;34m\u001b[0m\u001b[0;34m\u001b[0m\u001b[0m\n\u001b[1;32m    958\u001b[0m             \u001b[0;32mif\u001b[0m \u001b[0mself\u001b[0m\u001b[0;34m.\u001b[0m\u001b[0mgrouper\u001b[0m\u001b[0;34m.\u001b[0m\u001b[0mnkeys\u001b[0m \u001b[0;34m>\u001b[0m \u001b[0;36m1\u001b[0m\u001b[0;34m:\u001b[0m\u001b[0;34m\u001b[0m\u001b[0;34m\u001b[0m\u001b[0m\n\u001b[0;32m--> 959\u001b[0;31m                 \u001b[0;32mreturn\u001b[0m \u001b[0mself\u001b[0m\u001b[0;34m.\u001b[0m\u001b[0m_python_agg_general\u001b[0m\u001b[0;34m(\u001b[0m\u001b[0mfunc\u001b[0m\u001b[0;34m,\u001b[0m \u001b[0;34m*\u001b[0m\u001b[0margs\u001b[0m\u001b[0;34m,\u001b[0m \u001b[0;34m**\u001b[0m\u001b[0mkwargs\u001b[0m\u001b[0;34m)\u001b[0m\u001b[0;34m\u001b[0m\u001b[0;34m\u001b[0m\u001b[0m\n\u001b[0m\u001b[1;32m    960\u001b[0m             \u001b[0;32melif\u001b[0m \u001b[0margs\u001b[0m \u001b[0;32mor\u001b[0m \u001b[0mkwargs\u001b[0m\u001b[0;34m:\u001b[0m\u001b[0;34m\u001b[0m\u001b[0;34m\u001b[0m\u001b[0m\n\u001b[1;32m    961\u001b[0m                 \u001b[0mresult\u001b[0m \u001b[0;34m=\u001b[0m \u001b[0mself\u001b[0m\u001b[0;34m.\u001b[0m\u001b[0m_aggregate_frame\u001b[0m\u001b[0;34m(\u001b[0m\u001b[0mfunc\u001b[0m\u001b[0;34m,\u001b[0m \u001b[0;34m*\u001b[0m\u001b[0margs\u001b[0m\u001b[0;34m,\u001b[0m \u001b[0;34m**\u001b[0m\u001b[0mkwargs\u001b[0m\u001b[0;34m)\u001b[0m\u001b[0;34m\u001b[0m\u001b[0;34m\u001b[0m\u001b[0m\n",
      "\u001b[0;32m~/fc_igemcomp/software/scibert-env/lib/python3.6/site-packages/pandas/core/groupby/groupby.py\u001b[0m in \u001b[0;36m_python_agg_general\u001b[0;34m(self, func, engine, engine_kwargs, *args, **kwargs)\u001b[0m\n\u001b[1;32m   1083\u001b[0m                 \u001b[0;32mtry\u001b[0m\u001b[0;34m:\u001b[0m\u001b[0;34m\u001b[0m\u001b[0;34m\u001b[0m\u001b[0m\n\u001b[1;32m   1084\u001b[0m                     \u001b[0;31m# if this function is invalid for this dtype, we will ignore it.\u001b[0m\u001b[0;34m\u001b[0m\u001b[0;34m\u001b[0m\u001b[0;34m\u001b[0m\u001b[0m\n\u001b[0;32m-> 1085\u001b[0;31m                     \u001b[0mresult\u001b[0m\u001b[0;34m,\u001b[0m \u001b[0mcounts\u001b[0m \u001b[0;34m=\u001b[0m \u001b[0mself\u001b[0m\u001b[0;34m.\u001b[0m\u001b[0mgrouper\u001b[0m\u001b[0;34m.\u001b[0m\u001b[0magg_series\u001b[0m\u001b[0;34m(\u001b[0m\u001b[0mobj\u001b[0m\u001b[0;34m,\u001b[0m \u001b[0mf\u001b[0m\u001b[0;34m)\u001b[0m\u001b[0;34m\u001b[0m\u001b[0;34m\u001b[0m\u001b[0m\n\u001b[0m\u001b[1;32m   1086\u001b[0m                 \u001b[0;32mexcept\u001b[0m \u001b[0mTypeError\u001b[0m\u001b[0;34m:\u001b[0m\u001b[0;34m\u001b[0m\u001b[0;34m\u001b[0m\u001b[0m\n\u001b[1;32m   1087\u001b[0m                     \u001b[0;32mcontinue\u001b[0m\u001b[0;34m\u001b[0m\u001b[0;34m\u001b[0m\u001b[0m\n",
      "\u001b[0;32m~/fc_igemcomp/software/scibert-env/lib/python3.6/site-packages/pandas/core/groupby/ops.py\u001b[0m in \u001b[0;36magg_series\u001b[0;34m(self, obj, func, engine, engine_kwargs, *args, **kwargs)\u001b[0m\n\u001b[1;32m    646\u001b[0m         \u001b[0;32melif\u001b[0m \u001b[0mobj\u001b[0m\u001b[0;34m.\u001b[0m\u001b[0mindex\u001b[0m\u001b[0;34m.\u001b[0m\u001b[0m_has_complex_internals\u001b[0m\u001b[0;34m:\u001b[0m\u001b[0;34m\u001b[0m\u001b[0;34m\u001b[0m\u001b[0m\n\u001b[1;32m    647\u001b[0m             \u001b[0;31m# Preempt TypeError in _aggregate_series_fast\u001b[0m\u001b[0;34m\u001b[0m\u001b[0;34m\u001b[0m\u001b[0;34m\u001b[0m\u001b[0m\n\u001b[0;32m--> 648\u001b[0;31m             \u001b[0;32mreturn\u001b[0m \u001b[0mself\u001b[0m\u001b[0;34m.\u001b[0m\u001b[0m_aggregate_series_pure_python\u001b[0m\u001b[0;34m(\u001b[0m\u001b[0mobj\u001b[0m\u001b[0;34m,\u001b[0m \u001b[0mfunc\u001b[0m\u001b[0;34m)\u001b[0m\u001b[0;34m\u001b[0m\u001b[0;34m\u001b[0m\u001b[0m\n\u001b[0m\u001b[1;32m    649\u001b[0m \u001b[0;34m\u001b[0m\u001b[0m\n\u001b[1;32m    650\u001b[0m         \u001b[0;32mtry\u001b[0m\u001b[0;34m:\u001b[0m\u001b[0;34m\u001b[0m\u001b[0;34m\u001b[0m\u001b[0m\n",
      "\u001b[0;32m~/fc_igemcomp/software/scibert-env/lib/python3.6/site-packages/pandas/core/groupby/ops.py\u001b[0m in \u001b[0;36m_aggregate_series_pure_python\u001b[0;34m(self, obj, func, engine, engine_kwargs, *args, **kwargs)\u001b[0m\n\u001b[1;32m    699\u001b[0m         \u001b[0msplitter\u001b[0m \u001b[0;34m=\u001b[0m \u001b[0mget_splitter\u001b[0m\u001b[0;34m(\u001b[0m\u001b[0mobj\u001b[0m\u001b[0;34m,\u001b[0m \u001b[0mgroup_index\u001b[0m\u001b[0;34m,\u001b[0m \u001b[0mngroups\u001b[0m\u001b[0;34m,\u001b[0m \u001b[0maxis\u001b[0m\u001b[0;34m=\u001b[0m\u001b[0;36m0\u001b[0m\u001b[0;34m)\u001b[0m\u001b[0;34m\u001b[0m\u001b[0;34m\u001b[0m\u001b[0m\n\u001b[1;32m    700\u001b[0m \u001b[0;34m\u001b[0m\u001b[0m\n\u001b[0;32m--> 701\u001b[0;31m         \u001b[0;32mfor\u001b[0m \u001b[0mlabel\u001b[0m\u001b[0;34m,\u001b[0m \u001b[0mgroup\u001b[0m \u001b[0;32min\u001b[0m \u001b[0msplitter\u001b[0m\u001b[0;34m:\u001b[0m\u001b[0;34m\u001b[0m\u001b[0;34m\u001b[0m\u001b[0m\n\u001b[0m\u001b[1;32m    702\u001b[0m             \u001b[0;32mif\u001b[0m \u001b[0mmaybe_use_numba\u001b[0m\u001b[0;34m(\u001b[0m\u001b[0mengine\u001b[0m\u001b[0;34m)\u001b[0m\u001b[0;34m:\u001b[0m\u001b[0;34m\u001b[0m\u001b[0;34m\u001b[0m\u001b[0m\n\u001b[1;32m    703\u001b[0m                 \u001b[0mvalues\u001b[0m\u001b[0;34m,\u001b[0m \u001b[0mindex\u001b[0m \u001b[0;34m=\u001b[0m \u001b[0msplit_for_numba\u001b[0m\u001b[0;34m(\u001b[0m\u001b[0mgroup\u001b[0m\u001b[0;34m)\u001b[0m\u001b[0;34m\u001b[0m\u001b[0;34m\u001b[0m\u001b[0m\n",
      "\u001b[0;32m~/fc_igemcomp/software/scibert-env/lib/python3.6/site-packages/pandas/core/groupby/ops.py\u001b[0m in \u001b[0;36m__iter__\u001b[0;34m(self)\u001b[0m\n\u001b[1;32m    950\u001b[0m \u001b[0;34m\u001b[0m\u001b[0m\n\u001b[1;32m    951\u001b[0m         \u001b[0;32mfor\u001b[0m \u001b[0mi\u001b[0m\u001b[0;34m,\u001b[0m \u001b[0;34m(\u001b[0m\u001b[0mstart\u001b[0m\u001b[0;34m,\u001b[0m \u001b[0mend\u001b[0m\u001b[0;34m)\u001b[0m \u001b[0;32min\u001b[0m \u001b[0menumerate\u001b[0m\u001b[0;34m(\u001b[0m\u001b[0mzip\u001b[0m\u001b[0;34m(\u001b[0m\u001b[0mstarts\u001b[0m\u001b[0;34m,\u001b[0m \u001b[0mends\u001b[0m\u001b[0;34m)\u001b[0m\u001b[0;34m)\u001b[0m\u001b[0;34m:\u001b[0m\u001b[0;34m\u001b[0m\u001b[0;34m\u001b[0m\u001b[0m\n\u001b[0;32m--> 952\u001b[0;31m             \u001b[0;32myield\u001b[0m \u001b[0mi\u001b[0m\u001b[0;34m,\u001b[0m \u001b[0mself\u001b[0m\u001b[0;34m.\u001b[0m\u001b[0m_chop\u001b[0m\u001b[0;34m(\u001b[0m\u001b[0msdata\u001b[0m\u001b[0;34m,\u001b[0m \u001b[0mslice\u001b[0m\u001b[0;34m(\u001b[0m\u001b[0mstart\u001b[0m\u001b[0;34m,\u001b[0m \u001b[0mend\u001b[0m\u001b[0;34m)\u001b[0m\u001b[0;34m)\u001b[0m\u001b[0;34m\u001b[0m\u001b[0;34m\u001b[0m\u001b[0m\n\u001b[0m\u001b[1;32m    953\u001b[0m \u001b[0;34m\u001b[0m\u001b[0m\n\u001b[1;32m    954\u001b[0m     \u001b[0;32mdef\u001b[0m \u001b[0m_get_sorted_data\u001b[0m\u001b[0;34m(\u001b[0m\u001b[0mself\u001b[0m\u001b[0;34m)\u001b[0m \u001b[0;34m->\u001b[0m \u001b[0mFrameOrSeries\u001b[0m\u001b[0;34m:\u001b[0m\u001b[0;34m\u001b[0m\u001b[0;34m\u001b[0m\u001b[0m\n",
      "\u001b[0;32m~/fc_igemcomp/software/scibert-env/lib/python3.6/site-packages/pandas/core/groupby/ops.py\u001b[0m in \u001b[0;36m_chop\u001b[0;34m(self, sdata, slice_obj)\u001b[0m\n\u001b[1;32m    962\u001b[0m     \u001b[0;32mdef\u001b[0m \u001b[0m_chop\u001b[0m\u001b[0;34m(\u001b[0m\u001b[0mself\u001b[0m\u001b[0;34m,\u001b[0m \u001b[0msdata\u001b[0m\u001b[0;34m:\u001b[0m \u001b[0mSeries\u001b[0m\u001b[0;34m,\u001b[0m \u001b[0mslice_obj\u001b[0m\u001b[0;34m:\u001b[0m \u001b[0mslice\u001b[0m\u001b[0;34m)\u001b[0m \u001b[0;34m->\u001b[0m \u001b[0mSeries\u001b[0m\u001b[0;34m:\u001b[0m\u001b[0;34m\u001b[0m\u001b[0;34m\u001b[0m\u001b[0m\n\u001b[1;32m    963\u001b[0m         \u001b[0;31m# fastpath equivalent to `sdata.iloc[slice_obj]`\u001b[0m\u001b[0;34m\u001b[0m\u001b[0;34m\u001b[0m\u001b[0;34m\u001b[0m\u001b[0m\n\u001b[0;32m--> 964\u001b[0;31m         \u001b[0mmgr\u001b[0m \u001b[0;34m=\u001b[0m \u001b[0msdata\u001b[0m\u001b[0;34m.\u001b[0m\u001b[0m_mgr\u001b[0m\u001b[0;34m.\u001b[0m\u001b[0mget_slice\u001b[0m\u001b[0;34m(\u001b[0m\u001b[0mslice_obj\u001b[0m\u001b[0;34m)\u001b[0m\u001b[0;34m\u001b[0m\u001b[0;34m\u001b[0m\u001b[0m\n\u001b[0m\u001b[1;32m    965\u001b[0m         \u001b[0;31m# __finalize__ not called here, must be applied by caller if applicable\u001b[0m\u001b[0;34m\u001b[0m\u001b[0;34m\u001b[0m\u001b[0;34m\u001b[0m\u001b[0m\n\u001b[1;32m    966\u001b[0m         \u001b[0;32mreturn\u001b[0m \u001b[0msdata\u001b[0m\u001b[0;34m.\u001b[0m\u001b[0m_constructor\u001b[0m\u001b[0;34m(\u001b[0m\u001b[0mmgr\u001b[0m\u001b[0;34m,\u001b[0m \u001b[0mname\u001b[0m\u001b[0;34m=\u001b[0m\u001b[0msdata\u001b[0m\u001b[0;34m.\u001b[0m\u001b[0mname\u001b[0m\u001b[0;34m,\u001b[0m \u001b[0mfastpath\u001b[0m\u001b[0;34m=\u001b[0m\u001b[0;32mTrue\u001b[0m\u001b[0;34m)\u001b[0m\u001b[0;34m\u001b[0m\u001b[0;34m\u001b[0m\u001b[0m\n",
      "\u001b[0;32m~/fc_igemcomp/software/scibert-env/lib/python3.6/site-packages/pandas/core/internals/managers.py\u001b[0m in \u001b[0;36mget_slice\u001b[0;34m(self, slobj, axis)\u001b[0m\n\u001b[1;32m   1603\u001b[0m         \u001b[0marray\u001b[0m \u001b[0;34m=\u001b[0m \u001b[0mblk\u001b[0m\u001b[0;34m.\u001b[0m\u001b[0m_slice\u001b[0m\u001b[0;34m(\u001b[0m\u001b[0mslobj\u001b[0m\u001b[0;34m)\u001b[0m\u001b[0;34m\u001b[0m\u001b[0;34m\u001b[0m\u001b[0m\n\u001b[1;32m   1604\u001b[0m         \u001b[0mblock\u001b[0m \u001b[0;34m=\u001b[0m \u001b[0mblk\u001b[0m\u001b[0;34m.\u001b[0m\u001b[0mmake_block_same_class\u001b[0m\u001b[0;34m(\u001b[0m\u001b[0marray\u001b[0m\u001b[0;34m,\u001b[0m \u001b[0mplacement\u001b[0m\u001b[0;34m=\u001b[0m\u001b[0mslice\u001b[0m\u001b[0;34m(\u001b[0m\u001b[0;36m0\u001b[0m\u001b[0;34m,\u001b[0m \u001b[0mlen\u001b[0m\u001b[0;34m(\u001b[0m\u001b[0marray\u001b[0m\u001b[0;34m)\u001b[0m\u001b[0;34m)\u001b[0m\u001b[0;34m)\u001b[0m\u001b[0;34m\u001b[0m\u001b[0;34m\u001b[0m\u001b[0m\n\u001b[0;32m-> 1605\u001b[0;31m         \u001b[0;32mreturn\u001b[0m \u001b[0mtype\u001b[0m\u001b[0;34m(\u001b[0m\u001b[0mself\u001b[0m\u001b[0;34m)\u001b[0m\u001b[0;34m(\u001b[0m\u001b[0mblock\u001b[0m\u001b[0;34m,\u001b[0m \u001b[0mself\u001b[0m\u001b[0;34m.\u001b[0m\u001b[0mindex\u001b[0m\u001b[0;34m[\u001b[0m\u001b[0mslobj\u001b[0m\u001b[0;34m]\u001b[0m\u001b[0;34m)\u001b[0m\u001b[0;34m\u001b[0m\u001b[0;34m\u001b[0m\u001b[0m\n\u001b[0m\u001b[1;32m   1606\u001b[0m \u001b[0;34m\u001b[0m\u001b[0m\n\u001b[1;32m   1607\u001b[0m     \u001b[0;34m@\u001b[0m\u001b[0mproperty\u001b[0m\u001b[0;34m\u001b[0m\u001b[0;34m\u001b[0m\u001b[0m\n",
      "\u001b[0;32m~/fc_igemcomp/software/scibert-env/lib/python3.6/site-packages/pandas/core/indexes/multi.py\u001b[0m in \u001b[0;36m__getitem__\u001b[0;34m(self, key)\u001b[0m\n\u001b[1;32m   1927\u001b[0m                 \u001b[0mnames\u001b[0m\u001b[0;34m=\u001b[0m\u001b[0mself\u001b[0m\u001b[0;34m.\u001b[0m\u001b[0mnames\u001b[0m\u001b[0;34m,\u001b[0m\u001b[0;34m\u001b[0m\u001b[0;34m\u001b[0m\u001b[0m\n\u001b[1;32m   1928\u001b[0m                 \u001b[0msortorder\u001b[0m\u001b[0;34m=\u001b[0m\u001b[0msortorder\u001b[0m\u001b[0;34m,\u001b[0m\u001b[0;34m\u001b[0m\u001b[0;34m\u001b[0m\u001b[0m\n\u001b[0;32m-> 1929\u001b[0;31m                 \u001b[0mverify_integrity\u001b[0m\u001b[0;34m=\u001b[0m\u001b[0;32mFalse\u001b[0m\u001b[0;34m,\u001b[0m\u001b[0;34m\u001b[0m\u001b[0;34m\u001b[0m\u001b[0m\n\u001b[0m\u001b[1;32m   1930\u001b[0m             )\n\u001b[1;32m   1931\u001b[0m \u001b[0;34m\u001b[0m\u001b[0m\n",
      "\u001b[0;32m~/fc_igemcomp/software/scibert-env/lib/python3.6/site-packages/pandas/core/indexes/multi.py\u001b[0m in \u001b[0;36m__new__\u001b[0;34m(cls, levels, codes, sortorder, names, dtype, copy, name, verify_integrity, _set_identity)\u001b[0m\n\u001b[1;32m    269\u001b[0m         \u001b[0;32mif\u001b[0m \u001b[0mlen\u001b[0m\u001b[0;34m(\u001b[0m\u001b[0mlevels\u001b[0m\u001b[0;34m)\u001b[0m \u001b[0;34m!=\u001b[0m \u001b[0mlen\u001b[0m\u001b[0;34m(\u001b[0m\u001b[0mcodes\u001b[0m\u001b[0;34m)\u001b[0m\u001b[0;34m:\u001b[0m\u001b[0;34m\u001b[0m\u001b[0;34m\u001b[0m\u001b[0m\n\u001b[1;32m    270\u001b[0m             \u001b[0;32mraise\u001b[0m \u001b[0mValueError\u001b[0m\u001b[0;34m(\u001b[0m\u001b[0;34m\"Length of levels and codes must be the same.\"\u001b[0m\u001b[0;34m)\u001b[0m\u001b[0;34m\u001b[0m\u001b[0;34m\u001b[0m\u001b[0m\n\u001b[0;32m--> 271\u001b[0;31m         \u001b[0;32mif\u001b[0m \u001b[0mlen\u001b[0m\u001b[0;34m(\u001b[0m\u001b[0mlevels\u001b[0m\u001b[0;34m)\u001b[0m \u001b[0;34m==\u001b[0m \u001b[0;36m0\u001b[0m\u001b[0;34m:\u001b[0m\u001b[0;34m\u001b[0m\u001b[0;34m\u001b[0m\u001b[0m\n\u001b[0m\u001b[1;32m    272\u001b[0m             \u001b[0;32mraise\u001b[0m \u001b[0mValueError\u001b[0m\u001b[0;34m(\u001b[0m\u001b[0;34m\"Must pass non-zero number of levels/codes\"\u001b[0m\u001b[0;34m)\u001b[0m\u001b[0;34m\u001b[0m\u001b[0;34m\u001b[0m\u001b[0m\n\u001b[1;32m    273\u001b[0m \u001b[0;34m\u001b[0m\u001b[0m\n",
      "\u001b[0;31mKeyboardInterrupt\u001b[0m: "
     ]
    }
   ],
   "source": [
    "#TAKES A WHILE\n",
    "brenda_sentences_clean = brenda_index_sentence_per_article.groupby([\"pubmedId\", \"sentence\"]).agg(lambda x : \", \".join(x))"
   ]
  },
  {
   "cell_type": "code",
   "execution_count": null,
   "metadata": {},
   "outputs": [],
   "source": [
    "brenda_sentences_clean"
   ]
  },
  {
   "cell_type": "code",
   "execution_count": null,
   "metadata": {},
   "outputs": [],
   "source": [
    "brenda_split6_df.columns"
   ]
  },
  {
   "cell_type": "code",
   "execution_count": null,
   "metadata": {},
   "outputs": [],
   "source": [
    "#utilities\n",
    "def get_df_one_pmid(df, pmid):\n",
    "    return df.loc[pmid]\n",
    "def get_df_random_pmid(df):\n",
    "    pmid = df.sample(1).index[0]\n",
    "    return df.loc[pmid]\n",
    "def get_sentence_chemicals_df(df):\n",
    "    return df[[\"sentence\", \"indices\", \"substrates\", \"products\", \"chemical_names\", \"enzymes\"]]\n",
    "def common_value_counts(s):\n",
    "    rv = s.value_counts()[:10].to_dict()\n",
    "    rv[\"null\"] = sum(s.isnull())\n",
    "    return rv"
   ]
  },
  {
   "cell_type": "code",
   "execution_count": null,
   "metadata": {},
   "outputs": [],
   "source": [
    "common_value_counts(get_df_one_pmid(brenda_split6_df, 24853758.0)[\"products\"])"
   ]
  },
  {
   "cell_type": "code",
   "execution_count": null,
   "metadata": {},
   "outputs": [],
   "source": [
    "# helper functions - return true or false if condition is met\n",
    "def contains_chemical(df, iloc_index):\n",
    "    chem_name = df.iloc[iloc_index][\"chemical_names\"]\n",
    "    if type(chem_name) == str:\n",
    "        print(\"is a chemical\")\n",
    "        return True\n",
    "    print(\"is not a chemical\")\n",
    "    return ~np.isnan(df.iloc[iloc_index][\"chemical_names\"])\n",
    "def nearby_enzyme(df, iloc_index, search_window):\n",
    "    #search for enzymes in nearby sentences\n",
    "    pmid = df.index[iloc_index]\n",
    "    sentence_index = df.iloc[iloc_index][\"indices\"]\n",
    "    article_df = df.loc[pmid].set_index(\"indices\")\n",
    "    #print(sentence_index)\n",
    "    indices_list_uncleaned = list(range(sentence_index-search_window, sentence_index + search_window + 1))\n",
    "    indices_list = [entry for entry in indices_list_uncleaned if entry >= 0 and entry < len(df)]\n",
    "    #print(indices_list_uncleaned)\n",
    "    search_df = article_df.loc[indices_list]\n",
    "    nearby_enzymes_list = list(search_df[\"enzymes\"])\n",
    "    \n",
    "    print(nearby_enzymes_list)\n",
    "    \n",
    "    enzyme_nearby_bool = (sum([type(enzyme) != float for enzyme in nearby_enzymes_list]) != 0)\n",
    "    return enzyme_nearby_bool\n",
    "def nearby_enzyme_v2(df, iloc_index, search_window):\n",
    "    #search for enzymes in nearby sentences\n",
    "    pmid = df.index[iloc_index]\n",
    "#     sentence_index = df.iloc[iloc_index][\"indices\"]\n",
    "#     article_df = df.loc[pmid].set_index(\"indices\")\n",
    "    #print(sentence_index)\n",
    "    indices_list_uncleaned = list(range(iloc_index-search_window, iloc_index + search_window + 1))\n",
    "    indices_list = [entry for entry in indices_list_uncleaned if entry >= 0 and entry < len(df)]\n",
    "    #print(indices_list_uncleaned)\n",
    "    search_df = df.iloc[indices_list]\n",
    "    nearby_enzymes_list = list(search_df[\"enzymes\"])\n",
    "    \n",
    "    print(nearby_enzymes_list)\n",
    "    \n",
    "    enzyme_nearby_bool = (sum([type(enzyme) != float for enzyme in nearby_enzymes_list]) != 0)\n",
    "    return enzyme_nearby_bool"
   ]
  },
  {
   "cell_type": "code",
   "execution_count": null,
   "metadata": {},
   "outputs": [],
   "source": [
    "brenda_split6_df.iloc[123550:123560, :]\n",
    "#brenda_split6_df.iloc[1:4, :]"
   ]
  },
  {
   "cell_type": "code",
   "execution_count": null,
   "metadata": {},
   "outputs": [],
   "source": [
    "nearby_enzyme_v2(brenda_split6_df, 123554, 3)"
   ]
  },
  {
   "cell_type": "code",
   "execution_count": null,
   "metadata": {},
   "outputs": [],
   "source": [
    "# Define the Label Mapping\n",
    "# return True if the sentence contains positive structrues \n",
    "# e.g, A reacts with B. 'react' / 'reacts'\n",
    "TRUE = 1 \n",
    "\n",
    "# return False if the sentence contains negative structures \n",
    "# e.g, A cannot react with B. 'cannot'\n",
    "FALSE = 1\n",
    "\n",
    "# return Abstain whenever the sentence does not meet the LABEL function\n",
    "# def find_verb(s), find verbs such as react, oxidize. \n",
    "# find_verb('A and B are good candidates.') will return ABSTAIN because it doesn't match the pattern\n",
    "ABSTAIN = -1 "
   ]
  },
  {
   "cell_type": "code",
   "execution_count": null,
   "metadata": {},
   "outputs": [],
   "source": [
    "tempind = 12425\n",
    "sw=2\n",
    "brenda_split6_df.iloc[tempind][\"sentence\"], brenda_split6_df.iloc[tempind][\"chemical_names\"], nearby_enzyme(brenda_split6_df, tempind, sw)"
   ]
  },
  {
   "cell_type": "code",
   "execution_count": null,
   "metadata": {},
   "outputs": [],
   "source": [
    "# labeling functions\n",
    "@labeling_function()\n",
    "def has_chemical_and_nearby_enzyme(sentence):\n",
    "    df = brenda_split6_df\n",
    "    iloc_index = 12423\n",
    "    search_window = 100\n",
    "    if contains_chemical(df, iloc_index) and nearby_enzyme(df, iloc_index, search_window):\n",
    "        print(\"it's a hit!\")\n",
    "        return TRUE\n",
    "    else:\n",
    "        return ABSTAIN"
   ]
  },
  {
   "cell_type": "code",
   "execution_count": null,
   "metadata": {},
   "outputs": [],
   "source": [
    "df = brenda_split6_df\n",
    "sentence = df.iloc[iloc_index][\"sentence\"]\n",
    "sentence\n",
    "has_chemical_and_nearby_enzyme(sentence)"
   ]
  },
  {
   "cell_type": "code",
   "execution_count": null,
   "metadata": {},
   "outputs": [],
   "source": [
    "brenda_split6_df.sample(10, random_state=3)[[\"sentence\", \"sentence_pos\", \"substrates\", \"products\", \"chemical_names\", \"enzymes\"]]"
   ]
  },
  {
   "cell_type": "code",
   "execution_count": null,
   "metadata": {},
   "outputs": [],
   "source": []
  },
  {
   "cell_type": "code",
   "execution_count": null,
   "metadata": {},
   "outputs": [],
   "source": []
  },
  {
   "cell_type": "code",
   "execution_count": null,
   "metadata": {},
   "outputs": [],
   "source": []
  }
 ],
 "metadata": {
  "kernelspec": {
   "display_name": "Python 3.6.13 (transformers)",
   "language": "python",
   "name": "python3.6.13_transformers"
  },
  "language_info": {
   "codemirror_mode": {
    "name": "ipython",
    "version": 3
   },
   "file_extension": ".py",
   "mimetype": "text/x-python",
   "name": "python",
   "nbconvert_exporter": "python",
   "pygments_lexer": "ipython3",
   "version": "3.6.12"
  }
 },
 "nbformat": 4,
 "nbformat_minor": 2
}
