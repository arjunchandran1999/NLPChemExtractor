{
 "cells": [
  {
   "cell_type": "code",
   "execution_count": 1,
   "metadata": {},
   "outputs": [
    {
     "ename": "ImportError",
     "evalue": "No module named 'regex'",
     "output_type": "error",
     "traceback": [
      "\u001b[0;31m---------------------------------------------------------------------------\u001b[0m",
      "\u001b[0;31mImportError\u001b[0m                               Traceback (most recent call last)",
      "\u001b[0;32m<ipython-input-1-c9161e714bbb>\u001b[0m in \u001b[0;36m<module>\u001b[0;34m()\u001b[0m\n\u001b[1;32m      2\u001b[0m \u001b[0;32mimport\u001b[0m \u001b[0mnumpy\u001b[0m \u001b[0;32mas\u001b[0m \u001b[0mnp\u001b[0m\u001b[0;34m\u001b[0m\u001b[0m\n\u001b[1;32m      3\u001b[0m \u001b[0;32mimport\u001b[0m \u001b[0mos\u001b[0m\u001b[0;34m\u001b[0m\u001b[0m\n\u001b[0;32m----> 4\u001b[0;31m \u001b[0;32mimport\u001b[0m \u001b[0mregex\u001b[0m \u001b[0;32mas\u001b[0m \u001b[0mre\u001b[0m\u001b[0;34m\u001b[0m\u001b[0m\n\u001b[0m\u001b[1;32m      5\u001b[0m \u001b[0;32mimport\u001b[0m \u001b[0mast\u001b[0m\u001b[0;34m\u001b[0m\u001b[0m\n\u001b[1;32m      6\u001b[0m \u001b[0;32mfrom\u001b[0m \u001b[0mcollections\u001b[0m \u001b[0;32mimport\u001b[0m \u001b[0mdefaultdict\u001b[0m\u001b[0;34m\u001b[0m\u001b[0m\n",
      "\u001b[0;31mImportError\u001b[0m: No module named 'regex'"
     ]
    }
   ],
   "source": [
    "import pandas as pd\n",
    "import numpy as np\n",
    "import os\n",
    "import regex as re\n",
    "import ast\n",
    "from collections import defaultdict\n",
    "from snorkel.labeling import labeling_function"
   ]
  },
  {
   "cell_type": "code",
   "execution_count": 5,
   "metadata": {},
   "outputs": [
    {
     "ename": "NameError",
     "evalue": "name 'pd' is not defined",
     "output_type": "error",
     "traceback": [
      "\u001b[0;31m---------------------------------------------------------------------------\u001b[0m",
      "\u001b[0;31mNameError\u001b[0m                                 Traceback (most recent call last)",
      "\u001b[0;32m<ipython-input-5-97ebeb481bda>\u001b[0m in \u001b[0;36m<module>\u001b[0;34m()\u001b[0m\n\u001b[0;32m----> 1\u001b[0;31m \u001b[0mrxns\u001b[0m \u001b[0;34m=\u001b[0m \u001b[0mpd\u001b[0m\u001b[0;34m.\u001b[0m\u001b[0mread_csv\u001b[0m\u001b[0;34m(\u001b[0m\u001b[0;34m\"fc_igemcomp/2020_nlp/training_data/brenda_reactions_with_dios.csv\"\u001b[0m\u001b[0;34m)\u001b[0m\u001b[0;34m\u001b[0m\u001b[0m\n\u001b[0m",
      "\u001b[0;31mNameError\u001b[0m: name 'pd' is not defined"
     ]
    }
   ],
   "source": [
    "rxns = pd.read_csv(\"fc_igemcomp/2020_nlp/training_data/brenda_reactions_with_dios.csv\")"
   ]
  },
  {
   "cell_type": "code",
   "execution_count": 5,
   "metadata": {},
   "outputs": [
    {
     "data": {
      "text/html": [
       "<div>\n",
       "<style scoped>\n",
       "    .dataframe tbody tr th:only-of-type {\n",
       "        vertical-align: middle;\n",
       "    }\n",
       "\n",
       "    .dataframe tbody tr th {\n",
       "        vertical-align: top;\n",
       "    }\n",
       "\n",
       "    .dataframe thead th {\n",
       "        text-align: right;\n",
       "    }\n",
       "</style>\n",
       "<table border=\"1\" class=\"dataframe\">\n",
       "  <thead>\n",
       "    <tr style=\"text-align: right;\">\n",
       "      <th></th>\n",
       "      <th>Unnamed: 0</th>\n",
       "      <th>literatureProducts</th>\n",
       "      <th>literatureSubstrates</th>\n",
       "      <th>organismSubstrates</th>\n",
       "      <th>commentarySubstrates</th>\n",
       "      <th>reversibility</th>\n",
       "      <th>organismProducts</th>\n",
       "      <th>products</th>\n",
       "      <th>commentaryProducts</th>\n",
       "      <th>substrates</th>\n",
       "      <th>ecNumber</th>\n",
       "      <th>pubmedId</th>\n",
       "    </tr>\n",
       "  </thead>\n",
       "  <tbody>\n",
       "    <tr>\n",
       "      <th>0</th>\n",
       "      <td>0</td>\n",
       "      <td>NaN</td>\n",
       "      <td>695811.0</td>\n",
       "      <td>Thermus sp.</td>\n",
       "      <td>1% activity compared to cyclohexanone</td>\n",
       "      <td>?</td>\n",
       "      <td>NaN</td>\n",
       "      <td>? + NAD+</td>\n",
       "      <td>NaN</td>\n",
       "      <td>(-)-carvone + NADH + H+</td>\n",
       "      <td>1.1.1.1</td>\n",
       "      <td>18704396.0</td>\n",
       "    </tr>\n",
       "    <tr>\n",
       "      <th>1</th>\n",
       "      <td>1</td>\n",
       "      <td>NaN</td>\n",
       "      <td>695811.0</td>\n",
       "      <td>Thermus sp.</td>\n",
       "      <td>125% activity compared to cyclohexanol</td>\n",
       "      <td>r</td>\n",
       "      <td>NaN</td>\n",
       "      <td>(rac)-3-methylcyclohexanone + NADH + H+</td>\n",
       "      <td>163% activity compared to cyclohexanone</td>\n",
       "      <td>(1S,3S)-3-methylcyclohexanol + NAD+</td>\n",
       "      <td>1.1.1.1</td>\n",
       "      <td>18704396.0</td>\n",
       "    </tr>\n",
       "    <tr>\n",
       "      <th>2</th>\n",
       "      <td>2</td>\n",
       "      <td>NaN</td>\n",
       "      <td>735498.0</td>\n",
       "      <td>Yokenella sp.</td>\n",
       "      <td>41.5% of the activity with (2E)-but-2-enal, yi...</td>\n",
       "      <td>?</td>\n",
       "      <td>NaN</td>\n",
       "      <td>(2E)-2-methylpent-2-en-1-ol + NADP+</td>\n",
       "      <td>NaN</td>\n",
       "      <td>(2E)-2-methylpent-2-enal + NADPH + H+</td>\n",
       "      <td>1.1.1.1</td>\n",
       "      <td>24509923.0</td>\n",
       "    </tr>\n",
       "    <tr>\n",
       "      <th>3</th>\n",
       "      <td>3</td>\n",
       "      <td>NaN</td>\n",
       "      <td>735498.0</td>\n",
       "      <td>Yokenella sp.</td>\n",
       "      <td>37.4% of the activity with (2E)-but-2-enal, yi...</td>\n",
       "      <td>?</td>\n",
       "      <td>NaN</td>\n",
       "      <td>(2E)-3,7-dimethylocta-2,6-dien-1-ol + NADP+</td>\n",
       "      <td>NaN</td>\n",
       "      <td>(2E)-3,7-dimethylocta-2,6-dienal + NADPH + H+</td>\n",
       "      <td>1.1.1.1</td>\n",
       "      <td>24509923.0</td>\n",
       "    </tr>\n",
       "    <tr>\n",
       "      <th>4</th>\n",
       "      <td>4</td>\n",
       "      <td>NaN</td>\n",
       "      <td>691867.0</td>\n",
       "      <td>Homo sapiens</td>\n",
       "      <td>substrate of isozyme ADH4</td>\n",
       "      <td>r</td>\n",
       "      <td>NaN</td>\n",
       "      <td>(2E)-non-2-ene-1,4-diol + NAD+</td>\n",
       "      <td>NaN</td>\n",
       "      <td>(2E)-4-hydroxynon-2-enal + NADH + H+</td>\n",
       "      <td>1.1.1.1</td>\n",
       "      <td>18505683.0</td>\n",
       "    </tr>\n",
       "  </tbody>\n",
       "</table>\n",
       "</div>"
      ],
      "text/plain": [
       "   Unnamed: 0  literatureProducts  literatureSubstrates organismSubstrates  \\\n",
       "0           0                 NaN              695811.0        Thermus sp.   \n",
       "1           1                 NaN              695811.0        Thermus sp.   \n",
       "2           2                 NaN              735498.0      Yokenella sp.   \n",
       "3           3                 NaN              735498.0      Yokenella sp.   \n",
       "4           4                 NaN              691867.0       Homo sapiens   \n",
       "\n",
       "                                commentarySubstrates reversibility  \\\n",
       "0              1% activity compared to cyclohexanone             ?   \n",
       "1             125% activity compared to cyclohexanol             r   \n",
       "2  41.5% of the activity with (2E)-but-2-enal, yi...             ?   \n",
       "3  37.4% of the activity with (2E)-but-2-enal, yi...             ?   \n",
       "4                          substrate of isozyme ADH4             r   \n",
       "\n",
       "  organismProducts                                     products  \\\n",
       "0              NaN                                     ? + NAD+   \n",
       "1              NaN      (rac)-3-methylcyclohexanone + NADH + H+   \n",
       "2              NaN          (2E)-2-methylpent-2-en-1-ol + NADP+   \n",
       "3              NaN  (2E)-3,7-dimethylocta-2,6-dien-1-ol + NADP+   \n",
       "4              NaN               (2E)-non-2-ene-1,4-diol + NAD+   \n",
       "\n",
       "                        commentaryProducts  \\\n",
       "0                                      NaN   \n",
       "1  163% activity compared to cyclohexanone   \n",
       "2                                      NaN   \n",
       "3                                      NaN   \n",
       "4                                      NaN   \n",
       "\n",
       "                                      substrates ecNumber    pubmedId  \n",
       "0                        (-)-carvone + NADH + H+  1.1.1.1  18704396.0  \n",
       "1            (1S,3S)-3-methylcyclohexanol + NAD+  1.1.1.1  18704396.0  \n",
       "2          (2E)-2-methylpent-2-enal + NADPH + H+  1.1.1.1  24509923.0  \n",
       "3  (2E)-3,7-dimethylocta-2,6-dienal + NADPH + H+  1.1.1.1  24509923.0  \n",
       "4           (2E)-4-hydroxynon-2-enal + NADH + H+  1.1.1.1  18505683.0  "
      ]
     },
     "execution_count": 5,
     "metadata": {},
     "output_type": "execute_result"
    }
   ],
   "source": [
    "rxns.head()"
   ]
  },
  {
   "cell_type": "markdown",
   "metadata": {},
   "source": [
    "The first labeling functions that should provide perfect results are ones that check if a substrate/product combination is already recorded in BRENDA. \n",
    "\n",
    "Using the brenda_reactions CSV currently."
   ]
  },
  {
   "cell_type": "code",
   "execution_count": null,
   "metadata": {},
   "outputs": [],
   "source": [
    "@labeling_function()\n",
    "def sub_prod_in_brenda(sentence, substrate, product):\n",
    "    \n",
    "    rxns['substrates'].str.contains(substrate)\n",
    "    \n",
    "    if substrate in \n",
    "    "
   ]
  },
  {
   "cell_type": "code",
   "execution_count": null,
   "metadata": {},
   "outputs": [],
   "source": [
    "oxidationWords = [\"oxidize\", \"oxidise\", \"oxidizes\", \"oxidises\", \"oxidizing\", \"oxidising\", \n",
    "                  \"oxidized\", \"oxidised\", \"oxidation\", \"oxidatively\", \"oxidant\", \"oxidizer\", \n",
    "                  \"oxidiser\", \"oxidative\"]"
   ]
  },
  {
   "cell_type": "markdown",
   "metadata": {},
   "source": [
    "This is an early prototype for an oxidation LF. It will return TRUE if any form of the word \"oxidize\" appears in the sentence. This LF assumes that the sentence has a potential substrate-product pair in it."
   ]
  },
  {
   "cell_type": "code",
   "execution_count": null,
   "metadata": {},
   "outputs": [],
   "source": [
    "@labeling_function()\n",
    "def oxidation_with_sub_prod(sentence):\n",
    "    for word in oxidationWords:\n",
    "        if word in sentence.lower:\n",
    "            return TRUE\n",
    "    return ABSTAIN"
   ]
  },
  {
   "cell_type": "code",
   "execution_count": null,
   "metadata": {},
   "outputs": [],
   "source": []
  },
  {
   "cell_type": "code",
   "execution_count": null,
   "metadata": {},
   "outputs": [],
   "source": []
  },
  {
   "cell_type": "code",
   "execution_count": null,
   "metadata": {},
   "outputs": [],
   "source": []
  },
  {
   "cell_type": "code",
   "execution_count": null,
   "metadata": {},
   "outputs": [],
   "source": [
    "@labeling_function()\n",
    "def reaction_verb(sentence, substrate, product):\n",
    "    "
   ]
  }
 ],
 "metadata": {
  "kernelspec": {
   "display_name": "Python 3",
   "language": "python",
   "name": "python3"
  }
 },
 "nbformat": 4,
 "nbformat_minor": 4
}
