{
 "cells": [
  {
   "cell_type": "code",
   "execution_count": 2,
   "metadata": {},
   "outputs": [],
   "source": [
    "import pandas as pd\n",
    "import numpy as np\n",
    "import os\n",
    "import regex as re\n",
    "import ast\n",
    "from collections import defaultdict\n",
    "from snorkel.labeling import labeling_function"
   ]
  },
  {
   "cell_type": "code",
   "execution_count": 7,
   "metadata": {},
   "outputs": [
    {
     "ename": "ValueError",
     "evalue": "Value must have type '<class 'int'>'",
     "output_type": "error",
     "traceback": [
      "\u001b[0;31m---------------------------------------------------------------------------\u001b[0m",
      "\u001b[0;31mValueError\u001b[0m                                Traceback (most recent call last)",
      "\u001b[0;32m<ipython-input-7-8e767f754cee>\u001b[0m in \u001b[0;36m<module>\u001b[0;34m()\u001b[0m\n\u001b[0;32m----> 1\u001b[0;31m \u001b[0mpd\u001b[0m\u001b[0;34m.\u001b[0m\u001b[0mset_option\u001b[0m\u001b[0;34m(\u001b[0m\u001b[0;34m'display.max_colwidth'\u001b[0m\u001b[0;34m,\u001b[0m \u001b[0;32mNone\u001b[0m\u001b[0;34m)\u001b[0m\u001b[0;34m\u001b[0m\u001b[0m\n\u001b[0m\u001b[1;32m      2\u001b[0m \u001b[0mpd\u001b[0m\u001b[0;34m.\u001b[0m\u001b[0mreset_option\u001b[0m\u001b[0;34m(\u001b[0m\u001b[0;34m'display.max_colwidth'\u001b[0m\u001b[0;34m)\u001b[0m\u001b[0;34m\u001b[0m\u001b[0m\n\u001b[1;32m      3\u001b[0m \u001b[0;34m\u001b[0m\u001b[0m\n\u001b[1;32m      4\u001b[0m \u001b[0mbrenda_dois_df\u001b[0m \u001b[0;34m=\u001b[0m \u001b[0mpd\u001b[0m\u001b[0;34m.\u001b[0m\u001b[0mread_csv\u001b[0m\u001b[0;34m(\u001b[0m\u001b[0;34m\"../training_data/brenda_reactions_with_dois.csv\"\u001b[0m\u001b[0;34m)\u001b[0m\u001b[0;34m.\u001b[0m\u001b[0mset_index\u001b[0m\u001b[0;34m(\u001b[0m\u001b[0;34m\"pubmedId\"\u001b[0m\u001b[0;34m)\u001b[0m\u001b[0;34m\u001b[0m\u001b[0m\n\u001b[1;32m      5\u001b[0m \u001b[0mbrenda_split6_df\u001b[0m \u001b[0;34m=\u001b[0m \u001b[0mpd\u001b[0m\u001b[0;34m.\u001b[0m\u001b[0mread_csv\u001b[0m\u001b[0;34m(\u001b[0m\u001b[0;34m\"../training_data_csvs/output/full_merge_sentence_annots_2_14/sentence_annotations_elsevier_pmid_split6_brenda_data.csv\"\u001b[0m\u001b[0;34m)\u001b[0m\u001b[0;34m.\u001b[0m\u001b[0mset_index\u001b[0m\u001b[0;34m(\u001b[0m\u001b[0;34m\"pubmedId\"\u001b[0m\u001b[0;34m)\u001b[0m\u001b[0;34m\u001b[0m\u001b[0m\n",
      "\u001b[0;32m/global/software/sl-7.x86_64/modules/langs/python/3.5/lib/python3.5/site-packages/pandas/core/config.py\u001b[0m in \u001b[0;36m__call__\u001b[0;34m(self, *args, **kwds)\u001b[0m\n\u001b[1;32m    222\u001b[0m \u001b[0;34m\u001b[0m\u001b[0m\n\u001b[1;32m    223\u001b[0m     \u001b[0;32mdef\u001b[0m \u001b[0m__call__\u001b[0m\u001b[0;34m(\u001b[0m\u001b[0mself\u001b[0m\u001b[0;34m,\u001b[0m \u001b[0;34m*\u001b[0m\u001b[0margs\u001b[0m\u001b[0;34m,\u001b[0m \u001b[0;34m**\u001b[0m\u001b[0mkwds\u001b[0m\u001b[0;34m)\u001b[0m\u001b[0;34m:\u001b[0m\u001b[0;34m\u001b[0m\u001b[0m\n\u001b[0;32m--> 224\u001b[0;31m         \u001b[0;32mreturn\u001b[0m \u001b[0mself\u001b[0m\u001b[0;34m.\u001b[0m\u001b[0m__func__\u001b[0m\u001b[0;34m(\u001b[0m\u001b[0;34m*\u001b[0m\u001b[0margs\u001b[0m\u001b[0;34m,\u001b[0m \u001b[0;34m**\u001b[0m\u001b[0mkwds\u001b[0m\u001b[0;34m)\u001b[0m\u001b[0;34m\u001b[0m\u001b[0m\n\u001b[0m\u001b[1;32m    225\u001b[0m \u001b[0;34m\u001b[0m\u001b[0m\n\u001b[1;32m    226\u001b[0m     \u001b[0;34m@\u001b[0m\u001b[0mproperty\u001b[0m\u001b[0;34m\u001b[0m\u001b[0m\n",
      "\u001b[0;32m/global/software/sl-7.x86_64/modules/langs/python/3.5/lib/python3.5/site-packages/pandas/core/config.py\u001b[0m in \u001b[0;36m_set_option\u001b[0;34m(*args, **kwargs)\u001b[0m\n\u001b[1;32m    121\u001b[0m         \u001b[0mo\u001b[0m \u001b[0;34m=\u001b[0m \u001b[0m_get_registered_option\u001b[0m\u001b[0;34m(\u001b[0m\u001b[0mkey\u001b[0m\u001b[0;34m)\u001b[0m\u001b[0;34m\u001b[0m\u001b[0m\n\u001b[1;32m    122\u001b[0m         \u001b[0;32mif\u001b[0m \u001b[0mo\u001b[0m \u001b[0;32mand\u001b[0m \u001b[0mo\u001b[0m\u001b[0;34m.\u001b[0m\u001b[0mvalidator\u001b[0m\u001b[0;34m:\u001b[0m\u001b[0;34m\u001b[0m\u001b[0m\n\u001b[0;32m--> 123\u001b[0;31m             \u001b[0mo\u001b[0m\u001b[0;34m.\u001b[0m\u001b[0mvalidator\u001b[0m\u001b[0;34m(\u001b[0m\u001b[0mv\u001b[0m\u001b[0;34m)\u001b[0m\u001b[0;34m\u001b[0m\u001b[0m\n\u001b[0m\u001b[1;32m    124\u001b[0m \u001b[0;34m\u001b[0m\u001b[0m\n\u001b[1;32m    125\u001b[0m         \u001b[0;31m# walk the nested dict\u001b[0m\u001b[0;34m\u001b[0m\u001b[0;34m\u001b[0m\u001b[0m\n",
      "\u001b[0;32m/global/software/sl-7.x86_64/modules/langs/python/3.5/lib/python3.5/site-packages/pandas/core/config.py\u001b[0m in \u001b[0;36minner\u001b[0;34m(x)\u001b[0m\n\u001b[1;32m    759\u001b[0m         \u001b[0;32mif\u001b[0m \u001b[0mtype\u001b[0m\u001b[0;34m(\u001b[0m\u001b[0mx\u001b[0m\u001b[0;34m)\u001b[0m \u001b[0;34m!=\u001b[0m \u001b[0m_type\u001b[0m\u001b[0;34m:\u001b[0m\u001b[0;34m\u001b[0m\u001b[0m\n\u001b[1;32m    760\u001b[0m             \u001b[0mmsg\u001b[0m \u001b[0;34m=\u001b[0m \u001b[0;34m\"Value must have type '{typ!s}'\"\u001b[0m\u001b[0;34m\u001b[0m\u001b[0m\n\u001b[0;32m--> 761\u001b[0;31m             \u001b[0;32mraise\u001b[0m \u001b[0mValueError\u001b[0m\u001b[0;34m(\u001b[0m\u001b[0mmsg\u001b[0m\u001b[0;34m.\u001b[0m\u001b[0mformat\u001b[0m\u001b[0;34m(\u001b[0m\u001b[0mtyp\u001b[0m\u001b[0;34m=\u001b[0m\u001b[0m_type\u001b[0m\u001b[0;34m)\u001b[0m\u001b[0;34m)\u001b[0m\u001b[0;34m\u001b[0m\u001b[0m\n\u001b[0m\u001b[1;32m    762\u001b[0m \u001b[0;34m\u001b[0m\u001b[0m\n\u001b[1;32m    763\u001b[0m     \u001b[0;32mreturn\u001b[0m \u001b[0minner\u001b[0m\u001b[0;34m\u001b[0m\u001b[0m\n",
      "\u001b[0;31mValueError\u001b[0m: Value must have type '<class 'int'>'"
     ]
    }
   ],
   "source": [
    "pd.set_option('display.max_colwidth', None)\n",
    "pd.reset_option('display.max_colwidth')\n",
    "\n",
    "brenda_dois_df = pd.read_csv(\"../training_data/brenda_reactions_with_dois.csv\").set_index(\"pubmedId\")\n",
    "brenda_split6_df = pd.read_csv(\"../training_data_csvs/output/full_merge_sentence_annots_2_14/sentence_annotations_elsevier_pmid_split6_brenda_data.csv\").set_index(\"pubmedId\")\n"
   ]
  },
  {
   "cell_type": "markdown",
   "metadata": {},
   "source": [
    "TODO: We need a data cleaning function\n",
    "\n",
    "TODO: Will we consider sliding window?\n",
    "\n",
    "TODO: Filter out sentences at the beginnings of papers with huge amounts of random words in them, as well as tables that got converted to sentences?\n",
    "\n",
    "TODO: JTsui's specific sentence patterns (Jierui is probably most familiar with coding the RegEx for this). The patterns are in the doc, and I'll try and specify them more.\n",
    "\n",
    "TODO: First, we'll use ChemProt sentences to validate the model. Then, we should come up with a script to get as many positive sentences out of the BRENDA data as possible. I should be able to help Jacob with this after I learn the basic pandas for it.\n"
   ]
  },
  {
   "cell_type": "code",
   "execution_count": 5,
   "metadata": {},
   "outputs": [
    {
     "data": {
      "text/html": [
       "<div>\n",
       "<style scoped>\n",
       "    .dataframe tbody tr th:only-of-type {\n",
       "        vertical-align: middle;\n",
       "    }\n",
       "\n",
       "    .dataframe tbody tr th {\n",
       "        vertical-align: top;\n",
       "    }\n",
       "\n",
       "    .dataframe thead th {\n",
       "        text-align: right;\n",
       "    }\n",
       "</style>\n",
       "<table border=\"1\" class=\"dataframe\">\n",
       "  <thead>\n",
       "    <tr style=\"text-align: right;\">\n",
       "      <th></th>\n",
       "      <th>Unnamed: 0</th>\n",
       "      <th>literatureProducts</th>\n",
       "      <th>literatureSubstrates</th>\n",
       "      <th>organismSubstrates</th>\n",
       "      <th>commentarySubstrates</th>\n",
       "      <th>reversibility</th>\n",
       "      <th>organismProducts</th>\n",
       "      <th>products</th>\n",
       "      <th>commentaryProducts</th>\n",
       "      <th>substrates</th>\n",
       "      <th>ecNumber</th>\n",
       "      <th>pubmedId</th>\n",
       "    </tr>\n",
       "  </thead>\n",
       "  <tbody>\n",
       "    <tr>\n",
       "      <th>0</th>\n",
       "      <td>0</td>\n",
       "      <td>NaN</td>\n",
       "      <td>695811.0</td>\n",
       "      <td>Thermus sp.</td>\n",
       "      <td>1% activity compared to cyclohexanone</td>\n",
       "      <td>?</td>\n",
       "      <td>NaN</td>\n",
       "      <td>? + NAD+</td>\n",
       "      <td>NaN</td>\n",
       "      <td>(-)-carvone + NADH + H+</td>\n",
       "      <td>1.1.1.1</td>\n",
       "      <td>18704396.0</td>\n",
       "    </tr>\n",
       "    <tr>\n",
       "      <th>1</th>\n",
       "      <td>1</td>\n",
       "      <td>NaN</td>\n",
       "      <td>695811.0</td>\n",
       "      <td>Thermus sp.</td>\n",
       "      <td>125% activity compared to cyclohexanol</td>\n",
       "      <td>r</td>\n",
       "      <td>NaN</td>\n",
       "      <td>(rac)-3-methylcyclohexanone + NADH + H+</td>\n",
       "      <td>163% activity compared to cyclohexanone</td>\n",
       "      <td>(1S,3S)-3-methylcyclohexanol + NAD+</td>\n",
       "      <td>1.1.1.1</td>\n",
       "      <td>18704396.0</td>\n",
       "    </tr>\n",
       "    <tr>\n",
       "      <th>2</th>\n",
       "      <td>2</td>\n",
       "      <td>NaN</td>\n",
       "      <td>735498.0</td>\n",
       "      <td>Yokenella sp.</td>\n",
       "      <td>41.5% of the activity with (2E)-but-2-enal, yi...</td>\n",
       "      <td>?</td>\n",
       "      <td>NaN</td>\n",
       "      <td>(2E)-2-methylpent-2-en-1-ol + NADP+</td>\n",
       "      <td>NaN</td>\n",
       "      <td>(2E)-2-methylpent-2-enal + NADPH + H+</td>\n",
       "      <td>1.1.1.1</td>\n",
       "      <td>24509923.0</td>\n",
       "    </tr>\n",
       "    <tr>\n",
       "      <th>3</th>\n",
       "      <td>3</td>\n",
       "      <td>NaN</td>\n",
       "      <td>735498.0</td>\n",
       "      <td>Yokenella sp.</td>\n",
       "      <td>37.4% of the activity with (2E)-but-2-enal, yi...</td>\n",
       "      <td>?</td>\n",
       "      <td>NaN</td>\n",
       "      <td>(2E)-3,7-dimethylocta-2,6-dien-1-ol + NADP+</td>\n",
       "      <td>NaN</td>\n",
       "      <td>(2E)-3,7-dimethylocta-2,6-dienal + NADPH + H+</td>\n",
       "      <td>1.1.1.1</td>\n",
       "      <td>24509923.0</td>\n",
       "    </tr>\n",
       "    <tr>\n",
       "      <th>4</th>\n",
       "      <td>4</td>\n",
       "      <td>NaN</td>\n",
       "      <td>691867.0</td>\n",
       "      <td>Homo sapiens</td>\n",
       "      <td>substrate of isozyme ADH4</td>\n",
       "      <td>r</td>\n",
       "      <td>NaN</td>\n",
       "      <td>(2E)-non-2-ene-1,4-diol + NAD+</td>\n",
       "      <td>NaN</td>\n",
       "      <td>(2E)-4-hydroxynon-2-enal + NADH + H+</td>\n",
       "      <td>1.1.1.1</td>\n",
       "      <td>18505683.0</td>\n",
       "    </tr>\n",
       "  </tbody>\n",
       "</table>\n",
       "</div>"
      ],
      "text/plain": [
       "   Unnamed: 0  literatureProducts  literatureSubstrates organismSubstrates  \\\n",
       "0           0                 NaN              695811.0        Thermus sp.   \n",
       "1           1                 NaN              695811.0        Thermus sp.   \n",
       "2           2                 NaN              735498.0      Yokenella sp.   \n",
       "3           3                 NaN              735498.0      Yokenella sp.   \n",
       "4           4                 NaN              691867.0       Homo sapiens   \n",
       "\n",
       "                                commentarySubstrates reversibility  \\\n",
       "0              1% activity compared to cyclohexanone             ?   \n",
       "1             125% activity compared to cyclohexanol             r   \n",
       "2  41.5% of the activity with (2E)-but-2-enal, yi...             ?   \n",
       "3  37.4% of the activity with (2E)-but-2-enal, yi...             ?   \n",
       "4                          substrate of isozyme ADH4             r   \n",
       "\n",
       "  organismProducts                                     products  \\\n",
       "0              NaN                                     ? + NAD+   \n",
       "1              NaN      (rac)-3-methylcyclohexanone + NADH + H+   \n",
       "2              NaN          (2E)-2-methylpent-2-en-1-ol + NADP+   \n",
       "3              NaN  (2E)-3,7-dimethylocta-2,6-dien-1-ol + NADP+   \n",
       "4              NaN               (2E)-non-2-ene-1,4-diol + NAD+   \n",
       "\n",
       "                        commentaryProducts  \\\n",
       "0                                      NaN   \n",
       "1  163% activity compared to cyclohexanone   \n",
       "2                                      NaN   \n",
       "3                                      NaN   \n",
       "4                                      NaN   \n",
       "\n",
       "                                      substrates ecNumber    pubmedId  \n",
       "0                        (-)-carvone + NADH + H+  1.1.1.1  18704396.0  \n",
       "1            (1S,3S)-3-methylcyclohexanol + NAD+  1.1.1.1  18704396.0  \n",
       "2          (2E)-2-methylpent-2-enal + NADPH + H+  1.1.1.1  24509923.0  \n",
       "3  (2E)-3,7-dimethylocta-2,6-dienal + NADPH + H+  1.1.1.1  24509923.0  \n",
       "4           (2E)-4-hydroxynon-2-enal + NADH + H+  1.1.1.1  18505683.0  "
      ]
     },
     "execution_count": 5,
     "metadata": {},
     "output_type": "execute_result"
    }
   ],
   "source": [
    "rxns.head()"
   ]
  },
  {
   "cell_type": "code",
   "execution_count": null,
   "metadata": {},
   "outputs": [],
   "source": []
  },
  {
   "cell_type": "markdown",
   "metadata": {},
   "source": [
    "The first labeling function checks if a substrate/product combination found in a given sentence is already recorded in BRENDA. \n",
    "\n",
    "This function takes the sentence, substrate (in SMILES form?) and product (in SMILES form?) and returns whether one row of brenda_rxns_with_dois.csv contains that specific substrate and product."
   ]
  },
  {
   "cell_type": "code",
   "execution_count": null,
   "metadata": {},
   "outputs": [],
   "source": [
    "transitionWords = [\"from\", \"to\", \"into\", \"by\", \"are\"]"
   ]
  },
  {
   "cell_type": "code",
   "execution_count": null,
   "metadata": {},
   "outputs": [],
   "source": [
    "oxidationWords = [\"oxidize\", \"oxidise\", \"oxidizes\", \"oxidises\", \"oxidizing\", \"oxidising\", \n",
    "                  \"oxidized\", \"oxidised\", \"oxidation\", \"oxidatively\", \"oxidant\", \"oxidizer\", \n",
    "                  \"oxidiser\", \"oxidative\"]\n",
    "\n",
    "oxidationEnzymeWords = [\"oxidizing\", \"oxidising\", \"oxidatively\", \"oxidative\"]"
   ]
  },
  {
   "cell_type": "code",
   "execution_count": null,
   "metadata": {},
   "outputs": [],
   "source": [
    "reductionWords = [\"reduce\", \"reduces\", \"reducing\", \"reduced\", \"reduction\", \"reducer\", \"reductant\", \n",
    "                  \"reductively\", \"reductive\"]\n",
    "\n",
    "reductionEnzymeWords = [\"reducing\", \"reductively\", \"reductive\"]"
   ]
  },
  {
   "cell_type": "code",
   "execution_count": null,
   "metadata": {},
   "outputs": [],
   "source": [
    "phosphorylationWords = []"
   ]
  },
  {
   "cell_type": "markdown",
   "metadata": {},
   "source": [
    "The LFs below that are checking for reaction words are meant to work with any general sentences, not just the BRENDA data. "
   ]
  },
  {
   "cell_type": "code",
   "execution_count": null,
   "metadata": {},
   "outputs": [],
   "source": [
    "@labeling_function()\n",
    "def oxidation_with_sub_prod(sentence):\n",
    "    for word in oxidationWords:\n",
    "        if word in sentence.lower:\n",
    "            return TRUE\n",
    "    return ABSTAIN\n",
    "\n",
    "def find_index(word):\n",
    "    //please help LOL\n",
    "\n",
    "def transitionWordInbetween(sentence, substrate, product):\n",
    "    minIndex = min(find_index(substrate, find_index(product)))\n",
    "    maxIndex = max(find_index(substrate, find_index(product)))\n",
    "    for index = minIndex + 1; index < maxIndex; index++:\n",
    "        for word in transitionWords:\n",
    "            if sentence[index].equals(word):\n",
    "                return True\n",
    "    return False\n",
    "    \n",
    "@labeling_function()\n",
    "def oxidation_sub_prod_transition(sentence, substrate, product):\n",
    "    if transitionWordInbetween(sentence, substrate, product):\n",
    "        for oWord in oxidationWords:\n",
    "            if oWord in sentence.lower:\n",
    "                return TRUE\n",
    "    return ABSTAIN\n",
    "\n",
    "@labeling_function()\n",
    "def oxidation_enzyme_sub():\n",
    "\n",
    "def oxidation_enzyme_prod():\n",
    "    \n",
    "    "
   ]
  },
  {
   "cell_type": "markdown",
   "metadata": {},
   "source": [
    "NOTES: I made a specific LF with specificity for oxidation with substrate and product.\n",
    "\n",
    "Other cases include \"oxidation of substrate\" with no product mentioned and same case with enzyme. Do we even want to make those cases???\n",
    "\n",
    "The LF assumes that the sentence has a potential substrate-product pair in it (i.e. we've confirmed that there are two chemicals in the sentence).\n",
    "\n",
    "TODO: Find oxidizing agent cases in the spreadsheet and check if they're mainly positive cases.\n",
    "\n",
    "^ So far, all \"oxidizing\" cases with multiple chemicals have been positives. They're usually structured as \"oxidizing activity of [enzyme] with [substrate1] and [substrate2]\". \n",
    "\n",
    "NEW TODO: Handle enzyme case, somehow noting that the sentence has substrates (perhaps using transition words). Maybe make two specific LFs, one where there's substrate and product and there's a transition word inbetween? And the enxyme one, which usually only has substrates?"
   ]
  },
  {
   "cell_type": "code",
   "execution_count": null,
   "metadata": {},
   "outputs": [],
   "source": [
    "@labeling_function()\n",
    "def reduction_with_sub_prod(sentence):\n",
    "    for word in reductionWords:\n",
    "        if word in sentence.lower:\n",
    "            return TRUE\n",
    "    return ABSTAIN"
   ]
  },
  {
   "cell_type": "code",
   "execution_count": null,
   "metadata": {},
   "outputs": [],
   "source": [
    "@labeling_function()\n",
    "def "
   ]
  },
  {
   "cell_type": "code",
   "execution_count": null,
   "metadata": {},
   "outputs": [],
   "source": []
  },
  {
   "cell_type": "code",
   "execution_count": null,
   "metadata": {},
   "outputs": [],
   "source": [
    "@labeling_function()\n",
    "def reaction_verb(sentence, substrate, product):\n",
    "    "
   ]
  },
  {
   "cell_type": "markdown",
   "metadata": {},
   "source": [
    "# JERRRY's LF FUNCTIONS"
   ]
  },
  {
   "cell_type": "code",
   "execution_count": 20,
   "metadata": {},
   "outputs": [],
   "source": [
    "file_path = '../training_data_csvs/output/full_merge_sentence_annots_2_14/sentence_annotations_elsevier_nonpmid_brenda_data.csv'\n"
   ]
  },
  {
   "cell_type": "code",
   "execution_count": 25,
   "metadata": {},
   "outputs": [
    {
     "name": "stderr",
     "output_type": "stream",
     "text": [
      "/global/home/users/jieruixu/fc_igemcomp/software/scibert-env/lib/python3.6/site-packages/IPython/core/interactiveshell.py:3072: DtypeWarning: Columns (6,7,8,10,21) have mixed types.Specify dtype option on import or set low_memory=False.\n",
      "  interactivity=interactivity, compiler=compiler, result=result)\n"
     ]
    }
   ],
   "source": [
    "annotated = pd.read_csv(file_path)"
   ]
  },
  {
   "cell_type": "code",
   "execution_count": null,
   "metadata": {},
   "outputs": [],
   "source": [
    "# Part of Speech \n",
    "\t7.\tJJ\tAdjective\n",
    "\t8.\tJJR\tAdjective, comparative\n",
    "\t9.\tJJS\tAdjective, superlative\n",
    "\t10.\tLS\tList item marker\n",
    "\t12.\tNN\tNoun, singular or mass\n",
    "\t13.\tNNS\tNoun, plural\n",
    "\t14.\tNNP\tProper noun, singular\n",
    "\t15.\tNNPS\tProper noun, plural\n",
    "\t20.\tRB\tAdverb\n",
    "\t21.\tRBR\tAdverb, comparative\n",
    "\t22.\tRBS\tAdverb, superlative\n",
    "\t25.\tTO\tto\n",
    "\t27.\tVB\tVerb, base form\n",
    "\t28.\tVBD\tVerb, past tense\n",
    "\t29.\tVBG\tVerb, gerund or present participle\n",
    "\t30.\tVBN\tVerb, past participle\n",
    "\t31.\tVBP\tVerb, non-3rd person singular present\n",
    "\t32.\tVBZ\tVerb, 3rd person singular present"
   ]
  },
  {
   "cell_type": "code",
   "execution_count": 37,
   "metadata": {},
   "outputs": [
    {
     "data": {
      "text/plain": [
       "\"[{'text': 'N-benzyl-3-pyrrolidinone', 'start': 1451, 'end': 1475, 'smiles': 'O=C1CCN(C1)Cc2ccccc2', 'pos': 'NN'}, {'text': '(R)-N-benzyl-3-pyrrolidinol', 'start': 1493, 'end': 1520, 'smiles': 'O[C@@H]1CCN(C1)Cc2ccccc2', 'pos': 'NN'}, {'text': 'N', 'start': 1656, 'end': 1657, 'smiles': 'N', 'pos': 'NN'}, {'text': 'N-benzyl%203-pyrrolidinone', 'start': 1857, 'end': 1881, 'smiles': 'O=C1CCN(C1)Cc2ccccc2'}, {'text': 'N-benzyl-3-pyrrolidinone', 'start': 1932, 'end': 1956, 'smiles': 'O=C1CCN(C1)Cc2ccccc2', 'pos': 'NN'}, {'text': 'N', 'start': 2001, 'end': 2002, 'smiles': 'N', 'pos': 'NN'}, {'text': 'LI', 'start': 2294, 'end': 2311, 'smiles': '[Li]'}, {'text': 'png', 'start': 3522, 'end': 3594, 'smiles': 'OC[C@H]1O[C@H](Oc2ccc(cc2)[N+]([O-])=O)[C@H](O)[C@@H](O)[C@@H]1O'}, {'text': 'N-benzyl-3-pyrrolidinone', 'start': 9905, 'end': 9929, 'smiles': 'O=C1CCN(C1)Cc2ccccc2', 'pos': 'NN'}]\""
      ]
     },
     "execution_count": 37,
     "metadata": {},
     "output_type": "execute_result"
    }
   ],
   "source": [
    "pd.set_option('display.max_colwidth', None)\n",
    "annotated['chemical_entities_full'][95]"
   ]
  },
  {
   "cell_type": "code",
   "execution_count": 39,
   "metadata": {},
   "outputs": [
    {
     "data": {
      "text/html": [
       "<div>\n",
       "<style scoped>\n",
       "    .dataframe tbody tr th:only-of-type {\n",
       "        vertical-align: middle;\n",
       "    }\n",
       "\n",
       "    .dataframe tbody tr th {\n",
       "        vertical-align: top;\n",
       "    }\n",
       "\n",
       "    .dataframe thead th {\n",
       "        text-align: right;\n",
       "    }\n",
       "</style>\n",
       "<table border=\"1\" class=\"dataframe\">\n",
       "  <thead>\n",
       "    <tr style=\"text-align: right;\">\n",
       "      <th></th>\n",
       "      <th>Unnamed: 0</th>\n",
       "      <th>Unnamed: 0.1</th>\n",
       "      <th>Unnamed: 0.1.1</th>\n",
       "      <th>literatureProducts</th>\n",
       "      <th>literatureSubstrates</th>\n",
       "      <th>organismSubstrates</th>\n",
       "      <th>commentarySubstrates</th>\n",
       "      <th>reversibility</th>\n",
       "      <th>organismProducts</th>\n",
       "      <th>products</th>\n",
       "      <th>...</th>\n",
       "      <th>start</th>\n",
       "      <th>end</th>\n",
       "      <th>sentence</th>\n",
       "      <th>sentence_pos</th>\n",
       "      <th>enzymes</th>\n",
       "      <th>enzyme_locations</th>\n",
       "      <th>chemical_entities_full</th>\n",
       "      <th>chemical_names</th>\n",
       "      <th>chemical_smiles</th>\n",
       "      <th>name_smile_tuples</th>\n",
       "    </tr>\n",
       "  </thead>\n",
       "  <tbody>\n",
       "    <tr>\n",
       "      <th>0</th>\n",
       "      <td>0</td>\n",
       "      <td>19</td>\n",
       "      <td>19</td>\n",
       "      <td>NaN</td>\n",
       "      <td>688442.0</td>\n",
       "      <td>Devosia riboflavina</td>\n",
       "      <td>55% of activity with N-benzyl-3-pyrrolidinol</td>\n",
       "      <td>?</td>\n",
       "      <td>NaN</td>\n",
       "      <td>2-butanone + NADH + H+</td>\n",
       "      <td>...</td>\n",
       "      <td>0</td>\n",
       "      <td>1165</td>\n",
       "      <td>serial JL 271400 291210 291744 291809 291847 31 Journal of Molecular Catalysis B: Enzymatic JOURNALMOLECULARCATALYSISBENZYMATIC 2007-11-09 2007-11-09 2010-03-28T02:22:29 1-s2.0-S1381117707002391 S1381-1177(07)00239-1 S1381117707002391 10.1016/j.molcatb.2007.10.017 S300 S300.1 FULL-TEXT 1-s2.0-S1381117707X01139 2015-05-15T05:57:48.810463-04:00 0 0 20080401 2008 2007-11-09T00:00:00Z articleinfo crossmark dco dateupdated tomb dateloaded datesearch indexeddate issuelist volumelist yearnav articletitlenorm authfirstinitialnorm authfirstsurnamenorm cid cids contenttype copyright dateloadedtxt docsubtype doctype doi eid ewtransactionid hubeid issfirst issn issnnorm itemstage itemtransactionid itemweight openaccess openarchive pg pgfirst pglast pii piinorm pubdatestart pubdatetxt pubyr sortorder srctitle srctitlenorm srctype subheadings volfirst volissue webpdf webpdfpagecount figure table body mmlmath affil articletitle auth authfirstini authfull authkeywords authlast primabst ref alllist content subj ssids 1381-1177 13811177 51 51 3 4 3 4 Volume 51, Issues 3–4 3 73 80 73 80 20080401 1 April 2008 2008-04-01 2008 article fla Copyright © 2007 Elsevier B.V.</td>\n",
       "      <td>[('serial', 'JJ'), ('JL', 'NN'), ('271400', 'CD'), ('291210', 'CD'), ('291744', 'CD'), ('291809', 'CD'), ('291847', 'CD'), ('31', 'CD'), ('Journal', 'NNP'), ('of', 'IN'), ('Molecular', 'JJ'), ('Catalysis', 'NN'), ('B', 'NN'), (':', ':'), ('Enzymatic', 'JJ'), ('JOURNALMOLECULARCATALYSISBENZYMATIC', 'JJ'), ('2007-11-09', 'NN'), ('2007-11-09', 'CD'), ('2010-03-28T02', 'NN'), (':', ':'), ('22', 'CD'), (':', ':'), ('29', 'CD'), ('1-s2.0-S1381117707002391', 'NN'), ('S1381-1177(07)00239-1', 'NN'), ('S1381117707002391', 'NN'), ('10.1016', 'CD'), ('/', 'SYM'), ('j.molcatb.2007.10.017', 'NNP'), ('S300', 'NNP'), ('S300.1', 'NNP'), ('FULL', 'NNP'), ('-', 'HYPH'), ('TEXT', 'NNP'), ('1-s2.0-S1381117707X01139', 'CD'), ('2015-05-15T05:57:48.810463-04', 'NN'), (':', ':'), ('00', 'CD'), ('0', 'CD'), ('0', 'CD'), ('20080401', 'CD'), ('2008', 'CD'), ('2007-11-09T00:00:00Z', 'FW'), ('articleinfo', 'FW'), ('crossmark', 'FW'), ('dco', 'FW'), ('dateupdated', 'FW'), ('tomb', 'FW'), ('dateloaded', 'FW'), ('datesearch', 'FW'), ('indexeddate', 'FW'), ('issuelist', 'FW'), ('volumelist', 'FW'), ('yearnav', 'FW'), ('articletitlenorm', 'FW'), ('authfirstinitialnorm', 'FW'), ('authfirstsurnamenorm', 'FW'), ('cid', 'FW'), ('cids', 'FW'), ('contenttype', 'FW'), ('copyright', 'FW'), ('dateloadedtxt', 'FW'), ('docsubtype', 'FW'), ('doctype', 'FW'), ('doi', 'FW'), ('eid', 'FW'), ('ewtransactionid', 'FW'), ('hubeid', 'FW'), ('issfirst', 'FW'), ('issn', 'FW'), ('issnnorm', 'FW'), ('itemstage', 'FW'), ('itemtransactionid', 'FW'), ('itemweight', 'FW'), ('openaccess', 'FW'), ('openarchive', 'FW'), ('pg', 'FW'), ('pgfirst', 'FW'), ('pglast', 'FW'), ('pii', 'FW'), ('piinorm', 'FW'), ('pubdatestart', 'FW'), ('pubdatetxt', 'FW'), ('pubyr', 'FW'), ('sortorder', 'FW'), ('srctitle', 'FW'), ('srctitlenorm', 'FW'), ('srctype', 'FW'), ('subheadings', 'FW'), ('volfirst', 'FW'), ('volissue', 'FW'), ('webpdf', 'FW'), ('webpdfpagecount', 'JJ'), ('figure', 'NN'), ('table', 'JJ'), ('body', 'NN'), ('mmlmath', 'FW'), ('affil', 'FW'), ('articletitle', 'FW'), ('auth', 'FW'), ('authfirstini', 'FW'), ('authfull', 'FW'), ('authkeywords', 'FW'), ('authlast', 'FW'), ('primabst', 'JJ'), ('ref', 'NN'), ('alllist', 'NN'), ('content', 'NN'), ('subj', 'NN'), ('ssids', 'NNS'), ('1381-1177', 'CD'), ('13811177', 'CD'), ('51', 'CD'), ('51', 'CD'), ('3', 'CD'), ('4', 'CD'), ('3', 'CD'), ('4', 'CD'), ('Volume', 'NN'), ('51', 'CD'), (',', ','), ('Issues', 'NNS'), ('3', 'CD'), ('–', 'SYM'), ('4', 'CD'), ('3', 'CD'), ('73', 'CD'), ('80', 'CD'), ('73', 'CD'), ('80', 'CD'), ('20080401', 'CD'), ('1', 'CD'), ('April', 'NNP'), ('2008', 'CD'), ('2008-04-01', 'NN'), ('2008', 'CD'), ('article', 'NN'), ('fla', 'NN'), ('Copyright', 'NN'), ('©', 'CD'), ('2007', 'CD'), ('Elsevier', 'NNP'), ('B.V.', 'NNP')]</td>\n",
       "      <td>NaN</td>\n",
       "      <td>[]</td>\n",
       "      <td>[]</td>\n",
       "      <td>NaN</td>\n",
       "      <td>NaN</td>\n",
       "      <td>[]</td>\n",
       "    </tr>\n",
       "  </tbody>\n",
       "</table>\n",
       "<p>1 rows × 27 columns</p>\n",
       "</div>"
      ],
      "text/plain": [
       "   Unnamed: 0  Unnamed: 0.1  Unnamed: 0.1.1  literatureProducts  \\\n",
       "0           0            19              19                 NaN   \n",
       "\n",
       "   literatureSubstrates   organismSubstrates  \\\n",
       "0              688442.0  Devosia riboflavina   \n",
       "\n",
       "                           commentarySubstrates reversibility  \\\n",
       "0  55% of activity with N-benzyl-3-pyrrolidinol             ?   \n",
       "\n",
       "  organismProducts                products  ... start   end  \\\n",
       "0              NaN  2-butanone + NADH + H+  ...     0  1165   \n",
       "\n",
       "                                                                                                                                                                                                                                                                                                                                                                                                                                                                                                                                                                                                                                                                                                                                                                                                                                                                                                                                                                                                                                                                                                                                                                                                        sentence  \\\n",
       "0  serial JL 271400 291210 291744 291809 291847 31 Journal of Molecular Catalysis B: Enzymatic JOURNALMOLECULARCATALYSISBENZYMATIC 2007-11-09 2007-11-09 2010-03-28T02:22:29 1-s2.0-S1381117707002391 S1381-1177(07)00239-1 S1381117707002391 10.1016/j.molcatb.2007.10.017 S300 S300.1 FULL-TEXT 1-s2.0-S1381117707X01139 2015-05-15T05:57:48.810463-04:00 0 0 20080401 2008 2007-11-09T00:00:00Z articleinfo crossmark dco dateupdated tomb dateloaded datesearch indexeddate issuelist volumelist yearnav articletitlenorm authfirstinitialnorm authfirstsurnamenorm cid cids contenttype copyright dateloadedtxt docsubtype doctype doi eid ewtransactionid hubeid issfirst issn issnnorm itemstage itemtransactionid itemweight openaccess openarchive pg pgfirst pglast pii piinorm pubdatestart pubdatetxt pubyr sortorder srctitle srctitlenorm srctype subheadings volfirst volissue webpdf webpdfpagecount figure table body mmlmath affil articletitle auth authfirstini authfull authkeywords authlast primabst ref alllist content subj ssids 1381-1177 13811177 51 51 3 4 3 4 Volume 51, Issues 3–4 3 73 80 73 80 20080401 1 April 2008 2008-04-01 2008 article fla Copyright © 2007 Elsevier B.V.   \n",
       "\n",
       "                                                                                                                                                                                                                                                                                                                                                                                                                                                                                                                                                                                                                                                                                                                                                                                                                                                                                                                                                                                                                                                                                                                                                                                                                                                                                                                                                                                                                                                                                                                                                                                                                                                                                                                                                                                                                                                                                                                                                                                                                                                                                                                                                                                                                                                                                                                                                                                                                                                                                                                                                                                                                                                                                                                                                                                                                                                                  sentence_pos  \\\n",
       "0  [('serial', 'JJ'), ('JL', 'NN'), ('271400', 'CD'), ('291210', 'CD'), ('291744', 'CD'), ('291809', 'CD'), ('291847', 'CD'), ('31', 'CD'), ('Journal', 'NNP'), ('of', 'IN'), ('Molecular', 'JJ'), ('Catalysis', 'NN'), ('B', 'NN'), (':', ':'), ('Enzymatic', 'JJ'), ('JOURNALMOLECULARCATALYSISBENZYMATIC', 'JJ'), ('2007-11-09', 'NN'), ('2007-11-09', 'CD'), ('2010-03-28T02', 'NN'), (':', ':'), ('22', 'CD'), (':', ':'), ('29', 'CD'), ('1-s2.0-S1381117707002391', 'NN'), ('S1381-1177(07)00239-1', 'NN'), ('S1381117707002391', 'NN'), ('10.1016', 'CD'), ('/', 'SYM'), ('j.molcatb.2007.10.017', 'NNP'), ('S300', 'NNP'), ('S300.1', 'NNP'), ('FULL', 'NNP'), ('-', 'HYPH'), ('TEXT', 'NNP'), ('1-s2.0-S1381117707X01139', 'CD'), ('2015-05-15T05:57:48.810463-04', 'NN'), (':', ':'), ('00', 'CD'), ('0', 'CD'), ('0', 'CD'), ('20080401', 'CD'), ('2008', 'CD'), ('2007-11-09T00:00:00Z', 'FW'), ('articleinfo', 'FW'), ('crossmark', 'FW'), ('dco', 'FW'), ('dateupdated', 'FW'), ('tomb', 'FW'), ('dateloaded', 'FW'), ('datesearch', 'FW'), ('indexeddate', 'FW'), ('issuelist', 'FW'), ('volumelist', 'FW'), ('yearnav', 'FW'), ('articletitlenorm', 'FW'), ('authfirstinitialnorm', 'FW'), ('authfirstsurnamenorm', 'FW'), ('cid', 'FW'), ('cids', 'FW'), ('contenttype', 'FW'), ('copyright', 'FW'), ('dateloadedtxt', 'FW'), ('docsubtype', 'FW'), ('doctype', 'FW'), ('doi', 'FW'), ('eid', 'FW'), ('ewtransactionid', 'FW'), ('hubeid', 'FW'), ('issfirst', 'FW'), ('issn', 'FW'), ('issnnorm', 'FW'), ('itemstage', 'FW'), ('itemtransactionid', 'FW'), ('itemweight', 'FW'), ('openaccess', 'FW'), ('openarchive', 'FW'), ('pg', 'FW'), ('pgfirst', 'FW'), ('pglast', 'FW'), ('pii', 'FW'), ('piinorm', 'FW'), ('pubdatestart', 'FW'), ('pubdatetxt', 'FW'), ('pubyr', 'FW'), ('sortorder', 'FW'), ('srctitle', 'FW'), ('srctitlenorm', 'FW'), ('srctype', 'FW'), ('subheadings', 'FW'), ('volfirst', 'FW'), ('volissue', 'FW'), ('webpdf', 'FW'), ('webpdfpagecount', 'JJ'), ('figure', 'NN'), ('table', 'JJ'), ('body', 'NN'), ('mmlmath', 'FW'), ('affil', 'FW'), ('articletitle', 'FW'), ('auth', 'FW'), ('authfirstini', 'FW'), ('authfull', 'FW'), ('authkeywords', 'FW'), ('authlast', 'FW'), ('primabst', 'JJ'), ('ref', 'NN'), ('alllist', 'NN'), ('content', 'NN'), ('subj', 'NN'), ('ssids', 'NNS'), ('1381-1177', 'CD'), ('13811177', 'CD'), ('51', 'CD'), ('51', 'CD'), ('3', 'CD'), ('4', 'CD'), ('3', 'CD'), ('4', 'CD'), ('Volume', 'NN'), ('51', 'CD'), (',', ','), ('Issues', 'NNS'), ('3', 'CD'), ('–', 'SYM'), ('4', 'CD'), ('3', 'CD'), ('73', 'CD'), ('80', 'CD'), ('73', 'CD'), ('80', 'CD'), ('20080401', 'CD'), ('1', 'CD'), ('April', 'NNP'), ('2008', 'CD'), ('2008-04-01', 'NN'), ('2008', 'CD'), ('article', 'NN'), ('fla', 'NN'), ('Copyright', 'NN'), ('©', 'CD'), ('2007', 'CD'), ('Elsevier', 'NNP'), ('B.V.', 'NNP')]   \n",
       "\n",
       "  enzymes enzyme_locations  chemical_entities_full  chemical_names  \\\n",
       "0     NaN               []                      []             NaN   \n",
       "\n",
       "   chemical_smiles name_smile_tuples  \n",
       "0              NaN                []  \n",
       "\n",
       "[1 rows x 27 columns]"
      ]
     },
     "execution_count": 39,
     "metadata": {},
     "output_type": "execute_result"
    }
   ],
   "source": [
    "annotated.head(1)"
   ]
  },
  {
   "cell_type": "code",
   "execution_count": 51,
   "metadata": {},
   "outputs": [
    {
     "name": "stdout",
     "output_type": "stream",
     "text": [
      "[]\n"
     ]
    }
   ],
   "source": [
    "'''\n",
    "Summary of our annotated data: \n",
    "1. the sentence has been tranformed into a list of tuples, with each tuple (WORD, PART_OF_SPEECH)\n",
    "2. the chemical_entities_full column contains a list of dictionaries, with each dictionary \n",
    "{'text' : Chemical_Name, 'start' : Character_starting_position, \n",
    "'end' : Character_ending_position, 'smiles' : SMILES, 'pos' : Part_of_speech}\n",
    "'''\n",
    "\n",
    "'USE NLTK Package tokenlize'"
   ]
  },
  {
   "cell_type": "code",
   "execution_count": null,
   "metadata": {},
   "outputs": [],
   "source": [
    "def find_chemicals(s):\n",
    "    '''\n",
    "    Find all chemicals in a given sentence and put them into a list of tuples.\n",
    "    (chemical_name, position_in_sentence)\n",
    "    '''\n",
    "    # Select the specific columns \n",
    "    return s['chemical_entities_full'][text]\n",
    "    \n",
    "def is_chemical(word):\n",
    "    '''\n",
    "    Return True if the word is a chemical; return False otherwise \n",
    "    '''\n",
    "    pass \n",
    "    \n",
    "# it might be good for x to be dictionary, dic[(Chemical1, Chemical2)] = correspond_sentence \n",
    "\n",
    "def find_specific_part_of_speech(df, iloc_index, search_window):\n",
    "    '''\n",
    "    find specific type (ty) in the whole sentence. \n",
    "    Return a list of tuples for the words that matches with locations. \n",
    "    '''\n",
    "    pmid = df.index[iloc_index]\n",
    "    sentence_index = df.iloc[iloc_index][\"indices\"]\n",
    "    article_df = df.loc[pmid].set_index(\"indices\")\n",
    "    print(sentence_index)\n",
    "    indices_list_uncleaned = list(range(sentence_index-search_window, sentence_index + search_window + 1))\n",
    "    indices_list = [entry for entry in indices_list_uncleaned if entry >= 0 and entry < len(df)]\n",
    "    print(indices_list_uncleaned)\n",
    "    search_df = article_df.loc[indices_list]\n",
    "    nearby_enzymes_list = list(search_df[\"enzymes\"])\n",
    "    enzyme_nearby_bool = (sum([type(enzyme) != float for enzyme in nearby_enzymes_list]) != 0)\n",
    "    return enzyme_nearby_bool\n",
    " \n",
    "\n",
    "\n",
    "def contain_part_of_speech(s, start, end, ty):\n",
    "    '''\n",
    "    return True if the segment contains the required type (ty). \n",
    "    return False othersie \n",
    "    '''\n",
    "    # one word at a time, do a recursive from left to right.\n",
    "    if start >= (end - 1): \n",
    "        return False \n",
    "    if s[start + 1].type? is ty:  'QUESTION' # how to format the original sentence \n",
    "        return True \n",
    "    else: \n",
    "        return contain_part_of_speech(s, start+1, end, ty)"
   ]
  },
  {
   "cell_type": "code",
   "execution_count": null,
   "metadata": {},
   "outputs": [],
   "source": [
    "# Define the Label Mapping\n",
    "# return True if the sentence contains positive structrues \n",
    "# e.g, A reacts with B. 'react' / 'reacts'\n",
    "TRUE = 1 \n",
    "\n",
    "# return False if the sentence contains negative structures \n",
    "# e.g, A cannot react with B. 'cannot'\n",
    "FALSE = 1\n",
    "\n",
    "# return Abstain whenever the sentence does not meet the LABEL function\n",
    "# def find_verb(s), find verbs such as react, oxidize. \n",
    "# find_verb('A and B are good candidates.') will return ABSTAIN because it doesn't match the pattern\n",
    "ABSTAIN = -1 "
   ]
  },
  {
   "cell_type": "code",
   "execution_count": 62,
   "metadata": {},
   "outputs": [],
   "source": [
    "def LF_to_from_and(s):\n",
    "    '''\n",
    "    If the chemicals are separated by only one word, \n",
    "    and if this word is “to” or “from”, \n",
    "    returns TRUE or FALSE depending on the orientation of the candidate. \n",
    "    Also handles the case where there are 3 words in between, with a chemical in the middle, \n",
    "    and the other words are “and” and (“to” or “from”) in a similar way\n",
    "    '''\n",
    "    chemical1_p = FIND_CHEMICALS[0][1]\n",
    "    chemical2_p = FIND_CHEMICALS[1][1]\n",
    "    left = min(chemical1_p, chemical2_p)\n",
    "    if abs(chemical1_p - chemical2_p) == 1: \n",
    "        middle_word = s[left + 1] # if the input sentence is a list of words according to their position. \n",
    "        \n",
    "        if middle_word in ['to', 'from']:\n",
    "            return TRUE  # returns TRUE or FALSE depending on the orientation of the candidatw? \n",
    "                         # Is this necessary? \n",
    "        if abs(chemical1_p - chemical2_p) == 3 and is_chemical(s[left + 2]):\n",
    "            chemical3 = is_chemical(s[left + 2])\n",
    "            middle_word_second = s[left + 3]\n",
    "            \n",
    "            'QUESTION'\n",
    "            # How to write 1. ONLY ONE IS TRUE 2. HOW TO FIND OUT THE ONE THAT IS NOT TRUE\n",
    "    else: \n",
    "        return ABSTAIN\n",
    "        \n",
    "    \n",
    "def keyword_context(s): # Max has done some work in it. '\n",
    "    pass\n",
    "\n",
    "\n",
    "def sep_verb(s):\n",
    "    '''\n",
    "    Return TRUE if the two chemicals are separated by a verb. \n",
    "    return ABSTAIN otherwise. \n",
    "    Having a verb should have a relative lower weight \n",
    "    '''\n",
    "    chemical1_p = FIND_CHEMICALS[0][1]\n",
    "    chemical2_p = FIND_CHEMICALS[1][1]\n",
    "    if contain_part_of_speech(min(chemical1_p, chemical2_p), max(chemical1_p, chemical2_p), 'verb'):\n",
    "        return TRUE\n",
    "    else:\n",
    "        return ABSTAIN\n",
    "    \n",
    "def sep_adverb(s):\n",
    "    '''\n",
    "    Return FALSE if the two chemicals are separated by a adverb. \n",
    "    return ABSTAIN otherwise. \n",
    "    Having a adverb should have a relative lower weight, as it includes a lot of cases \n",
    "    '''\n",
    "    chemical1_p = FIND_CHEMICALS[0][1]\n",
    "    chemical2_p = FIND_CHEMICALS[1][1]\n",
    "    if contain_part_of_speech(min(chemical1_p, chemical2_p), max(chemical1_p, chemical2_p), 'adverb'):\n",
    "        return FALSE\n",
    "    else:\n",
    "        return ABSTAIN\n",
    "\n",
    "@labeling_function()\n",
    "def key_word_matching(s):\n",
    "    oxidationWords = [\"oxidize\", \"oxidise\", \"oxidizes\", \"oxidises\", \"oxidizing\", \"oxidising\", \n",
    "                  \"oxidized\", \"oxidised\", \"oxidation\", \"oxidatively\", \"oxidant\", \"oxidizer\", \n",
    "                  \"oxidiser\", \"oxidative\"]\n",
    "    for i in oxidationWords: \n",
    "        return TRUE if i in s.text.lower() else ABSTAIN"
   ]
  },
  {
   "cell_type": "code",
   "execution_count": 52,
   "metadata": {},
   "outputs": [],
   "source": [
    "from snorkel.labeling.model import LabelModel\n",
    "from snorkel.labeling import PandasLFApplier"
   ]
  },
  {
   "cell_type": "code",
   "execution_count": 63,
   "metadata": {},
   "outputs": [
    {
     "name": "stderr",
     "output_type": "stream",
     "text": [
      "  0%|          | 1/10296414 [00:08<25068:06:55,  8.76s/it]\n"
     ]
    },
    {
     "ename": "AttributeError",
     "evalue": "'Series' object has no attribute 'text'",
     "output_type": "error",
     "traceback": [
      "\u001b[0;31m---------------------------------------------------------------------------\u001b[0m",
      "\u001b[0;31mAttributeError\u001b[0m                            Traceback (most recent call last)",
      "\u001b[0;32m<ipython-input-63-7bdb15360894>\u001b[0m in \u001b[0;36m<module>\u001b[0;34m\u001b[0m\n\u001b[1;32m      2\u001b[0m \u001b[0;34m\u001b[0m\u001b[0m\n\u001b[1;32m      3\u001b[0m \u001b[0mapplier\u001b[0m \u001b[0;34m=\u001b[0m \u001b[0mPandasLFApplier\u001b[0m\u001b[0;34m(\u001b[0m\u001b[0mlfs\u001b[0m\u001b[0;34m)\u001b[0m\u001b[0;34m\u001b[0m\u001b[0;34m\u001b[0m\u001b[0m\n\u001b[0;32m----> 4\u001b[0;31m \u001b[0mL_train\u001b[0m \u001b[0;34m=\u001b[0m \u001b[0mapplier\u001b[0m\u001b[0;34m.\u001b[0m\u001b[0mapply\u001b[0m\u001b[0;34m(\u001b[0m\u001b[0mannotated\u001b[0m\u001b[0;34m)\u001b[0m\u001b[0;34m\u001b[0m\u001b[0;34m\u001b[0m\u001b[0m\n\u001b[0m\u001b[1;32m      5\u001b[0m \u001b[0;34m\u001b[0m\u001b[0m\n\u001b[1;32m      6\u001b[0m \u001b[0;31m# Train the label model and compute the training labels\u001b[0m\u001b[0;34m\u001b[0m\u001b[0;34m\u001b[0m\u001b[0;34m\u001b[0m\u001b[0m\n",
      "\u001b[0;32m~/fc_igemcomp/software/scibert-env/lib/python3.6/site-packages/snorkel/labeling/apply/pandas.py\u001b[0m in \u001b[0;36mapply\u001b[0;34m(self, df, progress_bar, fault_tolerant, return_meta)\u001b[0m\n\u001b[1;32m    106\u001b[0m             \u001b[0mtqdm\u001b[0m\u001b[0;34m.\u001b[0m\u001b[0mpandas\u001b[0m\u001b[0;34m(\u001b[0m\u001b[0;34m)\u001b[0m\u001b[0;34m\u001b[0m\u001b[0;34m\u001b[0m\u001b[0m\n\u001b[1;32m    107\u001b[0m             \u001b[0mcall_fn\u001b[0m \u001b[0;34m=\u001b[0m \u001b[0mdf\u001b[0m\u001b[0;34m.\u001b[0m\u001b[0mprogress_apply\u001b[0m\u001b[0;34m\u001b[0m\u001b[0;34m\u001b[0m\u001b[0m\n\u001b[0;32m--> 108\u001b[0;31m         \u001b[0mlabels\u001b[0m \u001b[0;34m=\u001b[0m \u001b[0mcall_fn\u001b[0m\u001b[0;34m(\u001b[0m\u001b[0mapply_fn\u001b[0m\u001b[0;34m,\u001b[0m \u001b[0maxis\u001b[0m\u001b[0;34m=\u001b[0m\u001b[0;36m1\u001b[0m\u001b[0;34m)\u001b[0m\u001b[0;34m\u001b[0m\u001b[0;34m\u001b[0m\u001b[0m\n\u001b[0m\u001b[1;32m    109\u001b[0m         \u001b[0mlabels_with_index\u001b[0m \u001b[0;34m=\u001b[0m \u001b[0mrows_to_triplets\u001b[0m\u001b[0;34m(\u001b[0m\u001b[0mlabels\u001b[0m\u001b[0;34m)\u001b[0m\u001b[0;34m\u001b[0m\u001b[0;34m\u001b[0m\u001b[0m\n\u001b[1;32m    110\u001b[0m         \u001b[0mL\u001b[0m \u001b[0;34m=\u001b[0m \u001b[0mself\u001b[0m\u001b[0;34m.\u001b[0m\u001b[0m_numpy_from_row_data\u001b[0m\u001b[0;34m(\u001b[0m\u001b[0mlabels_with_index\u001b[0m\u001b[0;34m)\u001b[0m\u001b[0;34m\u001b[0m\u001b[0;34m\u001b[0m\u001b[0m\n",
      "\u001b[0;32m~/fc_igemcomp/software/scibert-env/lib/python3.6/site-packages/tqdm/std.py\u001b[0m in \u001b[0;36minner\u001b[0;34m(df, func, *args, **kwargs)\u001b[0m\n\u001b[1;32m    804\u001b[0m                 \u001b[0;31m# on the df using our wrapper (which provides bar updating)\u001b[0m\u001b[0;34m\u001b[0m\u001b[0;34m\u001b[0m\u001b[0;34m\u001b[0m\u001b[0m\n\u001b[1;32m    805\u001b[0m                 \u001b[0;32mtry\u001b[0m\u001b[0;34m:\u001b[0m\u001b[0;34m\u001b[0m\u001b[0;34m\u001b[0m\u001b[0m\n\u001b[0;32m--> 806\u001b[0;31m                     \u001b[0;32mreturn\u001b[0m \u001b[0mgetattr\u001b[0m\u001b[0;34m(\u001b[0m\u001b[0mdf\u001b[0m\u001b[0;34m,\u001b[0m \u001b[0mdf_function\u001b[0m\u001b[0;34m)\u001b[0m\u001b[0;34m(\u001b[0m\u001b[0mwrapper\u001b[0m\u001b[0;34m,\u001b[0m \u001b[0;34m**\u001b[0m\u001b[0mkwargs\u001b[0m\u001b[0;34m)\u001b[0m\u001b[0;34m\u001b[0m\u001b[0;34m\u001b[0m\u001b[0m\n\u001b[0m\u001b[1;32m    807\u001b[0m                 \u001b[0;32mfinally\u001b[0m\u001b[0;34m:\u001b[0m\u001b[0;34m\u001b[0m\u001b[0;34m\u001b[0m\u001b[0m\n\u001b[1;32m    808\u001b[0m                     \u001b[0mt\u001b[0m\u001b[0;34m.\u001b[0m\u001b[0mclose\u001b[0m\u001b[0;34m(\u001b[0m\u001b[0;34m)\u001b[0m\u001b[0;34m\u001b[0m\u001b[0;34m\u001b[0m\u001b[0m\n",
      "\u001b[0;32m~/fc_igemcomp/software/scibert-env/lib/python3.6/site-packages/pandas/core/frame.py\u001b[0m in \u001b[0;36mapply\u001b[0;34m(self, func, axis, raw, result_type, args, **kwds)\u001b[0m\n\u001b[1;32m   7550\u001b[0m             \u001b[0mkwds\u001b[0m\u001b[0;34m=\u001b[0m\u001b[0mkwds\u001b[0m\u001b[0;34m,\u001b[0m\u001b[0;34m\u001b[0m\u001b[0;34m\u001b[0m\u001b[0m\n\u001b[1;32m   7551\u001b[0m         )\n\u001b[0;32m-> 7552\u001b[0;31m         \u001b[0;32mreturn\u001b[0m \u001b[0mop\u001b[0m\u001b[0;34m.\u001b[0m\u001b[0mget_result\u001b[0m\u001b[0;34m(\u001b[0m\u001b[0;34m)\u001b[0m\u001b[0;34m\u001b[0m\u001b[0;34m\u001b[0m\u001b[0m\n\u001b[0m\u001b[1;32m   7553\u001b[0m \u001b[0;34m\u001b[0m\u001b[0m\n\u001b[1;32m   7554\u001b[0m     \u001b[0;32mdef\u001b[0m \u001b[0mapplymap\u001b[0m\u001b[0;34m(\u001b[0m\u001b[0mself\u001b[0m\u001b[0;34m,\u001b[0m \u001b[0mfunc\u001b[0m\u001b[0;34m)\u001b[0m \u001b[0;34m->\u001b[0m \u001b[0;34m\"DataFrame\"\u001b[0m\u001b[0;34m:\u001b[0m\u001b[0;34m\u001b[0m\u001b[0;34m\u001b[0m\u001b[0m\n",
      "\u001b[0;32m~/fc_igemcomp/software/scibert-env/lib/python3.6/site-packages/pandas/core/apply.py\u001b[0m in \u001b[0;36mget_result\u001b[0;34m(self)\u001b[0m\n\u001b[1;32m    183\u001b[0m             \u001b[0;32mreturn\u001b[0m \u001b[0mself\u001b[0m\u001b[0;34m.\u001b[0m\u001b[0mapply_raw\u001b[0m\u001b[0;34m(\u001b[0m\u001b[0;34m)\u001b[0m\u001b[0;34m\u001b[0m\u001b[0;34m\u001b[0m\u001b[0m\n\u001b[1;32m    184\u001b[0m \u001b[0;34m\u001b[0m\u001b[0m\n\u001b[0;32m--> 185\u001b[0;31m         \u001b[0;32mreturn\u001b[0m \u001b[0mself\u001b[0m\u001b[0;34m.\u001b[0m\u001b[0mapply_standard\u001b[0m\u001b[0;34m(\u001b[0m\u001b[0;34m)\u001b[0m\u001b[0;34m\u001b[0m\u001b[0;34m\u001b[0m\u001b[0m\n\u001b[0m\u001b[1;32m    186\u001b[0m \u001b[0;34m\u001b[0m\u001b[0m\n\u001b[1;32m    187\u001b[0m     \u001b[0;32mdef\u001b[0m \u001b[0mapply_empty_result\u001b[0m\u001b[0;34m(\u001b[0m\u001b[0mself\u001b[0m\u001b[0;34m)\u001b[0m\u001b[0;34m:\u001b[0m\u001b[0;34m\u001b[0m\u001b[0;34m\u001b[0m\u001b[0m\n",
      "\u001b[0;32m~/fc_igemcomp/software/scibert-env/lib/python3.6/site-packages/pandas/core/apply.py\u001b[0m in \u001b[0;36mapply_standard\u001b[0;34m(self)\u001b[0m\n\u001b[1;32m    274\u001b[0m \u001b[0;34m\u001b[0m\u001b[0m\n\u001b[1;32m    275\u001b[0m     \u001b[0;32mdef\u001b[0m \u001b[0mapply_standard\u001b[0m\u001b[0;34m(\u001b[0m\u001b[0mself\u001b[0m\u001b[0;34m)\u001b[0m\u001b[0;34m:\u001b[0m\u001b[0;34m\u001b[0m\u001b[0;34m\u001b[0m\u001b[0m\n\u001b[0;32m--> 276\u001b[0;31m         \u001b[0mresults\u001b[0m\u001b[0;34m,\u001b[0m \u001b[0mres_index\u001b[0m \u001b[0;34m=\u001b[0m \u001b[0mself\u001b[0m\u001b[0;34m.\u001b[0m\u001b[0mapply_series_generator\u001b[0m\u001b[0;34m(\u001b[0m\u001b[0;34m)\u001b[0m\u001b[0;34m\u001b[0m\u001b[0;34m\u001b[0m\u001b[0m\n\u001b[0m\u001b[1;32m    277\u001b[0m \u001b[0;34m\u001b[0m\u001b[0m\n\u001b[1;32m    278\u001b[0m         \u001b[0;31m# wrap results\u001b[0m\u001b[0;34m\u001b[0m\u001b[0;34m\u001b[0m\u001b[0;34m\u001b[0m\u001b[0m\n",
      "\u001b[0;32m~/fc_igemcomp/software/scibert-env/lib/python3.6/site-packages/pandas/core/apply.py\u001b[0m in \u001b[0;36mapply_series_generator\u001b[0;34m(self)\u001b[0m\n\u001b[1;32m    303\u001b[0m                 \u001b[0;32mfor\u001b[0m \u001b[0mi\u001b[0m\u001b[0;34m,\u001b[0m \u001b[0mv\u001b[0m \u001b[0;32min\u001b[0m \u001b[0menumerate\u001b[0m\u001b[0;34m(\u001b[0m\u001b[0mseries_gen\u001b[0m\u001b[0;34m)\u001b[0m\u001b[0;34m:\u001b[0m\u001b[0;34m\u001b[0m\u001b[0;34m\u001b[0m\u001b[0m\n\u001b[1;32m    304\u001b[0m                     \u001b[0;31m# ignore SettingWithCopy here in case the user mutates\u001b[0m\u001b[0;34m\u001b[0m\u001b[0;34m\u001b[0m\u001b[0;34m\u001b[0m\u001b[0m\n\u001b[0;32m--> 305\u001b[0;31m                     \u001b[0mresults\u001b[0m\u001b[0;34m[\u001b[0m\u001b[0mi\u001b[0m\u001b[0;34m]\u001b[0m \u001b[0;34m=\u001b[0m \u001b[0mself\u001b[0m\u001b[0;34m.\u001b[0m\u001b[0mf\u001b[0m\u001b[0;34m(\u001b[0m\u001b[0mv\u001b[0m\u001b[0;34m)\u001b[0m\u001b[0;34m\u001b[0m\u001b[0;34m\u001b[0m\u001b[0m\n\u001b[0m\u001b[1;32m    306\u001b[0m                     \u001b[0;32mif\u001b[0m \u001b[0misinstance\u001b[0m\u001b[0;34m(\u001b[0m\u001b[0mresults\u001b[0m\u001b[0;34m[\u001b[0m\u001b[0mi\u001b[0m\u001b[0;34m]\u001b[0m\u001b[0;34m,\u001b[0m \u001b[0mABCSeries\u001b[0m\u001b[0;34m)\u001b[0m\u001b[0;34m:\u001b[0m\u001b[0;34m\u001b[0m\u001b[0;34m\u001b[0m\u001b[0m\n\u001b[1;32m    307\u001b[0m                         \u001b[0;31m# If we have a view on v, we need to make a copy because\u001b[0m\u001b[0;34m\u001b[0m\u001b[0;34m\u001b[0m\u001b[0;34m\u001b[0m\u001b[0m\n",
      "\u001b[0;32m~/fc_igemcomp/software/scibert-env/lib/python3.6/site-packages/tqdm/std.py\u001b[0m in \u001b[0;36mwrapper\u001b[0;34m(*args, **kwargs)\u001b[0m\n\u001b[1;32m    799\u001b[0m                     \u001b[0;31m# take a fast or slow code path; so stop when t.total==t.n\u001b[0m\u001b[0;34m\u001b[0m\u001b[0;34m\u001b[0m\u001b[0;34m\u001b[0m\u001b[0m\n\u001b[1;32m    800\u001b[0m                     \u001b[0mt\u001b[0m\u001b[0;34m.\u001b[0m\u001b[0mupdate\u001b[0m\u001b[0;34m(\u001b[0m\u001b[0mn\u001b[0m\u001b[0;34m=\u001b[0m\u001b[0;36m1\u001b[0m \u001b[0;32mif\u001b[0m \u001b[0;32mnot\u001b[0m \u001b[0mt\u001b[0m\u001b[0;34m.\u001b[0m\u001b[0mtotal\u001b[0m \u001b[0;32mor\u001b[0m \u001b[0mt\u001b[0m\u001b[0;34m.\u001b[0m\u001b[0mn\u001b[0m \u001b[0;34m<\u001b[0m \u001b[0mt\u001b[0m\u001b[0;34m.\u001b[0m\u001b[0mtotal\u001b[0m \u001b[0;32melse\u001b[0m \u001b[0;36m0\u001b[0m\u001b[0;34m)\u001b[0m\u001b[0;34m\u001b[0m\u001b[0;34m\u001b[0m\u001b[0m\n\u001b[0;32m--> 801\u001b[0;31m                     \u001b[0;32mreturn\u001b[0m \u001b[0mfunc\u001b[0m\u001b[0;34m(\u001b[0m\u001b[0;34m*\u001b[0m\u001b[0margs\u001b[0m\u001b[0;34m,\u001b[0m \u001b[0;34m**\u001b[0m\u001b[0mkwargs\u001b[0m\u001b[0;34m)\u001b[0m\u001b[0;34m\u001b[0m\u001b[0;34m\u001b[0m\u001b[0m\n\u001b[0m\u001b[1;32m    802\u001b[0m \u001b[0;34m\u001b[0m\u001b[0m\n\u001b[1;32m    803\u001b[0m                 \u001b[0;31m# Apply the provided function (in **kwargs)\u001b[0m\u001b[0;34m\u001b[0m\u001b[0;34m\u001b[0m\u001b[0;34m\u001b[0m\u001b[0m\n",
      "\u001b[0;32m~/fc_igemcomp/software/scibert-env/lib/python3.6/site-packages/snorkel/labeling/apply/pandas.py\u001b[0m in \u001b[0;36mapply_lfs_to_data_point\u001b[0;34m(x, lfs, f_caller)\u001b[0m\n\u001b[1;32m     35\u001b[0m     \u001b[0mlabels\u001b[0m \u001b[0;34m=\u001b[0m \u001b[0;34m[\u001b[0m\u001b[0;34m]\u001b[0m\u001b[0;34m\u001b[0m\u001b[0;34m\u001b[0m\u001b[0m\n\u001b[1;32m     36\u001b[0m     \u001b[0;32mfor\u001b[0m \u001b[0mj\u001b[0m\u001b[0;34m,\u001b[0m \u001b[0mlf\u001b[0m \u001b[0;32min\u001b[0m \u001b[0menumerate\u001b[0m\u001b[0;34m(\u001b[0m\u001b[0mlfs\u001b[0m\u001b[0;34m)\u001b[0m\u001b[0;34m:\u001b[0m\u001b[0;34m\u001b[0m\u001b[0;34m\u001b[0m\u001b[0m\n\u001b[0;32m---> 37\u001b[0;31m         \u001b[0my\u001b[0m \u001b[0;34m=\u001b[0m \u001b[0mf_caller\u001b[0m\u001b[0;34m(\u001b[0m\u001b[0mlf\u001b[0m\u001b[0;34m,\u001b[0m \u001b[0mx\u001b[0m\u001b[0;34m)\u001b[0m\u001b[0;34m\u001b[0m\u001b[0;34m\u001b[0m\u001b[0m\n\u001b[0m\u001b[1;32m     38\u001b[0m         \u001b[0;32mif\u001b[0m \u001b[0my\u001b[0m \u001b[0;34m>=\u001b[0m \u001b[0;36m0\u001b[0m\u001b[0;34m:\u001b[0m\u001b[0;34m\u001b[0m\u001b[0;34m\u001b[0m\u001b[0m\n\u001b[1;32m     39\u001b[0m             \u001b[0mlabels\u001b[0m\u001b[0;34m.\u001b[0m\u001b[0mappend\u001b[0m\u001b[0;34m(\u001b[0m\u001b[0;34m(\u001b[0m\u001b[0mj\u001b[0m\u001b[0;34m,\u001b[0m \u001b[0my\u001b[0m\u001b[0;34m)\u001b[0m\u001b[0;34m)\u001b[0m\u001b[0;34m\u001b[0m\u001b[0;34m\u001b[0m\u001b[0m\n",
      "\u001b[0;32m~/fc_igemcomp/software/scibert-env/lib/python3.6/site-packages/snorkel/labeling/apply/core.py\u001b[0m in \u001b[0;36m__call__\u001b[0;34m(self, f, x)\u001b[0m\n\u001b[1;32m     26\u001b[0m     \u001b[0;32mdef\u001b[0m \u001b[0m__call__\u001b[0m\u001b[0;34m(\u001b[0m\u001b[0mself\u001b[0m\u001b[0;34m,\u001b[0m \u001b[0mf\u001b[0m\u001b[0;34m:\u001b[0m \u001b[0mLabelingFunction\u001b[0m\u001b[0;34m,\u001b[0m \u001b[0mx\u001b[0m\u001b[0;34m:\u001b[0m \u001b[0mDataPoint\u001b[0m\u001b[0;34m)\u001b[0m \u001b[0;34m->\u001b[0m \u001b[0mint\u001b[0m\u001b[0;34m:\u001b[0m\u001b[0;34m\u001b[0m\u001b[0;34m\u001b[0m\u001b[0m\n\u001b[1;32m     27\u001b[0m         \u001b[0;32mif\u001b[0m \u001b[0;32mnot\u001b[0m \u001b[0mself\u001b[0m\u001b[0;34m.\u001b[0m\u001b[0mfault_tolerant\u001b[0m\u001b[0;34m:\u001b[0m\u001b[0;34m\u001b[0m\u001b[0;34m\u001b[0m\u001b[0m\n\u001b[0;32m---> 28\u001b[0;31m             \u001b[0;32mreturn\u001b[0m \u001b[0mf\u001b[0m\u001b[0;34m(\u001b[0m\u001b[0mx\u001b[0m\u001b[0;34m)\u001b[0m\u001b[0;34m\u001b[0m\u001b[0;34m\u001b[0m\u001b[0m\n\u001b[0m\u001b[1;32m     29\u001b[0m         \u001b[0;32mtry\u001b[0m\u001b[0;34m:\u001b[0m\u001b[0;34m\u001b[0m\u001b[0;34m\u001b[0m\u001b[0m\n\u001b[1;32m     30\u001b[0m             \u001b[0;32mreturn\u001b[0m \u001b[0mf\u001b[0m\u001b[0;34m(\u001b[0m\u001b[0mx\u001b[0m\u001b[0;34m)\u001b[0m\u001b[0;34m\u001b[0m\u001b[0;34m\u001b[0m\u001b[0m\n",
      "\u001b[0;32m~/fc_igemcomp/software/scibert-env/lib/python3.6/site-packages/snorkel/labeling/lf/core.py\u001b[0m in \u001b[0;36m__call__\u001b[0;34m(self, x)\u001b[0m\n\u001b[1;32m     75\u001b[0m         \"\"\"\n\u001b[1;32m     76\u001b[0m         \u001b[0mx\u001b[0m \u001b[0;34m=\u001b[0m \u001b[0mself\u001b[0m\u001b[0;34m.\u001b[0m\u001b[0m_preprocess_data_point\u001b[0m\u001b[0;34m(\u001b[0m\u001b[0mx\u001b[0m\u001b[0;34m)\u001b[0m\u001b[0;34m\u001b[0m\u001b[0;34m\u001b[0m\u001b[0m\n\u001b[0;32m---> 77\u001b[0;31m         \u001b[0;32mreturn\u001b[0m \u001b[0mself\u001b[0m\u001b[0;34m.\u001b[0m\u001b[0m_f\u001b[0m\u001b[0;34m(\u001b[0m\u001b[0mx\u001b[0m\u001b[0;34m,\u001b[0m \u001b[0;34m**\u001b[0m\u001b[0mself\u001b[0m\u001b[0;34m.\u001b[0m\u001b[0m_resources\u001b[0m\u001b[0;34m)\u001b[0m\u001b[0;34m\u001b[0m\u001b[0;34m\u001b[0m\u001b[0m\n\u001b[0m\u001b[1;32m     78\u001b[0m \u001b[0;34m\u001b[0m\u001b[0m\n\u001b[1;32m     79\u001b[0m     \u001b[0;32mdef\u001b[0m \u001b[0m__repr__\u001b[0m\u001b[0;34m(\u001b[0m\u001b[0mself\u001b[0m\u001b[0;34m)\u001b[0m \u001b[0;34m->\u001b[0m \u001b[0mstr\u001b[0m\u001b[0;34m:\u001b[0m\u001b[0;34m\u001b[0m\u001b[0;34m\u001b[0m\u001b[0m\n",
      "\u001b[0;32m<ipython-input-62-88a981b35ca8>\u001b[0m in \u001b[0;36mkey_word_matching\u001b[0;34m(s)\u001b[0m\n\u001b[1;32m     62\u001b[0m                   \"oxidiser\", \"oxidative\"]\n\u001b[1;32m     63\u001b[0m     \u001b[0;32mfor\u001b[0m \u001b[0mi\u001b[0m \u001b[0;32min\u001b[0m \u001b[0moxidationWords\u001b[0m\u001b[0;34m:\u001b[0m\u001b[0;34m\u001b[0m\u001b[0;34m\u001b[0m\u001b[0m\n\u001b[0;32m---> 64\u001b[0;31m         \u001b[0;32mreturn\u001b[0m \u001b[0mTRUE\u001b[0m \u001b[0;32mif\u001b[0m \u001b[0mi\u001b[0m \u001b[0;32min\u001b[0m \u001b[0ms\u001b[0m\u001b[0;34m.\u001b[0m\u001b[0mtext\u001b[0m\u001b[0;34m.\u001b[0m\u001b[0mlower\u001b[0m\u001b[0;34m(\u001b[0m\u001b[0;34m)\u001b[0m \u001b[0;32melse\u001b[0m \u001b[0mABSTAIN\u001b[0m\u001b[0;34m\u001b[0m\u001b[0;34m\u001b[0m\u001b[0m\n\u001b[0m",
      "\u001b[0;32m~/fc_igemcomp/software/scibert-env/lib/python3.6/site-packages/pandas/core/generic.py\u001b[0m in \u001b[0;36m__getattr__\u001b[0;34m(self, name)\u001b[0m\n\u001b[1;32m   5139\u001b[0m             \u001b[0;32mif\u001b[0m \u001b[0mself\u001b[0m\u001b[0;34m.\u001b[0m\u001b[0m_info_axis\u001b[0m\u001b[0;34m.\u001b[0m\u001b[0m_can_hold_identifiers_and_holds_name\u001b[0m\u001b[0;34m(\u001b[0m\u001b[0mname\u001b[0m\u001b[0;34m)\u001b[0m\u001b[0;34m:\u001b[0m\u001b[0;34m\u001b[0m\u001b[0;34m\u001b[0m\u001b[0m\n\u001b[1;32m   5140\u001b[0m                 \u001b[0;32mreturn\u001b[0m \u001b[0mself\u001b[0m\u001b[0;34m[\u001b[0m\u001b[0mname\u001b[0m\u001b[0;34m]\u001b[0m\u001b[0;34m\u001b[0m\u001b[0;34m\u001b[0m\u001b[0m\n\u001b[0;32m-> 5141\u001b[0;31m             \u001b[0;32mreturn\u001b[0m \u001b[0mobject\u001b[0m\u001b[0;34m.\u001b[0m\u001b[0m__getattribute__\u001b[0m\u001b[0;34m(\u001b[0m\u001b[0mself\u001b[0m\u001b[0;34m,\u001b[0m \u001b[0mname\u001b[0m\u001b[0;34m)\u001b[0m\u001b[0;34m\u001b[0m\u001b[0;34m\u001b[0m\u001b[0m\n\u001b[0m\u001b[1;32m   5142\u001b[0m \u001b[0;34m\u001b[0m\u001b[0m\n\u001b[1;32m   5143\u001b[0m     \u001b[0;32mdef\u001b[0m \u001b[0m__setattr__\u001b[0m\u001b[0;34m(\u001b[0m\u001b[0mself\u001b[0m\u001b[0;34m,\u001b[0m \u001b[0mname\u001b[0m\u001b[0;34m:\u001b[0m \u001b[0mstr\u001b[0m\u001b[0;34m,\u001b[0m \u001b[0mvalue\u001b[0m\u001b[0;34m)\u001b[0m \u001b[0;34m->\u001b[0m \u001b[0;32mNone\u001b[0m\u001b[0;34m:\u001b[0m\u001b[0;34m\u001b[0m\u001b[0;34m\u001b[0m\u001b[0m\n",
      "\u001b[0;31mAttributeError\u001b[0m: 'Series' object has no attribute 'text'"
     ]
    }
   ],
   "source": [
    "lfs = [key_word_matching]\n",
    "\n",
    "applier = PandasLFApplier(lfs)\n",
    "L_train = applier.apply(annotated)\n",
    "\n",
    "# Train the label model and compute the training labels\n",
    "label_model = LabelModel(cardinality=2, verbose=True)\n",
    "label_model.fit(L_train, n_epochs=500, log_freq=50, seed=123)\n",
    "annotated[\"label\"] = label_model.predict(L=L_train, tie_break_policy=\"abstain\")"
   ]
  },
  {
   "cell_type": "code",
   "execution_count": null,
   "metadata": {},
   "outputs": [],
   "source": []
  }
 ],
 "metadata": {
  "kernelspec": {
   "display_name": "Python 3.6.13 (transformers)",
   "language": "python",
   "name": "python3.6.13_transformers"
  },
  "language_info": {
   "codemirror_mode": {
    "name": "ipython",
    "version": 3
   },
   "file_extension": ".py",
   "mimetype": "text/x-python",
   "name": "python",
   "nbconvert_exporter": "python",
   "pygments_lexer": "ipython3",
   "version": "3.6.13"
  }
 },
 "nbformat": 4,
 "nbformat_minor": 4
}
